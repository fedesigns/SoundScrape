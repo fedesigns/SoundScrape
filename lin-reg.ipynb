{
 "metadata": {
  "language_info": {
   "codemirror_mode": {
    "name": "ipython",
    "version": 3
   },
   "file_extension": ".py",
   "mimetype": "text/x-python",
   "name": "python",
   "nbconvert_exporter": "python",
   "pygments_lexer": "ipython3",
   "version": "3.8.5"
  },
  "orig_nbformat": 2,
  "kernelspec": {
   "name": "python3",
   "display_name": "Python 3.8.5 64-bit ('base': conda)",
   "metadata": {
    "interpreter": {
     "hash": "a656751dbd7555eed361c488b9e089c4c64eab183a3c61b0f234b712b2980286"
    }
   }
  }
 },
 "nbformat": 4,
 "nbformat_minor": 2,
 "cells": [
  {
   "cell_type": "code",
   "execution_count": 172,
   "metadata": {},
   "outputs": [],
   "source": [
    "import statsmodels.formula.api as smf\n",
    "import pandas as pd\n",
    "\n",
    "### three df: artists, tracks, and comments.\n",
    "\n",
    "tracks_df = pd.read_csv(\"Tracks-and-Beats-Full.csv\")\n",
    "artists_df = pd.read_csv(\"Artists-Full.csv\")\n",
    "comments_df = pd.read_csv(\"Comments-Full.csv\")\n",
    "\n"
   ]
  },
  {
   "cell_type": "code",
   "execution_count": 173,
   "metadata": {},
   "outputs": [
    {
     "output_type": "stream",
     "name": "stdout",
     "text": [
      "<class 'pandas.core.frame.DataFrame'>\nRangeIndex: 1069 entries, 0 to 1068\nData columns (total 26 columns):\n #   Column             Non-Null Count  Dtype  \n---  ------             --------------  -----  \n 0   TrackName          1069 non-null   object \n 1   TrackURL           1069 non-null   object \n 2   ArtistName         1069 non-null   object \n 3   TrackDescription   468 non-null    object \n 4   Likes              1023 non-null   float64\n 5   CommentsCount      1069 non-null   int64  \n 6   Shares             958 non-null    float64\n 7   Plays              1023 non-null   float64\n 8   TrackImageURL      1068 non-null   object \n 9   TrackDateTime      0 non-null      float64\n 10  Tags               0 non-null      float64\n 11  BPM                432 non-null    float64\n 12  Key                432 non-null    object \n 13  Genre              432 non-null    object \n 14  Waveform           432 non-null    object \n 15  Length             432 non-null    object \n 16  IsTrack            432 non-null    object \n 17  Mix                432 non-null    object \n 18  Feat               432 non-null    object \n 19  Remixer            0 non-null      float64\n 20  OriginalProducer   432 non-null    object \n 21  TrackDate          1068 non-null   object \n 22  BeatportURL        432 non-null    object \n 23  BeatportTrackName  432 non-null    object \n 24  Label              432 non-null    object \n 25  BeatportRelease    432 non-null    object \ndtypes: float64(7), int64(1), object(18)\nmemory usage: 217.3+ KB\nNone\nfloating points        34\npleasurekraft          34\nkevin yost             34\nocto octa              34\nlaurent garnier        34\nchaos in the cbd       34\nNina Kraviz            34\nmarcel dettmann        34\nron flatter            34\nFour Tet               34\nrodhad                 34\nseb wildblood          34\nfatima yamaha          34\nenrico sangiuliano     34\nmall grab              34\nbaltra                 34\nRichie Hawtin          34\ndeborah de luca        34\nboston 168             34\nmaceo plex             34\nmonika kruse           34\nadam beyer             34\nwoo york               34\nharrison bdp           33\nTale of Us             32\nefdemin                27\nmathame                25\nrandomer               22\nmind against           20\naleksandir             20\namelie lens            20\nilario alicante        15\ndaniel avery           14\nkink                   13\nrecondite              12\nred axes                9\nchristian burkhardt     8\nmrsch                   7\name                     5\ndixon                   2\nfideles                 1\nkiasmos                 1\ngenius of time          1\nName: ArtistName, dtype: int64\n"
     ]
    },
    {
     "output_type": "execute_result",
     "data": {
      "text/plain": [
       "                                   TrackName  \\\n",
       "0                       @ Exit Festival 2018   \n",
       "1  New Year’s Eve Dj set - POLARIS x VERBIER   \n",
       "2          mix from the Bedouin oasis desert   \n",
       "3                           I'm Week (Mixed)   \n",
       "4        Mount Olympus set @Reworks festival   \n",
       "\n",
       "                                            TrackURL   ArtistName  \\\n",
       "0  https://soundcloud.com/nina-kraviz/exit-festiv...  Nina Kraviz   \n",
       "1  https://soundcloud.com/nina-kraviz/new-years-e...  Nina Kraviz   \n",
       "2  https://soundcloud.com/nina-kraviz/mix-from-th...  Nina Kraviz   \n",
       "3   https://soundcloud.com/nina-kraviz/im-week-mixed  Nina Kraviz   \n",
       "4  https://soundcloud.com/nina-kraviz/nina-mt-oly...  Nina Kraviz   \n",
       "\n",
       "                                    TrackDescription   Likes  CommentsCount  \\\n",
       "0  my closing set at Exit Festival 2018.\\r\\nwatch...  1678.0             89   \n",
       "1  watch the stream here: www.youtube.com/watch?v...  1768.0             80   \n",
       "2                                                NaN  2074.0            158   \n",
       "3                                                NaN   252.0              6   \n",
       "4                                                NaN  3880.0            251   \n",
       "\n",
       "   Shares    Plays                                      TrackImageURL  \\\n",
       "0   183.0  25640.0  https://i1.sndcdn.com/artworks-ocJocQyqkx5RyPv...   \n",
       "1   215.0  27043.0  https://i1.sndcdn.com/artworks-wmtcWRH7HcNGw7H...   \n",
       "2   243.0  31136.0  https://i1.sndcdn.com/artworks-CN5i0S2uCepBvnT...   \n",
       "3    36.0   4941.0  https://i1.sndcdn.com/artworks-Wdosvy3rwkqH-0-...   \n",
       "4   432.0  61726.0  https://i1.sndcdn.com/artworks-1Frqwx8e9vFM3JU...   \n",
       "\n",
       "   TrackDateTime  ...  IsTrack    Mix             Feat Remixer  \\\n",
       "0            NaN  ...      NaN    NaN              NaN     NaN   \n",
       "1            NaN  ...      NaN    NaN              NaN     NaN   \n",
       "2            NaN  ...      NaN    NaN              NaN     NaN   \n",
       "3            NaN  ...    Track  MIXED  Special Request     NaN   \n",
       "4            NaN  ...      NaN    NaN              NaN     NaN   \n",
       "\n",
       "  OriginalProducer                 TrackDate  \\\n",
       "0              NaN  2021-01-27T17:21:47.000Z   \n",
       "1              NaN  2021-01-02T01:54:03.000Z   \n",
       "2              NaN  2020-12-12T22:16:03.000Z   \n",
       "3      Nina Kraviz  2020-11-27T00:00:00.000Z   \n",
       "4              NaN  2020-10-01T17:43:12.000Z   \n",
       "\n",
       "                                       BeatportURL BeatportTrackName  \\\n",
       "0                                              NaN               NaN   \n",
       "1                                              NaN               NaN   \n",
       "2                                              NaN               NaN   \n",
       "3  https://www.beatport.com/track/im-week/14608470          I'm Week   \n",
       "4                                              NaN               NaN   \n",
       "\n",
       "            Label  BeatportRelease  \n",
       "0             NaN              NaN  \n",
       "1             NaN              NaN  \n",
       "2             NaN              NaN  \n",
       "3  Mixmag Records       11/27/2020  \n",
       "4             NaN              NaN  \n",
       "\n",
       "[5 rows x 26 columns]"
      ],
      "text/html": "<div>\n<style scoped>\n    .dataframe tbody tr th:only-of-type {\n        vertical-align: middle;\n    }\n\n    .dataframe tbody tr th {\n        vertical-align: top;\n    }\n\n    .dataframe thead th {\n        text-align: right;\n    }\n</style>\n<table border=\"1\" class=\"dataframe\">\n  <thead>\n    <tr style=\"text-align: right;\">\n      <th></th>\n      <th>TrackName</th>\n      <th>TrackURL</th>\n      <th>ArtistName</th>\n      <th>TrackDescription</th>\n      <th>Likes</th>\n      <th>CommentsCount</th>\n      <th>Shares</th>\n      <th>Plays</th>\n      <th>TrackImageURL</th>\n      <th>TrackDateTime</th>\n      <th>...</th>\n      <th>IsTrack</th>\n      <th>Mix</th>\n      <th>Feat</th>\n      <th>Remixer</th>\n      <th>OriginalProducer</th>\n      <th>TrackDate</th>\n      <th>BeatportURL</th>\n      <th>BeatportTrackName</th>\n      <th>Label</th>\n      <th>BeatportRelease</th>\n    </tr>\n  </thead>\n  <tbody>\n    <tr>\n      <th>0</th>\n      <td>@ Exit Festival 2018</td>\n      <td>https://soundcloud.com/nina-kraviz/exit-festiv...</td>\n      <td>Nina Kraviz</td>\n      <td>my closing set at Exit Festival 2018.\\r\\nwatch...</td>\n      <td>1678.0</td>\n      <td>89</td>\n      <td>183.0</td>\n      <td>25640.0</td>\n      <td>https://i1.sndcdn.com/artworks-ocJocQyqkx5RyPv...</td>\n      <td>NaN</td>\n      <td>...</td>\n      <td>NaN</td>\n      <td>NaN</td>\n      <td>NaN</td>\n      <td>NaN</td>\n      <td>NaN</td>\n      <td>2021-01-27T17:21:47.000Z</td>\n      <td>NaN</td>\n      <td>NaN</td>\n      <td>NaN</td>\n      <td>NaN</td>\n    </tr>\n    <tr>\n      <th>1</th>\n      <td>New Year’s Eve Dj set - POLARIS x VERBIER</td>\n      <td>https://soundcloud.com/nina-kraviz/new-years-e...</td>\n      <td>Nina Kraviz</td>\n      <td>watch the stream here: www.youtube.com/watch?v...</td>\n      <td>1768.0</td>\n      <td>80</td>\n      <td>215.0</td>\n      <td>27043.0</td>\n      <td>https://i1.sndcdn.com/artworks-wmtcWRH7HcNGw7H...</td>\n      <td>NaN</td>\n      <td>...</td>\n      <td>NaN</td>\n      <td>NaN</td>\n      <td>NaN</td>\n      <td>NaN</td>\n      <td>NaN</td>\n      <td>2021-01-02T01:54:03.000Z</td>\n      <td>NaN</td>\n      <td>NaN</td>\n      <td>NaN</td>\n      <td>NaN</td>\n    </tr>\n    <tr>\n      <th>2</th>\n      <td>mix from the Bedouin oasis desert</td>\n      <td>https://soundcloud.com/nina-kraviz/mix-from-th...</td>\n      <td>Nina Kraviz</td>\n      <td>NaN</td>\n      <td>2074.0</td>\n      <td>158</td>\n      <td>243.0</td>\n      <td>31136.0</td>\n      <td>https://i1.sndcdn.com/artworks-CN5i0S2uCepBvnT...</td>\n      <td>NaN</td>\n      <td>...</td>\n      <td>NaN</td>\n      <td>NaN</td>\n      <td>NaN</td>\n      <td>NaN</td>\n      <td>NaN</td>\n      <td>2020-12-12T22:16:03.000Z</td>\n      <td>NaN</td>\n      <td>NaN</td>\n      <td>NaN</td>\n      <td>NaN</td>\n    </tr>\n    <tr>\n      <th>3</th>\n      <td>I'm Week (Mixed)</td>\n      <td>https://soundcloud.com/nina-kraviz/im-week-mixed</td>\n      <td>Nina Kraviz</td>\n      <td>NaN</td>\n      <td>252.0</td>\n      <td>6</td>\n      <td>36.0</td>\n      <td>4941.0</td>\n      <td>https://i1.sndcdn.com/artworks-Wdosvy3rwkqH-0-...</td>\n      <td>NaN</td>\n      <td>...</td>\n      <td>Track</td>\n      <td>MIXED</td>\n      <td>Special Request</td>\n      <td>NaN</td>\n      <td>Nina Kraviz</td>\n      <td>2020-11-27T00:00:00.000Z</td>\n      <td>https://www.beatport.com/track/im-week/14608470</td>\n      <td>I'm Week</td>\n      <td>Mixmag Records</td>\n      <td>11/27/2020</td>\n    </tr>\n    <tr>\n      <th>4</th>\n      <td>Mount Olympus set @Reworks festival</td>\n      <td>https://soundcloud.com/nina-kraviz/nina-mt-oly...</td>\n      <td>Nina Kraviz</td>\n      <td>NaN</td>\n      <td>3880.0</td>\n      <td>251</td>\n      <td>432.0</td>\n      <td>61726.0</td>\n      <td>https://i1.sndcdn.com/artworks-1Frqwx8e9vFM3JU...</td>\n      <td>NaN</td>\n      <td>...</td>\n      <td>NaN</td>\n      <td>NaN</td>\n      <td>NaN</td>\n      <td>NaN</td>\n      <td>NaN</td>\n      <td>2020-10-01T17:43:12.000Z</td>\n      <td>NaN</td>\n      <td>NaN</td>\n      <td>NaN</td>\n      <td>NaN</td>\n    </tr>\n  </tbody>\n</table>\n<p>5 rows × 26 columns</p>\n</div>"
     },
     "metadata": {},
     "execution_count": 173
    }
   ],
   "source": [
    "# from the tracks dataframe, we are interested in predicting: Likes, CommentsCount, Shares, Plays\n",
    "# hypothesized predictors are: ArtistName (categorical), ArtistFollowers, BPM, Key (cat), ReleaseYear, Mix (cat), Genre (cat), Label (cat), Length (not linear?)\n",
    "print(tracks_df.info())\n",
    "print(tracks_df['ArtistName'].value_counts())\n",
    "tracks_df.head()"
   ]
  },
  {
   "cell_type": "code",
   "execution_count": 174,
   "metadata": {},
   "outputs": [
    {
     "output_type": "execute_result",
     "data": {
      "text/plain": [
       "                                   TrackName  \\\n",
       "0                       @ Exit Festival 2018   \n",
       "1  New Year’s Eve Dj set - POLARIS x VERBIER   \n",
       "2          mix from the Bedouin oasis desert   \n",
       "3                           I'm Week (Mixed)   \n",
       "4        Mount Olympus set @Reworks festival   \n",
       "\n",
       "                                            TrackURL   ArtistName  \\\n",
       "0  https://soundcloud.com/nina-kraviz/exit-festiv...  Nina Kraviz   \n",
       "1  https://soundcloud.com/nina-kraviz/new-years-e...  Nina Kraviz   \n",
       "2  https://soundcloud.com/nina-kraviz/mix-from-th...  Nina Kraviz   \n",
       "3   https://soundcloud.com/nina-kraviz/im-week-mixed  Nina Kraviz   \n",
       "4  https://soundcloud.com/nina-kraviz/nina-mt-oly...  Nina Kraviz   \n",
       "\n",
       "                                    TrackDescription   Likes  CommentsCount  \\\n",
       "0  my closing set at Exit Festival 2018.\\r\\nwatch...  1678.0             89   \n",
       "1  watch the stream here: www.youtube.com/watch?v...  1768.0             80   \n",
       "2                                                NaN  2074.0            158   \n",
       "3                                                NaN   252.0              6   \n",
       "4                                                NaN  3880.0            251   \n",
       "\n",
       "   Shares    Plays                                      TrackImageURL  \\\n",
       "0   183.0  25640.0  https://i1.sndcdn.com/artworks-ocJocQyqkx5RyPv...   \n",
       "1   215.0  27043.0  https://i1.sndcdn.com/artworks-wmtcWRH7HcNGw7H...   \n",
       "2   243.0  31136.0  https://i1.sndcdn.com/artworks-CN5i0S2uCepBvnT...   \n",
       "3    36.0   4941.0  https://i1.sndcdn.com/artworks-Wdosvy3rwkqH-0-...   \n",
       "4   432.0  61726.0  https://i1.sndcdn.com/artworks-1Frqwx8e9vFM3JU...   \n",
       "\n",
       "   TrackDateTime  ...  IsTrack    Mix             Feat Remixer  \\\n",
       "0            NaN  ...      NaN    NaN              NaN     NaN   \n",
       "1            NaN  ...      NaN    NaN              NaN     NaN   \n",
       "2            NaN  ...      NaN    NaN              NaN     NaN   \n",
       "3            NaN  ...    Track  MIXED  Special Request     NaN   \n",
       "4            NaN  ...      NaN    NaN              NaN     NaN   \n",
       "\n",
       "  OriginalProducer                 TrackDate  \\\n",
       "0              NaN  2021-01-27T17:21:47.000Z   \n",
       "1              NaN  2021-01-02T01:54:03.000Z   \n",
       "2              NaN  2020-12-12T22:16:03.000Z   \n",
       "3      Nina Kraviz  2020-11-27T00:00:00.000Z   \n",
       "4              NaN  2020-10-01T17:43:12.000Z   \n",
       "\n",
       "                                       BeatportURL BeatportTrackName  \\\n",
       "0                                              NaN               NaN   \n",
       "1                                              NaN               NaN   \n",
       "2                                              NaN               NaN   \n",
       "3  https://www.beatport.com/track/im-week/14608470          I'm Week   \n",
       "4                                              NaN               NaN   \n",
       "\n",
       "            Label  BeatportRelease  \n",
       "0             NaN              NaN  \n",
       "1             NaN              NaN  \n",
       "2             NaN              NaN  \n",
       "3  Mixmag Records       11/27/2020  \n",
       "4             NaN              NaN  \n",
       "\n",
       "[5 rows x 26 columns]"
      ],
      "text/html": "<div>\n<style scoped>\n    .dataframe tbody tr th:only-of-type {\n        vertical-align: middle;\n    }\n\n    .dataframe tbody tr th {\n        vertical-align: top;\n    }\n\n    .dataframe thead th {\n        text-align: right;\n    }\n</style>\n<table border=\"1\" class=\"dataframe\">\n  <thead>\n    <tr style=\"text-align: right;\">\n      <th></th>\n      <th>TrackName</th>\n      <th>TrackURL</th>\n      <th>ArtistName</th>\n      <th>TrackDescription</th>\n      <th>Likes</th>\n      <th>CommentsCount</th>\n      <th>Shares</th>\n      <th>Plays</th>\n      <th>TrackImageURL</th>\n      <th>TrackDateTime</th>\n      <th>...</th>\n      <th>IsTrack</th>\n      <th>Mix</th>\n      <th>Feat</th>\n      <th>Remixer</th>\n      <th>OriginalProducer</th>\n      <th>TrackDate</th>\n      <th>BeatportURL</th>\n      <th>BeatportTrackName</th>\n      <th>Label</th>\n      <th>BeatportRelease</th>\n    </tr>\n  </thead>\n  <tbody>\n    <tr>\n      <th>0</th>\n      <td>@ Exit Festival 2018</td>\n      <td>https://soundcloud.com/nina-kraviz/exit-festiv...</td>\n      <td>Nina Kraviz</td>\n      <td>my closing set at Exit Festival 2018.\\r\\nwatch...</td>\n      <td>1678.0</td>\n      <td>89</td>\n      <td>183.0</td>\n      <td>25640.0</td>\n      <td>https://i1.sndcdn.com/artworks-ocJocQyqkx5RyPv...</td>\n      <td>NaN</td>\n      <td>...</td>\n      <td>NaN</td>\n      <td>NaN</td>\n      <td>NaN</td>\n      <td>NaN</td>\n      <td>NaN</td>\n      <td>2021-01-27T17:21:47.000Z</td>\n      <td>NaN</td>\n      <td>NaN</td>\n      <td>NaN</td>\n      <td>NaN</td>\n    </tr>\n    <tr>\n      <th>1</th>\n      <td>New Year’s Eve Dj set - POLARIS x VERBIER</td>\n      <td>https://soundcloud.com/nina-kraviz/new-years-e...</td>\n      <td>Nina Kraviz</td>\n      <td>watch the stream here: www.youtube.com/watch?v...</td>\n      <td>1768.0</td>\n      <td>80</td>\n      <td>215.0</td>\n      <td>27043.0</td>\n      <td>https://i1.sndcdn.com/artworks-wmtcWRH7HcNGw7H...</td>\n      <td>NaN</td>\n      <td>...</td>\n      <td>NaN</td>\n      <td>NaN</td>\n      <td>NaN</td>\n      <td>NaN</td>\n      <td>NaN</td>\n      <td>2021-01-02T01:54:03.000Z</td>\n      <td>NaN</td>\n      <td>NaN</td>\n      <td>NaN</td>\n      <td>NaN</td>\n    </tr>\n    <tr>\n      <th>2</th>\n      <td>mix from the Bedouin oasis desert</td>\n      <td>https://soundcloud.com/nina-kraviz/mix-from-th...</td>\n      <td>Nina Kraviz</td>\n      <td>NaN</td>\n      <td>2074.0</td>\n      <td>158</td>\n      <td>243.0</td>\n      <td>31136.0</td>\n      <td>https://i1.sndcdn.com/artworks-CN5i0S2uCepBvnT...</td>\n      <td>NaN</td>\n      <td>...</td>\n      <td>NaN</td>\n      <td>NaN</td>\n      <td>NaN</td>\n      <td>NaN</td>\n      <td>NaN</td>\n      <td>2020-12-12T22:16:03.000Z</td>\n      <td>NaN</td>\n      <td>NaN</td>\n      <td>NaN</td>\n      <td>NaN</td>\n    </tr>\n    <tr>\n      <th>3</th>\n      <td>I'm Week (Mixed)</td>\n      <td>https://soundcloud.com/nina-kraviz/im-week-mixed</td>\n      <td>Nina Kraviz</td>\n      <td>NaN</td>\n      <td>252.0</td>\n      <td>6</td>\n      <td>36.0</td>\n      <td>4941.0</td>\n      <td>https://i1.sndcdn.com/artworks-Wdosvy3rwkqH-0-...</td>\n      <td>NaN</td>\n      <td>...</td>\n      <td>Track</td>\n      <td>MIXED</td>\n      <td>Special Request</td>\n      <td>NaN</td>\n      <td>Nina Kraviz</td>\n      <td>2020-11-27T00:00:00.000Z</td>\n      <td>https://www.beatport.com/track/im-week/14608470</td>\n      <td>I'm Week</td>\n      <td>Mixmag Records</td>\n      <td>11/27/2020</td>\n    </tr>\n    <tr>\n      <th>4</th>\n      <td>Mount Olympus set @Reworks festival</td>\n      <td>https://soundcloud.com/nina-kraviz/nina-mt-oly...</td>\n      <td>Nina Kraviz</td>\n      <td>NaN</td>\n      <td>3880.0</td>\n      <td>251</td>\n      <td>432.0</td>\n      <td>61726.0</td>\n      <td>https://i1.sndcdn.com/artworks-1Frqwx8e9vFM3JU...</td>\n      <td>NaN</td>\n      <td>...</td>\n      <td>NaN</td>\n      <td>NaN</td>\n      <td>NaN</td>\n      <td>NaN</td>\n      <td>NaN</td>\n      <td>2020-10-01T17:43:12.000Z</td>\n      <td>NaN</td>\n      <td>NaN</td>\n      <td>NaN</td>\n      <td>NaN</td>\n    </tr>\n  </tbody>\n</table>\n<p>5 rows × 26 columns</p>\n</div>"
     },
     "metadata": {},
     "execution_count": 174
    }
   ],
   "source": [
    "tracks_df.head()"
   ]
  },
  {
   "cell_type": "code",
   "execution_count": 175,
   "metadata": {},
   "outputs": [
    {
     "output_type": "stream",
     "name": "stdout",
     "text": [
      "<class 'pandas.core.frame.DataFrame'>\nInt64Index: 432 entries, 3 to 854\nData columns (total 26 columns):\n #   Column             Non-Null Count  Dtype  \n---  ------             --------------  -----  \n 0   TrackName          432 non-null    object \n 1   TrackURL           432 non-null    object \n 2   ArtistName         432 non-null    object \n 3   TrackDescription   114 non-null    object \n 4   Likes              419 non-null    float64\n 5   CommentsCount      432 non-null    int64  \n 6   Shares             383 non-null    float64\n 7   Plays              419 non-null    float64\n 8   TrackImageURL      431 non-null    object \n 9   TrackDateTime      0 non-null      float64\n 10  Tags               0 non-null      float64\n 11  BPM                432 non-null    float64\n 12  Key                432 non-null    object \n 13  Genre              432 non-null    object \n 14  Waveform           432 non-null    object \n 15  Length             432 non-null    object \n 16  IsTrack            432 non-null    object \n 17  Mix                432 non-null    object \n 18  Feat               432 non-null    object \n 19  Remixer            0 non-null      float64\n 20  OriginalProducer   432 non-null    object \n 21  TrackDate          431 non-null    object \n 22  BeatportURL        432 non-null    object \n 23  BeatportTrackName  432 non-null    object \n 24  Label              432 non-null    object \n 25  BeatportRelease    432 non-null    object \ndtypes: float64(7), int64(1), object(18)\nmemory usage: 91.1+ KB\nNone\n"
     ]
    },
    {
     "output_type": "execute_result",
     "data": {
      "text/plain": [
       "                                            TrackName  \\\n",
       "3                                    I'm Week (Mixed)   \n",
       "24                        Okain's Scream (Sebo K Mix)   \n",
       "25  Sónar Premiere: Nina Kraviz 'You Are Wrong' (P...   \n",
       "26       Nina Kraviz - IMPRV (The Deviant Octopus EP)   \n",
       "31                        Nina Kraviz - Ghetto Kraviz   \n",
       "\n",
       "                                             TrackURL   ArtistName  \\\n",
       "3    https://soundcloud.com/nina-kraviz/im-week-mixed  Nina Kraviz   \n",
       "24  https://soundcloud.com/nina-kraviz/okains-scre...  Nina Kraviz   \n",
       "25  https://soundcloud.com/nina-kraviz/sonar-premi...  Nina Kraviz   \n",
       "26  https://soundcloud.com/nina-kraviz/nina-kraviz...  Nina Kraviz   \n",
       "31    https://soundcloud.com/nina-kraviz/ghettokraviz  Nina Kraviz   \n",
       "\n",
       "                                     TrackDescription    Likes  CommentsCount  \\\n",
       "3                                                 NaN    252.0              6   \n",
       "24                                                NaN     18.0              0   \n",
       "25  Nina Kraviz presents an exclusive new edit for...   6523.0             90   \n",
       "26  Nina Kraviz launches her трип (pronounced ‘tri...  24023.0            277   \n",
       "31  One of the most eagerly anticipated electronic...  38934.0            390   \n",
       "\n",
       "    Shares      Plays                                      TrackImageURL  \\\n",
       "3     36.0     4941.0  https://i1.sndcdn.com/artworks-Wdosvy3rwkqH-0-...   \n",
       "24     3.0      267.0  https://i1.sndcdn.com/artworks-I77DcMfa5UZy-0-...   \n",
       "25   923.0   203528.0  https://i1.sndcdn.com/artworks-000222959835-4a...   \n",
       "26  3161.0   846079.0  https://i1.sndcdn.com/artworks-000099682603-np...   \n",
       "31  3946.0  1253565.0  https://i1.sndcdn.com/artworks-000019189729-nc...   \n",
       "\n",
       "    TrackDateTime  ...  IsTrack           Mix             Feat Remixer  \\\n",
       "3             NaN  ...    Track         MIXED  Special Request     NaN   \n",
       "24            NaN  ...    Track    SEBO K MIX  Special Request     NaN   \n",
       "25            NaN  ...    Track  ORIGINAL MIX  Special Request     NaN   \n",
       "26            NaN  ...    Track  ORIGINAL MIX  Special Request     NaN   \n",
       "31            NaN  ...    Track  ORIGINAL MIX  Special Request     NaN   \n",
       "\n",
       "   OriginalProducer                 TrackDate  \\\n",
       "3       Nina Kraviz  2020-11-27T00:00:00.000Z   \n",
       "24      Nina Kraviz  2017-06-16T00:00:00.000Z   \n",
       "25      Nina Kraviz  2017-05-17T12:26:19.000Z   \n",
       "26      Nina Kraviz  2014-12-09T11:32:01.000Z   \n",
       "31      Nina Kraviz  2012-02-29T20:20:07.000Z   \n",
       "\n",
       "                                          BeatportURL BeatportTrackName  \\\n",
       "3     https://www.beatport.com/track/im-week/14608470          I'm Week   \n",
       "24  https://www.beatport.com/track/okains-scream/7...    Okain's Scream   \n",
       "25  https://www.beatport.com/track/you-are-wrong/9...     You Are Wrong   \n",
       "26       https://www.beatport.com/track/imprv/6047111             IMPRV   \n",
       "31  https://www.beatport.com/track/ghetto-kraviz/3...     Ghetto Kraviz   \n",
       "\n",
       "             Label  BeatportRelease  \n",
       "3   Mixmag Records       11/27/2020  \n",
       "24           Tsuba         6/6/2016  \n",
       "25            Trip         7/7/2017  \n",
       "26            Trip       12/22/2014  \n",
       "31          Rekids        2/27/2012  \n",
       "\n",
       "[5 rows x 26 columns]"
      ],
      "text/html": "<div>\n<style scoped>\n    .dataframe tbody tr th:only-of-type {\n        vertical-align: middle;\n    }\n\n    .dataframe tbody tr th {\n        vertical-align: top;\n    }\n\n    .dataframe thead th {\n        text-align: right;\n    }\n</style>\n<table border=\"1\" class=\"dataframe\">\n  <thead>\n    <tr style=\"text-align: right;\">\n      <th></th>\n      <th>TrackName</th>\n      <th>TrackURL</th>\n      <th>ArtistName</th>\n      <th>TrackDescription</th>\n      <th>Likes</th>\n      <th>CommentsCount</th>\n      <th>Shares</th>\n      <th>Plays</th>\n      <th>TrackImageURL</th>\n      <th>TrackDateTime</th>\n      <th>...</th>\n      <th>IsTrack</th>\n      <th>Mix</th>\n      <th>Feat</th>\n      <th>Remixer</th>\n      <th>OriginalProducer</th>\n      <th>TrackDate</th>\n      <th>BeatportURL</th>\n      <th>BeatportTrackName</th>\n      <th>Label</th>\n      <th>BeatportRelease</th>\n    </tr>\n  </thead>\n  <tbody>\n    <tr>\n      <th>3</th>\n      <td>I'm Week (Mixed)</td>\n      <td>https://soundcloud.com/nina-kraviz/im-week-mixed</td>\n      <td>Nina Kraviz</td>\n      <td>NaN</td>\n      <td>252.0</td>\n      <td>6</td>\n      <td>36.0</td>\n      <td>4941.0</td>\n      <td>https://i1.sndcdn.com/artworks-Wdosvy3rwkqH-0-...</td>\n      <td>NaN</td>\n      <td>...</td>\n      <td>Track</td>\n      <td>MIXED</td>\n      <td>Special Request</td>\n      <td>NaN</td>\n      <td>Nina Kraviz</td>\n      <td>2020-11-27T00:00:00.000Z</td>\n      <td>https://www.beatport.com/track/im-week/14608470</td>\n      <td>I'm Week</td>\n      <td>Mixmag Records</td>\n      <td>11/27/2020</td>\n    </tr>\n    <tr>\n      <th>24</th>\n      <td>Okain's Scream (Sebo K Mix)</td>\n      <td>https://soundcloud.com/nina-kraviz/okains-scre...</td>\n      <td>Nina Kraviz</td>\n      <td>NaN</td>\n      <td>18.0</td>\n      <td>0</td>\n      <td>3.0</td>\n      <td>267.0</td>\n      <td>https://i1.sndcdn.com/artworks-I77DcMfa5UZy-0-...</td>\n      <td>NaN</td>\n      <td>...</td>\n      <td>Track</td>\n      <td>SEBO K MIX</td>\n      <td>Special Request</td>\n      <td>NaN</td>\n      <td>Nina Kraviz</td>\n      <td>2017-06-16T00:00:00.000Z</td>\n      <td>https://www.beatport.com/track/okains-scream/7...</td>\n      <td>Okain's Scream</td>\n      <td>Tsuba</td>\n      <td>6/6/2016</td>\n    </tr>\n    <tr>\n      <th>25</th>\n      <td>Sónar Premiere: Nina Kraviz 'You Are Wrong' (P...</td>\n      <td>https://soundcloud.com/nina-kraviz/sonar-premi...</td>\n      <td>Nina Kraviz</td>\n      <td>Nina Kraviz presents an exclusive new edit for...</td>\n      <td>6523.0</td>\n      <td>90</td>\n      <td>923.0</td>\n      <td>203528.0</td>\n      <td>https://i1.sndcdn.com/artworks-000222959835-4a...</td>\n      <td>NaN</td>\n      <td>...</td>\n      <td>Track</td>\n      <td>ORIGINAL MIX</td>\n      <td>Special Request</td>\n      <td>NaN</td>\n      <td>Nina Kraviz</td>\n      <td>2017-05-17T12:26:19.000Z</td>\n      <td>https://www.beatport.com/track/you-are-wrong/9...</td>\n      <td>You Are Wrong</td>\n      <td>Trip</td>\n      <td>7/7/2017</td>\n    </tr>\n    <tr>\n      <th>26</th>\n      <td>Nina Kraviz - IMPRV (The Deviant Octopus EP)</td>\n      <td>https://soundcloud.com/nina-kraviz/nina-kraviz...</td>\n      <td>Nina Kraviz</td>\n      <td>Nina Kraviz launches her трип (pronounced ‘tri...</td>\n      <td>24023.0</td>\n      <td>277</td>\n      <td>3161.0</td>\n      <td>846079.0</td>\n      <td>https://i1.sndcdn.com/artworks-000099682603-np...</td>\n      <td>NaN</td>\n      <td>...</td>\n      <td>Track</td>\n      <td>ORIGINAL MIX</td>\n      <td>Special Request</td>\n      <td>NaN</td>\n      <td>Nina Kraviz</td>\n      <td>2014-12-09T11:32:01.000Z</td>\n      <td>https://www.beatport.com/track/imprv/6047111</td>\n      <td>IMPRV</td>\n      <td>Trip</td>\n      <td>12/22/2014</td>\n    </tr>\n    <tr>\n      <th>31</th>\n      <td>Nina Kraviz - Ghetto Kraviz</td>\n      <td>https://soundcloud.com/nina-kraviz/ghettokraviz</td>\n      <td>Nina Kraviz</td>\n      <td>One of the most eagerly anticipated electronic...</td>\n      <td>38934.0</td>\n      <td>390</td>\n      <td>3946.0</td>\n      <td>1253565.0</td>\n      <td>https://i1.sndcdn.com/artworks-000019189729-nc...</td>\n      <td>NaN</td>\n      <td>...</td>\n      <td>Track</td>\n      <td>ORIGINAL MIX</td>\n      <td>Special Request</td>\n      <td>NaN</td>\n      <td>Nina Kraviz</td>\n      <td>2012-02-29T20:20:07.000Z</td>\n      <td>https://www.beatport.com/track/ghetto-kraviz/3...</td>\n      <td>Ghetto Kraviz</td>\n      <td>Rekids</td>\n      <td>2/27/2012</td>\n    </tr>\n  </tbody>\n</table>\n<p>5 rows × 26 columns</p>\n</div>"
     },
     "metadata": {},
     "execution_count": 175
    }
   ],
   "source": [
    "# selecting only rows that are tracks, not dj sets because these have beatport features\n",
    "tracks_df['BPM'].value_counts()\n",
    "tracks_only = tracks_df.dropna(axis=0, subset=['BPM'])\n",
    "print(tracks_only.info())\n",
    "tracks_only.head()"
   ]
  },
  {
   "cell_type": "code",
   "execution_count": 176,
   "metadata": {},
   "outputs": [
    {
     "output_type": "stream",
     "name": "stdout",
     "text": [
      "<class 'pandas.core.frame.DataFrame'>\n",
      "Int64Index: 432 entries, 3 to 854\n",
      "Data columns (total 26 columns):\n",
      " #   Column             Non-Null Count  Dtype  \n",
      "---  ------             --------------  -----  \n",
      " 0   TrackName          432 non-null    object \n",
      " 1   TrackURL           432 non-null    object \n",
      " 2   ArtistName         432 non-null    object \n",
      " 3   TrackDescription   114 non-null    object \n",
      " 4   Likes              432 non-null    int32  \n",
      " 5   CommentsCount      432 non-null    int64  \n",
      " 6   Shares             432 non-null    int32  \n",
      " 7   Plays              432 non-null    int32  \n",
      " 8   TrackImageURL      431 non-null    object \n",
      " 9   TrackDateTime      0 non-null      float64\n",
      " 10  Tags               0 non-null      float64\n",
      " 11  BPM                432 non-null    int32  \n",
      " 12  Key                432 non-null    object \n",
      " 13  Genre              432 non-null    object \n",
      " 14  Waveform           432 non-null    object \n",
      " 15  Length             432 non-null    object \n",
      " 16  IsTrack            432 non-null    object \n",
      " 17  Mix                432 non-null    object \n",
      " 18  Feat               432 non-null    object \n",
      " 19  Remixer            0 non-null      float64\n",
      " 20  OriginalProducer   432 non-null    object \n",
      " 21  TrackDate          431 non-null    object \n",
      " 22  BeatportURL        432 non-null    object \n",
      " 23  BeatportTrackName  432 non-null    object \n",
      " 24  Label              432 non-null    object \n",
      " 25  BeatportRelease    432 non-null    object \n",
      "dtypes: float64(3), int32(4), int64(1), object(18)\n",
      "memory usage: 84.4+ KB\n",
      "<ipython-input-176-35e7b9ded0c1>:3: SettingWithCopyWarning:\n",
      "\n",
      "\n",
      "A value is trying to be set on a copy of a slice from a DataFrame.\n",
      "Try using .loc[row_indexer,col_indexer] = value instead\n",
      "\n",
      "See the caveats in the documentation: https://pandas.pydata.org/pandas-docs/stable/user_guide/indexing.html#returning-a-view-versus-a-copy\n",
      "\n",
      "<ipython-input-176-35e7b9ded0c1>:4: SettingWithCopyWarning:\n",
      "\n",
      "\n",
      "A value is trying to be set on a copy of a slice from a DataFrame.\n",
      "Try using .loc[row_indexer,col_indexer] = value instead\n",
      "\n",
      "See the caveats in the documentation: https://pandas.pydata.org/pandas-docs/stable/user_guide/indexing.html#returning-a-view-versus-a-copy\n",
      "\n",
      "<ipython-input-176-35e7b9ded0c1>:5: SettingWithCopyWarning:\n",
      "\n",
      "\n",
      "A value is trying to be set on a copy of a slice from a DataFrame.\n",
      "Try using .loc[row_indexer,col_indexer] = value instead\n",
      "\n",
      "See the caveats in the documentation: https://pandas.pydata.org/pandas-docs/stable/user_guide/indexing.html#returning-a-view-versus-a-copy\n",
      "\n",
      "<ipython-input-176-35e7b9ded0c1>:6: SettingWithCopyWarning:\n",
      "\n",
      "\n",
      "A value is trying to be set on a copy of a slice from a DataFrame.\n",
      "Try using .loc[row_indexer,col_indexer] = value instead\n",
      "\n",
      "See the caveats in the documentation: https://pandas.pydata.org/pandas-docs/stable/user_guide/indexing.html#returning-a-view-versus-a-copy\n",
      "\n"
     ]
    }
   ],
   "source": [
    "# Cleaning Null shares and plays cells\n",
    "# casting likes, shares and plays to int\n",
    "tracks_only['Likes'] = tracks_only['Likes'].fillna(0).astype(int)\n",
    "tracks_only['Shares'] = tracks_only['Shares'].fillna(0).astype(int)\n",
    "tracks_only['Plays'] = tracks_only['Plays'].fillna(0).astype(int)\n",
    "tracks_only['BPM'] = tracks_only['BPM'].astype(int)\n",
    "tracks_only.info()"
   ]
  },
  {
   "cell_type": "code",
   "execution_count": 177,
   "metadata": {},
   "outputs": [
    {
     "output_type": "stream",
     "name": "stderr",
     "text": [
      "C:\\Users\\Federico\\miniconda3\\lib\\site-packages\\pandas\\core\\frame.py:4305: SettingWithCopyWarning:\n\n\nA value is trying to be set on a copy of a slice from a DataFrame\n\nSee the caveats in the documentation: https://pandas.pydata.org/pandas-docs/stable/user_guide/indexing.html#returning-a-view-versus-a-copy\n\n"
     ]
    }
   ],
   "source": [
    "# dropping text features that need NLP\n",
    "# drop original producers and feat artists?\n",
    "tracks_only.drop(['TrackURL', 'TrackDescription', 'TrackImageURL', 'TrackDateTime', 'Tags', 'Waveform', 'IsTrack', 'Remixer', 'BeatportURL', 'BeatportTrackName', 'TrackName'], axis=1, inplace=True)\n"
   ]
  },
  {
   "cell_type": "code",
   "execution_count": 178,
   "metadata": {},
   "outputs": [
    {
     "output_type": "execute_result",
     "data": {
      "text/plain": [
       "          ArtistName  Likes  CommentsCount  Shares    Plays  BPM     Key  \\\n",
       "3        Nina Kraviz    252              6      36     4941   78  B♭ min   \n",
       "24       Nina Kraviz     18              0       3      267  125   C min   \n",
       "25       Nina Kraviz   6523             90     923   203528  129   G min   \n",
       "26       Nina Kraviz  24023            277    3161   846079  129   A min   \n",
       "31       Nina Kraviz  38934            390    3946  1253565  120  G♭ min   \n",
       "..               ...    ...            ...     ...      ...  ...     ...   \n",
       "850  laurent garnier     40              0       3     3202  133  C♯ maj   \n",
       "851  laurent garnier     16              1       1     2229  150   E min   \n",
       "852  laurent garnier     16              0       3     2365  127   A min   \n",
       "853  laurent garnier     15              1       1     1867  132  G♯ maj   \n",
       "854  laurent garnier    233             15      33     5556  128   E maj   \n",
       "\n",
       "                              Genre Length  \\\n",
       "3      Techno (Peak Time / Driving)   7:59   \n",
       "24                       Tech House   7:43   \n",
       "25   Techno (Raw / Deep / Hypnotic)   7:11   \n",
       "26   Techno (Raw / Deep / Hypnotic)   6:32   \n",
       "31                       Tech House   3:44   \n",
       "..                              ...    ...   \n",
       "850                           House   7:15   \n",
       "851                           House   4:38   \n",
       "852                           House   4:50   \n",
       "853                           House   8:36   \n",
       "854          Melodic House & Techno  11:00   \n",
       "\n",
       "                                           Mix             Feat  \\\n",
       "3                                        MIXED  Special Request   \n",
       "24                                  SEBO K MIX  Special Request   \n",
       "25                                ORIGINAL MIX  Special Request   \n",
       "26                                ORIGINAL MIX  Special Request   \n",
       "31                                ORIGINAL MIX  Special Request   \n",
       "..                                         ...              ...   \n",
       "850  2020 REMASTERED VERSION - LABORATOIRE MIX  Insaac Students   \n",
       "851                    2020 REMASTERED VERSION  Insaac Students   \n",
       "852                    2020 REMASTERED VERSION  Insaac Students   \n",
       "853                    2020 REMASTERED VERSION  Insaac Students   \n",
       "854                               ORIGINAL MIX  Insaac Students   \n",
       "\n",
       "    OriginalProducer                 TrackDate             Label  \\\n",
       "3        Nina Kraviz  2020-11-27T00:00:00.000Z    Mixmag Records   \n",
       "24       Nina Kraviz  2017-06-16T00:00:00.000Z             Tsuba   \n",
       "25       Nina Kraviz  2017-05-17T12:26:19.000Z              Trip   \n",
       "26       Nina Kraviz  2014-12-09T11:32:01.000Z              Trip   \n",
       "31       Nina Kraviz  2012-02-29T20:20:07.000Z            Rekids   \n",
       "..               ...                       ...               ...   \n",
       "850  Laurent Garnier  2020-07-24T00:00:00.000Z  F Communications   \n",
       "851  Laurent Garnier  2020-07-24T00:00:00.000Z  F Communications   \n",
       "852  Laurent Garnier  2020-07-24T00:00:00.000Z  F Communications   \n",
       "853  Laurent Garnier  2020-07-24T00:00:00.000Z  F Communications   \n",
       "854  Laurent Garnier  2020-07-24T00:00:00.000Z     Kompakt Extra   \n",
       "\n",
       "    BeatportRelease  \n",
       "3        11/27/2020  \n",
       "24         6/6/2016  \n",
       "25         7/7/2017  \n",
       "26       12/22/2014  \n",
       "31        2/27/2012  \n",
       "..              ...  \n",
       "850       7/24/2020  \n",
       "851       7/24/2020  \n",
       "852       7/24/2020  \n",
       "853       7/24/2020  \n",
       "854       4/14/2017  \n",
       "\n",
       "[432 rows x 15 columns]"
      ],
      "text/html": "<div>\n<style scoped>\n    .dataframe tbody tr th:only-of-type {\n        vertical-align: middle;\n    }\n\n    .dataframe tbody tr th {\n        vertical-align: top;\n    }\n\n    .dataframe thead th {\n        text-align: right;\n    }\n</style>\n<table border=\"1\" class=\"dataframe\">\n  <thead>\n    <tr style=\"text-align: right;\">\n      <th></th>\n      <th>ArtistName</th>\n      <th>Likes</th>\n      <th>CommentsCount</th>\n      <th>Shares</th>\n      <th>Plays</th>\n      <th>BPM</th>\n      <th>Key</th>\n      <th>Genre</th>\n      <th>Length</th>\n      <th>Mix</th>\n      <th>Feat</th>\n      <th>OriginalProducer</th>\n      <th>TrackDate</th>\n      <th>Label</th>\n      <th>BeatportRelease</th>\n    </tr>\n  </thead>\n  <tbody>\n    <tr>\n      <th>3</th>\n      <td>Nina Kraviz</td>\n      <td>252</td>\n      <td>6</td>\n      <td>36</td>\n      <td>4941</td>\n      <td>78</td>\n      <td>B♭ min</td>\n      <td>Techno (Peak Time / Driving)</td>\n      <td>7:59</td>\n      <td>MIXED</td>\n      <td>Special Request</td>\n      <td>Nina Kraviz</td>\n      <td>2020-11-27T00:00:00.000Z</td>\n      <td>Mixmag Records</td>\n      <td>11/27/2020</td>\n    </tr>\n    <tr>\n      <th>24</th>\n      <td>Nina Kraviz</td>\n      <td>18</td>\n      <td>0</td>\n      <td>3</td>\n      <td>267</td>\n      <td>125</td>\n      <td>C min</td>\n      <td>Tech House</td>\n      <td>7:43</td>\n      <td>SEBO K MIX</td>\n      <td>Special Request</td>\n      <td>Nina Kraviz</td>\n      <td>2017-06-16T00:00:00.000Z</td>\n      <td>Tsuba</td>\n      <td>6/6/2016</td>\n    </tr>\n    <tr>\n      <th>25</th>\n      <td>Nina Kraviz</td>\n      <td>6523</td>\n      <td>90</td>\n      <td>923</td>\n      <td>203528</td>\n      <td>129</td>\n      <td>G min</td>\n      <td>Techno (Raw / Deep / Hypnotic)</td>\n      <td>7:11</td>\n      <td>ORIGINAL MIX</td>\n      <td>Special Request</td>\n      <td>Nina Kraviz</td>\n      <td>2017-05-17T12:26:19.000Z</td>\n      <td>Trip</td>\n      <td>7/7/2017</td>\n    </tr>\n    <tr>\n      <th>26</th>\n      <td>Nina Kraviz</td>\n      <td>24023</td>\n      <td>277</td>\n      <td>3161</td>\n      <td>846079</td>\n      <td>129</td>\n      <td>A min</td>\n      <td>Techno (Raw / Deep / Hypnotic)</td>\n      <td>6:32</td>\n      <td>ORIGINAL MIX</td>\n      <td>Special Request</td>\n      <td>Nina Kraviz</td>\n      <td>2014-12-09T11:32:01.000Z</td>\n      <td>Trip</td>\n      <td>12/22/2014</td>\n    </tr>\n    <tr>\n      <th>31</th>\n      <td>Nina Kraviz</td>\n      <td>38934</td>\n      <td>390</td>\n      <td>3946</td>\n      <td>1253565</td>\n      <td>120</td>\n      <td>G♭ min</td>\n      <td>Tech House</td>\n      <td>3:44</td>\n      <td>ORIGINAL MIX</td>\n      <td>Special Request</td>\n      <td>Nina Kraviz</td>\n      <td>2012-02-29T20:20:07.000Z</td>\n      <td>Rekids</td>\n      <td>2/27/2012</td>\n    </tr>\n    <tr>\n      <th>...</th>\n      <td>...</td>\n      <td>...</td>\n      <td>...</td>\n      <td>...</td>\n      <td>...</td>\n      <td>...</td>\n      <td>...</td>\n      <td>...</td>\n      <td>...</td>\n      <td>...</td>\n      <td>...</td>\n      <td>...</td>\n      <td>...</td>\n      <td>...</td>\n      <td>...</td>\n    </tr>\n    <tr>\n      <th>850</th>\n      <td>laurent garnier</td>\n      <td>40</td>\n      <td>0</td>\n      <td>3</td>\n      <td>3202</td>\n      <td>133</td>\n      <td>C♯ maj</td>\n      <td>House</td>\n      <td>7:15</td>\n      <td>2020 REMASTERED VERSION - LABORATOIRE MIX</td>\n      <td>Insaac Students</td>\n      <td>Laurent Garnier</td>\n      <td>2020-07-24T00:00:00.000Z</td>\n      <td>F Communications</td>\n      <td>7/24/2020</td>\n    </tr>\n    <tr>\n      <th>851</th>\n      <td>laurent garnier</td>\n      <td>16</td>\n      <td>1</td>\n      <td>1</td>\n      <td>2229</td>\n      <td>150</td>\n      <td>E min</td>\n      <td>House</td>\n      <td>4:38</td>\n      <td>2020 REMASTERED VERSION</td>\n      <td>Insaac Students</td>\n      <td>Laurent Garnier</td>\n      <td>2020-07-24T00:00:00.000Z</td>\n      <td>F Communications</td>\n      <td>7/24/2020</td>\n    </tr>\n    <tr>\n      <th>852</th>\n      <td>laurent garnier</td>\n      <td>16</td>\n      <td>0</td>\n      <td>3</td>\n      <td>2365</td>\n      <td>127</td>\n      <td>A min</td>\n      <td>House</td>\n      <td>4:50</td>\n      <td>2020 REMASTERED VERSION</td>\n      <td>Insaac Students</td>\n      <td>Laurent Garnier</td>\n      <td>2020-07-24T00:00:00.000Z</td>\n      <td>F Communications</td>\n      <td>7/24/2020</td>\n    </tr>\n    <tr>\n      <th>853</th>\n      <td>laurent garnier</td>\n      <td>15</td>\n      <td>1</td>\n      <td>1</td>\n      <td>1867</td>\n      <td>132</td>\n      <td>G♯ maj</td>\n      <td>House</td>\n      <td>8:36</td>\n      <td>2020 REMASTERED VERSION</td>\n      <td>Insaac Students</td>\n      <td>Laurent Garnier</td>\n      <td>2020-07-24T00:00:00.000Z</td>\n      <td>F Communications</td>\n      <td>7/24/2020</td>\n    </tr>\n    <tr>\n      <th>854</th>\n      <td>laurent garnier</td>\n      <td>233</td>\n      <td>15</td>\n      <td>33</td>\n      <td>5556</td>\n      <td>128</td>\n      <td>E maj</td>\n      <td>Melodic House &amp; Techno</td>\n      <td>11:00</td>\n      <td>ORIGINAL MIX</td>\n      <td>Insaac Students</td>\n      <td>Laurent Garnier</td>\n      <td>2020-07-24T00:00:00.000Z</td>\n      <td>Kompakt Extra</td>\n      <td>4/14/2017</td>\n    </tr>\n  </tbody>\n</table>\n<p>432 rows × 15 columns</p>\n</div>"
     },
     "metadata": {},
     "execution_count": 178
    }
   ],
   "source": [
    "tracks_only"
   ]
  },
  {
   "cell_type": "code",
   "execution_count": 179,
   "metadata": {},
   "outputs": [
    {
     "output_type": "execute_result",
     "data": {
      "text/plain": [
       "9/20/2019     14\n",
       "8/30/2013     14\n",
       "9/4/2020      11\n",
       "3/27/2020     11\n",
       "12/1/2017     10\n",
       "              ..\n",
       "5/10/2019      1\n",
       "4/11/2018      1\n",
       "11/3/2017      1\n",
       "12/12/2010     1\n",
       "11/20/2020     1\n",
       "Name: BeatportRelease, Length: 161, dtype: int64"
      ]
     },
     "metadata": {},
     "execution_count": 179
    }
   ],
   "source": [
    "# Cleaning mix types to original, live/club, remix/edit\n",
    "tracks_only['Mix'].value_counts()\n",
    "tracks_only['Key'].value_counts()\n",
    "tracks_only['Genre'].value_counts()\n",
    "tracks_only['Label'].value_counts()\n",
    "tracks_only['BeatportRelease'].value_counts()"
   ]
  },
  {
   "cell_type": "code",
   "execution_count": 180,
   "metadata": {},
   "outputs": [],
   "source": [
    "# Finding the number of followers of each artist in the artists_df DF, creating new column in track_df\n",
    "# tracks_only['ArtistFollowers'] = artists_df.loc[artists_df['ArtistName']==tracks_only['ArtistName'], 'Followers'] \n",
    "tracks_foll = pd.merge(left=tracks_only, right=artists_df[['ArtistName', 'Followers']], on='ArtistName')\n",
    "tracks_foll['Followers'] = tracks_foll['Followers'].astype(int)"
   ]
  },
  {
   "cell_type": "code",
   "execution_count": 169,
   "metadata": {},
   "outputs": [
    {
     "output_type": "error",
     "ename": "AttributeError",
     "evalue": "'Series' object has no attribute 'ActiveEng'",
     "traceback": [
      "\u001b[1;31m---------------------------------------------------------------------------\u001b[0m",
      "\u001b[1;31mAttributeError\u001b[0m                            Traceback (most recent call last)",
      "\u001b[1;32m<ipython-input-169-6b3f5e675b17>\u001b[0m in \u001b[0;36m<module>\u001b[1;34m\u001b[0m\n\u001b[0;32m      1\u001b[0m \u001b[1;31m# tracks_foll.drop([tracks_foll['ActiveEng']==0], axis=0, inplace=True)\u001b[0m\u001b[1;33m\u001b[0m\u001b[1;33m\u001b[0m\u001b[1;33m\u001b[0m\u001b[0m\n\u001b[1;32m----> 2\u001b[1;33m \u001b[0mtracks_foll\u001b[0m \u001b[1;33m=\u001b[0m \u001b[0mtracks_foll\u001b[0m\u001b[1;33m.\u001b[0m\u001b[0mActiveEng\u001b[0m \u001b[1;33m!=\u001b[0m \u001b[1;36m0\u001b[0m\u001b[1;33m\u001b[0m\u001b[1;33m\u001b[0m\u001b[0m\n\u001b[0m",
      "\u001b[1;32m~\\miniconda3\\lib\\site-packages\\pandas\\core\\generic.py\u001b[0m in \u001b[0;36m__getattr__\u001b[1;34m(self, name)\u001b[0m\n\u001b[0;32m   5460\u001b[0m             \u001b[1;32mif\u001b[0m \u001b[0mself\u001b[0m\u001b[1;33m.\u001b[0m\u001b[0m_info_axis\u001b[0m\u001b[1;33m.\u001b[0m\u001b[0m_can_hold_identifiers_and_holds_name\u001b[0m\u001b[1;33m(\u001b[0m\u001b[0mname\u001b[0m\u001b[1;33m)\u001b[0m\u001b[1;33m:\u001b[0m\u001b[1;33m\u001b[0m\u001b[1;33m\u001b[0m\u001b[0m\n\u001b[0;32m   5461\u001b[0m                 \u001b[1;32mreturn\u001b[0m \u001b[0mself\u001b[0m\u001b[1;33m[\u001b[0m\u001b[0mname\u001b[0m\u001b[1;33m]\u001b[0m\u001b[1;33m\u001b[0m\u001b[1;33m\u001b[0m\u001b[0m\n\u001b[1;32m-> 5462\u001b[1;33m             \u001b[1;32mreturn\u001b[0m \u001b[0mobject\u001b[0m\u001b[1;33m.\u001b[0m\u001b[0m__getattribute__\u001b[0m\u001b[1;33m(\u001b[0m\u001b[0mself\u001b[0m\u001b[1;33m,\u001b[0m \u001b[0mname\u001b[0m\u001b[1;33m)\u001b[0m\u001b[1;33m\u001b[0m\u001b[1;33m\u001b[0m\u001b[0m\n\u001b[0m\u001b[0;32m   5463\u001b[0m \u001b[1;33m\u001b[0m\u001b[0m\n\u001b[0;32m   5464\u001b[0m     \u001b[1;32mdef\u001b[0m \u001b[0m__setattr__\u001b[0m\u001b[1;33m(\u001b[0m\u001b[0mself\u001b[0m\u001b[1;33m,\u001b[0m \u001b[0mname\u001b[0m\u001b[1;33m:\u001b[0m \u001b[0mstr\u001b[0m\u001b[1;33m,\u001b[0m \u001b[0mvalue\u001b[0m\u001b[1;33m)\u001b[0m \u001b[1;33m->\u001b[0m \u001b[1;32mNone\u001b[0m\u001b[1;33m:\u001b[0m\u001b[1;33m\u001b[0m\u001b[1;33m\u001b[0m\u001b[0m\n",
      "\u001b[1;31mAttributeError\u001b[0m: 'Series' object has no attribute 'ActiveEng'"
     ]
    }
   ],
   "source": []
  },
  {
   "cell_type": "code",
   "execution_count": 181,
   "metadata": {},
   "outputs": [
    {
     "output_type": "stream",
     "name": "stdout",
     "text": [
      "<class 'pandas.core.frame.DataFrame'>\nInt64Index: 432 entries, 0 to 431\nData columns (total 16 columns):\n #   Column            Non-Null Count  Dtype \n---  ------            --------------  ----- \n 0   ArtistName        432 non-null    object\n 1   Likes             432 non-null    int32 \n 2   CommentsCount     432 non-null    int64 \n 3   Shares            432 non-null    int32 \n 4   Plays             432 non-null    int32 \n 5   BPM               432 non-null    int32 \n 6   Key               432 non-null    object\n 7   Genre             432 non-null    object\n 8   Length            432 non-null    object\n 9   Mix               432 non-null    object\n 10  Feat              432 non-null    object\n 11  OriginalProducer  432 non-null    object\n 12  TrackDate         431 non-null    object\n 13  Label             432 non-null    object\n 14  BeatportRelease   432 non-null    object\n 15  Followers         432 non-null    int32 \ndtypes: int32(5), int64(1), object(10)\nmemory usage: 48.9+ KB\n"
     ]
    },
    {
     "output_type": "execute_result",
     "data": {
      "text/plain": [
       "37999      29\n",
       "30497      27\n",
       "403912     26\n",
       "124239     26\n",
       "154681     25\n",
       "442374     23\n",
       "355068     21\n",
       "215907     21\n",
       "44724      19\n",
       "29971      18\n",
       "21627      18\n",
       "36072      18\n",
       "22125      17\n",
       "17113      17\n",
       "70874      15\n",
       "1072185    14\n",
       "114951     13\n",
       "94938      11\n",
       "268983     11\n",
       "100785     10\n",
       "103673      9\n",
       "16098       9\n",
       "161         8\n",
       "91686       7\n",
       "412347      7\n",
       "101066      6\n",
       "48266       3\n",
       "6183        1\n",
       "57177       1\n",
       "497903      1\n",
       "61          1\n",
       "Name: Followers, dtype: int64"
      ]
     },
     "metadata": {},
     "execution_count": 181
    }
   ],
   "source": [
    "tracks_foll.info()\n",
    "tracks_foll['Followers'].value_counts()"
   ]
  },
  {
   "cell_type": "code",
   "execution_count": 182,
   "metadata": {},
   "outputs": [
    {
     "output_type": "stream",
     "name": "stdout",
     "text": [
      "<class 'pandas.core.frame.DataFrame'>\nInt64Index: 432 entries, 0 to 431\nData columns (total 16 columns):\n #   Column            Non-Null Count  Dtype \n---  ------            --------------  ----- \n 0   ArtistName        432 non-null    object\n 1   Likes             432 non-null    int32 \n 2   CommentsCount     432 non-null    int32 \n 3   Shares            432 non-null    int32 \n 4   Plays             432 non-null    int32 \n 5   BPM               432 non-null    int32 \n 6   Key               432 non-null    object\n 7   Genre             432 non-null    object\n 8   Length            432 non-null    object\n 9   Mix               432 non-null    object\n 10  Feat              432 non-null    object\n 11  OriginalProducer  432 non-null    object\n 12  TrackDate         431 non-null    object\n 13  Label             432 non-null    object\n 14  BeatportRelease   432 non-null    object\n 15  Followers         432 non-null    int32 \ndtypes: int32(6), object(10)\nmemory usage: 47.2+ KB\n"
     ]
    }
   ],
   "source": [
    "# Extracting year of release - compare soundcloud and beatport releases\n",
    "tracks_foll['Likes'] = tracks_foll['Likes'].astype(int)\n",
    "tracks_foll['CommentsCount'] = tracks_foll['CommentsCount'].astype(int)\n",
    "tracks_foll['Shares'] = tracks_foll['Shares'].astype(int)\n",
    "tracks_foll['Plays'] = tracks_foll['Plays'].astype(int)\n",
    "tracks_foll['BPM'] = tracks_foll['BPM'].astype(int)\n",
    "tracks_foll.info()"
   ]
  },
  {
   "cell_type": "code",
   "execution_count": 183,
   "metadata": {},
   "outputs": [],
   "source": [
    "tracks_foll.drop('BeatportRelease', axis=1, inplace=True)\n"
   ]
  },
  {
   "cell_type": "code",
   "execution_count": 184,
   "metadata": {},
   "outputs": [
    {
     "output_type": "error",
     "ename": "AttributeError",
     "evalue": "'float' object has no attribute 'replace'",
     "traceback": [
      "\u001b[1;31m---------------------------------------------------------------------------\u001b[0m",
      "\u001b[1;31mAttributeError\u001b[0m                            Traceback (most recent call last)",
      "\u001b[1;32m<ipython-input-184-0dfcb064c76a>\u001b[0m in \u001b[0;36m<module>\u001b[1;34m\u001b[0m\n\u001b[0;32m      1\u001b[0m \u001b[1;31m# converting SoundCloud release date to timestamp. Selecting only date, converting to datetime.\u001b[0m\u001b[1;33m\u001b[0m\u001b[1;33m\u001b[0m\u001b[1;33m\u001b[0m\u001b[0m\n\u001b[0;32m      2\u001b[0m \u001b[1;32mfrom\u001b[0m \u001b[0mdatetime\u001b[0m \u001b[1;32mimport\u001b[0m \u001b[0mdatetime\u001b[0m\u001b[1;33m\u001b[0m\u001b[1;33m\u001b[0m\u001b[0m\n\u001b[1;32m----> 3\u001b[1;33m \u001b[0mtracks_foll\u001b[0m\u001b[1;33m[\u001b[0m\u001b[1;34m'TrackDate'\u001b[0m\u001b[1;33m]\u001b[0m \u001b[1;33m=\u001b[0m \u001b[0mtracks_foll\u001b[0m\u001b[1;33m[\u001b[0m\u001b[1;34m'TrackDate'\u001b[0m\u001b[1;33m]\u001b[0m\u001b[1;33m.\u001b[0m\u001b[0mapply\u001b[0m\u001b[1;33m(\u001b[0m\u001b[1;32mlambda\u001b[0m \u001b[0mx\u001b[0m\u001b[1;33m:\u001b[0m \u001b[0mx\u001b[0m\u001b[1;33m.\u001b[0m\u001b[0mreplace\u001b[0m\u001b[1;33m(\u001b[0m\u001b[1;34m'T'\u001b[0m\u001b[1;33m,\u001b[0m \u001b[1;34m' '\u001b[0m\u001b[1;33m)\u001b[0m\u001b[1;33m)\u001b[0m\u001b[1;33m\u001b[0m\u001b[1;33m\u001b[0m\u001b[0m\n\u001b[0m\u001b[0;32m      4\u001b[0m \u001b[0mtracks_foll\u001b[0m\u001b[1;33m[\u001b[0m\u001b[1;34m'TrackDate'\u001b[0m\u001b[1;33m]\u001b[0m \u001b[1;33m=\u001b[0m \u001b[0mtracks_foll\u001b[0m\u001b[1;33m[\u001b[0m\u001b[1;34m'TrackDate'\u001b[0m\u001b[1;33m]\u001b[0m\u001b[1;33m.\u001b[0m\u001b[0mapply\u001b[0m\u001b[1;33m(\u001b[0m\u001b[1;32mlambda\u001b[0m \u001b[0mx\u001b[0m\u001b[1;33m:\u001b[0m \u001b[0mx\u001b[0m\u001b[1;33m.\u001b[0m\u001b[0mreplace\u001b[0m\u001b[1;33m(\u001b[0m\u001b[1;34m'Z'\u001b[0m\u001b[1;33m,\u001b[0m \u001b[1;34m''\u001b[0m\u001b[1;33m)\u001b[0m\u001b[1;33m)\u001b[0m\u001b[1;33m\u001b[0m\u001b[1;33m\u001b[0m\u001b[0m\n\u001b[0;32m      5\u001b[0m \u001b[0mtracks_foll\u001b[0m\u001b[1;33m[\u001b[0m\u001b[1;34m'TrackDate'\u001b[0m\u001b[1;33m]\u001b[0m\u001b[1;33m\u001b[0m\u001b[1;33m\u001b[0m\u001b[0m\n",
      "\u001b[1;32m~\\miniconda3\\lib\\site-packages\\pandas\\core\\series.py\u001b[0m in \u001b[0;36mapply\u001b[1;34m(self, func, convert_dtype, args, **kwds)\u001b[0m\n\u001b[0;32m   4133\u001b[0m             \u001b[1;32melse\u001b[0m\u001b[1;33m:\u001b[0m\u001b[1;33m\u001b[0m\u001b[1;33m\u001b[0m\u001b[0m\n\u001b[0;32m   4134\u001b[0m                 \u001b[0mvalues\u001b[0m \u001b[1;33m=\u001b[0m \u001b[0mself\u001b[0m\u001b[1;33m.\u001b[0m\u001b[0mastype\u001b[0m\u001b[1;33m(\u001b[0m\u001b[0mobject\u001b[0m\u001b[1;33m)\u001b[0m\u001b[1;33m.\u001b[0m\u001b[0m_values\u001b[0m\u001b[1;33m\u001b[0m\u001b[1;33m\u001b[0m\u001b[0m\n\u001b[1;32m-> 4135\u001b[1;33m                 \u001b[0mmapped\u001b[0m \u001b[1;33m=\u001b[0m \u001b[0mlib\u001b[0m\u001b[1;33m.\u001b[0m\u001b[0mmap_infer\u001b[0m\u001b[1;33m(\u001b[0m\u001b[0mvalues\u001b[0m\u001b[1;33m,\u001b[0m \u001b[0mf\u001b[0m\u001b[1;33m,\u001b[0m \u001b[0mconvert\u001b[0m\u001b[1;33m=\u001b[0m\u001b[0mconvert_dtype\u001b[0m\u001b[1;33m)\u001b[0m\u001b[1;33m\u001b[0m\u001b[1;33m\u001b[0m\u001b[0m\n\u001b[0m\u001b[0;32m   4136\u001b[0m \u001b[1;33m\u001b[0m\u001b[0m\n\u001b[0;32m   4137\u001b[0m         \u001b[1;32mif\u001b[0m \u001b[0mlen\u001b[0m\u001b[1;33m(\u001b[0m\u001b[0mmapped\u001b[0m\u001b[1;33m)\u001b[0m \u001b[1;32mand\u001b[0m \u001b[0misinstance\u001b[0m\u001b[1;33m(\u001b[0m\u001b[0mmapped\u001b[0m\u001b[1;33m[\u001b[0m\u001b[1;36m0\u001b[0m\u001b[1;33m]\u001b[0m\u001b[1;33m,\u001b[0m \u001b[0mSeries\u001b[0m\u001b[1;33m)\u001b[0m\u001b[1;33m:\u001b[0m\u001b[1;33m\u001b[0m\u001b[1;33m\u001b[0m\u001b[0m\n",
      "\u001b[1;32mpandas\\_libs\\lib.pyx\u001b[0m in \u001b[0;36mpandas._libs.lib.map_infer\u001b[1;34m()\u001b[0m\n",
      "\u001b[1;32m<ipython-input-184-0dfcb064c76a>\u001b[0m in \u001b[0;36m<lambda>\u001b[1;34m(x)\u001b[0m\n\u001b[0;32m      1\u001b[0m \u001b[1;31m# converting SoundCloud release date to timestamp. Selecting only date, converting to datetime.\u001b[0m\u001b[1;33m\u001b[0m\u001b[1;33m\u001b[0m\u001b[1;33m\u001b[0m\u001b[0m\n\u001b[0;32m      2\u001b[0m \u001b[1;32mfrom\u001b[0m \u001b[0mdatetime\u001b[0m \u001b[1;32mimport\u001b[0m \u001b[0mdatetime\u001b[0m\u001b[1;33m\u001b[0m\u001b[1;33m\u001b[0m\u001b[0m\n\u001b[1;32m----> 3\u001b[1;33m \u001b[0mtracks_foll\u001b[0m\u001b[1;33m[\u001b[0m\u001b[1;34m'TrackDate'\u001b[0m\u001b[1;33m]\u001b[0m \u001b[1;33m=\u001b[0m \u001b[0mtracks_foll\u001b[0m\u001b[1;33m[\u001b[0m\u001b[1;34m'TrackDate'\u001b[0m\u001b[1;33m]\u001b[0m\u001b[1;33m.\u001b[0m\u001b[0mapply\u001b[0m\u001b[1;33m(\u001b[0m\u001b[1;32mlambda\u001b[0m \u001b[0mx\u001b[0m\u001b[1;33m:\u001b[0m \u001b[0mx\u001b[0m\u001b[1;33m.\u001b[0m\u001b[0mreplace\u001b[0m\u001b[1;33m(\u001b[0m\u001b[1;34m'T'\u001b[0m\u001b[1;33m,\u001b[0m \u001b[1;34m' '\u001b[0m\u001b[1;33m)\u001b[0m\u001b[1;33m)\u001b[0m\u001b[1;33m\u001b[0m\u001b[1;33m\u001b[0m\u001b[0m\n\u001b[0m\u001b[0;32m      4\u001b[0m \u001b[0mtracks_foll\u001b[0m\u001b[1;33m[\u001b[0m\u001b[1;34m'TrackDate'\u001b[0m\u001b[1;33m]\u001b[0m \u001b[1;33m=\u001b[0m \u001b[0mtracks_foll\u001b[0m\u001b[1;33m[\u001b[0m\u001b[1;34m'TrackDate'\u001b[0m\u001b[1;33m]\u001b[0m\u001b[1;33m.\u001b[0m\u001b[0mapply\u001b[0m\u001b[1;33m(\u001b[0m\u001b[1;32mlambda\u001b[0m \u001b[0mx\u001b[0m\u001b[1;33m:\u001b[0m \u001b[0mx\u001b[0m\u001b[1;33m.\u001b[0m\u001b[0mreplace\u001b[0m\u001b[1;33m(\u001b[0m\u001b[1;34m'Z'\u001b[0m\u001b[1;33m,\u001b[0m \u001b[1;34m''\u001b[0m\u001b[1;33m)\u001b[0m\u001b[1;33m)\u001b[0m\u001b[1;33m\u001b[0m\u001b[1;33m\u001b[0m\u001b[0m\n\u001b[0;32m      5\u001b[0m \u001b[0mtracks_foll\u001b[0m\u001b[1;33m[\u001b[0m\u001b[1;34m'TrackDate'\u001b[0m\u001b[1;33m]\u001b[0m\u001b[1;33m\u001b[0m\u001b[1;33m\u001b[0m\u001b[0m\n",
      "\u001b[1;31mAttributeError\u001b[0m: 'float' object has no attribute 'replace'"
     ]
    }
   ],
   "source": [
    "# converting SoundCloud release date to timestamp. Selecting only date, converting to datetime.\n",
    "from datetime import datetime\n",
    "tracks_foll['TrackDate'] = tracks_foll['TrackDate'].apply(lambda x: x.replace('T', ' '))\n",
    "tracks_foll['TrackDate'] = tracks_foll['TrackDate'].apply(lambda x: x.replace('Z', ''))\n",
    "tracks_foll['TrackDate']"
   ]
  },
  {
   "cell_type": "code",
   "execution_count": 185,
   "metadata": {},
   "outputs": [],
   "source": [
    "import numpy as np\n",
    "# tracks_foll['TS'] = tracks_foll.TrackDate.values.astype(np.int64) // 10 ** 9\n",
    "tracks_foll['TS'] = tracks_foll['TrackDate'].apply(lambda x: pd.Timestamp(x))\n",
    "tracks_foll['TS'] = tracks_foll['TS'].astype(np.int64)"
   ]
  },
  {
   "cell_type": "code",
   "execution_count": 186,
   "metadata": {},
   "outputs": [
    {
     "output_type": "execute_result",
     "data": {
      "text/plain": [
       "0      1606435200000000000\n",
       "1      1497571200000000000\n",
       "2      1495023979000000000\n",
       "3      1418124721000000000\n",
       "4      1330546807000000000\n",
       "              ...         \n",
       "427    1595548800000000000\n",
       "428    1595548800000000000\n",
       "429    1595548800000000000\n",
       "430    1595548800000000000\n",
       "431    1595548800000000000\n",
       "Name: TS, Length: 432, dtype: int64"
      ]
     },
     "metadata": {},
     "execution_count": 186
    }
   ],
   "source": [
    "tracks_foll['TS']"
   ]
  },
  {
   "cell_type": "code",
   "execution_count": 187,
   "metadata": {},
   "outputs": [],
   "source": [
    "# dropping old date column\n",
    "tracks_foll.drop('TrackDate', axis=1, inplace=True)\n"
   ]
  },
  {
   "cell_type": "code",
   "execution_count": 188,
   "metadata": {},
   "outputs": [
    {
     "output_type": "execute_result",
     "data": {
      "text/plain": [
       "    ArtistName  Likes  CommentsCount  Shares    Plays  BPM     Key  \\\n",
       "0  Nina Kraviz    252              6      36     4941   78  B♭ min   \n",
       "1  Nina Kraviz     18              0       3      267  125   C min   \n",
       "2  Nina Kraviz   6523             90     923   203528  129   G min   \n",
       "3  Nina Kraviz  24023            277    3161   846079  129   A min   \n",
       "4  Nina Kraviz  38934            390    3946  1253565  120  G♭ min   \n",
       "\n",
       "                            Genre Length           Mix             Feat  \\\n",
       "0    Techno (Peak Time / Driving)   7:59         MIXED  Special Request   \n",
       "1                      Tech House   7:43    SEBO K MIX  Special Request   \n",
       "2  Techno (Raw / Deep / Hypnotic)   7:11  ORIGINAL MIX  Special Request   \n",
       "3  Techno (Raw / Deep / Hypnotic)   6:32  ORIGINAL MIX  Special Request   \n",
       "4                      Tech House   3:44  ORIGINAL MIX  Special Request   \n",
       "\n",
       "  OriginalProducer           Label  Followers                   TS  \n",
       "0      Nina Kraviz  Mixmag Records     412347  1606435200000000000  \n",
       "1      Nina Kraviz           Tsuba     412347  1497571200000000000  \n",
       "2      Nina Kraviz            Trip     412347  1495023979000000000  \n",
       "3      Nina Kraviz            Trip     412347  1418124721000000000  \n",
       "4      Nina Kraviz          Rekids     412347  1330546807000000000  "
      ],
      "text/html": "<div>\n<style scoped>\n    .dataframe tbody tr th:only-of-type {\n        vertical-align: middle;\n    }\n\n    .dataframe tbody tr th {\n        vertical-align: top;\n    }\n\n    .dataframe thead th {\n        text-align: right;\n    }\n</style>\n<table border=\"1\" class=\"dataframe\">\n  <thead>\n    <tr style=\"text-align: right;\">\n      <th></th>\n      <th>ArtistName</th>\n      <th>Likes</th>\n      <th>CommentsCount</th>\n      <th>Shares</th>\n      <th>Plays</th>\n      <th>BPM</th>\n      <th>Key</th>\n      <th>Genre</th>\n      <th>Length</th>\n      <th>Mix</th>\n      <th>Feat</th>\n      <th>OriginalProducer</th>\n      <th>Label</th>\n      <th>Followers</th>\n      <th>TS</th>\n    </tr>\n  </thead>\n  <tbody>\n    <tr>\n      <th>0</th>\n      <td>Nina Kraviz</td>\n      <td>252</td>\n      <td>6</td>\n      <td>36</td>\n      <td>4941</td>\n      <td>78</td>\n      <td>B♭ min</td>\n      <td>Techno (Peak Time / Driving)</td>\n      <td>7:59</td>\n      <td>MIXED</td>\n      <td>Special Request</td>\n      <td>Nina Kraviz</td>\n      <td>Mixmag Records</td>\n      <td>412347</td>\n      <td>1606435200000000000</td>\n    </tr>\n    <tr>\n      <th>1</th>\n      <td>Nina Kraviz</td>\n      <td>18</td>\n      <td>0</td>\n      <td>3</td>\n      <td>267</td>\n      <td>125</td>\n      <td>C min</td>\n      <td>Tech House</td>\n      <td>7:43</td>\n      <td>SEBO K MIX</td>\n      <td>Special Request</td>\n      <td>Nina Kraviz</td>\n      <td>Tsuba</td>\n      <td>412347</td>\n      <td>1497571200000000000</td>\n    </tr>\n    <tr>\n      <th>2</th>\n      <td>Nina Kraviz</td>\n      <td>6523</td>\n      <td>90</td>\n      <td>923</td>\n      <td>203528</td>\n      <td>129</td>\n      <td>G min</td>\n      <td>Techno (Raw / Deep / Hypnotic)</td>\n      <td>7:11</td>\n      <td>ORIGINAL MIX</td>\n      <td>Special Request</td>\n      <td>Nina Kraviz</td>\n      <td>Trip</td>\n      <td>412347</td>\n      <td>1495023979000000000</td>\n    </tr>\n    <tr>\n      <th>3</th>\n      <td>Nina Kraviz</td>\n      <td>24023</td>\n      <td>277</td>\n      <td>3161</td>\n      <td>846079</td>\n      <td>129</td>\n      <td>A min</td>\n      <td>Techno (Raw / Deep / Hypnotic)</td>\n      <td>6:32</td>\n      <td>ORIGINAL MIX</td>\n      <td>Special Request</td>\n      <td>Nina Kraviz</td>\n      <td>Trip</td>\n      <td>412347</td>\n      <td>1418124721000000000</td>\n    </tr>\n    <tr>\n      <th>4</th>\n      <td>Nina Kraviz</td>\n      <td>38934</td>\n      <td>390</td>\n      <td>3946</td>\n      <td>1253565</td>\n      <td>120</td>\n      <td>G♭ min</td>\n      <td>Tech House</td>\n      <td>3:44</td>\n      <td>ORIGINAL MIX</td>\n      <td>Special Request</td>\n      <td>Nina Kraviz</td>\n      <td>Rekids</td>\n      <td>412347</td>\n      <td>1330546807000000000</td>\n    </tr>\n  </tbody>\n</table>\n</div>"
     },
     "metadata": {},
     "execution_count": 188
    }
   ],
   "source": [
    "tracks_foll.head()"
   ]
  },
  {
   "cell_type": "code",
   "execution_count": 189,
   "metadata": {},
   "outputs": [],
   "source": [
    "# converting length to seconds int\n",
    "def time_convert(length):\n",
    "    track_time_strings = length.split(\":\")\n",
    "    track_time = int(track_time_strings[0]) * 60 + int(track_time_strings[1]) \n",
    "    return track_time\n",
    "\n",
    "tracks_foll['Length'] = tracks_foll['Length'].apply(time_convert) \n",
    "          "
   ]
  },
  {
   "cell_type": "code",
   "execution_count": 190,
   "metadata": {},
   "outputs": [
    {
     "output_type": "execute_result",
     "data": {
      "text/plain": [
       "0      479\n",
       "1      463\n",
       "2      431\n",
       "3      392\n",
       "4      224\n",
       "      ... \n",
       "427    435\n",
       "428    278\n",
       "429    290\n",
       "430    516\n",
       "431    660\n",
       "Name: Length, Length: 432, dtype: int64"
      ]
     },
     "metadata": {},
     "execution_count": 190
    }
   ],
   "source": [
    "tracks_foll['Length']"
   ]
  },
  {
   "cell_type": "code",
   "execution_count": 191,
   "metadata": {},
   "outputs": [],
   "source": [
    "# def mix_class(string):\n",
    "#     if 'original mix' or 'original' in lower(string):\n",
    "#         return 'original mix'\n",
    "#     else:\n",
    "#         return 'remixed or reworked'\n",
    "\n",
    "# tracks_foll['Mix'] = tracks_foll['Mix'].apply(mix_class)\n",
    "\n",
    "# dropping mix features\n",
    "tracks_foll.drop('Mix', axis=1, inplace=True)"
   ]
  },
  {
   "cell_type": "code",
   "execution_count": 192,
   "metadata": {},
   "outputs": [
    {
     "output_type": "execute_result",
     "data": {
      "text/plain": [
       "          ArtistName  Likes  CommentsCount  Shares    Plays  BPM     Key  \\\n",
       "0        Nina Kraviz    252              6      36     4941   78  B♭ min   \n",
       "1        Nina Kraviz     18              0       3      267  125   C min   \n",
       "2        Nina Kraviz   6523             90     923   203528  129   G min   \n",
       "3        Nina Kraviz  24023            277    3161   846079  129   A min   \n",
       "4        Nina Kraviz  38934            390    3946  1253565  120  G♭ min   \n",
       "..               ...    ...            ...     ...      ...  ...     ...   \n",
       "427  laurent garnier     40              0       3     3202  133  C♯ maj   \n",
       "428  laurent garnier     16              1       1     2229  150   E min   \n",
       "429  laurent garnier     16              0       3     2365  127   A min   \n",
       "430  laurent garnier     15              1       1     1867  132  G♯ maj   \n",
       "431  laurent garnier    233             15      33     5556  128   E maj   \n",
       "\n",
       "                              Genre  Length             Feat OriginalProducer  \\\n",
       "0      Techno (Peak Time / Driving)     479  Special Request      Nina Kraviz   \n",
       "1                        Tech House     463  Special Request      Nina Kraviz   \n",
       "2    Techno (Raw / Deep / Hypnotic)     431  Special Request      Nina Kraviz   \n",
       "3    Techno (Raw / Deep / Hypnotic)     392  Special Request      Nina Kraviz   \n",
       "4                        Tech House     224  Special Request      Nina Kraviz   \n",
       "..                              ...     ...              ...              ...   \n",
       "427                           House     435  Insaac Students  Laurent Garnier   \n",
       "428                           House     278  Insaac Students  Laurent Garnier   \n",
       "429                           House     290  Insaac Students  Laurent Garnier   \n",
       "430                           House     516  Insaac Students  Laurent Garnier   \n",
       "431          Melodic House & Techno     660  Insaac Students  Laurent Garnier   \n",
       "\n",
       "                Label  Followers                   TS  \n",
       "0      Mixmag Records     412347  1606435200000000000  \n",
       "1               Tsuba     412347  1497571200000000000  \n",
       "2                Trip     412347  1495023979000000000  \n",
       "3                Trip     412347  1418124721000000000  \n",
       "4              Rekids     412347  1330546807000000000  \n",
       "..                ...        ...                  ...  \n",
       "427  F Communications     268983  1595548800000000000  \n",
       "428  F Communications     268983  1595548800000000000  \n",
       "429  F Communications     268983  1595548800000000000  \n",
       "430  F Communications     268983  1595548800000000000  \n",
       "431     Kompakt Extra     268983  1595548800000000000  \n",
       "\n",
       "[432 rows x 14 columns]"
      ],
      "text/html": "<div>\n<style scoped>\n    .dataframe tbody tr th:only-of-type {\n        vertical-align: middle;\n    }\n\n    .dataframe tbody tr th {\n        vertical-align: top;\n    }\n\n    .dataframe thead th {\n        text-align: right;\n    }\n</style>\n<table border=\"1\" class=\"dataframe\">\n  <thead>\n    <tr style=\"text-align: right;\">\n      <th></th>\n      <th>ArtistName</th>\n      <th>Likes</th>\n      <th>CommentsCount</th>\n      <th>Shares</th>\n      <th>Plays</th>\n      <th>BPM</th>\n      <th>Key</th>\n      <th>Genre</th>\n      <th>Length</th>\n      <th>Feat</th>\n      <th>OriginalProducer</th>\n      <th>Label</th>\n      <th>Followers</th>\n      <th>TS</th>\n    </tr>\n  </thead>\n  <tbody>\n    <tr>\n      <th>0</th>\n      <td>Nina Kraviz</td>\n      <td>252</td>\n      <td>6</td>\n      <td>36</td>\n      <td>4941</td>\n      <td>78</td>\n      <td>B♭ min</td>\n      <td>Techno (Peak Time / Driving)</td>\n      <td>479</td>\n      <td>Special Request</td>\n      <td>Nina Kraviz</td>\n      <td>Mixmag Records</td>\n      <td>412347</td>\n      <td>1606435200000000000</td>\n    </tr>\n    <tr>\n      <th>1</th>\n      <td>Nina Kraviz</td>\n      <td>18</td>\n      <td>0</td>\n      <td>3</td>\n      <td>267</td>\n      <td>125</td>\n      <td>C min</td>\n      <td>Tech House</td>\n      <td>463</td>\n      <td>Special Request</td>\n      <td>Nina Kraviz</td>\n      <td>Tsuba</td>\n      <td>412347</td>\n      <td>1497571200000000000</td>\n    </tr>\n    <tr>\n      <th>2</th>\n      <td>Nina Kraviz</td>\n      <td>6523</td>\n      <td>90</td>\n      <td>923</td>\n      <td>203528</td>\n      <td>129</td>\n      <td>G min</td>\n      <td>Techno (Raw / Deep / Hypnotic)</td>\n      <td>431</td>\n      <td>Special Request</td>\n      <td>Nina Kraviz</td>\n      <td>Trip</td>\n      <td>412347</td>\n      <td>1495023979000000000</td>\n    </tr>\n    <tr>\n      <th>3</th>\n      <td>Nina Kraviz</td>\n      <td>24023</td>\n      <td>277</td>\n      <td>3161</td>\n      <td>846079</td>\n      <td>129</td>\n      <td>A min</td>\n      <td>Techno (Raw / Deep / Hypnotic)</td>\n      <td>392</td>\n      <td>Special Request</td>\n      <td>Nina Kraviz</td>\n      <td>Trip</td>\n      <td>412347</td>\n      <td>1418124721000000000</td>\n    </tr>\n    <tr>\n      <th>4</th>\n      <td>Nina Kraviz</td>\n      <td>38934</td>\n      <td>390</td>\n      <td>3946</td>\n      <td>1253565</td>\n      <td>120</td>\n      <td>G♭ min</td>\n      <td>Tech House</td>\n      <td>224</td>\n      <td>Special Request</td>\n      <td>Nina Kraviz</td>\n      <td>Rekids</td>\n      <td>412347</td>\n      <td>1330546807000000000</td>\n    </tr>\n    <tr>\n      <th>...</th>\n      <td>...</td>\n      <td>...</td>\n      <td>...</td>\n      <td>...</td>\n      <td>...</td>\n      <td>...</td>\n      <td>...</td>\n      <td>...</td>\n      <td>...</td>\n      <td>...</td>\n      <td>...</td>\n      <td>...</td>\n      <td>...</td>\n      <td>...</td>\n    </tr>\n    <tr>\n      <th>427</th>\n      <td>laurent garnier</td>\n      <td>40</td>\n      <td>0</td>\n      <td>3</td>\n      <td>3202</td>\n      <td>133</td>\n      <td>C♯ maj</td>\n      <td>House</td>\n      <td>435</td>\n      <td>Insaac Students</td>\n      <td>Laurent Garnier</td>\n      <td>F Communications</td>\n      <td>268983</td>\n      <td>1595548800000000000</td>\n    </tr>\n    <tr>\n      <th>428</th>\n      <td>laurent garnier</td>\n      <td>16</td>\n      <td>1</td>\n      <td>1</td>\n      <td>2229</td>\n      <td>150</td>\n      <td>E min</td>\n      <td>House</td>\n      <td>278</td>\n      <td>Insaac Students</td>\n      <td>Laurent Garnier</td>\n      <td>F Communications</td>\n      <td>268983</td>\n      <td>1595548800000000000</td>\n    </tr>\n    <tr>\n      <th>429</th>\n      <td>laurent garnier</td>\n      <td>16</td>\n      <td>0</td>\n      <td>3</td>\n      <td>2365</td>\n      <td>127</td>\n      <td>A min</td>\n      <td>House</td>\n      <td>290</td>\n      <td>Insaac Students</td>\n      <td>Laurent Garnier</td>\n      <td>F Communications</td>\n      <td>268983</td>\n      <td>1595548800000000000</td>\n    </tr>\n    <tr>\n      <th>430</th>\n      <td>laurent garnier</td>\n      <td>15</td>\n      <td>1</td>\n      <td>1</td>\n      <td>1867</td>\n      <td>132</td>\n      <td>G♯ maj</td>\n      <td>House</td>\n      <td>516</td>\n      <td>Insaac Students</td>\n      <td>Laurent Garnier</td>\n      <td>F Communications</td>\n      <td>268983</td>\n      <td>1595548800000000000</td>\n    </tr>\n    <tr>\n      <th>431</th>\n      <td>laurent garnier</td>\n      <td>233</td>\n      <td>15</td>\n      <td>33</td>\n      <td>5556</td>\n      <td>128</td>\n      <td>E maj</td>\n      <td>Melodic House &amp; Techno</td>\n      <td>660</td>\n      <td>Insaac Students</td>\n      <td>Laurent Garnier</td>\n      <td>Kompakt Extra</td>\n      <td>268983</td>\n      <td>1595548800000000000</td>\n    </tr>\n  </tbody>\n</table>\n<p>432 rows × 14 columns</p>\n</div>"
     },
     "metadata": {},
     "execution_count": 192
    }
   ],
   "source": [
    "tracks_foll"
   ]
  },
  {
   "cell_type": "code",
   "execution_count": 193,
   "metadata": {},
   "outputs": [],
   "source": [
    "# Creating an active engagement column: comments/plays\n",
    "tracks_foll['ActiveEng'] = tracks_foll['CommentsCount']/tracks_foll['Plays']"
   ]
  },
  {
   "cell_type": "code",
   "execution_count": 194,
   "metadata": {},
   "outputs": [
    {
     "output_type": "stream",
     "name": "stdout",
     "text": [
      "<class 'pandas.core.frame.DataFrame'>\nInt64Index: 419 entries, 0 to 431\nData columns (total 15 columns):\n #   Column            Non-Null Count  Dtype  \n---  ------            --------------  -----  \n 0   ArtistName        419 non-null    object \n 1   Likes             419 non-null    int32  \n 2   CommentsCount     419 non-null    int32  \n 3   Shares            419 non-null    int32  \n 4   Plays             419 non-null    int32  \n 5   BPM               419 non-null    int32  \n 6   Key               419 non-null    object \n 7   Genre             419 non-null    object \n 8   Length            419 non-null    int64  \n 9   Feat              419 non-null    object \n 10  OriginalProducer  419 non-null    object \n 11  Label             419 non-null    object \n 12  Followers         419 non-null    int32  \n 13  TS                419 non-null    int64  \n 14  ActiveEng         419 non-null    float64\ndtypes: float64(1), int32(6), int64(2), object(6)\nmemory usage: 42.6+ KB\n"
     ]
    }
   ],
   "source": [
    "#dropping invalid rows (NaN and inf)\n",
    "# tracks_foll.replace(np.inf, np.nan)\n",
    "with pd.option_context('mode.use_inf_as_na', True):\n",
    "    tracks_foll = tracks_foll.dropna(axis=0, subset=['ActiveEng'])\n",
    "tracks_foll.info()\n",
    "\n",
    "# tracks_foll['ActiveEng'] = tracks_foll['ActiveEng'].astype(int)"
   ]
  },
  {
   "cell_type": "code",
   "execution_count": 197,
   "metadata": {},
   "outputs": [
    {
     "output_type": "execute_result",
     "data": {
      "text/plain": [
       "0.000759    2\n",
       "0.004184    2\n",
       "0.002041    2\n",
       "0.000371    1\n",
       "0.000645    1\n",
       "           ..\n",
       "0.006623    1\n",
       "0.001742    1\n",
       "0.000537    1\n",
       "0.000087    1\n",
       "0.000449    1\n",
       "Name: ActiveEng, Length: 326, dtype: int64"
      ]
     },
     "metadata": {},
     "execution_count": 197
    }
   ],
   "source": [
    "tracks_foll = tracks_foll[tracks_foll.ActiveEng != 0]\n",
    "tracks_foll['ActiveEng'].value_counts()"
   ]
  },
  {
   "cell_type": "code",
   "execution_count": 198,
   "metadata": {},
   "outputs": [
    {
     "output_type": "stream",
     "name": "stdout",
     "text": [
      "<class 'pandas.core.frame.DataFrame'>\nInt64Index: 329 entries, 0 to 431\nData columns (total 15 columns):\n #   Column            Non-Null Count  Dtype  \n---  ------            --------------  -----  \n 0   ArtistName        329 non-null    object \n 1   Likes             329 non-null    int32  \n 2   CommentsCount     329 non-null    int32  \n 3   Shares            329 non-null    int32  \n 4   Plays             329 non-null    int32  \n 5   BPM               329 non-null    int32  \n 6   Key               329 non-null    object \n 7   Genre             329 non-null    object \n 8   Length            329 non-null    int64  \n 9   Feat              329 non-null    object \n 10  OriginalProducer  329 non-null    object \n 11  Label             329 non-null    object \n 12  Followers         329 non-null    int32  \n 13  TS                329 non-null    int64  \n 14  ActiveEng         329 non-null    float64\ndtypes: float64(1), int32(6), int64(2), object(6)\nmemory usage: 33.4+ KB\n"
     ]
    }
   ],
   "source": [
    "tracks_foll.info()"
   ]
  },
  {
   "cell_type": "code",
   "execution_count": 199,
   "metadata": {},
   "outputs": [
    {
     "output_type": "execute_result",
     "data": {
      "text/plain": [
       "          ArtistName  Likes  CommentsCount  Shares    Plays  BPM     Key  \\\n",
       "0        Nina Kraviz    252              6      36     4941   78  B♭ min   \n",
       "2        Nina Kraviz   6523             90     923   203528  129   G min   \n",
       "3        Nina Kraviz  24023            277    3161   846079  129   A min   \n",
       "4        Nina Kraviz  38934            390    3946  1253565  120  G♭ min   \n",
       "5        Nina Kraviz  10185             79    1121  1405957  151   A min   \n",
       "..               ...    ...            ...     ...      ...  ...     ...   \n",
       "420         red axes     32              2       2      866  123   A maj   \n",
       "425  laurent garnier     13              1       0      904   98   D min   \n",
       "428  laurent garnier     16              1       1     2229  150   E min   \n",
       "430  laurent garnier     15              1       1     1867  132  G♯ maj   \n",
       "431  laurent garnier    233             15      33     5556  128   E maj   \n",
       "\n",
       "                              Genre  Length             Feat OriginalProducer  \\\n",
       "0      Techno (Peak Time / Driving)     479  Special Request      Nina Kraviz   \n",
       "2    Techno (Raw / Deep / Hypnotic)     431  Special Request      Nina Kraviz   \n",
       "3    Techno (Raw / Deep / Hypnotic)     392  Special Request      Nina Kraviz   \n",
       "4                        Tech House     224  Special Request      Nina Kraviz   \n",
       "5                        Deep House     500  Special Request      Nina Kraviz   \n",
       "..                              ...     ...              ...              ...   \n",
       "420                     Indie Dance     425  Insaac Students         Red Axes   \n",
       "425                     Electronica     263  Insaac Students  Laurent Garnier   \n",
       "428                           House     278  Insaac Students  Laurent Garnier   \n",
       "430                           House     516  Insaac Students  Laurent Garnier   \n",
       "431          Melodic House & Techno     660  Insaac Students  Laurent Garnier   \n",
       "\n",
       "                  Label  Followers                   TS  ActiveEng  \n",
       "0        Mixmag Records     412347  1606435200000000000   0.001214  \n",
       "2                  Trip     412347  1495023979000000000   0.000442  \n",
       "3                  Trip     412347  1418124721000000000   0.000327  \n",
       "4                Rekids     412347  1330546807000000000   0.000311  \n",
       "5                Rekids     412347  1330546762000000000   0.000056  \n",
       "..                  ...        ...                  ...        ...  \n",
       "420          K7 Records      48266  1611137427000000000   0.002309  \n",
       "425  BONNE PIOCHE MUSIC     268983  1601337600000000000   0.001106  \n",
       "428    F Communications     268983  1595548800000000000   0.000449  \n",
       "430    F Communications     268983  1595548800000000000   0.000536  \n",
       "431       Kompakt Extra     268983  1595548800000000000   0.002700  \n",
       "\n",
       "[329 rows x 15 columns]"
      ],
      "text/html": "<div>\n<style scoped>\n    .dataframe tbody tr th:only-of-type {\n        vertical-align: middle;\n    }\n\n    .dataframe tbody tr th {\n        vertical-align: top;\n    }\n\n    .dataframe thead th {\n        text-align: right;\n    }\n</style>\n<table border=\"1\" class=\"dataframe\">\n  <thead>\n    <tr style=\"text-align: right;\">\n      <th></th>\n      <th>ArtistName</th>\n      <th>Likes</th>\n      <th>CommentsCount</th>\n      <th>Shares</th>\n      <th>Plays</th>\n      <th>BPM</th>\n      <th>Key</th>\n      <th>Genre</th>\n      <th>Length</th>\n      <th>Feat</th>\n      <th>OriginalProducer</th>\n      <th>Label</th>\n      <th>Followers</th>\n      <th>TS</th>\n      <th>ActiveEng</th>\n    </tr>\n  </thead>\n  <tbody>\n    <tr>\n      <th>0</th>\n      <td>Nina Kraviz</td>\n      <td>252</td>\n      <td>6</td>\n      <td>36</td>\n      <td>4941</td>\n      <td>78</td>\n      <td>B♭ min</td>\n      <td>Techno (Peak Time / Driving)</td>\n      <td>479</td>\n      <td>Special Request</td>\n      <td>Nina Kraviz</td>\n      <td>Mixmag Records</td>\n      <td>412347</td>\n      <td>1606435200000000000</td>\n      <td>0.001214</td>\n    </tr>\n    <tr>\n      <th>2</th>\n      <td>Nina Kraviz</td>\n      <td>6523</td>\n      <td>90</td>\n      <td>923</td>\n      <td>203528</td>\n      <td>129</td>\n      <td>G min</td>\n      <td>Techno (Raw / Deep / Hypnotic)</td>\n      <td>431</td>\n      <td>Special Request</td>\n      <td>Nina Kraviz</td>\n      <td>Trip</td>\n      <td>412347</td>\n      <td>1495023979000000000</td>\n      <td>0.000442</td>\n    </tr>\n    <tr>\n      <th>3</th>\n      <td>Nina Kraviz</td>\n      <td>24023</td>\n      <td>277</td>\n      <td>3161</td>\n      <td>846079</td>\n      <td>129</td>\n      <td>A min</td>\n      <td>Techno (Raw / Deep / Hypnotic)</td>\n      <td>392</td>\n      <td>Special Request</td>\n      <td>Nina Kraviz</td>\n      <td>Trip</td>\n      <td>412347</td>\n      <td>1418124721000000000</td>\n      <td>0.000327</td>\n    </tr>\n    <tr>\n      <th>4</th>\n      <td>Nina Kraviz</td>\n      <td>38934</td>\n      <td>390</td>\n      <td>3946</td>\n      <td>1253565</td>\n      <td>120</td>\n      <td>G♭ min</td>\n      <td>Tech House</td>\n      <td>224</td>\n      <td>Special Request</td>\n      <td>Nina Kraviz</td>\n      <td>Rekids</td>\n      <td>412347</td>\n      <td>1330546807000000000</td>\n      <td>0.000311</td>\n    </tr>\n    <tr>\n      <th>5</th>\n      <td>Nina Kraviz</td>\n      <td>10185</td>\n      <td>79</td>\n      <td>1121</td>\n      <td>1405957</td>\n      <td>151</td>\n      <td>A min</td>\n      <td>Deep House</td>\n      <td>500</td>\n      <td>Special Request</td>\n      <td>Nina Kraviz</td>\n      <td>Rekids</td>\n      <td>412347</td>\n      <td>1330546762000000000</td>\n      <td>0.000056</td>\n    </tr>\n    <tr>\n      <th>...</th>\n      <td>...</td>\n      <td>...</td>\n      <td>...</td>\n      <td>...</td>\n      <td>...</td>\n      <td>...</td>\n      <td>...</td>\n      <td>...</td>\n      <td>...</td>\n      <td>...</td>\n      <td>...</td>\n      <td>...</td>\n      <td>...</td>\n      <td>...</td>\n      <td>...</td>\n    </tr>\n    <tr>\n      <th>420</th>\n      <td>red axes</td>\n      <td>32</td>\n      <td>2</td>\n      <td>2</td>\n      <td>866</td>\n      <td>123</td>\n      <td>A maj</td>\n      <td>Indie Dance</td>\n      <td>425</td>\n      <td>Insaac Students</td>\n      <td>Red Axes</td>\n      <td>K7 Records</td>\n      <td>48266</td>\n      <td>1611137427000000000</td>\n      <td>0.002309</td>\n    </tr>\n    <tr>\n      <th>425</th>\n      <td>laurent garnier</td>\n      <td>13</td>\n      <td>1</td>\n      <td>0</td>\n      <td>904</td>\n      <td>98</td>\n      <td>D min</td>\n      <td>Electronica</td>\n      <td>263</td>\n      <td>Insaac Students</td>\n      <td>Laurent Garnier</td>\n      <td>BONNE PIOCHE MUSIC</td>\n      <td>268983</td>\n      <td>1601337600000000000</td>\n      <td>0.001106</td>\n    </tr>\n    <tr>\n      <th>428</th>\n      <td>laurent garnier</td>\n      <td>16</td>\n      <td>1</td>\n      <td>1</td>\n      <td>2229</td>\n      <td>150</td>\n      <td>E min</td>\n      <td>House</td>\n      <td>278</td>\n      <td>Insaac Students</td>\n      <td>Laurent Garnier</td>\n      <td>F Communications</td>\n      <td>268983</td>\n      <td>1595548800000000000</td>\n      <td>0.000449</td>\n    </tr>\n    <tr>\n      <th>430</th>\n      <td>laurent garnier</td>\n      <td>15</td>\n      <td>1</td>\n      <td>1</td>\n      <td>1867</td>\n      <td>132</td>\n      <td>G♯ maj</td>\n      <td>House</td>\n      <td>516</td>\n      <td>Insaac Students</td>\n      <td>Laurent Garnier</td>\n      <td>F Communications</td>\n      <td>268983</td>\n      <td>1595548800000000000</td>\n      <td>0.000536</td>\n    </tr>\n    <tr>\n      <th>431</th>\n      <td>laurent garnier</td>\n      <td>233</td>\n      <td>15</td>\n      <td>33</td>\n      <td>5556</td>\n      <td>128</td>\n      <td>E maj</td>\n      <td>Melodic House &amp; Techno</td>\n      <td>660</td>\n      <td>Insaac Students</td>\n      <td>Laurent Garnier</td>\n      <td>Kompakt Extra</td>\n      <td>268983</td>\n      <td>1595548800000000000</td>\n      <td>0.002700</td>\n    </tr>\n  </tbody>\n</table>\n<p>329 rows × 15 columns</p>\n</div>"
     },
     "metadata": {},
     "execution_count": 199
    }
   ],
   "source": [
    "tracks_foll"
   ]
  },
  {
   "cell_type": "code",
   "execution_count": 200,
   "metadata": {},
   "outputs": [
    {
     "output_type": "display_data",
     "data": {
      "application/vnd.plotly.v1+json": {
       "config": {
        "plotlyServerURL": "https://plot.ly"
       },
       "data": [
        {
         "coloraxis": "coloraxis",
         "hovertemplate": "x: %{x}<br>y: %{y}<br>color: %{z}<extra></extra>",
         "name": "0",
         "type": "heatmap",
         "x": [
          "Likes",
          "CommentsCount",
          "Shares",
          "Plays",
          "BPM",
          "Length",
          "Followers",
          "TS",
          "ActiveEng"
         ],
         "xaxis": "x",
         "y": [
          "Likes",
          "CommentsCount",
          "Shares",
          "Plays",
          "BPM",
          "Length",
          "Followers",
          "TS",
          "ActiveEng"
         ],
         "yaxis": "y",
         "z": [
          [
           1,
           0.9185841031894185,
           0.9700214644785053,
           0.9272082050056893,
           -0.054849631388048256,
           0.0586624379001118,
           0.404258475087783,
           -0.22144346823426467,
           -0.16842635471059988
          ],
          [
           0.9185841031894185,
           1,
           0.9317755722126535,
           0.8463142207423988,
           -0.050210183603578755,
           0.10670105963605192,
           0.48475091582737495,
           -0.2181130476577495,
           -0.13292092575044778
          ],
          [
           0.9700214644785053,
           0.9317755722126535,
           1,
           0.8979044644884625,
           -0.07040731593675847,
           0.07954719269120451,
           0.45420962571986545,
           -0.21710919862044348,
           -0.15537925863307675
          ],
          [
           0.9272082050056893,
           0.8463142207423988,
           0.8979044644884625,
           1,
           -0.02491026867518118,
           0.06341953706823257,
           0.3896567024989229,
           -0.25422919844911446,
           -0.17451695464760625
          ],
          [
           -0.054849631388048256,
           -0.050210183603578755,
           -0.07040731593675847,
           -0.02491026867518118,
           1,
           -0.1565052161488483,
           -0.09177896583265026,
           0.09119375970803748,
           0.02058937381815112
          ],
          [
           0.0586624379001118,
           0.10670105963605192,
           0.07954719269120451,
           0.06341953706823257,
           -0.1565052161488483,
           1,
           0.03798353255751755,
           -0.04106195648373118,
           -0.07414618901169169
          ],
          [
           0.404258475087783,
           0.48475091582737495,
           0.45420962571986545,
           0.3896567024989229,
           -0.09177896583265026,
           0.03798353255751755,
           1,
           -0.048927279439963146,
           -0.19723777016614907
          ],
          [
           -0.22144346823426467,
           -0.2181130476577495,
           -0.21710919862044348,
           -0.25422919844911446,
           0.09119375970803748,
           -0.04106195648373118,
           -0.048927279439963146,
           1,
           0.16298691819423977
          ],
          [
           -0.16842635471059988,
           -0.13292092575044778,
           -0.15537925863307675,
           -0.17451695464760625,
           0.02058937381815112,
           -0.07414618901169169,
           -0.19723777016614907,
           0.16298691819423977,
           1
          ]
         ]
        }
       ],
       "layout": {
        "coloraxis": {
         "colorscale": [
          [
           0,
           "#0d0887"
          ],
          [
           0.1111111111111111,
           "#46039f"
          ],
          [
           0.2222222222222222,
           "#7201a8"
          ],
          [
           0.3333333333333333,
           "#9c179e"
          ],
          [
           0.4444444444444444,
           "#bd3786"
          ],
          [
           0.5555555555555556,
           "#d8576b"
          ],
          [
           0.6666666666666666,
           "#ed7953"
          ],
          [
           0.7777777777777778,
           "#fb9f3a"
          ],
          [
           0.8888888888888888,
           "#fdca26"
          ],
          [
           1,
           "#f0f921"
          ]
         ]
        },
        "margin": {
         "t": 60
        },
        "template": {
         "data": {
          "bar": [
           {
            "error_x": {
             "color": "#2a3f5f"
            },
            "error_y": {
             "color": "#2a3f5f"
            },
            "marker": {
             "line": {
              "color": "#E5ECF6",
              "width": 0.5
             }
            },
            "type": "bar"
           }
          ],
          "barpolar": [
           {
            "marker": {
             "line": {
              "color": "#E5ECF6",
              "width": 0.5
             }
            },
            "type": "barpolar"
           }
          ],
          "carpet": [
           {
            "aaxis": {
             "endlinecolor": "#2a3f5f",
             "gridcolor": "white",
             "linecolor": "white",
             "minorgridcolor": "white",
             "startlinecolor": "#2a3f5f"
            },
            "baxis": {
             "endlinecolor": "#2a3f5f",
             "gridcolor": "white",
             "linecolor": "white",
             "minorgridcolor": "white",
             "startlinecolor": "#2a3f5f"
            },
            "type": "carpet"
           }
          ],
          "choropleth": [
           {
            "colorbar": {
             "outlinewidth": 0,
             "ticks": ""
            },
            "type": "choropleth"
           }
          ],
          "contour": [
           {
            "colorbar": {
             "outlinewidth": 0,
             "ticks": ""
            },
            "colorscale": [
             [
              0,
              "#0d0887"
             ],
             [
              0.1111111111111111,
              "#46039f"
             ],
             [
              0.2222222222222222,
              "#7201a8"
             ],
             [
              0.3333333333333333,
              "#9c179e"
             ],
             [
              0.4444444444444444,
              "#bd3786"
             ],
             [
              0.5555555555555556,
              "#d8576b"
             ],
             [
              0.6666666666666666,
              "#ed7953"
             ],
             [
              0.7777777777777778,
              "#fb9f3a"
             ],
             [
              0.8888888888888888,
              "#fdca26"
             ],
             [
              1,
              "#f0f921"
             ]
            ],
            "type": "contour"
           }
          ],
          "contourcarpet": [
           {
            "colorbar": {
             "outlinewidth": 0,
             "ticks": ""
            },
            "type": "contourcarpet"
           }
          ],
          "heatmap": [
           {
            "colorbar": {
             "outlinewidth": 0,
             "ticks": ""
            },
            "colorscale": [
             [
              0,
              "#0d0887"
             ],
             [
              0.1111111111111111,
              "#46039f"
             ],
             [
              0.2222222222222222,
              "#7201a8"
             ],
             [
              0.3333333333333333,
              "#9c179e"
             ],
             [
              0.4444444444444444,
              "#bd3786"
             ],
             [
              0.5555555555555556,
              "#d8576b"
             ],
             [
              0.6666666666666666,
              "#ed7953"
             ],
             [
              0.7777777777777778,
              "#fb9f3a"
             ],
             [
              0.8888888888888888,
              "#fdca26"
             ],
             [
              1,
              "#f0f921"
             ]
            ],
            "type": "heatmap"
           }
          ],
          "heatmapgl": [
           {
            "colorbar": {
             "outlinewidth": 0,
             "ticks": ""
            },
            "colorscale": [
             [
              0,
              "#0d0887"
             ],
             [
              0.1111111111111111,
              "#46039f"
             ],
             [
              0.2222222222222222,
              "#7201a8"
             ],
             [
              0.3333333333333333,
              "#9c179e"
             ],
             [
              0.4444444444444444,
              "#bd3786"
             ],
             [
              0.5555555555555556,
              "#d8576b"
             ],
             [
              0.6666666666666666,
              "#ed7953"
             ],
             [
              0.7777777777777778,
              "#fb9f3a"
             ],
             [
              0.8888888888888888,
              "#fdca26"
             ],
             [
              1,
              "#f0f921"
             ]
            ],
            "type": "heatmapgl"
           }
          ],
          "histogram": [
           {
            "marker": {
             "colorbar": {
              "outlinewidth": 0,
              "ticks": ""
             }
            },
            "type": "histogram"
           }
          ],
          "histogram2d": [
           {
            "colorbar": {
             "outlinewidth": 0,
             "ticks": ""
            },
            "colorscale": [
             [
              0,
              "#0d0887"
             ],
             [
              0.1111111111111111,
              "#46039f"
             ],
             [
              0.2222222222222222,
              "#7201a8"
             ],
             [
              0.3333333333333333,
              "#9c179e"
             ],
             [
              0.4444444444444444,
              "#bd3786"
             ],
             [
              0.5555555555555556,
              "#d8576b"
             ],
             [
              0.6666666666666666,
              "#ed7953"
             ],
             [
              0.7777777777777778,
              "#fb9f3a"
             ],
             [
              0.8888888888888888,
              "#fdca26"
             ],
             [
              1,
              "#f0f921"
             ]
            ],
            "type": "histogram2d"
           }
          ],
          "histogram2dcontour": [
           {
            "colorbar": {
             "outlinewidth": 0,
             "ticks": ""
            },
            "colorscale": [
             [
              0,
              "#0d0887"
             ],
             [
              0.1111111111111111,
              "#46039f"
             ],
             [
              0.2222222222222222,
              "#7201a8"
             ],
             [
              0.3333333333333333,
              "#9c179e"
             ],
             [
              0.4444444444444444,
              "#bd3786"
             ],
             [
              0.5555555555555556,
              "#d8576b"
             ],
             [
              0.6666666666666666,
              "#ed7953"
             ],
             [
              0.7777777777777778,
              "#fb9f3a"
             ],
             [
              0.8888888888888888,
              "#fdca26"
             ],
             [
              1,
              "#f0f921"
             ]
            ],
            "type": "histogram2dcontour"
           }
          ],
          "mesh3d": [
           {
            "colorbar": {
             "outlinewidth": 0,
             "ticks": ""
            },
            "type": "mesh3d"
           }
          ],
          "parcoords": [
           {
            "line": {
             "colorbar": {
              "outlinewidth": 0,
              "ticks": ""
             }
            },
            "type": "parcoords"
           }
          ],
          "pie": [
           {
            "automargin": true,
            "type": "pie"
           }
          ],
          "scatter": [
           {
            "marker": {
             "colorbar": {
              "outlinewidth": 0,
              "ticks": ""
             }
            },
            "type": "scatter"
           }
          ],
          "scatter3d": [
           {
            "line": {
             "colorbar": {
              "outlinewidth": 0,
              "ticks": ""
             }
            },
            "marker": {
             "colorbar": {
              "outlinewidth": 0,
              "ticks": ""
             }
            },
            "type": "scatter3d"
           }
          ],
          "scattercarpet": [
           {
            "marker": {
             "colorbar": {
              "outlinewidth": 0,
              "ticks": ""
             }
            },
            "type": "scattercarpet"
           }
          ],
          "scattergeo": [
           {
            "marker": {
             "colorbar": {
              "outlinewidth": 0,
              "ticks": ""
             }
            },
            "type": "scattergeo"
           }
          ],
          "scattergl": [
           {
            "marker": {
             "colorbar": {
              "outlinewidth": 0,
              "ticks": ""
             }
            },
            "type": "scattergl"
           }
          ],
          "scattermapbox": [
           {
            "marker": {
             "colorbar": {
              "outlinewidth": 0,
              "ticks": ""
             }
            },
            "type": "scattermapbox"
           }
          ],
          "scatterpolar": [
           {
            "marker": {
             "colorbar": {
              "outlinewidth": 0,
              "ticks": ""
             }
            },
            "type": "scatterpolar"
           }
          ],
          "scatterpolargl": [
           {
            "marker": {
             "colorbar": {
              "outlinewidth": 0,
              "ticks": ""
             }
            },
            "type": "scatterpolargl"
           }
          ],
          "scatterternary": [
           {
            "marker": {
             "colorbar": {
              "outlinewidth": 0,
              "ticks": ""
             }
            },
            "type": "scatterternary"
           }
          ],
          "surface": [
           {
            "colorbar": {
             "outlinewidth": 0,
             "ticks": ""
            },
            "colorscale": [
             [
              0,
              "#0d0887"
             ],
             [
              0.1111111111111111,
              "#46039f"
             ],
             [
              0.2222222222222222,
              "#7201a8"
             ],
             [
              0.3333333333333333,
              "#9c179e"
             ],
             [
              0.4444444444444444,
              "#bd3786"
             ],
             [
              0.5555555555555556,
              "#d8576b"
             ],
             [
              0.6666666666666666,
              "#ed7953"
             ],
             [
              0.7777777777777778,
              "#fb9f3a"
             ],
             [
              0.8888888888888888,
              "#fdca26"
             ],
             [
              1,
              "#f0f921"
             ]
            ],
            "type": "surface"
           }
          ],
          "table": [
           {
            "cells": {
             "fill": {
              "color": "#EBF0F8"
             },
             "line": {
              "color": "white"
             }
            },
            "header": {
             "fill": {
              "color": "#C8D4E3"
             },
             "line": {
              "color": "white"
             }
            },
            "type": "table"
           }
          ]
         },
         "layout": {
          "annotationdefaults": {
           "arrowcolor": "#2a3f5f",
           "arrowhead": 0,
           "arrowwidth": 1
          },
          "autotypenumbers": "strict",
          "coloraxis": {
           "colorbar": {
            "outlinewidth": 0,
            "ticks": ""
           }
          },
          "colorscale": {
           "diverging": [
            [
             0,
             "#8e0152"
            ],
            [
             0.1,
             "#c51b7d"
            ],
            [
             0.2,
             "#de77ae"
            ],
            [
             0.3,
             "#f1b6da"
            ],
            [
             0.4,
             "#fde0ef"
            ],
            [
             0.5,
             "#f7f7f7"
            ],
            [
             0.6,
             "#e6f5d0"
            ],
            [
             0.7,
             "#b8e186"
            ],
            [
             0.8,
             "#7fbc41"
            ],
            [
             0.9,
             "#4d9221"
            ],
            [
             1,
             "#276419"
            ]
           ],
           "sequential": [
            [
             0,
             "#0d0887"
            ],
            [
             0.1111111111111111,
             "#46039f"
            ],
            [
             0.2222222222222222,
             "#7201a8"
            ],
            [
             0.3333333333333333,
             "#9c179e"
            ],
            [
             0.4444444444444444,
             "#bd3786"
            ],
            [
             0.5555555555555556,
             "#d8576b"
            ],
            [
             0.6666666666666666,
             "#ed7953"
            ],
            [
             0.7777777777777778,
             "#fb9f3a"
            ],
            [
             0.8888888888888888,
             "#fdca26"
            ],
            [
             1,
             "#f0f921"
            ]
           ],
           "sequentialminus": [
            [
             0,
             "#0d0887"
            ],
            [
             0.1111111111111111,
             "#46039f"
            ],
            [
             0.2222222222222222,
             "#7201a8"
            ],
            [
             0.3333333333333333,
             "#9c179e"
            ],
            [
             0.4444444444444444,
             "#bd3786"
            ],
            [
             0.5555555555555556,
             "#d8576b"
            ],
            [
             0.6666666666666666,
             "#ed7953"
            ],
            [
             0.7777777777777778,
             "#fb9f3a"
            ],
            [
             0.8888888888888888,
             "#fdca26"
            ],
            [
             1,
             "#f0f921"
            ]
           ]
          },
          "colorway": [
           "#636efa",
           "#EF553B",
           "#00cc96",
           "#ab63fa",
           "#FFA15A",
           "#19d3f3",
           "#FF6692",
           "#B6E880",
           "#FF97FF",
           "#FECB52"
          ],
          "font": {
           "color": "#2a3f5f"
          },
          "geo": {
           "bgcolor": "white",
           "lakecolor": "white",
           "landcolor": "#E5ECF6",
           "showlakes": true,
           "showland": true,
           "subunitcolor": "white"
          },
          "hoverlabel": {
           "align": "left"
          },
          "hovermode": "closest",
          "mapbox": {
           "style": "light"
          },
          "paper_bgcolor": "white",
          "plot_bgcolor": "#E5ECF6",
          "polar": {
           "angularaxis": {
            "gridcolor": "white",
            "linecolor": "white",
            "ticks": ""
           },
           "bgcolor": "#E5ECF6",
           "radialaxis": {
            "gridcolor": "white",
            "linecolor": "white",
            "ticks": ""
           }
          },
          "scene": {
           "xaxis": {
            "backgroundcolor": "#E5ECF6",
            "gridcolor": "white",
            "gridwidth": 2,
            "linecolor": "white",
            "showbackground": true,
            "ticks": "",
            "zerolinecolor": "white"
           },
           "yaxis": {
            "backgroundcolor": "#E5ECF6",
            "gridcolor": "white",
            "gridwidth": 2,
            "linecolor": "white",
            "showbackground": true,
            "ticks": "",
            "zerolinecolor": "white"
           },
           "zaxis": {
            "backgroundcolor": "#E5ECF6",
            "gridcolor": "white",
            "gridwidth": 2,
            "linecolor": "white",
            "showbackground": true,
            "ticks": "",
            "zerolinecolor": "white"
           }
          },
          "shapedefaults": {
           "line": {
            "color": "#2a3f5f"
           }
          },
          "ternary": {
           "aaxis": {
            "gridcolor": "white",
            "linecolor": "white",
            "ticks": ""
           },
           "baxis": {
            "gridcolor": "white",
            "linecolor": "white",
            "ticks": ""
           },
           "bgcolor": "#E5ECF6",
           "caxis": {
            "gridcolor": "white",
            "linecolor": "white",
            "ticks": ""
           }
          },
          "title": {
           "x": 0.05
          },
          "xaxis": {
           "automargin": true,
           "gridcolor": "white",
           "linecolor": "white",
           "ticks": "",
           "title": {
            "standoff": 15
           },
           "zerolinecolor": "white",
           "zerolinewidth": 2
          },
          "yaxis": {
           "automargin": true,
           "gridcolor": "white",
           "linecolor": "white",
           "ticks": "",
           "title": {
            "standoff": 15
           },
           "zerolinecolor": "white",
           "zerolinewidth": 2
          }
         }
        },
        "xaxis": {
         "anchor": "y",
         "constrain": "domain",
         "domain": [
          0,
          1
         ],
         "scaleanchor": "y"
        },
        "yaxis": {
         "anchor": "x",
         "autorange": "reversed",
         "constrain": "domain",
         "domain": [
          0,
          1
         ]
        }
       }
      }
     },
     "metadata": {}
    }
   ],
   "source": [
    "# visualising cross correlations of numerical values for potential collinearities\n",
    "import plotly.express as px\n",
    "px.imshow(tracks_foll.corr())"
   ]
  },
  {
   "cell_type": "code",
   "execution_count": 201,
   "metadata": {},
   "outputs": [
    {
     "output_type": "stream",
     "name": "stdout",
     "text": [
      "<class 'pandas.core.frame.DataFrame'>\nInt64Index: 329 entries, 0 to 431\nData columns (total 15 columns):\n #   Column            Non-Null Count  Dtype  \n---  ------            --------------  -----  \n 0   ArtistName        329 non-null    object \n 1   Likes             329 non-null    int32  \n 2   CommentsCount     329 non-null    int32  \n 3   Shares            329 non-null    int32  \n 4   Plays             329 non-null    int32  \n 5   BPM               329 non-null    int32  \n 6   Key               329 non-null    object \n 7   Genre             329 non-null    object \n 8   Length            329 non-null    int64  \n 9   Feat              329 non-null    object \n 10  OriginalProducer  329 non-null    object \n 11  Label             329 non-null    object \n 12  Followers         329 non-null    int32  \n 13  TS                329 non-null    int64  \n 14  ActiveEng         329 non-null    float64\ndtypes: float64(1), int32(6), int64(2), object(6)\nmemory usage: 33.4+ KB\n"
     ]
    }
   ],
   "source": [
    "tracks_foll.info()"
   ]
  },
  {
   "cell_type": "code",
   "execution_count": 202,
   "metadata": {},
   "outputs": [
    {
     "output_type": "execute_result",
     "data": {
      "text/plain": [
       "<AxesSubplot:>"
      ]
     },
     "metadata": {},
     "execution_count": 202
    },
    {
     "output_type": "display_data",
     "data": {
      "text/plain": "<Figure size 1800x720 with 2 Axes>",
      "image/svg+xml": "<?xml version=\"1.0\" encoding=\"utf-8\" standalone=\"no\"?>\r\n<!DOCTYPE svg PUBLIC \"-//W3C//DTD SVG 1.1//EN\"\r\n  \"http://www.w3.org/Graphics/SVG/1.1/DTD/svg11.dtd\">\r\n<!-- Created with matplotlib (https://matplotlib.org/) -->\r\n<svg height=\"681.803235pt\" version=\"1.1\" viewBox=\"0 0 1472.39 681.803235\" width=\"1472.39pt\" xmlns=\"http://www.w3.org/2000/svg\" xmlns:xlink=\"http://www.w3.org/1999/xlink\">\r\n <metadata>\r\n  <rdf:RDF xmlns:cc=\"http://creativecommons.org/ns#\" xmlns:dc=\"http://purl.org/dc/elements/1.1/\" xmlns:rdf=\"http://www.w3.org/1999/02/22-rdf-syntax-ns#\">\r\n   <cc:Work>\r\n    <dc:type rdf:resource=\"http://purl.org/dc/dcmitype/StillImage\"/>\r\n    <dc:date>2021-04-06T16:16:52.707868</dc:date>\r\n    <dc:format>image/svg+xml</dc:format>\r\n    <dc:creator>\r\n     <cc:Agent>\r\n      <dc:title>Matplotlib v3.3.4, https://matplotlib.org/</dc:title>\r\n     </cc:Agent>\r\n    </dc:creator>\r\n   </cc:Work>\r\n  </rdf:RDF>\r\n </metadata>\r\n <defs>\r\n  <style type=\"text/css\">*{stroke-linecap:butt;stroke-linejoin:round;}</style>\r\n </defs>\r\n <g id=\"figure_1\">\r\n  <g id=\"patch_1\">\r\n   <path d=\"M 0 681.803235 \r\nL 1472.39 681.803235 \r\nL 1472.39 0 \r\nL 0 0 \r\nz\r\n\" style=\"fill:none;\"/>\r\n  </g>\r\n  <g id=\"axes_1\">\r\n   <g id=\"patch_2\">\r\n    <path d=\"M 1363.540865 663.671563 \r\nL 1447.375 663.671563 \r\nL 1447.375 120.071563 \r\nL 1363.540865 120.071563 \r\nz\r\n\" style=\"fill:#ffffff;\"/>\r\n   </g>\r\n   <g id=\"matplotlib.axis_1\"/>\r\n   <g id=\"matplotlib.axis_2\"/>\r\n   <g id=\"line2d_1\">\r\n    <path clip-path=\"url(#p9ee737ea20)\" d=\"M 1405.457933 663.671563 \r\nL 1405.457933 120.071563 \r\nL 1405.457933 120.071563 \r\n\" style=\"fill:none;stroke:#404040;stroke-linecap:square;stroke-width:1.5;\"/>\r\n   </g>\r\n   <g id=\"line2d_2\">\r\n    <defs>\r\n     <path d=\"M 0 2.5 \r\nC 0.663008 2.5 1.29895 2.236584 1.767767 1.767767 \r\nC 2.236584 1.29895 2.5 0.663008 2.5 0 \r\nC 2.5 -0.663008 2.236584 -1.29895 1.767767 -1.767767 \r\nC 1.29895 -2.236584 0.663008 -2.5 0 -2.5 \r\nC -0.663008 -2.5 -1.29895 -2.236584 -1.767767 -1.767767 \r\nC -2.236584 -1.29895 -2.5 -0.663008 -2.5 0 \r\nC -2.5 0.663008 -2.236584 1.29895 -1.767767 1.767767 \r\nC -1.29895 2.236584 -0.663008 2.5 0 2.5 \r\nz\r\n\" id=\"m9046cc470e\" style=\"stroke:#404040;\"/>\r\n    </defs>\r\n    <g clip-path=\"url(#p9ee737ea20)\">\r\n     <use style=\"fill:#404040;stroke:#404040;\" x=\"1405.457933\" xlink:href=\"#m9046cc470e\" y=\"663.671563\"/>\r\n    </g>\r\n   </g>\r\n   <g id=\"line2d_3\">\r\n    <g clip-path=\"url(#p9ee737ea20)\">\r\n     <use style=\"fill:#404040;stroke:#404040;\" x=\"1405.457933\" xlink:href=\"#m9046cc470e\" y=\"663.671563\"/>\r\n    </g>\r\n   </g>\r\n   <g id=\"text_1\">\r\n    <!-- 15 -->\r\n    <g transform=\"translate(1447.375 667.534688)scale(0.14 -0.14)\">\r\n     <defs>\r\n      <path d=\"M 12.40625 8.296875 \r\nL 28.515625 8.296875 \r\nL 28.515625 63.921875 \r\nL 10.984375 60.40625 \r\nL 10.984375 69.390625 \r\nL 28.421875 72.90625 \r\nL 38.28125 72.90625 \r\nL 38.28125 8.296875 \r\nL 54.390625 8.296875 \r\nL 54.390625 0 \r\nL 12.40625 0 \r\nz\r\n\" id=\"DejaVuSans-49\"/>\r\n      <path d=\"M 10.796875 72.90625 \r\nL 49.515625 72.90625 \r\nL 49.515625 64.59375 \r\nL 19.828125 64.59375 \r\nL 19.828125 46.734375 \r\nQ 21.96875 47.46875 24.109375 47.828125 \r\nQ 26.265625 48.1875 28.421875 48.1875 \r\nQ 40.625 48.1875 47.75 41.5 \r\nQ 54.890625 34.8125 54.890625 23.390625 \r\nQ 54.890625 11.625 47.5625 5.09375 \r\nQ 40.234375 -1.421875 26.90625 -1.421875 \r\nQ 22.3125 -1.421875 17.546875 -0.640625 \r\nQ 12.796875 0.140625 7.71875 1.703125 \r\nL 7.71875 11.625 \r\nQ 12.109375 9.234375 16.796875 8.0625 \r\nQ 21.484375 6.890625 26.703125 6.890625 \r\nQ 35.15625 6.890625 40.078125 11.328125 \r\nQ 45.015625 15.765625 45.015625 23.390625 \r\nQ 45.015625 31 40.078125 35.4375 \r\nQ 35.15625 39.890625 26.703125 39.890625 \r\nQ 22.75 39.890625 18.8125 39.015625 \r\nQ 14.890625 38.140625 10.796875 36.28125 \r\nz\r\n\" id=\"DejaVuSans-53\"/>\r\n     </defs>\r\n     <use xlink:href=\"#DejaVuSans-49\"/>\r\n     <use x=\"63.623047\" xlink:href=\"#DejaVuSans-53\"/>\r\n    </g>\r\n   </g>\r\n   <g id=\"text_2\">\r\n    <!-- 15 -->\r\n    <g transform=\"translate(1345.725865 667.534688)scale(0.14 -0.14)\">\r\n     <use xlink:href=\"#DejaVuSans-49\"/>\r\n     <use x=\"63.623047\" xlink:href=\"#DejaVuSans-53\"/>\r\n    </g>\r\n   </g>\r\n  </g>\r\n  <g id=\"axes_2\">\r\n   <g id=\"patch_3\">\r\n    <path d=\"M 52.375 663.671563 \r\nL 1309.887019 663.671563 \r\nL 1309.887019 120.071563 \r\nL 52.375 120.071563 \r\nz\r\n\" style=\"fill:#ffffff;\"/>\r\n   </g>\r\n   <g clip-path=\"url(#pf5fbd0925f)\">\r\n    <image height=\"329\" id=\"image27d5637838\" style=\"image-rendering:crisp-edges;image-rendering:pixelated\" transform=\"matrix(83.866667 0 0 1.653495 52.375 119.671563)\" width=\"15\" xlink:href=\"data:image/png;base64,\r\niVBORw0KGgoAAAANSUhEUgAAAA8AAAFJCAYAAABEoHePAAAAXElEQVR4nO3LMREAMAgEMMDY+1dVPHDXLdnTSV4dzTXKsizLsizLsizLsizLsizLsizLsizLsizLsizLsizLsizLsizLsizLsizLsizLsizLsizLsizLsizLX/ICDcsETkQtrqsAAAAASUVORK5CYII=\"/>\r\n   </g>\r\n   <g id=\"matplotlib.axis_3\">\r\n    <g id=\"xtick_1\">\r\n     <g id=\"text_3\">\r\n      <!-- ArtistName -->\r\n      <g transform=\"translate(102.888718 110.718665)rotate(-45)scale(0.16 -0.16)\">\r\n       <defs>\r\n        <path d=\"M 34.1875 63.1875 \r\nL 20.796875 26.90625 \r\nL 47.609375 26.90625 \r\nz\r\nM 28.609375 72.90625 \r\nL 39.796875 72.90625 \r\nL 67.578125 0 \r\nL 57.328125 0 \r\nL 50.6875 18.703125 \r\nL 17.828125 18.703125 \r\nL 11.1875 0 \r\nL 0.78125 0 \r\nz\r\n\" id=\"DejaVuSans-65\"/>\r\n        <path d=\"M 41.109375 46.296875 \r\nQ 39.59375 47.171875 37.8125 47.578125 \r\nQ 36.03125 48 33.890625 48 \r\nQ 26.265625 48 22.1875 43.046875 \r\nQ 18.109375 38.09375 18.109375 28.8125 \r\nL 18.109375 0 \r\nL 9.078125 0 \r\nL 9.078125 54.6875 \r\nL 18.109375 54.6875 \r\nL 18.109375 46.1875 \r\nQ 20.953125 51.171875 25.484375 53.578125 \r\nQ 30.03125 56 36.53125 56 \r\nQ 37.453125 56 38.578125 55.875 \r\nQ 39.703125 55.765625 41.0625 55.515625 \r\nz\r\n\" id=\"DejaVuSans-114\"/>\r\n        <path d=\"M 18.3125 70.21875 \r\nL 18.3125 54.6875 \r\nL 36.8125 54.6875 \r\nL 36.8125 47.703125 \r\nL 18.3125 47.703125 \r\nL 18.3125 18.015625 \r\nQ 18.3125 11.328125 20.140625 9.421875 \r\nQ 21.96875 7.515625 27.59375 7.515625 \r\nL 36.8125 7.515625 \r\nL 36.8125 0 \r\nL 27.59375 0 \r\nQ 17.1875 0 13.234375 3.875 \r\nQ 9.28125 7.765625 9.28125 18.015625 \r\nL 9.28125 47.703125 \r\nL 2.6875 47.703125 \r\nL 2.6875 54.6875 \r\nL 9.28125 54.6875 \r\nL 9.28125 70.21875 \r\nz\r\n\" id=\"DejaVuSans-116\"/>\r\n        <path d=\"M 9.421875 54.6875 \r\nL 18.40625 54.6875 \r\nL 18.40625 0 \r\nL 9.421875 0 \r\nz\r\nM 9.421875 75.984375 \r\nL 18.40625 75.984375 \r\nL 18.40625 64.59375 \r\nL 9.421875 64.59375 \r\nz\r\n\" id=\"DejaVuSans-105\"/>\r\n        <path d=\"M 44.28125 53.078125 \r\nL 44.28125 44.578125 \r\nQ 40.484375 46.53125 36.375 47.5 \r\nQ 32.28125 48.484375 27.875 48.484375 \r\nQ 21.1875 48.484375 17.84375 46.4375 \r\nQ 14.5 44.390625 14.5 40.28125 \r\nQ 14.5 37.15625 16.890625 35.375 \r\nQ 19.28125 33.59375 26.515625 31.984375 \r\nL 29.59375 31.296875 \r\nQ 39.15625 29.25 43.1875 25.515625 \r\nQ 47.21875 21.78125 47.21875 15.09375 \r\nQ 47.21875 7.46875 41.1875 3.015625 \r\nQ 35.15625 -1.421875 24.609375 -1.421875 \r\nQ 20.21875 -1.421875 15.453125 -0.5625 \r\nQ 10.6875 0.296875 5.421875 2 \r\nL 5.421875 11.28125 \r\nQ 10.40625 8.6875 15.234375 7.390625 \r\nQ 20.0625 6.109375 24.8125 6.109375 \r\nQ 31.15625 6.109375 34.5625 8.28125 \r\nQ 37.984375 10.453125 37.984375 14.40625 \r\nQ 37.984375 18.0625 35.515625 20.015625 \r\nQ 33.0625 21.96875 24.703125 23.78125 \r\nL 21.578125 24.515625 \r\nQ 13.234375 26.265625 9.515625 29.90625 \r\nQ 5.8125 33.546875 5.8125 39.890625 \r\nQ 5.8125 47.609375 11.28125 51.796875 \r\nQ 16.75 56 26.8125 56 \r\nQ 31.78125 56 36.171875 55.265625 \r\nQ 40.578125 54.546875 44.28125 53.078125 \r\nz\r\n\" id=\"DejaVuSans-115\"/>\r\n        <path d=\"M 9.8125 72.90625 \r\nL 23.09375 72.90625 \r\nL 55.421875 11.921875 \r\nL 55.421875 72.90625 \r\nL 64.984375 72.90625 \r\nL 64.984375 0 \r\nL 51.703125 0 \r\nL 19.390625 60.984375 \r\nL 19.390625 0 \r\nL 9.8125 0 \r\nz\r\n\" id=\"DejaVuSans-78\"/>\r\n        <path d=\"M 34.28125 27.484375 \r\nQ 23.390625 27.484375 19.1875 25 \r\nQ 14.984375 22.515625 14.984375 16.5 \r\nQ 14.984375 11.71875 18.140625 8.90625 \r\nQ 21.296875 6.109375 26.703125 6.109375 \r\nQ 34.1875 6.109375 38.703125 11.40625 \r\nQ 43.21875 16.703125 43.21875 25.484375 \r\nL 43.21875 27.484375 \r\nz\r\nM 52.203125 31.203125 \r\nL 52.203125 0 \r\nL 43.21875 0 \r\nL 43.21875 8.296875 \r\nQ 40.140625 3.328125 35.546875 0.953125 \r\nQ 30.953125 -1.421875 24.3125 -1.421875 \r\nQ 15.921875 -1.421875 10.953125 3.296875 \r\nQ 6 8.015625 6 15.921875 \r\nQ 6 25.140625 12.171875 29.828125 \r\nQ 18.359375 34.515625 30.609375 34.515625 \r\nL 43.21875 34.515625 \r\nL 43.21875 35.40625 \r\nQ 43.21875 41.609375 39.140625 45 \r\nQ 35.0625 48.390625 27.6875 48.390625 \r\nQ 23 48.390625 18.546875 47.265625 \r\nQ 14.109375 46.140625 10.015625 43.890625 \r\nL 10.015625 52.203125 \r\nQ 14.9375 54.109375 19.578125 55.046875 \r\nQ 24.21875 56 28.609375 56 \r\nQ 40.484375 56 46.34375 49.84375 \r\nQ 52.203125 43.703125 52.203125 31.203125 \r\nz\r\n\" id=\"DejaVuSans-97\"/>\r\n        <path d=\"M 52 44.1875 \r\nQ 55.375 50.25 60.0625 53.125 \r\nQ 64.75 56 71.09375 56 \r\nQ 79.640625 56 84.28125 50.015625 \r\nQ 88.921875 44.046875 88.921875 33.015625 \r\nL 88.921875 0 \r\nL 79.890625 0 \r\nL 79.890625 32.71875 \r\nQ 79.890625 40.578125 77.09375 44.375 \r\nQ 74.3125 48.1875 68.609375 48.1875 \r\nQ 61.625 48.1875 57.5625 43.546875 \r\nQ 53.515625 38.921875 53.515625 30.90625 \r\nL 53.515625 0 \r\nL 44.484375 0 \r\nL 44.484375 32.71875 \r\nQ 44.484375 40.625 41.703125 44.40625 \r\nQ 38.921875 48.1875 33.109375 48.1875 \r\nQ 26.21875 48.1875 22.15625 43.53125 \r\nQ 18.109375 38.875 18.109375 30.90625 \r\nL 18.109375 0 \r\nL 9.078125 0 \r\nL 9.078125 54.6875 \r\nL 18.109375 54.6875 \r\nL 18.109375 46.1875 \r\nQ 21.1875 51.21875 25.484375 53.609375 \r\nQ 29.78125 56 35.6875 56 \r\nQ 41.65625 56 45.828125 52.96875 \r\nQ 50 49.953125 52 44.1875 \r\nz\r\n\" id=\"DejaVuSans-109\"/>\r\n        <path d=\"M 56.203125 29.59375 \r\nL 56.203125 25.203125 \r\nL 14.890625 25.203125 \r\nQ 15.484375 15.921875 20.484375 11.0625 \r\nQ 25.484375 6.203125 34.421875 6.203125 \r\nQ 39.59375 6.203125 44.453125 7.46875 \r\nQ 49.3125 8.734375 54.109375 11.28125 \r\nL 54.109375 2.78125 \r\nQ 49.265625 0.734375 44.1875 -0.34375 \r\nQ 39.109375 -1.421875 33.890625 -1.421875 \r\nQ 20.796875 -1.421875 13.15625 6.1875 \r\nQ 5.515625 13.8125 5.515625 26.8125 \r\nQ 5.515625 40.234375 12.765625 48.109375 \r\nQ 20.015625 56 32.328125 56 \r\nQ 43.359375 56 49.78125 48.890625 \r\nQ 56.203125 41.796875 56.203125 29.59375 \r\nz\r\nM 47.21875 32.234375 \r\nQ 47.125 39.59375 43.09375 43.984375 \r\nQ 39.0625 48.390625 32.421875 48.390625 \r\nQ 24.90625 48.390625 20.390625 44.140625 \r\nQ 15.875 39.890625 15.1875 32.171875 \r\nz\r\n\" id=\"DejaVuSans-101\"/>\r\n       </defs>\r\n       <use xlink:href=\"#DejaVuSans-65\"/>\r\n       <use x=\"68.408203\" xlink:href=\"#DejaVuSans-114\"/>\r\n       <use x=\"109.521484\" xlink:href=\"#DejaVuSans-116\"/>\r\n       <use x=\"148.730469\" xlink:href=\"#DejaVuSans-105\"/>\r\n       <use x=\"176.513672\" xlink:href=\"#DejaVuSans-115\"/>\r\n       <use x=\"228.613281\" xlink:href=\"#DejaVuSans-116\"/>\r\n       <use x=\"267.822266\" xlink:href=\"#DejaVuSans-78\"/>\r\n       <use x=\"342.626953\" xlink:href=\"#DejaVuSans-97\"/>\r\n       <use x=\"403.90625\" xlink:href=\"#DejaVuSans-109\"/>\r\n       <use x=\"501.318359\" xlink:href=\"#DejaVuSans-101\"/>\r\n      </g>\r\n     </g>\r\n    </g>\r\n    <g id=\"xtick_2\">\r\n     <g id=\"text_4\">\r\n      <!-- Likes -->\r\n      <g transform=\"translate(186.722853 110.718665)rotate(-45)scale(0.16 -0.16)\">\r\n       <defs>\r\n        <path d=\"M 9.8125 72.90625 \r\nL 19.671875 72.90625 \r\nL 19.671875 8.296875 \r\nL 55.171875 8.296875 \r\nL 55.171875 0 \r\nL 9.8125 0 \r\nz\r\n\" id=\"DejaVuSans-76\"/>\r\n        <path d=\"M 9.078125 75.984375 \r\nL 18.109375 75.984375 \r\nL 18.109375 31.109375 \r\nL 44.921875 54.6875 \r\nL 56.390625 54.6875 \r\nL 27.390625 29.109375 \r\nL 57.625 0 \r\nL 45.90625 0 \r\nL 18.109375 26.703125 \r\nL 18.109375 0 \r\nL 9.078125 0 \r\nz\r\n\" id=\"DejaVuSans-107\"/>\r\n       </defs>\r\n       <use xlink:href=\"#DejaVuSans-76\"/>\r\n       <use x=\"55.712891\" xlink:href=\"#DejaVuSans-105\"/>\r\n       <use x=\"83.496094\" xlink:href=\"#DejaVuSans-107\"/>\r\n       <use x=\"137.78125\" xlink:href=\"#DejaVuSans-101\"/>\r\n       <use x=\"199.304688\" xlink:href=\"#DejaVuSans-115\"/>\r\n      </g>\r\n     </g>\r\n    </g>\r\n    <g id=\"xtick_3\">\r\n     <g id=\"text_5\">\r\n      <!-- CommentsCount -->\r\n      <g transform=\"translate(270.556987 110.718665)rotate(-45)scale(0.16 -0.16)\">\r\n       <defs>\r\n        <path d=\"M 64.40625 67.28125 \r\nL 64.40625 56.890625 \r\nQ 59.421875 61.53125 53.78125 63.8125 \r\nQ 48.140625 66.109375 41.796875 66.109375 \r\nQ 29.296875 66.109375 22.65625 58.46875 \r\nQ 16.015625 50.828125 16.015625 36.375 \r\nQ 16.015625 21.96875 22.65625 14.328125 \r\nQ 29.296875 6.6875 41.796875 6.6875 \r\nQ 48.140625 6.6875 53.78125 8.984375 \r\nQ 59.421875 11.28125 64.40625 15.921875 \r\nL 64.40625 5.609375 \r\nQ 59.234375 2.09375 53.4375 0.328125 \r\nQ 47.65625 -1.421875 41.21875 -1.421875 \r\nQ 24.65625 -1.421875 15.125 8.703125 \r\nQ 5.609375 18.84375 5.609375 36.375 \r\nQ 5.609375 53.953125 15.125 64.078125 \r\nQ 24.65625 74.21875 41.21875 74.21875 \r\nQ 47.75 74.21875 53.53125 72.484375 \r\nQ 59.328125 70.75 64.40625 67.28125 \r\nz\r\n\" id=\"DejaVuSans-67\"/>\r\n        <path d=\"M 30.609375 48.390625 \r\nQ 23.390625 48.390625 19.1875 42.75 \r\nQ 14.984375 37.109375 14.984375 27.296875 \r\nQ 14.984375 17.484375 19.15625 11.84375 \r\nQ 23.34375 6.203125 30.609375 6.203125 \r\nQ 37.796875 6.203125 41.984375 11.859375 \r\nQ 46.1875 17.53125 46.1875 27.296875 \r\nQ 46.1875 37.015625 41.984375 42.703125 \r\nQ 37.796875 48.390625 30.609375 48.390625 \r\nz\r\nM 30.609375 56 \r\nQ 42.328125 56 49.015625 48.375 \r\nQ 55.71875 40.765625 55.71875 27.296875 \r\nQ 55.71875 13.875 49.015625 6.21875 \r\nQ 42.328125 -1.421875 30.609375 -1.421875 \r\nQ 18.84375 -1.421875 12.171875 6.21875 \r\nQ 5.515625 13.875 5.515625 27.296875 \r\nQ 5.515625 40.765625 12.171875 48.375 \r\nQ 18.84375 56 30.609375 56 \r\nz\r\n\" id=\"DejaVuSans-111\"/>\r\n        <path d=\"M 54.890625 33.015625 \r\nL 54.890625 0 \r\nL 45.90625 0 \r\nL 45.90625 32.71875 \r\nQ 45.90625 40.484375 42.875 44.328125 \r\nQ 39.84375 48.1875 33.796875 48.1875 \r\nQ 26.515625 48.1875 22.3125 43.546875 \r\nQ 18.109375 38.921875 18.109375 30.90625 \r\nL 18.109375 0 \r\nL 9.078125 0 \r\nL 9.078125 54.6875 \r\nL 18.109375 54.6875 \r\nL 18.109375 46.1875 \r\nQ 21.34375 51.125 25.703125 53.5625 \r\nQ 30.078125 56 35.796875 56 \r\nQ 45.21875 56 50.046875 50.171875 \r\nQ 54.890625 44.34375 54.890625 33.015625 \r\nz\r\n\" id=\"DejaVuSans-110\"/>\r\n        <path d=\"M 8.5 21.578125 \r\nL 8.5 54.6875 \r\nL 17.484375 54.6875 \r\nL 17.484375 21.921875 \r\nQ 17.484375 14.15625 20.5 10.265625 \r\nQ 23.53125 6.390625 29.59375 6.390625 \r\nQ 36.859375 6.390625 41.078125 11.03125 \r\nQ 45.3125 15.671875 45.3125 23.6875 \r\nL 45.3125 54.6875 \r\nL 54.296875 54.6875 \r\nL 54.296875 0 \r\nL 45.3125 0 \r\nL 45.3125 8.40625 \r\nQ 42.046875 3.421875 37.71875 1 \r\nQ 33.40625 -1.421875 27.6875 -1.421875 \r\nQ 18.265625 -1.421875 13.375 4.4375 \r\nQ 8.5 10.296875 8.5 21.578125 \r\nz\r\nM 31.109375 56 \r\nz\r\n\" id=\"DejaVuSans-117\"/>\r\n       </defs>\r\n       <use xlink:href=\"#DejaVuSans-67\"/>\r\n       <use x=\"69.824219\" xlink:href=\"#DejaVuSans-111\"/>\r\n       <use x=\"131.005859\" xlink:href=\"#DejaVuSans-109\"/>\r\n       <use x=\"228.417969\" xlink:href=\"#DejaVuSans-109\"/>\r\n       <use x=\"325.830078\" xlink:href=\"#DejaVuSans-101\"/>\r\n       <use x=\"387.353516\" xlink:href=\"#DejaVuSans-110\"/>\r\n       <use x=\"450.732422\" xlink:href=\"#DejaVuSans-116\"/>\r\n       <use x=\"489.941406\" xlink:href=\"#DejaVuSans-115\"/>\r\n       <use x=\"542.041016\" xlink:href=\"#DejaVuSans-67\"/>\r\n       <use x=\"611.865234\" xlink:href=\"#DejaVuSans-111\"/>\r\n       <use x=\"673.046875\" xlink:href=\"#DejaVuSans-117\"/>\r\n       <use x=\"736.425781\" xlink:href=\"#DejaVuSans-110\"/>\r\n       <use x=\"799.804688\" xlink:href=\"#DejaVuSans-116\"/>\r\n      </g>\r\n     </g>\r\n    </g>\r\n    <g id=\"xtick_4\">\r\n     <g id=\"text_6\">\r\n      <!-- Shares -->\r\n      <g transform=\"translate(354.391122 110.718665)rotate(-45)scale(0.16 -0.16)\">\r\n       <defs>\r\n        <path d=\"M 53.515625 70.515625 \r\nL 53.515625 60.890625 \r\nQ 47.90625 63.578125 42.921875 64.890625 \r\nQ 37.9375 66.21875 33.296875 66.21875 \r\nQ 25.25 66.21875 20.875 63.09375 \r\nQ 16.5 59.96875 16.5 54.203125 \r\nQ 16.5 49.359375 19.40625 46.890625 \r\nQ 22.3125 44.4375 30.421875 42.921875 \r\nL 36.375 41.703125 \r\nQ 47.40625 39.59375 52.65625 34.296875 \r\nQ 57.90625 29 57.90625 20.125 \r\nQ 57.90625 9.515625 50.796875 4.046875 \r\nQ 43.703125 -1.421875 29.984375 -1.421875 \r\nQ 24.8125 -1.421875 18.96875 -0.25 \r\nQ 13.140625 0.921875 6.890625 3.21875 \r\nL 6.890625 13.375 \r\nQ 12.890625 10.015625 18.65625 8.296875 \r\nQ 24.421875 6.59375 29.984375 6.59375 \r\nQ 38.421875 6.59375 43.015625 9.90625 \r\nQ 47.609375 13.234375 47.609375 19.390625 \r\nQ 47.609375 24.75 44.3125 27.78125 \r\nQ 41.015625 30.8125 33.5 32.328125 \r\nL 27.484375 33.5 \r\nQ 16.453125 35.6875 11.515625 40.375 \r\nQ 6.59375 45.0625 6.59375 53.421875 \r\nQ 6.59375 63.09375 13.40625 68.65625 \r\nQ 20.21875 74.21875 32.171875 74.21875 \r\nQ 37.3125 74.21875 42.625 73.28125 \r\nQ 47.953125 72.359375 53.515625 70.515625 \r\nz\r\n\" id=\"DejaVuSans-83\"/>\r\n        <path d=\"M 54.890625 33.015625 \r\nL 54.890625 0 \r\nL 45.90625 0 \r\nL 45.90625 32.71875 \r\nQ 45.90625 40.484375 42.875 44.328125 \r\nQ 39.84375 48.1875 33.796875 48.1875 \r\nQ 26.515625 48.1875 22.3125 43.546875 \r\nQ 18.109375 38.921875 18.109375 30.90625 \r\nL 18.109375 0 \r\nL 9.078125 0 \r\nL 9.078125 75.984375 \r\nL 18.109375 75.984375 \r\nL 18.109375 46.1875 \r\nQ 21.34375 51.125 25.703125 53.5625 \r\nQ 30.078125 56 35.796875 56 \r\nQ 45.21875 56 50.046875 50.171875 \r\nQ 54.890625 44.34375 54.890625 33.015625 \r\nz\r\n\" id=\"DejaVuSans-104\"/>\r\n       </defs>\r\n       <use xlink:href=\"#DejaVuSans-83\"/>\r\n       <use x=\"63.476562\" xlink:href=\"#DejaVuSans-104\"/>\r\n       <use x=\"126.855469\" xlink:href=\"#DejaVuSans-97\"/>\r\n       <use x=\"188.134766\" xlink:href=\"#DejaVuSans-114\"/>\r\n       <use x=\"226.998047\" xlink:href=\"#DejaVuSans-101\"/>\r\n       <use x=\"288.521484\" xlink:href=\"#DejaVuSans-115\"/>\r\n      </g>\r\n     </g>\r\n    </g>\r\n    <g id=\"xtick_5\">\r\n     <g id=\"text_7\">\r\n      <!-- Plays -->\r\n      <g transform=\"translate(438.225256 110.718665)rotate(-45)scale(0.16 -0.16)\">\r\n       <defs>\r\n        <path d=\"M 19.671875 64.796875 \r\nL 19.671875 37.40625 \r\nL 32.078125 37.40625 \r\nQ 38.96875 37.40625 42.71875 40.96875 \r\nQ 46.484375 44.53125 46.484375 51.125 \r\nQ 46.484375 57.671875 42.71875 61.234375 \r\nQ 38.96875 64.796875 32.078125 64.796875 \r\nz\r\nM 9.8125 72.90625 \r\nL 32.078125 72.90625 \r\nQ 44.34375 72.90625 50.609375 67.359375 \r\nQ 56.890625 61.8125 56.890625 51.125 \r\nQ 56.890625 40.328125 50.609375 34.8125 \r\nQ 44.34375 29.296875 32.078125 29.296875 \r\nL 19.671875 29.296875 \r\nL 19.671875 0 \r\nL 9.8125 0 \r\nz\r\n\" id=\"DejaVuSans-80\"/>\r\n        <path d=\"M 9.421875 75.984375 \r\nL 18.40625 75.984375 \r\nL 18.40625 0 \r\nL 9.421875 0 \r\nz\r\n\" id=\"DejaVuSans-108\"/>\r\n        <path d=\"M 32.171875 -5.078125 \r\nQ 28.375 -14.84375 24.75 -17.8125 \r\nQ 21.140625 -20.796875 15.09375 -20.796875 \r\nL 7.90625 -20.796875 \r\nL 7.90625 -13.28125 \r\nL 13.1875 -13.28125 \r\nQ 16.890625 -13.28125 18.9375 -11.515625 \r\nQ 21 -9.765625 23.484375 -3.21875 \r\nL 25.09375 0.875 \r\nL 2.984375 54.6875 \r\nL 12.5 54.6875 \r\nL 29.59375 11.921875 \r\nL 46.6875 54.6875 \r\nL 56.203125 54.6875 \r\nz\r\n\" id=\"DejaVuSans-121\"/>\r\n       </defs>\r\n       <use xlink:href=\"#DejaVuSans-80\"/>\r\n       <use x=\"60.302734\" xlink:href=\"#DejaVuSans-108\"/>\r\n       <use x=\"88.085938\" xlink:href=\"#DejaVuSans-97\"/>\r\n       <use x=\"149.365234\" xlink:href=\"#DejaVuSans-121\"/>\r\n       <use x=\"208.544922\" xlink:href=\"#DejaVuSans-115\"/>\r\n      </g>\r\n     </g>\r\n    </g>\r\n    <g id=\"xtick_6\">\r\n     <g id=\"text_8\">\r\n      <!-- BPM -->\r\n      <g transform=\"translate(522.059391 110.718665)rotate(-45)scale(0.16 -0.16)\">\r\n       <defs>\r\n        <path d=\"M 19.671875 34.8125 \r\nL 19.671875 8.109375 \r\nL 35.5 8.109375 \r\nQ 43.453125 8.109375 47.28125 11.40625 \r\nQ 51.125 14.703125 51.125 21.484375 \r\nQ 51.125 28.328125 47.28125 31.5625 \r\nQ 43.453125 34.8125 35.5 34.8125 \r\nz\r\nM 19.671875 64.796875 \r\nL 19.671875 42.828125 \r\nL 34.28125 42.828125 \r\nQ 41.5 42.828125 45.03125 45.53125 \r\nQ 48.578125 48.25 48.578125 53.8125 \r\nQ 48.578125 59.328125 45.03125 62.0625 \r\nQ 41.5 64.796875 34.28125 64.796875 \r\nz\r\nM 9.8125 72.90625 \r\nL 35.015625 72.90625 \r\nQ 46.296875 72.90625 52.390625 68.21875 \r\nQ 58.5 63.53125 58.5 54.890625 \r\nQ 58.5 48.1875 55.375 44.234375 \r\nQ 52.25 40.28125 46.1875 39.3125 \r\nQ 53.46875 37.75 57.5 32.78125 \r\nQ 61.53125 27.828125 61.53125 20.40625 \r\nQ 61.53125 10.640625 54.890625 5.3125 \r\nQ 48.25 0 35.984375 0 \r\nL 9.8125 0 \r\nz\r\n\" id=\"DejaVuSans-66\"/>\r\n        <path d=\"M 9.8125 72.90625 \r\nL 24.515625 72.90625 \r\nL 43.109375 23.296875 \r\nL 61.8125 72.90625 \r\nL 76.515625 72.90625 \r\nL 76.515625 0 \r\nL 66.890625 0 \r\nL 66.890625 64.015625 \r\nL 48.09375 14.015625 \r\nL 38.1875 14.015625 \r\nL 19.390625 64.015625 \r\nL 19.390625 0 \r\nL 9.8125 0 \r\nz\r\n\" id=\"DejaVuSans-77\"/>\r\n       </defs>\r\n       <use xlink:href=\"#DejaVuSans-66\"/>\r\n       <use x=\"68.603516\" xlink:href=\"#DejaVuSans-80\"/>\r\n       <use x=\"128.90625\" xlink:href=\"#DejaVuSans-77\"/>\r\n      </g>\r\n     </g>\r\n    </g>\r\n    <g id=\"xtick_7\">\r\n     <g id=\"text_9\">\r\n      <!-- Key -->\r\n      <g transform=\"translate(605.893526 110.718665)rotate(-45)scale(0.16 -0.16)\">\r\n       <defs>\r\n        <path d=\"M 9.8125 72.90625 \r\nL 19.671875 72.90625 \r\nL 19.671875 42.09375 \r\nL 52.390625 72.90625 \r\nL 65.09375 72.90625 \r\nL 28.90625 38.921875 \r\nL 67.671875 0 \r\nL 54.6875 0 \r\nL 19.671875 35.109375 \r\nL 19.671875 0 \r\nL 9.8125 0 \r\nz\r\n\" id=\"DejaVuSans-75\"/>\r\n       </defs>\r\n       <use xlink:href=\"#DejaVuSans-75\"/>\r\n       <use x=\"60.576172\" xlink:href=\"#DejaVuSans-101\"/>\r\n       <use x=\"122.099609\" xlink:href=\"#DejaVuSans-121\"/>\r\n      </g>\r\n     </g>\r\n    </g>\r\n    <g id=\"xtick_8\">\r\n     <g id=\"text_10\">\r\n      <!-- Genre -->\r\n      <g transform=\"translate(689.72766 110.718665)rotate(-45)scale(0.16 -0.16)\">\r\n       <defs>\r\n        <path d=\"M 59.515625 10.40625 \r\nL 59.515625 29.984375 \r\nL 43.40625 29.984375 \r\nL 43.40625 38.09375 \r\nL 69.28125 38.09375 \r\nL 69.28125 6.78125 \r\nQ 63.578125 2.734375 56.6875 0.65625 \r\nQ 49.8125 -1.421875 42 -1.421875 \r\nQ 24.90625 -1.421875 15.25 8.5625 \r\nQ 5.609375 18.5625 5.609375 36.375 \r\nQ 5.609375 54.25 15.25 64.234375 \r\nQ 24.90625 74.21875 42 74.21875 \r\nQ 49.125 74.21875 55.546875 72.453125 \r\nQ 61.96875 70.703125 67.390625 67.28125 \r\nL 67.390625 56.78125 \r\nQ 61.921875 61.421875 55.765625 63.765625 \r\nQ 49.609375 66.109375 42.828125 66.109375 \r\nQ 29.4375 66.109375 22.71875 58.640625 \r\nQ 16.015625 51.171875 16.015625 36.375 \r\nQ 16.015625 21.625 22.71875 14.15625 \r\nQ 29.4375 6.6875 42.828125 6.6875 \r\nQ 48.046875 6.6875 52.140625 7.59375 \r\nQ 56.25 8.5 59.515625 10.40625 \r\nz\r\n\" id=\"DejaVuSans-71\"/>\r\n       </defs>\r\n       <use xlink:href=\"#DejaVuSans-71\"/>\r\n       <use x=\"77.490234\" xlink:href=\"#DejaVuSans-101\"/>\r\n       <use x=\"139.013672\" xlink:href=\"#DejaVuSans-110\"/>\r\n       <use x=\"202.392578\" xlink:href=\"#DejaVuSans-114\"/>\r\n       <use x=\"241.255859\" xlink:href=\"#DejaVuSans-101\"/>\r\n      </g>\r\n     </g>\r\n    </g>\r\n    <g id=\"xtick_9\">\r\n     <g id=\"text_11\">\r\n      <!-- Length -->\r\n      <g transform=\"translate(773.561795 110.718665)rotate(-45)scale(0.16 -0.16)\">\r\n       <defs>\r\n        <path d=\"M 45.40625 27.984375 \r\nQ 45.40625 37.75 41.375 43.109375 \r\nQ 37.359375 48.484375 30.078125 48.484375 \r\nQ 22.859375 48.484375 18.828125 43.109375 \r\nQ 14.796875 37.75 14.796875 27.984375 \r\nQ 14.796875 18.265625 18.828125 12.890625 \r\nQ 22.859375 7.515625 30.078125 7.515625 \r\nQ 37.359375 7.515625 41.375 12.890625 \r\nQ 45.40625 18.265625 45.40625 27.984375 \r\nz\r\nM 54.390625 6.78125 \r\nQ 54.390625 -7.171875 48.1875 -13.984375 \r\nQ 42 -20.796875 29.203125 -20.796875 \r\nQ 24.46875 -20.796875 20.265625 -20.09375 \r\nQ 16.0625 -19.390625 12.109375 -17.921875 \r\nL 12.109375 -9.1875 \r\nQ 16.0625 -11.328125 19.921875 -12.34375 \r\nQ 23.78125 -13.375 27.78125 -13.375 \r\nQ 36.625 -13.375 41.015625 -8.765625 \r\nQ 45.40625 -4.15625 45.40625 5.171875 \r\nL 45.40625 9.625 \r\nQ 42.625 4.78125 38.28125 2.390625 \r\nQ 33.9375 0 27.875 0 \r\nQ 17.828125 0 11.671875 7.65625 \r\nQ 5.515625 15.328125 5.515625 27.984375 \r\nQ 5.515625 40.671875 11.671875 48.328125 \r\nQ 17.828125 56 27.875 56 \r\nQ 33.9375 56 38.28125 53.609375 \r\nQ 42.625 51.21875 45.40625 46.390625 \r\nL 45.40625 54.6875 \r\nL 54.390625 54.6875 \r\nz\r\n\" id=\"DejaVuSans-103\"/>\r\n       </defs>\r\n       <use xlink:href=\"#DejaVuSans-76\"/>\r\n       <use x=\"53.962891\" xlink:href=\"#DejaVuSans-101\"/>\r\n       <use x=\"115.486328\" xlink:href=\"#DejaVuSans-110\"/>\r\n       <use x=\"178.865234\" xlink:href=\"#DejaVuSans-103\"/>\r\n       <use x=\"242.341797\" xlink:href=\"#DejaVuSans-116\"/>\r\n       <use x=\"281.550781\" xlink:href=\"#DejaVuSans-104\"/>\r\n      </g>\r\n     </g>\r\n    </g>\r\n    <g id=\"xtick_10\">\r\n     <g id=\"text_12\">\r\n      <!-- Feat -->\r\n      <g transform=\"translate(857.39593 110.718665)rotate(-45)scale(0.16 -0.16)\">\r\n       <defs>\r\n        <path d=\"M 9.8125 72.90625 \r\nL 51.703125 72.90625 \r\nL 51.703125 64.59375 \r\nL 19.671875 64.59375 \r\nL 19.671875 43.109375 \r\nL 48.578125 43.109375 \r\nL 48.578125 34.8125 \r\nL 19.671875 34.8125 \r\nL 19.671875 0 \r\nL 9.8125 0 \r\nz\r\n\" id=\"DejaVuSans-70\"/>\r\n       </defs>\r\n       <use xlink:href=\"#DejaVuSans-70\"/>\r\n       <use x=\"52.019531\" xlink:href=\"#DejaVuSans-101\"/>\r\n       <use x=\"113.542969\" xlink:href=\"#DejaVuSans-97\"/>\r\n       <use x=\"174.822266\" xlink:href=\"#DejaVuSans-116\"/>\r\n      </g>\r\n     </g>\r\n    </g>\r\n    <g id=\"xtick_11\">\r\n     <g id=\"text_13\">\r\n      <!-- OriginalProducer -->\r\n      <g transform=\"translate(941.230064 110.718665)rotate(-45)scale(0.16 -0.16)\">\r\n       <defs>\r\n        <path d=\"M 39.40625 66.21875 \r\nQ 28.65625 66.21875 22.328125 58.203125 \r\nQ 16.015625 50.203125 16.015625 36.375 \r\nQ 16.015625 22.609375 22.328125 14.59375 \r\nQ 28.65625 6.59375 39.40625 6.59375 \r\nQ 50.140625 6.59375 56.421875 14.59375 \r\nQ 62.703125 22.609375 62.703125 36.375 \r\nQ 62.703125 50.203125 56.421875 58.203125 \r\nQ 50.140625 66.21875 39.40625 66.21875 \r\nz\r\nM 39.40625 74.21875 \r\nQ 54.734375 74.21875 63.90625 63.9375 \r\nQ 73.09375 53.65625 73.09375 36.375 \r\nQ 73.09375 19.140625 63.90625 8.859375 \r\nQ 54.734375 -1.421875 39.40625 -1.421875 \r\nQ 24.03125 -1.421875 14.8125 8.828125 \r\nQ 5.609375 19.09375 5.609375 36.375 \r\nQ 5.609375 53.65625 14.8125 63.9375 \r\nQ 24.03125 74.21875 39.40625 74.21875 \r\nz\r\n\" id=\"DejaVuSans-79\"/>\r\n        <path d=\"M 45.40625 46.390625 \r\nL 45.40625 75.984375 \r\nL 54.390625 75.984375 \r\nL 54.390625 0 \r\nL 45.40625 0 \r\nL 45.40625 8.203125 \r\nQ 42.578125 3.328125 38.25 0.953125 \r\nQ 33.9375 -1.421875 27.875 -1.421875 \r\nQ 17.96875 -1.421875 11.734375 6.484375 \r\nQ 5.515625 14.40625 5.515625 27.296875 \r\nQ 5.515625 40.1875 11.734375 48.09375 \r\nQ 17.96875 56 27.875 56 \r\nQ 33.9375 56 38.25 53.625 \r\nQ 42.578125 51.265625 45.40625 46.390625 \r\nz\r\nM 14.796875 27.296875 \r\nQ 14.796875 17.390625 18.875 11.75 \r\nQ 22.953125 6.109375 30.078125 6.109375 \r\nQ 37.203125 6.109375 41.296875 11.75 \r\nQ 45.40625 17.390625 45.40625 27.296875 \r\nQ 45.40625 37.203125 41.296875 42.84375 \r\nQ 37.203125 48.484375 30.078125 48.484375 \r\nQ 22.953125 48.484375 18.875 42.84375 \r\nQ 14.796875 37.203125 14.796875 27.296875 \r\nz\r\n\" id=\"DejaVuSans-100\"/>\r\n        <path d=\"M 48.78125 52.59375 \r\nL 48.78125 44.1875 \r\nQ 44.96875 46.296875 41.140625 47.34375 \r\nQ 37.3125 48.390625 33.40625 48.390625 \r\nQ 24.65625 48.390625 19.8125 42.84375 \r\nQ 14.984375 37.3125 14.984375 27.296875 \r\nQ 14.984375 17.28125 19.8125 11.734375 \r\nQ 24.65625 6.203125 33.40625 6.203125 \r\nQ 37.3125 6.203125 41.140625 7.25 \r\nQ 44.96875 8.296875 48.78125 10.40625 \r\nL 48.78125 2.09375 \r\nQ 45.015625 0.34375 40.984375 -0.53125 \r\nQ 36.96875 -1.421875 32.421875 -1.421875 \r\nQ 20.0625 -1.421875 12.78125 6.34375 \r\nQ 5.515625 14.109375 5.515625 27.296875 \r\nQ 5.515625 40.671875 12.859375 48.328125 \r\nQ 20.21875 56 33.015625 56 \r\nQ 37.15625 56 41.109375 55.140625 \r\nQ 45.0625 54.296875 48.78125 52.59375 \r\nz\r\n\" id=\"DejaVuSans-99\"/>\r\n       </defs>\r\n       <use xlink:href=\"#DejaVuSans-79\"/>\r\n       <use x=\"78.710938\" xlink:href=\"#DejaVuSans-114\"/>\r\n       <use x=\"119.824219\" xlink:href=\"#DejaVuSans-105\"/>\r\n       <use x=\"147.607422\" xlink:href=\"#DejaVuSans-103\"/>\r\n       <use x=\"211.083984\" xlink:href=\"#DejaVuSans-105\"/>\r\n       <use x=\"238.867188\" xlink:href=\"#DejaVuSans-110\"/>\r\n       <use x=\"302.246094\" xlink:href=\"#DejaVuSans-97\"/>\r\n       <use x=\"363.525391\" xlink:href=\"#DejaVuSans-108\"/>\r\n       <use x=\"391.308594\" xlink:href=\"#DejaVuSans-80\"/>\r\n       <use x=\"449.861328\" xlink:href=\"#DejaVuSans-114\"/>\r\n       <use x=\"488.724609\" xlink:href=\"#DejaVuSans-111\"/>\r\n       <use x=\"549.90625\" xlink:href=\"#DejaVuSans-100\"/>\r\n       <use x=\"613.382812\" xlink:href=\"#DejaVuSans-117\"/>\r\n       <use x=\"676.761719\" xlink:href=\"#DejaVuSans-99\"/>\r\n       <use x=\"731.742188\" xlink:href=\"#DejaVuSans-101\"/>\r\n       <use x=\"793.265625\" xlink:href=\"#DejaVuSans-114\"/>\r\n      </g>\r\n     </g>\r\n    </g>\r\n    <g id=\"xtick_12\">\r\n     <g id=\"text_14\">\r\n      <!-- Label -->\r\n      <g transform=\"translate(1025.064199 110.718665)rotate(-45)scale(0.16 -0.16)\">\r\n       <defs>\r\n        <path d=\"M 48.6875 27.296875 \r\nQ 48.6875 37.203125 44.609375 42.84375 \r\nQ 40.53125 48.484375 33.40625 48.484375 \r\nQ 26.265625 48.484375 22.1875 42.84375 \r\nQ 18.109375 37.203125 18.109375 27.296875 \r\nQ 18.109375 17.390625 22.1875 11.75 \r\nQ 26.265625 6.109375 33.40625 6.109375 \r\nQ 40.53125 6.109375 44.609375 11.75 \r\nQ 48.6875 17.390625 48.6875 27.296875 \r\nz\r\nM 18.109375 46.390625 \r\nQ 20.953125 51.265625 25.265625 53.625 \r\nQ 29.59375 56 35.59375 56 \r\nQ 45.5625 56 51.78125 48.09375 \r\nQ 58.015625 40.1875 58.015625 27.296875 \r\nQ 58.015625 14.40625 51.78125 6.484375 \r\nQ 45.5625 -1.421875 35.59375 -1.421875 \r\nQ 29.59375 -1.421875 25.265625 0.953125 \r\nQ 20.953125 3.328125 18.109375 8.203125 \r\nL 18.109375 0 \r\nL 9.078125 0 \r\nL 9.078125 75.984375 \r\nL 18.109375 75.984375 \r\nz\r\n\" id=\"DejaVuSans-98\"/>\r\n       </defs>\r\n       <use xlink:href=\"#DejaVuSans-76\"/>\r\n       <use x=\"55.712891\" xlink:href=\"#DejaVuSans-97\"/>\r\n       <use x=\"116.992188\" xlink:href=\"#DejaVuSans-98\"/>\r\n       <use x=\"180.46875\" xlink:href=\"#DejaVuSans-101\"/>\r\n       <use x=\"241.992188\" xlink:href=\"#DejaVuSans-108\"/>\r\n      </g>\r\n     </g>\r\n    </g>\r\n    <g id=\"xtick_13\">\r\n     <g id=\"text_15\">\r\n      <!-- Followers -->\r\n      <g transform=\"translate(1108.898333 110.718665)rotate(-45)scale(0.16 -0.16)\">\r\n       <defs>\r\n        <path d=\"M 4.203125 54.6875 \r\nL 13.1875 54.6875 \r\nL 24.421875 12.015625 \r\nL 35.59375 54.6875 \r\nL 46.1875 54.6875 \r\nL 57.421875 12.015625 \r\nL 68.609375 54.6875 \r\nL 77.59375 54.6875 \r\nL 63.28125 0 \r\nL 52.6875 0 \r\nL 40.921875 44.828125 \r\nL 29.109375 0 \r\nL 18.5 0 \r\nz\r\n\" id=\"DejaVuSans-119\"/>\r\n       </defs>\r\n       <use xlink:href=\"#DejaVuSans-70\"/>\r\n       <use x=\"53.894531\" xlink:href=\"#DejaVuSans-111\"/>\r\n       <use x=\"115.076172\" xlink:href=\"#DejaVuSans-108\"/>\r\n       <use x=\"142.859375\" xlink:href=\"#DejaVuSans-108\"/>\r\n       <use x=\"170.642578\" xlink:href=\"#DejaVuSans-111\"/>\r\n       <use x=\"231.824219\" xlink:href=\"#DejaVuSans-119\"/>\r\n       <use x=\"313.611328\" xlink:href=\"#DejaVuSans-101\"/>\r\n       <use x=\"375.134766\" xlink:href=\"#DejaVuSans-114\"/>\r\n       <use x=\"416.248047\" xlink:href=\"#DejaVuSans-115\"/>\r\n      </g>\r\n     </g>\r\n    </g>\r\n    <g id=\"xtick_14\">\r\n     <g id=\"text_16\">\r\n      <!-- TS -->\r\n      <g transform=\"translate(1192.732468 110.718665)rotate(-45)scale(0.16 -0.16)\">\r\n       <defs>\r\n        <path d=\"M -0.296875 72.90625 \r\nL 61.375 72.90625 \r\nL 61.375 64.59375 \r\nL 35.5 64.59375 \r\nL 35.5 0 \r\nL 25.59375 0 \r\nL 25.59375 64.59375 \r\nL -0.296875 64.59375 \r\nz\r\n\" id=\"DejaVuSans-84\"/>\r\n       </defs>\r\n       <use xlink:href=\"#DejaVuSans-84\"/>\r\n       <use x=\"61.083984\" xlink:href=\"#DejaVuSans-83\"/>\r\n      </g>\r\n     </g>\r\n    </g>\r\n    <g id=\"xtick_15\">\r\n     <g id=\"text_17\">\r\n      <!-- ActiveEng -->\r\n      <g transform=\"translate(1276.566603 110.718665)rotate(-45)scale(0.16 -0.16)\">\r\n       <defs>\r\n        <path d=\"M 2.984375 54.6875 \r\nL 12.5 54.6875 \r\nL 29.59375 8.796875 \r\nL 46.6875 54.6875 \r\nL 56.203125 54.6875 \r\nL 35.6875 0 \r\nL 23.484375 0 \r\nz\r\n\" id=\"DejaVuSans-118\"/>\r\n        <path d=\"M 9.8125 72.90625 \r\nL 55.90625 72.90625 \r\nL 55.90625 64.59375 \r\nL 19.671875 64.59375 \r\nL 19.671875 43.015625 \r\nL 54.390625 43.015625 \r\nL 54.390625 34.71875 \r\nL 19.671875 34.71875 \r\nL 19.671875 8.296875 \r\nL 56.78125 8.296875 \r\nL 56.78125 0 \r\nL 9.8125 0 \r\nz\r\n\" id=\"DejaVuSans-69\"/>\r\n       </defs>\r\n       <use xlink:href=\"#DejaVuSans-65\"/>\r\n       <use x=\"66.658203\" xlink:href=\"#DejaVuSans-99\"/>\r\n       <use x=\"121.638672\" xlink:href=\"#DejaVuSans-116\"/>\r\n       <use x=\"160.847656\" xlink:href=\"#DejaVuSans-105\"/>\r\n       <use x=\"188.630859\" xlink:href=\"#DejaVuSans-118\"/>\r\n       <use x=\"247.810547\" xlink:href=\"#DejaVuSans-101\"/>\r\n       <use x=\"309.333984\" xlink:href=\"#DejaVuSans-69\"/>\r\n       <use x=\"372.517578\" xlink:href=\"#DejaVuSans-110\"/>\r\n       <use x=\"435.896484\" xlink:href=\"#DejaVuSans-103\"/>\r\n      </g>\r\n     </g>\r\n    </g>\r\n   </g>\r\n   <g id=\"matplotlib.axis_4\">\r\n    <g id=\"ytick_1\">\r\n     <g id=\"text_18\">\r\n      <!-- 1 -->\r\n      <g transform=\"translate(32.65 128.49614)scale(0.2 -0.2)\">\r\n       <use xlink:href=\"#DejaVuSans-49\"/>\r\n      </g>\r\n     </g>\r\n    </g>\r\n    <g id=\"ytick_2\">\r\n     <g id=\"text_19\">\r\n      <!-- 329 -->\r\n      <g transform=\"translate(7.2 670.44386)scale(0.2 -0.2)\">\r\n       <defs>\r\n        <path d=\"M 40.578125 39.3125 \r\nQ 47.65625 37.796875 51.625 33 \r\nQ 55.609375 28.21875 55.609375 21.1875 \r\nQ 55.609375 10.40625 48.1875 4.484375 \r\nQ 40.765625 -1.421875 27.09375 -1.421875 \r\nQ 22.515625 -1.421875 17.65625 -0.515625 \r\nQ 12.796875 0.390625 7.625 2.203125 \r\nL 7.625 11.71875 \r\nQ 11.71875 9.328125 16.59375 8.109375 \r\nQ 21.484375 6.890625 26.8125 6.890625 \r\nQ 36.078125 6.890625 40.9375 10.546875 \r\nQ 45.796875 14.203125 45.796875 21.1875 \r\nQ 45.796875 27.640625 41.28125 31.265625 \r\nQ 36.765625 34.90625 28.71875 34.90625 \r\nL 20.21875 34.90625 \r\nL 20.21875 43.015625 \r\nL 29.109375 43.015625 \r\nQ 36.375 43.015625 40.234375 45.921875 \r\nQ 44.09375 48.828125 44.09375 54.296875 \r\nQ 44.09375 59.90625 40.109375 62.90625 \r\nQ 36.140625 65.921875 28.71875 65.921875 \r\nQ 24.65625 65.921875 20.015625 65.03125 \r\nQ 15.375 64.15625 9.8125 62.3125 \r\nL 9.8125 71.09375 \r\nQ 15.4375 72.65625 20.34375 73.4375 \r\nQ 25.25 74.21875 29.59375 74.21875 \r\nQ 40.828125 74.21875 47.359375 69.109375 \r\nQ 53.90625 64.015625 53.90625 55.328125 \r\nQ 53.90625 49.265625 50.4375 45.09375 \r\nQ 46.96875 40.921875 40.578125 39.3125 \r\nz\r\n\" id=\"DejaVuSans-51\"/>\r\n        <path d=\"M 19.1875 8.296875 \r\nL 53.609375 8.296875 \r\nL 53.609375 0 \r\nL 7.328125 0 \r\nL 7.328125 8.296875 \r\nQ 12.9375 14.109375 22.625 23.890625 \r\nQ 32.328125 33.6875 34.8125 36.53125 \r\nQ 39.546875 41.84375 41.421875 45.53125 \r\nQ 43.3125 49.21875 43.3125 52.78125 \r\nQ 43.3125 58.59375 39.234375 62.25 \r\nQ 35.15625 65.921875 28.609375 65.921875 \r\nQ 23.96875 65.921875 18.8125 64.3125 \r\nQ 13.671875 62.703125 7.8125 59.421875 \r\nL 7.8125 69.390625 \r\nQ 13.765625 71.78125 18.9375 73 \r\nQ 24.125 74.21875 28.421875 74.21875 \r\nQ 39.75 74.21875 46.484375 68.546875 \r\nQ 53.21875 62.890625 53.21875 53.421875 \r\nQ 53.21875 48.921875 51.53125 44.890625 \r\nQ 49.859375 40.875 45.40625 35.40625 \r\nQ 44.1875 33.984375 37.640625 27.21875 \r\nQ 31.109375 20.453125 19.1875 8.296875 \r\nz\r\n\" id=\"DejaVuSans-50\"/>\r\n        <path d=\"M 10.984375 1.515625 \r\nL 10.984375 10.5 \r\nQ 14.703125 8.734375 18.5 7.8125 \r\nQ 22.3125 6.890625 25.984375 6.890625 \r\nQ 35.75 6.890625 40.890625 13.453125 \r\nQ 46.046875 20.015625 46.78125 33.40625 \r\nQ 43.953125 29.203125 39.59375 26.953125 \r\nQ 35.25 24.703125 29.984375 24.703125 \r\nQ 19.046875 24.703125 12.671875 31.3125 \r\nQ 6.296875 37.9375 6.296875 49.421875 \r\nQ 6.296875 60.640625 12.9375 67.421875 \r\nQ 19.578125 74.21875 30.609375 74.21875 \r\nQ 43.265625 74.21875 49.921875 64.515625 \r\nQ 56.59375 54.828125 56.59375 36.375 \r\nQ 56.59375 19.140625 48.40625 8.859375 \r\nQ 40.234375 -1.421875 26.421875 -1.421875 \r\nQ 22.703125 -1.421875 18.890625 -0.6875 \r\nQ 15.09375 0.046875 10.984375 1.515625 \r\nz\r\nM 30.609375 32.421875 \r\nQ 37.25 32.421875 41.125 36.953125 \r\nQ 45.015625 41.5 45.015625 49.421875 \r\nQ 45.015625 57.28125 41.125 61.84375 \r\nQ 37.25 66.40625 30.609375 66.40625 \r\nQ 23.96875 66.40625 20.09375 61.84375 \r\nQ 16.21875 57.28125 16.21875 49.421875 \r\nQ 16.21875 41.5 20.09375 36.953125 \r\nQ 23.96875 32.421875 30.609375 32.421875 \r\nz\r\n\" id=\"DejaVuSans-57\"/>\r\n       </defs>\r\n       <use xlink:href=\"#DejaVuSans-51\"/>\r\n       <use x=\"63.623047\" xlink:href=\"#DejaVuSans-50\"/>\r\n       <use x=\"127.246094\" xlink:href=\"#DejaVuSans-57\"/>\r\n      </g>\r\n     </g>\r\n    </g>\r\n   </g>\r\n   <g id=\"line2d_4\">\r\n    <path clip-path=\"url(#pf5fbd0925f)\" d=\"M 136.209135 663.671563 \r\nL 136.209135 120.071563 \r\n\" style=\"fill:none;stroke:#ffffff;stroke-linecap:square;stroke-width:1.5;\"/>\r\n   </g>\r\n   <g id=\"line2d_5\">\r\n    <path clip-path=\"url(#pf5fbd0925f)\" d=\"M 220.043269 663.671563 \r\nL 220.043269 120.071563 \r\n\" style=\"fill:none;stroke:#ffffff;stroke-linecap:square;stroke-width:1.5;\"/>\r\n   </g>\r\n   <g id=\"line2d_6\">\r\n    <path clip-path=\"url(#pf5fbd0925f)\" d=\"M 303.877404 663.671563 \r\nL 303.877404 120.071563 \r\n\" style=\"fill:none;stroke:#ffffff;stroke-linecap:square;stroke-width:1.5;\"/>\r\n   </g>\r\n   <g id=\"line2d_7\">\r\n    <path clip-path=\"url(#pf5fbd0925f)\" d=\"M 387.711538 663.671563 \r\nL 387.711538 120.071563 \r\n\" style=\"fill:none;stroke:#ffffff;stroke-linecap:square;stroke-width:1.5;\"/>\r\n   </g>\r\n   <g id=\"line2d_8\">\r\n    <path clip-path=\"url(#pf5fbd0925f)\" d=\"M 471.545673 663.671563 \r\nL 471.545673 120.071563 \r\n\" style=\"fill:none;stroke:#ffffff;stroke-linecap:square;stroke-width:1.5;\"/>\r\n   </g>\r\n   <g id=\"line2d_9\">\r\n    <path clip-path=\"url(#pf5fbd0925f)\" d=\"M 555.379808 663.671563 \r\nL 555.379808 120.071563 \r\n\" style=\"fill:none;stroke:#ffffff;stroke-linecap:square;stroke-width:1.5;\"/>\r\n   </g>\r\n   <g id=\"line2d_10\">\r\n    <path clip-path=\"url(#pf5fbd0925f)\" d=\"M 639.213942 663.671563 \r\nL 639.213942 120.071563 \r\n\" style=\"fill:none;stroke:#ffffff;stroke-linecap:square;stroke-width:1.5;\"/>\r\n   </g>\r\n   <g id=\"line2d_11\">\r\n    <path clip-path=\"url(#pf5fbd0925f)\" d=\"M 723.048077 663.671563 \r\nL 723.048077 120.071563 \r\n\" style=\"fill:none;stroke:#ffffff;stroke-linecap:square;stroke-width:1.5;\"/>\r\n   </g>\r\n   <g id=\"line2d_12\">\r\n    <path clip-path=\"url(#pf5fbd0925f)\" d=\"M 806.882212 663.671563 \r\nL 806.882212 120.071563 \r\n\" style=\"fill:none;stroke:#ffffff;stroke-linecap:square;stroke-width:1.5;\"/>\r\n   </g>\r\n   <g id=\"line2d_13\">\r\n    <path clip-path=\"url(#pf5fbd0925f)\" d=\"M 890.716346 663.671563 \r\nL 890.716346 120.071563 \r\n\" style=\"fill:none;stroke:#ffffff;stroke-linecap:square;stroke-width:1.5;\"/>\r\n   </g>\r\n   <g id=\"line2d_14\">\r\n    <path clip-path=\"url(#pf5fbd0925f)\" d=\"M 974.550481 663.671563 \r\nL 974.550481 120.071563 \r\n\" style=\"fill:none;stroke:#ffffff;stroke-linecap:square;stroke-width:1.5;\"/>\r\n   </g>\r\n   <g id=\"line2d_15\">\r\n    <path clip-path=\"url(#pf5fbd0925f)\" d=\"M 1058.384615 663.671563 \r\nL 1058.384615 120.071563 \r\n\" style=\"fill:none;stroke:#ffffff;stroke-linecap:square;stroke-width:1.5;\"/>\r\n   </g>\r\n   <g id=\"line2d_16\">\r\n    <path clip-path=\"url(#pf5fbd0925f)\" d=\"M 1142.21875 663.671563 \r\nL 1142.21875 120.071563 \r\n\" style=\"fill:none;stroke:#ffffff;stroke-linecap:square;stroke-width:1.5;\"/>\r\n   </g>\r\n   <g id=\"line2d_17\">\r\n    <path clip-path=\"url(#pf5fbd0925f)\" d=\"M 1226.052885 663.671563 \r\nL 1226.052885 120.071563 \r\n\" style=\"fill:none;stroke:#ffffff;stroke-linecap:square;stroke-width:1.5;\"/>\r\n   </g>\r\n  </g>\r\n </g>\r\n <defs>\r\n  <clipPath id=\"p9ee737ea20\">\r\n   <rect height=\"543.6\" width=\"83.834135\" x=\"1363.540865\" y=\"120.071563\"/>\r\n  </clipPath>\r\n  <clipPath id=\"pf5fbd0925f\">\r\n   <rect height=\"543.6\" width=\"1257.512019\" x=\"52.375\" y=\"120.071563\"/>\r\n  </clipPath>\r\n </defs>\r\n</svg>\r\n",
      "image/png": "[encoded data removed]"
     },
     "metadata": {
      "needs_background": "light"
     }
    }
   ],
   "source": [
    "import missingno as msno\n",
    "msno.matrix(tracks_foll)"
   ]
  },
  {
   "cell_type": "code",
   "execution_count": null,
   "metadata": {},
   "outputs": [],
   "source": []
  },
  {
   "cell_type": "code",
   "execution_count": 203,
   "metadata": {},
   "outputs": [
    {
     "output_type": "stream",
     "name": "stdout",
     "text": [
      "ActiveEng ~ ArtistName + Likes + Shares + BPM + Key + Genre + Length + Feat + OriginalProducer + Label + Followers + TS\n"
     ]
    }
   ],
   "source": [
    "# getting all columns for baseline model\n",
    "formula = 'ActiveEng ~ ' + ' + '.join(tracks_foll.columns.drop(['ActiveEng', 'CommentsCount', 'Plays']))\n",
    "print(formula)"
   ]
  },
  {
   "cell_type": "code",
   "execution_count": null,
   "metadata": {},
   "outputs": [],
   "source": []
  },
  {
   "cell_type": "code",
   "execution_count": 279,
   "metadata": {
    "tags": []
   },
   "outputs": [
    {
     "output_type": "display_data",
     "data": {
      "text/plain": "<class 'statsmodels.iolib.summary.Summary'>\n\"\"\"\n                            OLS Regression Results                            \n==============================================================================\nDep. Variable:              ActiveEng   R-squared:                       0.060\nModel:                            OLS   Adj. R-squared:                  0.058\nMethod:                 Least Squares   F-statistic:                     21.04\nDate:                Tue, 06 Apr 2021   Prob (F-statistic):           6.43e-06\nTime:                        17:23:33   Log-Likelihood:                 1677.2\nNo. Observations:                 329   AIC:                            -3350.\nDf Residuals:                     327   BIC:                            -3343.\nDf Model:                           1                                         \nCovariance Type:            nonrobust                                         \n=================================================================================================================\n                                                    coef    std err          t      P>|t|      [0.025      0.975]\n-----------------------------------------------------------------------------------------------------------------\nIntercept                                     -1.478e-11   9.45e-12     -1.564      0.119   -3.34e-11    3.81e-12\nArtistName[T.Nina Kraviz]                      5.517e-10   3.53e-10      1.565      0.119   -1.42e-10    1.25e-09\nArtistName[T.Richie Hawtin]                   -1.312e-12   8.38e-13     -1.565      0.119   -2.96e-12    3.37e-13\nArtistName[T.Tale of Us]                       1.946e-11   1.24e-11      1.564      0.119   -5.02e-12    4.39e-11\nArtistName[T.adam beyer]                      -5.558e-12   3.55e-12     -1.564      0.119   -1.25e-11    1.43e-12\nArtistName[T.aleksandir]                       -1.31e-14   8.42e-15     -1.555      0.121   -2.97e-14    3.47e-15\nArtistName[T.baltra]                          -7.002e-14   4.49e-14     -1.559      0.120   -1.58e-13    1.83e-14\nArtistName[T.daniel avery]                     1.278e-14   8.16e-15      1.566      0.118   -3.27e-15    2.88e-14\nArtistName[T.efdemin]                         -5.475e-16   4.38e-16     -1.250      0.212   -1.41e-15    3.14e-16\nArtistName[T.enrico sangiuliano]              -1.546e-14   9.91e-15     -1.561      0.120   -3.49e-14    4.03e-15\nArtistName[T.floating points]                 -2.403e-13   1.54e-13     -1.563      0.119   -5.43e-13    6.21e-14\nArtistName[T.harrison bdp]                    -5.477e-14   3.52e-14     -1.558      0.120   -1.24e-13    1.44e-14\nArtistName[T.ilario alicante]                  3.088e-15   1.96e-15      1.572      0.117   -7.75e-16    6.95e-15\nArtistName[T.kevin yost]                       5.569e-15   3.49e-15      1.593      0.112   -1.31e-15    1.24e-14\nArtistName[T.kink]                              5.04e-14   3.22e-14      1.566      0.118   -1.29e-14    1.14e-13\nArtistName[T.laurent garnier]                  4.626e-14   2.96e-14      1.563      0.119    -1.2e-14    1.04e-13\nArtistName[T.maceo plex]                       3.061e-13   1.96e-13      1.562      0.119   -7.95e-14    6.92e-13\nArtistName[T.mall grab]                       -2.982e-14   1.91e-14     -1.561      0.119   -6.74e-14    7.75e-15\nArtistName[T.marcel dettmann]                   4.41e-14   2.81e-14      1.567      0.118   -1.13e-14    9.95e-14\nArtistName[T.mathame]                         -4.025e-15   2.66e-15     -1.512      0.132   -9.26e-15    1.21e-15\nArtistName[T.mind against]                    -2.763e-14   1.77e-14     -1.560      0.120   -6.25e-14     7.2e-15\nArtistName[T.monika kruse]                       2.4e-14   1.53e-14      1.568      0.118   -6.12e-15    5.41e-14\nArtistName[T.mrsch]                           -4.463e-16   2.94e-16     -1.516      0.130   -1.03e-15    1.33e-16\nArtistName[T.pleasurekraft]                    6.006e-14   3.84e-14      1.563      0.119   -1.55e-14    1.36e-13\nArtistName[T.randomer]                        -2.429e-14   1.56e-14     -1.556      0.121    -5.5e-14    6.43e-15\nArtistName[T.red axes]                          2.08e-15   1.32e-15      1.572      0.117   -5.23e-16    4.68e-15\nArtistName[T.ron flatter]                       2.27e-14   1.44e-14      1.576      0.116   -5.64e-15     5.1e-14\nArtistName[T.seb wildblood]                   -3.012e-14   1.94e-14     -1.555      0.121   -6.82e-14    7.98e-15\nArtistName[T.woo york]                        -1.176e-14   7.62e-15     -1.543      0.124   -2.67e-14    3.23e-15\nKey[T.A min]                                  -1.883e-13    1.2e-13     -1.565      0.119   -4.25e-13    4.84e-14\nKey[T.A♭ maj]                                   2.36e-14   1.51e-14      1.565      0.119   -6.07e-15    5.33e-14\nKey[T.A♭ min]                                  -9.09e-14   5.81e-14     -1.564      0.119   -2.05e-13    2.35e-14\nKey[T.A♯ maj]                                  1.622e-14   1.04e-14      1.562      0.119    -4.2e-15    3.66e-14\nKey[T.A♯ min]                                   1.54e-14   9.82e-15      1.568      0.118   -3.92e-15    3.47e-14\nKey[T.B maj]                                   8.854e-15   5.66e-15      1.563      0.119   -2.29e-15       2e-14\nKey[T.B min]                                   5.835e-14   3.73e-14      1.564      0.119    -1.5e-14    1.32e-13\nKey[T.B♭ maj]                                 -3.536e-14   2.26e-14     -1.566      0.118   -7.98e-14    9.05e-15\nKey[T.B♭ min]                                 -2.175e-13   1.39e-13     -1.564      0.119   -4.91e-13     5.6e-14\nKey[T.C maj]                                    5.09e-14   3.26e-14      1.561      0.119   -1.32e-14    1.15e-13\nKey[T.C min]                                   5.401e-14   3.45e-14      1.567      0.118   -1.38e-14    1.22e-13\nKey[T.C♯ maj]                                  3.663e-15   2.34e-15      1.566      0.118   -9.38e-16    8.26e-15\nKey[T.C♯ min]                                  9.708e-15   6.19e-15      1.569      0.118   -2.46e-15    2.19e-14\nKey[T.D maj]                                   3.442e-14    2.2e-14      1.566      0.118   -8.82e-15    7.77e-14\nKey[T.D min]                                   6.675e-14   4.27e-14      1.564      0.119   -1.72e-14    1.51e-13\nKey[T.D♭ maj]                                  -3.56e-14   2.28e-14     -1.563      0.119   -8.04e-14    9.21e-15\nKey[T.D♭ min]                                 -4.735e-14   3.03e-14     -1.563      0.119   -1.07e-13    1.22e-14\nKey[T.D♯ maj]                                  1.375e-14   8.78e-15      1.567      0.118   -3.52e-15     3.1e-14\nKey[T.D♯ min]                                  1.027e-14   6.55e-15      1.569      0.118   -2.61e-15    2.31e-14\nKey[T.E maj]                                   4.109e-14   2.63e-14      1.564      0.119   -1.06e-14    9.28e-14\nKey[T.E min]                                    7.09e-14   4.54e-14      1.562      0.119   -1.84e-14     1.6e-13\nKey[T.E♭ maj]                                 -9.534e-17   6.75e-17     -1.413      0.159   -2.28e-16    3.74e-17\nKey[T.E♭ min]                                  3.193e-14   2.04e-14      1.568      0.118   -8.14e-15     7.2e-14\nKey[T.F maj]                                   1.853e-14   1.18e-14      1.564      0.119   -4.78e-15    4.18e-14\nKey[T.F min]                                  -3.641e-16   3.14e-16     -1.161      0.247   -9.81e-16    2.53e-16\nKey[T.F♯ maj]                                  3.345e-14   2.14e-14      1.561      0.120   -8.71e-15    7.56e-14\nKey[T.F♯ min]                                 -3.855e-15    2.5e-15     -1.542      0.124   -8.77e-15    1.06e-15\nKey[T.G maj]                                   4.255e-14   2.72e-14      1.562      0.119    -1.1e-14    9.61e-14\nKey[T.G min]                                  -4.387e-14   2.81e-14     -1.563      0.119   -9.91e-14    1.14e-14\nKey[T.G♭ maj]                                  3.361e-14   2.15e-14      1.561      0.120   -8.75e-15     7.6e-14\nKey[T.G♭ min]                                 -1.112e-13   7.11e-14     -1.564      0.119   -2.51e-13    2.86e-14\nKey[T.G♯ maj]                                  2.925e-14   1.87e-14      1.563      0.119   -7.58e-15    6.61e-14\nKey[T.G♯ min]                                  -2.64e-14   1.69e-14     -1.564      0.119   -5.96e-14    6.82e-15\nGenre[T.Dance / Electro Pop]                   4.077e-15   2.56e-15      1.592      0.112   -9.62e-16    9.12e-15\nGenre[T.Deep House]                           -2.043e-13   1.31e-13     -1.562      0.119   -4.62e-13    5.29e-14\nGenre[T.Electro (Classic / Detroit / Modern)]  2.159e-14   1.38e-14      1.564      0.119   -5.57e-15    4.87e-14\nGenre[T.Electronica]                          -3.118e-14   1.98e-14     -1.576      0.116   -7.01e-14    7.74e-15\nGenre[T.House]                                -9.415e-14   6.03e-14     -1.562      0.119   -2.13e-13    2.44e-14\nGenre[T.Indie Dance]                           5.303e-14   3.39e-14      1.562      0.119   -1.37e-14     1.2e-13\nGenre[T.Melodic House & Techno]                8.331e-14   5.33e-14      1.563      0.119   -2.15e-14    1.88e-13\nGenre[T.Minimal / Deep Tech]                  -2.363e-14   1.51e-14     -1.568      0.118   -5.33e-14    6.02e-15\nGenre[T.Progressive House]                     1.684e-15   1.07e-15      1.574      0.116    -4.2e-16    3.79e-15\nGenre[T.Tech House]                           -1.101e-13   7.04e-14     -1.565      0.119   -2.49e-13    2.83e-14\nGenre[T.Techno (Peak Time / Driving)]           2.71e-13   1.73e-13      1.562      0.119   -7.02e-14    6.12e-13\nGenre[T.Techno (Raw / Deep / Hypnotic)]       -1.282e-13   8.22e-14     -1.560      0.120    -2.9e-13    3.35e-14\nGenre[T.UK Garage / Bassline]                  5.785e-14   3.71e-14      1.561      0.119   -1.51e-14    1.31e-13\nFeat[T.Akio Imai]                              3.552e-15   2.23e-15      1.595      0.112    -8.3e-16    7.94e-15\nFeat[T.Alan Fitzpatrick]                       1.613e-15   1.02e-15      1.587      0.114   -3.87e-16    3.61e-15\nFeat[T.Alberth]                                 -1.5e-14    9.6e-15     -1.562      0.119   -3.39e-14    3.89e-15\nFeat[T.Alessandro Cortini]                     1.278e-14   8.16e-15      1.566      0.118   -3.27e-15    2.88e-14\nFeat[T.Bart Skils]                             2.604e-14   1.66e-14      1.564      0.119   -6.71e-15    5.88e-14\nFeat[T.Be No Rain]                            -1.664e-13   1.06e-13     -1.565      0.119   -3.76e-13    4.28e-14\nFeat[T.Boom Bip]                              -9.917e-15   6.24e-15     -1.590      0.113   -2.22e-14    2.35e-15\nFeat[T.CJ Bolland]                            -1.546e-14   9.91e-15     -1.561      0.120   -3.49e-14    4.03e-15\nFeat[T.Cadans]                                 4.469e-15   2.84e-15      1.574      0.116   -1.11e-15    1.01e-14\nFeat[T.Cam Deas]                               1.754e-14   1.12e-14      1.562      0.119   -4.55e-15    3.96e-14\nFeat[T.Casey Gerald]                           4.391e-14    2.8e-14      1.566      0.118   -1.12e-14    9.91e-14\nFeat[T.Cortechs]                               3.058e-14   1.96e-14      1.562      0.119   -7.93e-15    6.91e-14\nFeat[T.DJ Beens]                               1.535e-14   9.68e-15      1.584      0.114   -3.71e-15    3.44e-14\nFeat[T.DJ Boring]                             -3.274e-14   2.09e-14     -1.563      0.119    -7.4e-14    8.47e-15\nFeat[T.DJ Seinfeld]                            1.247e-15    7.9e-16      1.578      0.115   -3.07e-16     2.8e-15\nFeat[T.DJ Smilk]                               2.574e-15   1.53e-15      1.678      0.094   -4.44e-16    5.59e-15\nFeat[T.Dario Sorano]                           1.754e-14   1.12e-14      1.562      0.119   -4.55e-15    3.96e-14\nFeat[T.Dave Sinner]                           -3.925e-15   2.51e-15     -1.564      0.119   -8.86e-15    1.01e-15\nFeat[T.Deekline]                               5.817e-16   3.17e-16      1.836      0.067   -4.16e-17     1.2e-15\nFeat[T.Drzneday]                               3.495e-15    2.2e-15      1.586      0.114   -8.41e-16    7.83e-15\nFeat[T.Edit Select]                            3.525e-14   2.26e-14      1.562      0.119   -9.14e-15    7.96e-14\nFeat[T.F.U.S.E.]                               1.818e-13   1.16e-13      1.562      0.119   -4.72e-14    4.11e-13\nFeat[T.Flash 89]                               1.815e-15   1.14e-15      1.586      0.114   -4.37e-16    4.07e-15\nFeat[T.Four Tet]                              -2.009e-14   1.27e-14     -1.588      0.113    -4.5e-14     4.8e-15\nFeat[T.Harrison]                              -6.805e-15   4.45e-15     -1.528      0.127   -1.56e-14    1.96e-15\nFeat[T.Headwaters]                             8.353e-15   5.31e-15      1.573      0.117   -2.09e-15    1.88e-14\nFeat[T.INGRID (IT)]                           -2.982e-14   1.91e-14     -1.561      0.119   -6.74e-14    7.75e-15\nFeat[T.Ian Urbina]                             3.385e-15   2.15e-15      1.574      0.116   -8.45e-16    7.61e-15\nFeat[T.Insaac Students]                        4.834e-14   3.09e-14      1.563      0.119   -1.25e-14    1.09e-13\nFeat[T.Jamie XX]                              -9.598e-14   6.13e-14     -1.565      0.119   -2.17e-13    2.47e-14\nFeat[T.Jason Van Wyk]                          2.094e-15   1.29e-15      1.622      0.106   -4.45e-16    4.63e-15\nFeat[T.Joph Wa]                               -9.697e-15   6.24e-15     -1.555      0.121    -2.2e-14    2.57e-15\nFeat[T.Jude & Frank]                           4.774e-15   3.05e-15      1.568      0.118   -1.22e-15    1.08e-14\nFeat[T.Juliet Fox]                             3.783e-14   2.42e-14      1.563      0.119   -9.78e-15    8.54e-14\nFeat[T.Kaiserdisco]                            1.506e-14   9.64e-15      1.562      0.119   -3.91e-15     3.4e-14\nFeat[T.Kassian Troyer]                         2.378e-15   1.51e-15      1.576      0.116   -5.91e-16    5.35e-15\nFeat[T.Kei]                                    3.866e-14   2.47e-14      1.566      0.118   -9.92e-15    8.72e-14\nFeat[T.Kuvoka]                                 1.647e-14   1.05e-14      1.562      0.119   -4.27e-15    3.72e-14\nFeat[T.Locked Groove]                         -3.709e-14   2.38e-14     -1.559      0.120   -8.39e-14     9.7e-15\nFeat[T.Lyke]                                   1.595e-15   1.01e-15      1.574      0.116   -3.99e-16    3.59e-15\nFeat[T.Maars]                                  1.195e-13   7.65e-14      1.562      0.119    -3.1e-14     2.7e-13\nFeat[T.Maceo Plex]                             1.614e-13   1.03e-13      1.561      0.119   -4.19e-14    3.65e-13\nFeat[T.Martyn]                                -5.632e-14    3.6e-14     -1.565      0.118   -1.27e-13    1.45e-14\nFeat[T.Mateo!]                                -4.776e-17   4.93e-17     -0.968      0.334   -1.45e-16    4.93e-17\nFeat[T.Michael Salvatori]                     -2.752e-13   1.76e-13     -1.563      0.119   -6.22e-13    7.11e-14\nFeat[T.Nathan Ball]                            2.513e-14   1.61e-14      1.562      0.119   -6.53e-15    5.68e-14\nFeat[T.Nōpi]                                   7.864e-15   4.99e-15      1.577      0.116   -1.94e-15    1.77e-14\nFeat[T.Pig&Dan]                                3.831e-15   2.44e-15      1.573      0.117   -9.62e-16    8.62e-15\nFeat[T.Rachel Row]                             4.664e-14   2.98e-14      1.566      0.118    -1.2e-14    1.05e-13\nFeat[T.Ricardo Garduno]                        1.736e-14   1.11e-14      1.562      0.119    -4.5e-15    3.92e-14\nFeat[T.Richie Hawtin]                          3.295e-14   2.11e-14      1.562      0.119   -8.54e-15    7.44e-14\nFeat[T.Rocky Miller]                           1.754e-14   1.12e-14      1.562      0.119   -4.55e-15    3.96e-14\nFeat[T.Rosper]                                   1.7e-14   1.09e-14      1.562      0.119   -4.41e-15    3.84e-14\nFeat[T.S.Sic]                                  1.701e-14   1.09e-14      1.562      0.119   -4.41e-15    3.84e-14\nFeat[T.Saad Ayub]                              -2.35e-14    1.5e-14     -1.562      0.119   -5.31e-14     6.1e-15\nFeat[T.Sinus Alpha]                           -3.479e-14   2.23e-14     -1.563      0.119   -7.86e-14    8.99e-15\nFeat[T.Special Request]                       -3.106e-13   1.98e-13     -1.565      0.119   -7.01e-13    7.99e-14\nFeat[T.Swemania]                               2.016e-15   1.27e-15      1.591      0.113   -4.76e-16    4.51e-15\nFeat[T.Terror Danjah]                          4.435e-14   2.84e-14      1.559      0.120   -1.16e-14       1e-13\nFeat[T.The Juan Maclean]                      -4.913e-14   3.15e-14     -1.562      0.119   -1.11e-13    1.28e-14\nFeat[T.The YellowHeads]                       -6.297e-15   4.03e-15     -1.564      0.119   -1.42e-14    1.62e-15\nFeat[T.Timmo]                                  3.564e-15   2.27e-15      1.567      0.118   -9.11e-16    8.04e-15\nFeat[T.Voodooamt]                              7.921e-15   5.06e-15      1.566      0.118   -2.03e-15    1.79e-14\nFeat[T.Woo York]                              -1.403e-14   8.99e-15     -1.561      0.119   -3.17e-14    3.65e-15\nFeat[T.Ø [Phase]]                             -3.412e-16   2.35e-16     -1.455      0.147   -8.03e-16     1.2e-16\nOriginalProducer[T.Aleksandir]                  2.51e-16   1.17e-16      2.152      0.032    2.16e-17    4.81e-16\nOriginalProducer[T.Baltra]                    -7.002e-14   4.49e-14     -1.559      0.120   -1.58e-13    1.83e-14\nOriginalProducer[T.Champion]                   3.345e-14   2.14e-14      1.561      0.120   -8.71e-15    7.56e-14\nOriginalProducer[T.Christian Hornbostel]       1.718e-14    1.1e-14      1.562      0.119   -4.45e-15    3.88e-14\nOriginalProducer[T.DJ Emerson]                 1.577e-14   1.01e-14      1.562      0.119   -4.09e-15    3.56e-14\nOriginalProducer[T.Daniel Avery]               1.278e-14   8.16e-15      1.566      0.118   -3.27e-15    2.88e-14\nOriginalProducer[T.Efdemin]                   -5.475e-16   4.38e-16     -1.250      0.212   -1.41e-15    3.14e-16\nOriginalProducer[T.Enrico Sangiuliano]        -1.546e-14   9.91e-15     -1.561      0.120   -3.49e-14    4.03e-15\nOriginalProducer[T.Exploit]                   -4.074e-15   2.61e-15     -1.559      0.120   -9.21e-15    1.07e-15\nOriginalProducer[T.Floating Points]           -2.403e-13   1.54e-13     -1.563      0.119   -5.43e-13    6.21e-14\nOriginalProducer[T.Four Tet]                  -1.371e-13   8.72e-14     -1.573      0.117   -3.09e-13    3.44e-14\nOriginalProducer[T.Harrison BDP]              -5.477e-14   3.52e-14     -1.558      0.120   -1.24e-13    1.44e-14\nOriginalProducer[T.Ilario Alicante]            3.088e-15   1.96e-15      1.572      0.117   -7.75e-16    6.95e-15\nOriginalProducer[T.Kevin Yost]                 5.569e-15   3.49e-15      1.593      0.112   -1.31e-15    1.24e-14\nOriginalProducer[T.KiNK]                        5.04e-14   3.22e-14      1.566      0.118   -1.29e-14    1.14e-13\nOriginalProducer[T.Laurent Garnier]            4.626e-14   2.96e-14      1.563      0.119    -1.2e-14    1.04e-13\nOriginalProducer[T.MRSCH]                     -4.463e-16   2.94e-16     -1.516      0.130   -1.03e-15    1.33e-16\nOriginalProducer[T.Maceo Plex]                 3.061e-13   1.96e-13      1.562      0.119   -7.95e-14    6.92e-13\nOriginalProducer[T.Mall Grab]                 -2.982e-14   1.91e-14     -1.561      0.119   -6.74e-14    7.75e-15\nOriginalProducer[T.Marcel Dettmann]             4.41e-14   2.81e-14      1.567      0.118   -1.13e-14    9.95e-14\nOriginalProducer[T.Mathame]                   -4.025e-15   2.66e-15     -1.512      0.132   -9.26e-15    1.21e-15\nOriginalProducer[T.Mind Against]              -2.763e-14   1.77e-14     -1.560      0.120   -6.25e-14     7.2e-15\nOriginalProducer[T.Monika Kruse]                 2.4e-14   1.53e-14      1.568      0.118   -6.12e-15    5.41e-14\nOriginalProducer[T.Nina Kraviz]               -3.526e-13   2.25e-13     -1.564      0.119   -7.96e-13    9.09e-14\nOriginalProducer[T.Pleasurekraft]              6.006e-14   3.84e-14      1.563      0.119   -1.55e-14    1.36e-13\nOriginalProducer[T.Randomer]                  -2.429e-14   1.56e-14     -1.556      0.121    -5.5e-14    6.43e-15\nOriginalProducer[T.Red Axes]                    2.08e-15   1.32e-15      1.572      0.117   -5.23e-16    4.68e-15\nOriginalProducer[T.Richie Hawtin]              4.019e-13   2.57e-13      1.562      0.119   -1.04e-13    9.08e-13\nOriginalProducer[T.Ron Flatter]                 2.27e-14   1.44e-14      1.576      0.116   -5.64e-15     5.1e-14\nOriginalProducer[T.Seb Wildblood]             -3.012e-14   1.94e-14     -1.555      0.121   -6.82e-14    7.98e-15\nOriginalProducer[T.Tale Of Us]                -1.524e-13   9.74e-14     -1.566      0.118   -3.44e-13    3.91e-14\nOriginalProducer[T.Woo York]                  -7.681e-15   5.01e-15     -1.535      0.126   -1.75e-14    2.17e-15\nLabel[T.96 and Forever Records]                2.405e-16    8.7e-17      2.765      0.006    6.94e-17    4.12e-16\nLabel[T.AMT]                                   2.094e-15   1.29e-15      1.622      0.106   -4.45e-16    4.63e-15\nLabel[T.Afterlife Records]                     1.001e-14    6.4e-15      1.563      0.119   -2.59e-15    2.26e-14\nLabel[T.All My Thoughts]                      -1.836e-14   1.18e-14     -1.559      0.120   -4.15e-14     4.8e-15\nLabel[T.Alleanza]                             -1.386e-14   8.88e-15     -1.561      0.119   -3.13e-14    3.61e-15\nLabel[T.Artesian Sounds]                      -3.667e-14   2.35e-14     -1.562      0.119   -8.28e-14    9.51e-15\nLabel[T.Arts Digital]                         -9.697e-15   6.24e-15     -1.555      0.121    -2.2e-14    2.57e-15\nLabel[T.BONNE PIOCHE MUSIC]                    1.191e-14   7.62e-15      1.563      0.119   -3.08e-15    2.69e-14\nLabel[T.Barraca Music]                         4.672e-14   2.99e-14      1.562      0.119   -1.21e-14    1.06e-13\nLabel[T.Blueprint Records]                    -3.181e-15   2.04e-15     -1.559      0.120    -7.2e-15    8.34e-16\nLabel[T.Columbia / B1 Recordings]              4.077e-15   2.56e-15      1.592      0.112   -9.62e-16    9.12e-15\nLabel[T.Connaisseur Recordings]                1.595e-15   1.01e-15      1.574      0.116   -3.99e-16    3.59e-15\nLabel[T.Curle Recordings]                      2.891e-15    1.8e-15      1.604      0.110   -6.54e-16    6.44e-15\nLabel[T.Decca (UMO)]                           1.001e-13   6.41e-14      1.562      0.119    -2.6e-14    2.26e-13\nLabel[T.Dial Records]                         -5.033e-15   3.25e-15     -1.548      0.123   -1.14e-14    1.36e-15\nLabel[T.Diynamic]                              1.783e-14   1.14e-14      1.562      0.119   -4.62e-15    4.03e-14\nLabel[T.Drumcode]                              5.167e-14   3.31e-14      1.562      0.119   -1.34e-14    1.17e-13\nLabel[T.Dynamic Reflection]                    3.583e-16   2.22e-16      1.615      0.107    -7.8e-17    7.95e-16\nLabel[T.Dystopian]                            -9.957e-15   6.38e-15     -1.562      0.119   -2.25e-14    2.58e-15\nLabel[T.Eglo Records]                         -1.038e-13   6.64e-14     -1.563      0.119   -2.34e-13    2.68e-14\nLabel[T.Eleatics Records]                      5.287e-16   3.31e-16      1.598      0.111   -1.22e-16    1.18e-15\nLabel[T.Ellum]                                 1.062e-13    6.8e-14      1.561      0.119   -2.76e-14     2.4e-13\nLabel[T.Ellum Black]                           1.695e-14   1.09e-14      1.562      0.119    -4.4e-15    3.83e-14\nLabel[T.Enclave Records]                      -1.112e-14   7.12e-15     -1.562      0.119   -2.51e-14    2.89e-15\nLabel[T.Ensis Black]                          -4.463e-16   2.94e-16     -1.516      0.130   -1.03e-15    1.33e-16\nLabel[T.F Communications]                      2.372e-14   1.52e-14      1.563      0.119   -6.14e-15    5.36e-14\nLabel[T.Fabric]                               -3.256e-14   2.08e-14     -1.567      0.118   -7.34e-14    8.31e-15\nLabel[T.From Our Minds]                        2.807e-14    1.8e-14      1.562      0.119   -7.28e-15    6.34e-14\nLabel[T.Get Physical Music]                    1.089e-15   6.89e-16      1.581      0.115   -2.66e-16    2.44e-15\nLabel[T.Happiness Therapy]                      -1.5e-14    9.6e-15     -1.562      0.119   -3.39e-14    3.89e-15\nLabel[T.Headstrong]                           -3.226e-14   2.07e-14     -1.562      0.119   -7.29e-14    8.38e-15\nLabel[T.Hotflush Recordings]                   1.838e-14   1.17e-14      1.566      0.118    -4.7e-15    4.15e-14\nLabel[T.I Records]                             1.066e-15   6.74e-16      1.581      0.115    -2.6e-16    2.39e-15\nLabel[T.IDNK (I Do Not Know)]                  -2.35e-14    1.5e-14     -1.562      0.119   -5.31e-14     6.1e-15\nLabel[T.K7 Records]                             2.08e-15   1.32e-15      1.572      0.117   -5.23e-16    4.68e-15\nLabel[T.KULT]                                  3.414e-15   2.13e-15      1.601      0.110    -7.8e-16    7.61e-15\nLabel[T.Kompakt Extra]                         1.063e-14    6.8e-15      1.563      0.119   -2.75e-15     2.4e-14\nLabel[T.Kraftek]                               6.006e-14   3.84e-14      1.563      0.119   -1.55e-14    1.36e-13\nLabel[T.L.I.E.S. Records]                      8.967e-15    5.7e-15      1.574      0.116   -2.24e-15    2.02e-14\nLabel[T.LF RMX]                                2.179e-15   1.39e-15      1.571      0.117   -5.49e-16    4.91e-15\nLabel[T.Let's Play House]                     -5.721e-15   3.67e-15     -1.557      0.120    -1.3e-14    1.51e-15\nLabel[T.Life And Death]                       -4.601e-14   2.94e-14     -1.563      0.119   -1.04e-13    1.19e-14\nLabel[T.Lone Romantic]                         2.961e-14    1.9e-14      1.562      0.119   -7.69e-15    6.69e-14\nLabel[T.Looking For Trouble]                  -2.982e-14   1.91e-14     -1.561      0.119   -6.74e-14    7.75e-15\nLabel[T.Lost Palms]                            8.137e-15   5.11e-15      1.592      0.112   -1.92e-15    1.82e-14\nLabel[T.MPLX]                                  2.175e-14   1.39e-14      1.561      0.119   -5.66e-15    4.92e-14\nLabel[T.Marcel Dettmann Records]               2.597e-14   1.66e-14      1.569      0.118    -6.6e-15    5.85e-14\nLabel[T.Ministry of Sound Recordings]          5.752e-14   3.68e-14      1.562      0.119   -1.49e-14     1.3e-13\nLabel[T.Minus]                                -5.827e-14   3.72e-14     -1.565      0.119   -1.32e-13     1.5e-14\nLabel[T.Mixmag Records]                        1.916e-14   1.23e-14      1.562      0.119   -4.96e-15    4.33e-14\nLabel[T.Mutex Recordings]                     -4.074e-15   2.61e-15     -1.559      0.120   -9.21e-15    1.07e-15\nLabel[T.Natura Viva]                           3.199e-15   2.04e-15      1.568      0.118   -8.14e-16    7.21e-15\nLabel[T.Needwant]                             -9.598e-14   6.13e-14     -1.565      0.119   -2.17e-13    2.47e-14\nLabel[T.Ninja Tune]                           -2.412e-14   1.54e-14     -1.565      0.119   -5.44e-14     6.2e-15\nLabel[T.Of Paradise]                          -1.688e-14   1.08e-14     -1.563      0.119   -3.81e-14    4.37e-15\nLabel[T.Omena]                                -7.877e-15   5.09e-15     -1.547      0.123   -1.79e-14    2.14e-15\nLabel[T.Phantasy Sound / [PIAS]]               1.278e-14   8.16e-15      1.566      0.118   -3.27e-15    2.88e-14\nLabel[T.Pirates are Loud.]                     1.368e-15   8.67e-16      1.577      0.116   -3.39e-16    3.07e-15\nLabel[T.Planet Rhythm]                         1.217e-14   7.73e-15      1.575      0.116   -3.03e-15    2.74e-14\nLabel[T.Plus 8 Records]                        4.068e-13    2.6e-13      1.562      0.119   -1.05e-13    9.19e-13\nLabel[T.Pluto]                                -1.688e-13   1.08e-13     -1.563      0.119   -3.81e-13    4.36e-14\nLabel[T.Pour La Vie]                           9.639e-15   6.12e-15      1.575      0.116    -2.4e-15    2.17e-14\nLabel[T.R&S Records]                          -1.829e-13   1.17e-13     -1.564      0.119   -4.13e-13    4.72e-14\nLabel[T.Rekids]                                -2.38e-13   1.52e-13     -1.564      0.119   -5.37e-13    6.14e-14\nLabel[T.Running Back]                          6.113e-15    3.9e-15      1.567      0.118   -1.56e-15    1.38e-14\nLabel[T.Shall Not Fade]                       -3.107e-14   1.99e-14     -1.562      0.119   -7.02e-14    8.07e-15\nLabel[T.Snapshot]                              3.345e-14   2.14e-14      1.561      0.120   -8.71e-15    7.56e-14\nLabel[T.Sofia]                                 4.428e-14   2.83e-14      1.566      0.118   -1.14e-14    9.99e-14\nLabel[T.Soma Records]                         -3.201e-15   2.06e-15     -1.554      0.121   -7.25e-15    8.52e-16\nLabel[T.Stroboscopic Artefacts]                1.594e-15   1.01e-15      1.575      0.116   -3.98e-16    3.59e-15\nLabel[T.Suol]                                  1.064e-15   6.73e-16      1.582      0.115   -2.59e-16    2.39e-15\nLabel[T.Synesthesia Media]                     3.385e-15   2.15e-15      1.574      0.116   -8.45e-16    7.61e-15\nLabel[T.Terminal M]                            1.634e-14   1.04e-14      1.568      0.118   -4.16e-15    3.68e-14\nLabel[T.Text Records]                         -2.914e-14   1.83e-14     -1.594      0.112   -6.51e-14    6.83e-15\nLabel[T.The Corner]                            6.063e-15   3.87e-15      1.565      0.119   -1.56e-15    1.37e-14\nLabel[T.Toolroom]                              1.885e-14   1.21e-14      1.558      0.120   -4.94e-15    4.26e-14\nLabel[T.Traum]                                 5.968e-15   3.79e-15      1.576      0.116   -1.48e-15    1.34e-14\nLabel[T.Trip]                                 -1.338e-13   8.55e-14     -1.564      0.119   -3.02e-13    3.45e-14\nLabel[T.Tronic]                               -1.596e-15   1.03e-15     -1.557      0.120   -3.61e-15     4.2e-16\nLabel[T.Virgo]                                -1.105e-16   7.59e-17     -1.455      0.147    -2.6e-16    3.89e-17\nLabel[T.WTF! Music]                            7.658e-15   4.89e-15      1.567      0.118   -1.96e-15    1.73e-14\nLabel[T.Wasabi Recordings]                      1.81e-15   1.15e-15      1.574      0.117   -4.53e-16    4.07e-15\nLikes                                         -3.068e-08   1.96e-08     -1.564      0.119   -6.93e-08    7.91e-09\nShares                                        -4.369e-09   2.79e-09     -1.564      0.119   -9.86e-09    1.13e-09\nBPM                                           -9.506e-12   6.08e-12     -1.563      0.119   -2.15e-11    2.46e-12\nLength                                        -1.112e-10   7.11e-11     -1.564      0.119   -2.51e-10    2.86e-11\nFollowers                                     -1.038e-09   3.79e-10     -2.739      0.007   -1.78e-09   -2.92e-10\nTS                                              1.01e-21   6.98e-23     14.471      0.000    8.72e-22    1.15e-21\n==============================================================================\nOmnibus:                      249.229   Durbin-Watson:                   0.737\nProb(Omnibus):                  0.000   Jarque-Bera (JB):             3102.428\nSkew:                           3.132   Prob(JB):                         0.00\nKurtosis:                      16.678   Cond. No.                     2.59e+17\n==============================================================================\n\nNotes:\n[1] Standard Errors assume that the covariance matrix of the errors is correctly specified.\n[2] The condition number is large, 2.59e+17. This might indicate that there are\nstrong multicollinearity or other numerical problems.\n\"\"\"",
      "text/html": "<table class=\"simpletable\">\n<caption>OLS Regression Results</caption>\n<tr>\n  <th>Dep. Variable:</th>        <td>ActiveEng</td>    <th>  R-squared:         </th> <td>   0.060</td>\n</tr>\n<tr>\n  <th>Model:</th>                   <td>OLS</td>       <th>  Adj. R-squared:    </th> <td>   0.058</td>\n</tr>\n<tr>\n  <th>Method:</th>             <td>Least Squares</td>  <th>  F-statistic:       </th> <td>   21.04</td>\n</tr>\n<tr>\n  <th>Date:</th>             <td>Tue, 06 Apr 2021</td> <th>  Prob (F-statistic):</th> <td>6.43e-06</td>\n</tr>\n<tr>\n  <th>Time:</th>                 <td>17:23:33</td>     <th>  Log-Likelihood:    </th> <td>  1677.2</td>\n</tr>\n<tr>\n  <th>No. Observations:</th>      <td>   329</td>      <th>  AIC:               </th> <td>  -3350.</td>\n</tr>\n<tr>\n  <th>Df Residuals:</th>          <td>   327</td>      <th>  BIC:               </th> <td>  -3343.</td>\n</tr>\n<tr>\n  <th>Df Model:</th>              <td>     1</td>      <th>                     </th>     <td> </td>   \n</tr>\n<tr>\n  <th>Covariance Type:</th>      <td>nonrobust</td>    <th>                     </th>     <td> </td>   \n</tr>\n</table>\n<table class=\"simpletable\">\n<tr>\n                        <td></td>                           <th>coef</th>     <th>std err</th>      <th>t</th>      <th>P>|t|</th>  <th>[0.025</th>    <th>0.975]</th>  \n</tr>\n<tr>\n  <th>Intercept</th>                                     <td>-1.478e-11</td> <td> 9.45e-12</td> <td>   -1.564</td> <td> 0.119</td> <td>-3.34e-11</td> <td> 3.81e-12</td>\n</tr>\n<tr>\n  <th>ArtistName[T.Nina Kraviz]</th>                     <td> 5.517e-10</td> <td> 3.53e-10</td> <td>    1.565</td> <td> 0.119</td> <td>-1.42e-10</td> <td> 1.25e-09</td>\n</tr>\n<tr>\n  <th>ArtistName[T.Richie Hawtin]</th>                   <td>-1.312e-12</td> <td> 8.38e-13</td> <td>   -1.565</td> <td> 0.119</td> <td>-2.96e-12</td> <td> 3.37e-13</td>\n</tr>\n<tr>\n  <th>ArtistName[T.Tale of Us]</th>                      <td> 1.946e-11</td> <td> 1.24e-11</td> <td>    1.564</td> <td> 0.119</td> <td>-5.02e-12</td> <td> 4.39e-11</td>\n</tr>\n<tr>\n  <th>ArtistName[T.adam beyer]</th>                      <td>-5.558e-12</td> <td> 3.55e-12</td> <td>   -1.564</td> <td> 0.119</td> <td>-1.25e-11</td> <td> 1.43e-12</td>\n</tr>\n<tr>\n  <th>ArtistName[T.aleksandir]</th>                      <td> -1.31e-14</td> <td> 8.42e-15</td> <td>   -1.555</td> <td> 0.121</td> <td>-2.97e-14</td> <td> 3.47e-15</td>\n</tr>\n<tr>\n  <th>ArtistName[T.baltra]</th>                          <td>-7.002e-14</td> <td> 4.49e-14</td> <td>   -1.559</td> <td> 0.120</td> <td>-1.58e-13</td> <td> 1.83e-14</td>\n</tr>\n<tr>\n  <th>ArtistName[T.daniel avery]</th>                    <td> 1.278e-14</td> <td> 8.16e-15</td> <td>    1.566</td> <td> 0.118</td> <td>-3.27e-15</td> <td> 2.88e-14</td>\n</tr>\n<tr>\n  <th>ArtistName[T.efdemin]</th>                         <td>-5.475e-16</td> <td> 4.38e-16</td> <td>   -1.250</td> <td> 0.212</td> <td>-1.41e-15</td> <td> 3.14e-16</td>\n</tr>\n<tr>\n  <th>ArtistName[T.enrico sangiuliano]</th>              <td>-1.546e-14</td> <td> 9.91e-15</td> <td>   -1.561</td> <td> 0.120</td> <td>-3.49e-14</td> <td> 4.03e-15</td>\n</tr>\n<tr>\n  <th>ArtistName[T.floating points]</th>                 <td>-2.403e-13</td> <td> 1.54e-13</td> <td>   -1.563</td> <td> 0.119</td> <td>-5.43e-13</td> <td> 6.21e-14</td>\n</tr>\n<tr>\n  <th>ArtistName[T.harrison bdp]</th>                    <td>-5.477e-14</td> <td> 3.52e-14</td> <td>   -1.558</td> <td> 0.120</td> <td>-1.24e-13</td> <td> 1.44e-14</td>\n</tr>\n<tr>\n  <th>ArtistName[T.ilario alicante]</th>                 <td> 3.088e-15</td> <td> 1.96e-15</td> <td>    1.572</td> <td> 0.117</td> <td>-7.75e-16</td> <td> 6.95e-15</td>\n</tr>\n<tr>\n  <th>ArtistName[T.kevin yost]</th>                      <td> 5.569e-15</td> <td> 3.49e-15</td> <td>    1.593</td> <td> 0.112</td> <td>-1.31e-15</td> <td> 1.24e-14</td>\n</tr>\n<tr>\n  <th>ArtistName[T.kink]</th>                            <td>  5.04e-14</td> <td> 3.22e-14</td> <td>    1.566</td> <td> 0.118</td> <td>-1.29e-14</td> <td> 1.14e-13</td>\n</tr>\n<tr>\n  <th>ArtistName[T.laurent garnier]</th>                 <td> 4.626e-14</td> <td> 2.96e-14</td> <td>    1.563</td> <td> 0.119</td> <td> -1.2e-14</td> <td> 1.04e-13</td>\n</tr>\n<tr>\n  <th>ArtistName[T.maceo plex]</th>                      <td> 3.061e-13</td> <td> 1.96e-13</td> <td>    1.562</td> <td> 0.119</td> <td>-7.95e-14</td> <td> 6.92e-13</td>\n</tr>\n<tr>\n  <th>ArtistName[T.mall grab]</th>                       <td>-2.982e-14</td> <td> 1.91e-14</td> <td>   -1.561</td> <td> 0.119</td> <td>-6.74e-14</td> <td> 7.75e-15</td>\n</tr>\n<tr>\n  <th>ArtistName[T.marcel dettmann]</th>                 <td>  4.41e-14</td> <td> 2.81e-14</td> <td>    1.567</td> <td> 0.118</td> <td>-1.13e-14</td> <td> 9.95e-14</td>\n</tr>\n<tr>\n  <th>ArtistName[T.mathame]</th>                         <td>-4.025e-15</td> <td> 2.66e-15</td> <td>   -1.512</td> <td> 0.132</td> <td>-9.26e-15</td> <td> 1.21e-15</td>\n</tr>\n<tr>\n  <th>ArtistName[T.mind against]</th>                    <td>-2.763e-14</td> <td> 1.77e-14</td> <td>   -1.560</td> <td> 0.120</td> <td>-6.25e-14</td> <td>  7.2e-15</td>\n</tr>\n<tr>\n  <th>ArtistName[T.monika kruse]</th>                    <td>   2.4e-14</td> <td> 1.53e-14</td> <td>    1.568</td> <td> 0.118</td> <td>-6.12e-15</td> <td> 5.41e-14</td>\n</tr>\n<tr>\n  <th>ArtistName[T.mrsch]</th>                           <td>-4.463e-16</td> <td> 2.94e-16</td> <td>   -1.516</td> <td> 0.130</td> <td>-1.03e-15</td> <td> 1.33e-16</td>\n</tr>\n<tr>\n  <th>ArtistName[T.pleasurekraft]</th>                   <td> 6.006e-14</td> <td> 3.84e-14</td> <td>    1.563</td> <td> 0.119</td> <td>-1.55e-14</td> <td> 1.36e-13</td>\n</tr>\n<tr>\n  <th>ArtistName[T.randomer]</th>                        <td>-2.429e-14</td> <td> 1.56e-14</td> <td>   -1.556</td> <td> 0.121</td> <td> -5.5e-14</td> <td> 6.43e-15</td>\n</tr>\n<tr>\n  <th>ArtistName[T.red axes]</th>                        <td>  2.08e-15</td> <td> 1.32e-15</td> <td>    1.572</td> <td> 0.117</td> <td>-5.23e-16</td> <td> 4.68e-15</td>\n</tr>\n<tr>\n  <th>ArtistName[T.ron flatter]</th>                     <td>  2.27e-14</td> <td> 1.44e-14</td> <td>    1.576</td> <td> 0.116</td> <td>-5.64e-15</td> <td>  5.1e-14</td>\n</tr>\n<tr>\n  <th>ArtistName[T.seb wildblood]</th>                   <td>-3.012e-14</td> <td> 1.94e-14</td> <td>   -1.555</td> <td> 0.121</td> <td>-6.82e-14</td> <td> 7.98e-15</td>\n</tr>\n<tr>\n  <th>ArtistName[T.woo york]</th>                        <td>-1.176e-14</td> <td> 7.62e-15</td> <td>   -1.543</td> <td> 0.124</td> <td>-2.67e-14</td> <td> 3.23e-15</td>\n</tr>\n<tr>\n  <th>Key[T.A min]</th>                                  <td>-1.883e-13</td> <td>  1.2e-13</td> <td>   -1.565</td> <td> 0.119</td> <td>-4.25e-13</td> <td> 4.84e-14</td>\n</tr>\n<tr>\n  <th>Key[T.A♭ maj]</th>                                 <td>  2.36e-14</td> <td> 1.51e-14</td> <td>    1.565</td> <td> 0.119</td> <td>-6.07e-15</td> <td> 5.33e-14</td>\n</tr>\n<tr>\n  <th>Key[T.A♭ min]</th>                                 <td> -9.09e-14</td> <td> 5.81e-14</td> <td>   -1.564</td> <td> 0.119</td> <td>-2.05e-13</td> <td> 2.35e-14</td>\n</tr>\n<tr>\n  <th>Key[T.A♯ maj]</th>                                 <td> 1.622e-14</td> <td> 1.04e-14</td> <td>    1.562</td> <td> 0.119</td> <td> -4.2e-15</td> <td> 3.66e-14</td>\n</tr>\n<tr>\n  <th>Key[T.A♯ min]</th>                                 <td>  1.54e-14</td> <td> 9.82e-15</td> <td>    1.568</td> <td> 0.118</td> <td>-3.92e-15</td> <td> 3.47e-14</td>\n</tr>\n<tr>\n  <th>Key[T.B maj]</th>                                  <td> 8.854e-15</td> <td> 5.66e-15</td> <td>    1.563</td> <td> 0.119</td> <td>-2.29e-15</td> <td>    2e-14</td>\n</tr>\n<tr>\n  <th>Key[T.B min]</th>                                  <td> 5.835e-14</td> <td> 3.73e-14</td> <td>    1.564</td> <td> 0.119</td> <td> -1.5e-14</td> <td> 1.32e-13</td>\n</tr>\n<tr>\n  <th>Key[T.B♭ maj]</th>                                 <td>-3.536e-14</td> <td> 2.26e-14</td> <td>   -1.566</td> <td> 0.118</td> <td>-7.98e-14</td> <td> 9.05e-15</td>\n</tr>\n<tr>\n  <th>Key[T.B♭ min]</th>                                 <td>-2.175e-13</td> <td> 1.39e-13</td> <td>   -1.564</td> <td> 0.119</td> <td>-4.91e-13</td> <td>  5.6e-14</td>\n</tr>\n<tr>\n  <th>Key[T.C maj]</th>                                  <td>  5.09e-14</td> <td> 3.26e-14</td> <td>    1.561</td> <td> 0.119</td> <td>-1.32e-14</td> <td> 1.15e-13</td>\n</tr>\n<tr>\n  <th>Key[T.C min]</th>                                  <td> 5.401e-14</td> <td> 3.45e-14</td> <td>    1.567</td> <td> 0.118</td> <td>-1.38e-14</td> <td> 1.22e-13</td>\n</tr>\n<tr>\n  <th>Key[T.C♯ maj]</th>                                 <td> 3.663e-15</td> <td> 2.34e-15</td> <td>    1.566</td> <td> 0.118</td> <td>-9.38e-16</td> <td> 8.26e-15</td>\n</tr>\n<tr>\n  <th>Key[T.C♯ min]</th>                                 <td> 9.708e-15</td> <td> 6.19e-15</td> <td>    1.569</td> <td> 0.118</td> <td>-2.46e-15</td> <td> 2.19e-14</td>\n</tr>\n<tr>\n  <th>Key[T.D maj]</th>                                  <td> 3.442e-14</td> <td>  2.2e-14</td> <td>    1.566</td> <td> 0.118</td> <td>-8.82e-15</td> <td> 7.77e-14</td>\n</tr>\n<tr>\n  <th>Key[T.D min]</th>                                  <td> 6.675e-14</td> <td> 4.27e-14</td> <td>    1.564</td> <td> 0.119</td> <td>-1.72e-14</td> <td> 1.51e-13</td>\n</tr>\n<tr>\n  <th>Key[T.D♭ maj]</th>                                 <td> -3.56e-14</td> <td> 2.28e-14</td> <td>   -1.563</td> <td> 0.119</td> <td>-8.04e-14</td> <td> 9.21e-15</td>\n</tr>\n<tr>\n  <th>Key[T.D♭ min]</th>                                 <td>-4.735e-14</td> <td> 3.03e-14</td> <td>   -1.563</td> <td> 0.119</td> <td>-1.07e-13</td> <td> 1.22e-14</td>\n</tr>\n<tr>\n  <th>Key[T.D♯ maj]</th>                                 <td> 1.375e-14</td> <td> 8.78e-15</td> <td>    1.567</td> <td> 0.118</td> <td>-3.52e-15</td> <td>  3.1e-14</td>\n</tr>\n<tr>\n  <th>Key[T.D♯ min]</th>                                 <td> 1.027e-14</td> <td> 6.55e-15</td> <td>    1.569</td> <td> 0.118</td> <td>-2.61e-15</td> <td> 2.31e-14</td>\n</tr>\n<tr>\n  <th>Key[T.E maj]</th>                                  <td> 4.109e-14</td> <td> 2.63e-14</td> <td>    1.564</td> <td> 0.119</td> <td>-1.06e-14</td> <td> 9.28e-14</td>\n</tr>\n<tr>\n  <th>Key[T.E min]</th>                                  <td>  7.09e-14</td> <td> 4.54e-14</td> <td>    1.562</td> <td> 0.119</td> <td>-1.84e-14</td> <td>  1.6e-13</td>\n</tr>\n<tr>\n  <th>Key[T.E♭ maj]</th>                                 <td>-9.534e-17</td> <td> 6.75e-17</td> <td>   -1.413</td> <td> 0.159</td> <td>-2.28e-16</td> <td> 3.74e-17</td>\n</tr>\n<tr>\n  <th>Key[T.E♭ min]</th>                                 <td> 3.193e-14</td> <td> 2.04e-14</td> <td>    1.568</td> <td> 0.118</td> <td>-8.14e-15</td> <td>  7.2e-14</td>\n</tr>\n<tr>\n  <th>Key[T.F maj]</th>                                  <td> 1.853e-14</td> <td> 1.18e-14</td> <td>    1.564</td> <td> 0.119</td> <td>-4.78e-15</td> <td> 4.18e-14</td>\n</tr>\n<tr>\n  <th>Key[T.F min]</th>                                  <td>-3.641e-16</td> <td> 3.14e-16</td> <td>   -1.161</td> <td> 0.247</td> <td>-9.81e-16</td> <td> 2.53e-16</td>\n</tr>\n<tr>\n  <th>Key[T.F♯ maj]</th>                                 <td> 3.345e-14</td> <td> 2.14e-14</td> <td>    1.561</td> <td> 0.120</td> <td>-8.71e-15</td> <td> 7.56e-14</td>\n</tr>\n<tr>\n  <th>Key[T.F♯ min]</th>                                 <td>-3.855e-15</td> <td>  2.5e-15</td> <td>   -1.542</td> <td> 0.124</td> <td>-8.77e-15</td> <td> 1.06e-15</td>\n</tr>\n<tr>\n  <th>Key[T.G maj]</th>                                  <td> 4.255e-14</td> <td> 2.72e-14</td> <td>    1.562</td> <td> 0.119</td> <td> -1.1e-14</td> <td> 9.61e-14</td>\n</tr>\n<tr>\n  <th>Key[T.G min]</th>                                  <td>-4.387e-14</td> <td> 2.81e-14</td> <td>   -1.563</td> <td> 0.119</td> <td>-9.91e-14</td> <td> 1.14e-14</td>\n</tr>\n<tr>\n  <th>Key[T.G♭ maj]</th>                                 <td> 3.361e-14</td> <td> 2.15e-14</td> <td>    1.561</td> <td> 0.120</td> <td>-8.75e-15</td> <td>  7.6e-14</td>\n</tr>\n<tr>\n  <th>Key[T.G♭ min]</th>                                 <td>-1.112e-13</td> <td> 7.11e-14</td> <td>   -1.564</td> <td> 0.119</td> <td>-2.51e-13</td> <td> 2.86e-14</td>\n</tr>\n<tr>\n  <th>Key[T.G♯ maj]</th>                                 <td> 2.925e-14</td> <td> 1.87e-14</td> <td>    1.563</td> <td> 0.119</td> <td>-7.58e-15</td> <td> 6.61e-14</td>\n</tr>\n<tr>\n  <th>Key[T.G♯ min]</th>                                 <td> -2.64e-14</td> <td> 1.69e-14</td> <td>   -1.564</td> <td> 0.119</td> <td>-5.96e-14</td> <td> 6.82e-15</td>\n</tr>\n<tr>\n  <th>Genre[T.Dance / Electro Pop]</th>                  <td> 4.077e-15</td> <td> 2.56e-15</td> <td>    1.592</td> <td> 0.112</td> <td>-9.62e-16</td> <td> 9.12e-15</td>\n</tr>\n<tr>\n  <th>Genre[T.Deep House]</th>                           <td>-2.043e-13</td> <td> 1.31e-13</td> <td>   -1.562</td> <td> 0.119</td> <td>-4.62e-13</td> <td> 5.29e-14</td>\n</tr>\n<tr>\n  <th>Genre[T.Electro (Classic / Detroit / Modern)]</th> <td> 2.159e-14</td> <td> 1.38e-14</td> <td>    1.564</td> <td> 0.119</td> <td>-5.57e-15</td> <td> 4.87e-14</td>\n</tr>\n<tr>\n  <th>Genre[T.Electronica]</th>                          <td>-3.118e-14</td> <td> 1.98e-14</td> <td>   -1.576</td> <td> 0.116</td> <td>-7.01e-14</td> <td> 7.74e-15</td>\n</tr>\n<tr>\n  <th>Genre[T.House]</th>                                <td>-9.415e-14</td> <td> 6.03e-14</td> <td>   -1.562</td> <td> 0.119</td> <td>-2.13e-13</td> <td> 2.44e-14</td>\n</tr>\n<tr>\n  <th>Genre[T.Indie Dance]</th>                          <td> 5.303e-14</td> <td> 3.39e-14</td> <td>    1.562</td> <td> 0.119</td> <td>-1.37e-14</td> <td>  1.2e-13</td>\n</tr>\n<tr>\n  <th>Genre[T.Melodic House & Techno]</th>               <td> 8.331e-14</td> <td> 5.33e-14</td> <td>    1.563</td> <td> 0.119</td> <td>-2.15e-14</td> <td> 1.88e-13</td>\n</tr>\n<tr>\n  <th>Genre[T.Minimal / Deep Tech]</th>                  <td>-2.363e-14</td> <td> 1.51e-14</td> <td>   -1.568</td> <td> 0.118</td> <td>-5.33e-14</td> <td> 6.02e-15</td>\n</tr>\n<tr>\n  <th>Genre[T.Progressive House]</th>                    <td> 1.684e-15</td> <td> 1.07e-15</td> <td>    1.574</td> <td> 0.116</td> <td> -4.2e-16</td> <td> 3.79e-15</td>\n</tr>\n<tr>\n  <th>Genre[T.Tech House]</th>                           <td>-1.101e-13</td> <td> 7.04e-14</td> <td>   -1.565</td> <td> 0.119</td> <td>-2.49e-13</td> <td> 2.83e-14</td>\n</tr>\n<tr>\n  <th>Genre[T.Techno (Peak Time / Driving)]</th>         <td>  2.71e-13</td> <td> 1.73e-13</td> <td>    1.562</td> <td> 0.119</td> <td>-7.02e-14</td> <td> 6.12e-13</td>\n</tr>\n<tr>\n  <th>Genre[T.Techno (Raw / Deep / Hypnotic)]</th>       <td>-1.282e-13</td> <td> 8.22e-14</td> <td>   -1.560</td> <td> 0.120</td> <td> -2.9e-13</td> <td> 3.35e-14</td>\n</tr>\n<tr>\n  <th>Genre[T.UK Garage / Bassline]</th>                 <td> 5.785e-14</td> <td> 3.71e-14</td> <td>    1.561</td> <td> 0.119</td> <td>-1.51e-14</td> <td> 1.31e-13</td>\n</tr>\n<tr>\n  <th>Feat[T.Akio Imai]</th>                             <td> 3.552e-15</td> <td> 2.23e-15</td> <td>    1.595</td> <td> 0.112</td> <td> -8.3e-16</td> <td> 7.94e-15</td>\n</tr>\n<tr>\n  <th>Feat[T.Alan Fitzpatrick]</th>                      <td> 1.613e-15</td> <td> 1.02e-15</td> <td>    1.587</td> <td> 0.114</td> <td>-3.87e-16</td> <td> 3.61e-15</td>\n</tr>\n<tr>\n  <th>Feat[T.Alberth]</th>                               <td>  -1.5e-14</td> <td>  9.6e-15</td> <td>   -1.562</td> <td> 0.119</td> <td>-3.39e-14</td> <td> 3.89e-15</td>\n</tr>\n<tr>\n  <th>Feat[T.Alessandro Cortini]</th>                    <td> 1.278e-14</td> <td> 8.16e-15</td> <td>    1.566</td> <td> 0.118</td> <td>-3.27e-15</td> <td> 2.88e-14</td>\n</tr>\n<tr>\n  <th>Feat[T.Bart Skils]</th>                            <td> 2.604e-14</td> <td> 1.66e-14</td> <td>    1.564</td> <td> 0.119</td> <td>-6.71e-15</td> <td> 5.88e-14</td>\n</tr>\n<tr>\n  <th>Feat[T.Be No Rain]</th>                            <td>-1.664e-13</td> <td> 1.06e-13</td> <td>   -1.565</td> <td> 0.119</td> <td>-3.76e-13</td> <td> 4.28e-14</td>\n</tr>\n<tr>\n  <th>Feat[T.Boom Bip]</th>                              <td>-9.917e-15</td> <td> 6.24e-15</td> <td>   -1.590</td> <td> 0.113</td> <td>-2.22e-14</td> <td> 2.35e-15</td>\n</tr>\n<tr>\n  <th>Feat[T.CJ Bolland]</th>                            <td>-1.546e-14</td> <td> 9.91e-15</td> <td>   -1.561</td> <td> 0.120</td> <td>-3.49e-14</td> <td> 4.03e-15</td>\n</tr>\n<tr>\n  <th>Feat[T.Cadans]</th>                                <td> 4.469e-15</td> <td> 2.84e-15</td> <td>    1.574</td> <td> 0.116</td> <td>-1.11e-15</td> <td> 1.01e-14</td>\n</tr>\n<tr>\n  <th>Feat[T.Cam Deas]</th>                              <td> 1.754e-14</td> <td> 1.12e-14</td> <td>    1.562</td> <td> 0.119</td> <td>-4.55e-15</td> <td> 3.96e-14</td>\n</tr>\n<tr>\n  <th>Feat[T.Casey Gerald]</th>                          <td> 4.391e-14</td> <td>  2.8e-14</td> <td>    1.566</td> <td> 0.118</td> <td>-1.12e-14</td> <td> 9.91e-14</td>\n</tr>\n<tr>\n  <th>Feat[T.Cortechs]</th>                              <td> 3.058e-14</td> <td> 1.96e-14</td> <td>    1.562</td> <td> 0.119</td> <td>-7.93e-15</td> <td> 6.91e-14</td>\n</tr>\n<tr>\n  <th>Feat[T.DJ Beens]</th>                              <td> 1.535e-14</td> <td> 9.68e-15</td> <td>    1.584</td> <td> 0.114</td> <td>-3.71e-15</td> <td> 3.44e-14</td>\n</tr>\n<tr>\n  <th>Feat[T.DJ Boring]</th>                             <td>-3.274e-14</td> <td> 2.09e-14</td> <td>   -1.563</td> <td> 0.119</td> <td> -7.4e-14</td> <td> 8.47e-15</td>\n</tr>\n<tr>\n  <th>Feat[T.DJ Seinfeld]</th>                           <td> 1.247e-15</td> <td>  7.9e-16</td> <td>    1.578</td> <td> 0.115</td> <td>-3.07e-16</td> <td>  2.8e-15</td>\n</tr>\n<tr>\n  <th>Feat[T.DJ Smilk]</th>                              <td> 2.574e-15</td> <td> 1.53e-15</td> <td>    1.678</td> <td> 0.094</td> <td>-4.44e-16</td> <td> 5.59e-15</td>\n</tr>\n<tr>\n  <th>Feat[T.Dario Sorano]</th>                          <td> 1.754e-14</td> <td> 1.12e-14</td> <td>    1.562</td> <td> 0.119</td> <td>-4.55e-15</td> <td> 3.96e-14</td>\n</tr>\n<tr>\n  <th>Feat[T.Dave Sinner]</th>                           <td>-3.925e-15</td> <td> 2.51e-15</td> <td>   -1.564</td> <td> 0.119</td> <td>-8.86e-15</td> <td> 1.01e-15</td>\n</tr>\n<tr>\n  <th>Feat[T.Deekline]</th>                              <td> 5.817e-16</td> <td> 3.17e-16</td> <td>    1.836</td> <td> 0.067</td> <td>-4.16e-17</td> <td>  1.2e-15</td>\n</tr>\n<tr>\n  <th>Feat[T.Drzneday]</th>                              <td> 3.495e-15</td> <td>  2.2e-15</td> <td>    1.586</td> <td> 0.114</td> <td>-8.41e-16</td> <td> 7.83e-15</td>\n</tr>\n<tr>\n  <th>Feat[T.Edit Select]</th>                           <td> 3.525e-14</td> <td> 2.26e-14</td> <td>    1.562</td> <td> 0.119</td> <td>-9.14e-15</td> <td> 7.96e-14</td>\n</tr>\n<tr>\n  <th>Feat[T.F.U.S.E.]</th>                              <td> 1.818e-13</td> <td> 1.16e-13</td> <td>    1.562</td> <td> 0.119</td> <td>-4.72e-14</td> <td> 4.11e-13</td>\n</tr>\n<tr>\n  <th>Feat[T.Flash 89]</th>                              <td> 1.815e-15</td> <td> 1.14e-15</td> <td>    1.586</td> <td> 0.114</td> <td>-4.37e-16</td> <td> 4.07e-15</td>\n</tr>\n<tr>\n  <th>Feat[T.Four Tet]</th>                              <td>-2.009e-14</td> <td> 1.27e-14</td> <td>   -1.588</td> <td> 0.113</td> <td> -4.5e-14</td> <td>  4.8e-15</td>\n</tr>\n<tr>\n  <th>Feat[T.Harrison]</th>                              <td>-6.805e-15</td> <td> 4.45e-15</td> <td>   -1.528</td> <td> 0.127</td> <td>-1.56e-14</td> <td> 1.96e-15</td>\n</tr>\n<tr>\n  <th>Feat[T.Headwaters]</th>                            <td> 8.353e-15</td> <td> 5.31e-15</td> <td>    1.573</td> <td> 0.117</td> <td>-2.09e-15</td> <td> 1.88e-14</td>\n</tr>\n<tr>\n  <th>Feat[T.INGRID (IT)]</th>                           <td>-2.982e-14</td> <td> 1.91e-14</td> <td>   -1.561</td> <td> 0.119</td> <td>-6.74e-14</td> <td> 7.75e-15</td>\n</tr>\n<tr>\n  <th>Feat[T.Ian Urbina]</th>                            <td> 3.385e-15</td> <td> 2.15e-15</td> <td>    1.574</td> <td> 0.116</td> <td>-8.45e-16</td> <td> 7.61e-15</td>\n</tr>\n<tr>\n  <th>Feat[T.Insaac Students]</th>                       <td> 4.834e-14</td> <td> 3.09e-14</td> <td>    1.563</td> <td> 0.119</td> <td>-1.25e-14</td> <td> 1.09e-13</td>\n</tr>\n<tr>\n  <th>Feat[T.Jamie XX]</th>                              <td>-9.598e-14</td> <td> 6.13e-14</td> <td>   -1.565</td> <td> 0.119</td> <td>-2.17e-13</td> <td> 2.47e-14</td>\n</tr>\n<tr>\n  <th>Feat[T.Jason Van Wyk]</th>                         <td> 2.094e-15</td> <td> 1.29e-15</td> <td>    1.622</td> <td> 0.106</td> <td>-4.45e-16</td> <td> 4.63e-15</td>\n</tr>\n<tr>\n  <th>Feat[T.Joph Wa]</th>                               <td>-9.697e-15</td> <td> 6.24e-15</td> <td>   -1.555</td> <td> 0.121</td> <td> -2.2e-14</td> <td> 2.57e-15</td>\n</tr>\n<tr>\n  <th>Feat[T.Jude & Frank]</th>                          <td> 4.774e-15</td> <td> 3.05e-15</td> <td>    1.568</td> <td> 0.118</td> <td>-1.22e-15</td> <td> 1.08e-14</td>\n</tr>\n<tr>\n  <th>Feat[T.Juliet Fox]</th>                            <td> 3.783e-14</td> <td> 2.42e-14</td> <td>    1.563</td> <td> 0.119</td> <td>-9.78e-15</td> <td> 8.54e-14</td>\n</tr>\n<tr>\n  <th>Feat[T.Kaiserdisco]</th>                           <td> 1.506e-14</td> <td> 9.64e-15</td> <td>    1.562</td> <td> 0.119</td> <td>-3.91e-15</td> <td>  3.4e-14</td>\n</tr>\n<tr>\n  <th>Feat[T.Kassian Troyer]</th>                        <td> 2.378e-15</td> <td> 1.51e-15</td> <td>    1.576</td> <td> 0.116</td> <td>-5.91e-16</td> <td> 5.35e-15</td>\n</tr>\n<tr>\n  <th>Feat[T.Kei]</th>                                   <td> 3.866e-14</td> <td> 2.47e-14</td> <td>    1.566</td> <td> 0.118</td> <td>-9.92e-15</td> <td> 8.72e-14</td>\n</tr>\n<tr>\n  <th>Feat[T.Kuvoka]</th>                                <td> 1.647e-14</td> <td> 1.05e-14</td> <td>    1.562</td> <td> 0.119</td> <td>-4.27e-15</td> <td> 3.72e-14</td>\n</tr>\n<tr>\n  <th>Feat[T.Locked Groove]</th>                         <td>-3.709e-14</td> <td> 2.38e-14</td> <td>   -1.559</td> <td> 0.120</td> <td>-8.39e-14</td> <td>  9.7e-15</td>\n</tr>\n<tr>\n  <th>Feat[T.Lyke]</th>                                  <td> 1.595e-15</td> <td> 1.01e-15</td> <td>    1.574</td> <td> 0.116</td> <td>-3.99e-16</td> <td> 3.59e-15</td>\n</tr>\n<tr>\n  <th>Feat[T.Maars]</th>                                 <td> 1.195e-13</td> <td> 7.65e-14</td> <td>    1.562</td> <td> 0.119</td> <td> -3.1e-14</td> <td>  2.7e-13</td>\n</tr>\n<tr>\n  <th>Feat[T.Maceo Plex]</th>                            <td> 1.614e-13</td> <td> 1.03e-13</td> <td>    1.561</td> <td> 0.119</td> <td>-4.19e-14</td> <td> 3.65e-13</td>\n</tr>\n<tr>\n  <th>Feat[T.Martyn]</th>                                <td>-5.632e-14</td> <td>  3.6e-14</td> <td>   -1.565</td> <td> 0.118</td> <td>-1.27e-13</td> <td> 1.45e-14</td>\n</tr>\n<tr>\n  <th>Feat[T.Mateo!]</th>                                <td>-4.776e-17</td> <td> 4.93e-17</td> <td>   -0.968</td> <td> 0.334</td> <td>-1.45e-16</td> <td> 4.93e-17</td>\n</tr>\n<tr>\n  <th>Feat[T.Michael Salvatori]</th>                     <td>-2.752e-13</td> <td> 1.76e-13</td> <td>   -1.563</td> <td> 0.119</td> <td>-6.22e-13</td> <td> 7.11e-14</td>\n</tr>\n<tr>\n  <th>Feat[T.Nathan Ball]</th>                           <td> 2.513e-14</td> <td> 1.61e-14</td> <td>    1.562</td> <td> 0.119</td> <td>-6.53e-15</td> <td> 5.68e-14</td>\n</tr>\n<tr>\n  <th>Feat[T.Nōpi]</th>                                  <td> 7.864e-15</td> <td> 4.99e-15</td> <td>    1.577</td> <td> 0.116</td> <td>-1.94e-15</td> <td> 1.77e-14</td>\n</tr>\n<tr>\n  <th>Feat[T.Pig&Dan]</th>                               <td> 3.831e-15</td> <td> 2.44e-15</td> <td>    1.573</td> <td> 0.117</td> <td>-9.62e-16</td> <td> 8.62e-15</td>\n</tr>\n<tr>\n  <th>Feat[T.Rachel Row]</th>                            <td> 4.664e-14</td> <td> 2.98e-14</td> <td>    1.566</td> <td> 0.118</td> <td> -1.2e-14</td> <td> 1.05e-13</td>\n</tr>\n<tr>\n  <th>Feat[T.Ricardo Garduno]</th>                       <td> 1.736e-14</td> <td> 1.11e-14</td> <td>    1.562</td> <td> 0.119</td> <td> -4.5e-15</td> <td> 3.92e-14</td>\n</tr>\n<tr>\n  <th>Feat[T.Richie Hawtin]</th>                         <td> 3.295e-14</td> <td> 2.11e-14</td> <td>    1.562</td> <td> 0.119</td> <td>-8.54e-15</td> <td> 7.44e-14</td>\n</tr>\n<tr>\n  <th>Feat[T.Rocky Miller]</th>                          <td> 1.754e-14</td> <td> 1.12e-14</td> <td>    1.562</td> <td> 0.119</td> <td>-4.55e-15</td> <td> 3.96e-14</td>\n</tr>\n<tr>\n  <th>Feat[T.Rosper]</th>                                <td>   1.7e-14</td> <td> 1.09e-14</td> <td>    1.562</td> <td> 0.119</td> <td>-4.41e-15</td> <td> 3.84e-14</td>\n</tr>\n<tr>\n  <th>Feat[T.S.Sic]</th>                                 <td> 1.701e-14</td> <td> 1.09e-14</td> <td>    1.562</td> <td> 0.119</td> <td>-4.41e-15</td> <td> 3.84e-14</td>\n</tr>\n<tr>\n  <th>Feat[T.Saad Ayub]</th>                             <td> -2.35e-14</td> <td>  1.5e-14</td> <td>   -1.562</td> <td> 0.119</td> <td>-5.31e-14</td> <td>  6.1e-15</td>\n</tr>\n<tr>\n  <th>Feat[T.Sinus Alpha]</th>                           <td>-3.479e-14</td> <td> 2.23e-14</td> <td>   -1.563</td> <td> 0.119</td> <td>-7.86e-14</td> <td> 8.99e-15</td>\n</tr>\n<tr>\n  <th>Feat[T.Special Request]</th>                       <td>-3.106e-13</td> <td> 1.98e-13</td> <td>   -1.565</td> <td> 0.119</td> <td>-7.01e-13</td> <td> 7.99e-14</td>\n</tr>\n<tr>\n  <th>Feat[T.Swemania]</th>                              <td> 2.016e-15</td> <td> 1.27e-15</td> <td>    1.591</td> <td> 0.113</td> <td>-4.76e-16</td> <td> 4.51e-15</td>\n</tr>\n<tr>\n  <th>Feat[T.Terror Danjah]</th>                         <td> 4.435e-14</td> <td> 2.84e-14</td> <td>    1.559</td> <td> 0.120</td> <td>-1.16e-14</td> <td>    1e-13</td>\n</tr>\n<tr>\n  <th>Feat[T.The Juan Maclean]</th>                      <td>-4.913e-14</td> <td> 3.15e-14</td> <td>   -1.562</td> <td> 0.119</td> <td>-1.11e-13</td> <td> 1.28e-14</td>\n</tr>\n<tr>\n  <th>Feat[T.The YellowHeads]</th>                       <td>-6.297e-15</td> <td> 4.03e-15</td> <td>   -1.564</td> <td> 0.119</td> <td>-1.42e-14</td> <td> 1.62e-15</td>\n</tr>\n<tr>\n  <th>Feat[T.Timmo]</th>                                 <td> 3.564e-15</td> <td> 2.27e-15</td> <td>    1.567</td> <td> 0.118</td> <td>-9.11e-16</td> <td> 8.04e-15</td>\n</tr>\n<tr>\n  <th>Feat[T.Voodooamt]</th>                             <td> 7.921e-15</td> <td> 5.06e-15</td> <td>    1.566</td> <td> 0.118</td> <td>-2.03e-15</td> <td> 1.79e-14</td>\n</tr>\n<tr>\n  <th>Feat[T.Woo York]</th>                              <td>-1.403e-14</td> <td> 8.99e-15</td> <td>   -1.561</td> <td> 0.119</td> <td>-3.17e-14</td> <td> 3.65e-15</td>\n</tr>\n<tr>\n  <th>Feat[T.Ø [Phase]]</th>                             <td>-3.412e-16</td> <td> 2.35e-16</td> <td>   -1.455</td> <td> 0.147</td> <td>-8.03e-16</td> <td>  1.2e-16</td>\n</tr>\n<tr>\n  <th>OriginalProducer[T.Aleksandir]</th>                <td>  2.51e-16</td> <td> 1.17e-16</td> <td>    2.152</td> <td> 0.032</td> <td> 2.16e-17</td> <td> 4.81e-16</td>\n</tr>\n<tr>\n  <th>OriginalProducer[T.Baltra]</th>                    <td>-7.002e-14</td> <td> 4.49e-14</td> <td>   -1.559</td> <td> 0.120</td> <td>-1.58e-13</td> <td> 1.83e-14</td>\n</tr>\n<tr>\n  <th>OriginalProducer[T.Champion]</th>                  <td> 3.345e-14</td> <td> 2.14e-14</td> <td>    1.561</td> <td> 0.120</td> <td>-8.71e-15</td> <td> 7.56e-14</td>\n</tr>\n<tr>\n  <th>OriginalProducer[T.Christian Hornbostel]</th>      <td> 1.718e-14</td> <td>  1.1e-14</td> <td>    1.562</td> <td> 0.119</td> <td>-4.45e-15</td> <td> 3.88e-14</td>\n</tr>\n<tr>\n  <th>OriginalProducer[T.DJ Emerson]</th>                <td> 1.577e-14</td> <td> 1.01e-14</td> <td>    1.562</td> <td> 0.119</td> <td>-4.09e-15</td> <td> 3.56e-14</td>\n</tr>\n<tr>\n  <th>OriginalProducer[T.Daniel Avery]</th>              <td> 1.278e-14</td> <td> 8.16e-15</td> <td>    1.566</td> <td> 0.118</td> <td>-3.27e-15</td> <td> 2.88e-14</td>\n</tr>\n<tr>\n  <th>OriginalProducer[T.Efdemin]</th>                   <td>-5.475e-16</td> <td> 4.38e-16</td> <td>   -1.250</td> <td> 0.212</td> <td>-1.41e-15</td> <td> 3.14e-16</td>\n</tr>\n<tr>\n  <th>OriginalProducer[T.Enrico Sangiuliano]</th>        <td>-1.546e-14</td> <td> 9.91e-15</td> <td>   -1.561</td> <td> 0.120</td> <td>-3.49e-14</td> <td> 4.03e-15</td>\n</tr>\n<tr>\n  <th>OriginalProducer[T.Exploit]</th>                   <td>-4.074e-15</td> <td> 2.61e-15</td> <td>   -1.559</td> <td> 0.120</td> <td>-9.21e-15</td> <td> 1.07e-15</td>\n</tr>\n<tr>\n  <th>OriginalProducer[T.Floating Points]</th>           <td>-2.403e-13</td> <td> 1.54e-13</td> <td>   -1.563</td> <td> 0.119</td> <td>-5.43e-13</td> <td> 6.21e-14</td>\n</tr>\n<tr>\n  <th>OriginalProducer[T.Four Tet]</th>                  <td>-1.371e-13</td> <td> 8.72e-14</td> <td>   -1.573</td> <td> 0.117</td> <td>-3.09e-13</td> <td> 3.44e-14</td>\n</tr>\n<tr>\n  <th>OriginalProducer[T.Harrison BDP]</th>              <td>-5.477e-14</td> <td> 3.52e-14</td> <td>   -1.558</td> <td> 0.120</td> <td>-1.24e-13</td> <td> 1.44e-14</td>\n</tr>\n<tr>\n  <th>OriginalProducer[T.Ilario Alicante]</th>           <td> 3.088e-15</td> <td> 1.96e-15</td> <td>    1.572</td> <td> 0.117</td> <td>-7.75e-16</td> <td> 6.95e-15</td>\n</tr>\n<tr>\n  <th>OriginalProducer[T.Kevin Yost]</th>                <td> 5.569e-15</td> <td> 3.49e-15</td> <td>    1.593</td> <td> 0.112</td> <td>-1.31e-15</td> <td> 1.24e-14</td>\n</tr>\n<tr>\n  <th>OriginalProducer[T.KiNK]</th>                      <td>  5.04e-14</td> <td> 3.22e-14</td> <td>    1.566</td> <td> 0.118</td> <td>-1.29e-14</td> <td> 1.14e-13</td>\n</tr>\n<tr>\n  <th>OriginalProducer[T.Laurent Garnier]</th>           <td> 4.626e-14</td> <td> 2.96e-14</td> <td>    1.563</td> <td> 0.119</td> <td> -1.2e-14</td> <td> 1.04e-13</td>\n</tr>\n<tr>\n  <th>OriginalProducer[T.MRSCH]</th>                     <td>-4.463e-16</td> <td> 2.94e-16</td> <td>   -1.516</td> <td> 0.130</td> <td>-1.03e-15</td> <td> 1.33e-16</td>\n</tr>\n<tr>\n  <th>OriginalProducer[T.Maceo Plex]</th>                <td> 3.061e-13</td> <td> 1.96e-13</td> <td>    1.562</td> <td> 0.119</td> <td>-7.95e-14</td> <td> 6.92e-13</td>\n</tr>\n<tr>\n  <th>OriginalProducer[T.Mall Grab]</th>                 <td>-2.982e-14</td> <td> 1.91e-14</td> <td>   -1.561</td> <td> 0.119</td> <td>-6.74e-14</td> <td> 7.75e-15</td>\n</tr>\n<tr>\n  <th>OriginalProducer[T.Marcel Dettmann]</th>           <td>  4.41e-14</td> <td> 2.81e-14</td> <td>    1.567</td> <td> 0.118</td> <td>-1.13e-14</td> <td> 9.95e-14</td>\n</tr>\n<tr>\n  <th>OriginalProducer[T.Mathame]</th>                   <td>-4.025e-15</td> <td> 2.66e-15</td> <td>   -1.512</td> <td> 0.132</td> <td>-9.26e-15</td> <td> 1.21e-15</td>\n</tr>\n<tr>\n  <th>OriginalProducer[T.Mind Against]</th>              <td>-2.763e-14</td> <td> 1.77e-14</td> <td>   -1.560</td> <td> 0.120</td> <td>-6.25e-14</td> <td>  7.2e-15</td>\n</tr>\n<tr>\n  <th>OriginalProducer[T.Monika Kruse]</th>              <td>   2.4e-14</td> <td> 1.53e-14</td> <td>    1.568</td> <td> 0.118</td> <td>-6.12e-15</td> <td> 5.41e-14</td>\n</tr>\n<tr>\n  <th>OriginalProducer[T.Nina Kraviz]</th>               <td>-3.526e-13</td> <td> 2.25e-13</td> <td>   -1.564</td> <td> 0.119</td> <td>-7.96e-13</td> <td> 9.09e-14</td>\n</tr>\n<tr>\n  <th>OriginalProducer[T.Pleasurekraft]</th>             <td> 6.006e-14</td> <td> 3.84e-14</td> <td>    1.563</td> <td> 0.119</td> <td>-1.55e-14</td> <td> 1.36e-13</td>\n</tr>\n<tr>\n  <th>OriginalProducer[T.Randomer]</th>                  <td>-2.429e-14</td> <td> 1.56e-14</td> <td>   -1.556</td> <td> 0.121</td> <td> -5.5e-14</td> <td> 6.43e-15</td>\n</tr>\n<tr>\n  <th>OriginalProducer[T.Red Axes]</th>                  <td>  2.08e-15</td> <td> 1.32e-15</td> <td>    1.572</td> <td> 0.117</td> <td>-5.23e-16</td> <td> 4.68e-15</td>\n</tr>\n<tr>\n  <th>OriginalProducer[T.Richie Hawtin]</th>             <td> 4.019e-13</td> <td> 2.57e-13</td> <td>    1.562</td> <td> 0.119</td> <td>-1.04e-13</td> <td> 9.08e-13</td>\n</tr>\n<tr>\n  <th>OriginalProducer[T.Ron Flatter]</th>               <td>  2.27e-14</td> <td> 1.44e-14</td> <td>    1.576</td> <td> 0.116</td> <td>-5.64e-15</td> <td>  5.1e-14</td>\n</tr>\n<tr>\n  <th>OriginalProducer[T.Seb Wildblood]</th>             <td>-3.012e-14</td> <td> 1.94e-14</td> <td>   -1.555</td> <td> 0.121</td> <td>-6.82e-14</td> <td> 7.98e-15</td>\n</tr>\n<tr>\n  <th>OriginalProducer[T.Tale Of Us]</th>                <td>-1.524e-13</td> <td> 9.74e-14</td> <td>   -1.566</td> <td> 0.118</td> <td>-3.44e-13</td> <td> 3.91e-14</td>\n</tr>\n<tr>\n  <th>OriginalProducer[T.Woo York]</th>                  <td>-7.681e-15</td> <td> 5.01e-15</td> <td>   -1.535</td> <td> 0.126</td> <td>-1.75e-14</td> <td> 2.17e-15</td>\n</tr>\n<tr>\n  <th>Label[T.96 and Forever Records]</th>               <td> 2.405e-16</td> <td>  8.7e-17</td> <td>    2.765</td> <td> 0.006</td> <td> 6.94e-17</td> <td> 4.12e-16</td>\n</tr>\n<tr>\n  <th>Label[T.AMT]</th>                                  <td> 2.094e-15</td> <td> 1.29e-15</td> <td>    1.622</td> <td> 0.106</td> <td>-4.45e-16</td> <td> 4.63e-15</td>\n</tr>\n<tr>\n  <th>Label[T.Afterlife Records]</th>                    <td> 1.001e-14</td> <td>  6.4e-15</td> <td>    1.563</td> <td> 0.119</td> <td>-2.59e-15</td> <td> 2.26e-14</td>\n</tr>\n<tr>\n  <th>Label[T.All My Thoughts]</th>                      <td>-1.836e-14</td> <td> 1.18e-14</td> <td>   -1.559</td> <td> 0.120</td> <td>-4.15e-14</td> <td>  4.8e-15</td>\n</tr>\n<tr>\n  <th>Label[T.Alleanza]</th>                             <td>-1.386e-14</td> <td> 8.88e-15</td> <td>   -1.561</td> <td> 0.119</td> <td>-3.13e-14</td> <td> 3.61e-15</td>\n</tr>\n<tr>\n  <th>Label[T.Artesian Sounds]</th>                      <td>-3.667e-14</td> <td> 2.35e-14</td> <td>   -1.562</td> <td> 0.119</td> <td>-8.28e-14</td> <td> 9.51e-15</td>\n</tr>\n<tr>\n  <th>Label[T.Arts Digital]</th>                         <td>-9.697e-15</td> <td> 6.24e-15</td> <td>   -1.555</td> <td> 0.121</td> <td> -2.2e-14</td> <td> 2.57e-15</td>\n</tr>\n<tr>\n  <th>Label[T.BONNE PIOCHE MUSIC]</th>                   <td> 1.191e-14</td> <td> 7.62e-15</td> <td>    1.563</td> <td> 0.119</td> <td>-3.08e-15</td> <td> 2.69e-14</td>\n</tr>\n<tr>\n  <th>Label[T.Barraca Music]</th>                        <td> 4.672e-14</td> <td> 2.99e-14</td> <td>    1.562</td> <td> 0.119</td> <td>-1.21e-14</td> <td> 1.06e-13</td>\n</tr>\n<tr>\n  <th>Label[T.Blueprint Records]</th>                    <td>-3.181e-15</td> <td> 2.04e-15</td> <td>   -1.559</td> <td> 0.120</td> <td> -7.2e-15</td> <td> 8.34e-16</td>\n</tr>\n<tr>\n  <th>Label[T.Columbia / B1 Recordings]</th>             <td> 4.077e-15</td> <td> 2.56e-15</td> <td>    1.592</td> <td> 0.112</td> <td>-9.62e-16</td> <td> 9.12e-15</td>\n</tr>\n<tr>\n  <th>Label[T.Connaisseur Recordings]</th>               <td> 1.595e-15</td> <td> 1.01e-15</td> <td>    1.574</td> <td> 0.116</td> <td>-3.99e-16</td> <td> 3.59e-15</td>\n</tr>\n<tr>\n  <th>Label[T.Curle Recordings]</th>                     <td> 2.891e-15</td> <td>  1.8e-15</td> <td>    1.604</td> <td> 0.110</td> <td>-6.54e-16</td> <td> 6.44e-15</td>\n</tr>\n<tr>\n  <th>Label[T.Decca (UMO)]</th>                          <td> 1.001e-13</td> <td> 6.41e-14</td> <td>    1.562</td> <td> 0.119</td> <td> -2.6e-14</td> <td> 2.26e-13</td>\n</tr>\n<tr>\n  <th>Label[T.Dial Records]</th>                         <td>-5.033e-15</td> <td> 3.25e-15</td> <td>   -1.548</td> <td> 0.123</td> <td>-1.14e-14</td> <td> 1.36e-15</td>\n</tr>\n<tr>\n  <th>Label[T.Diynamic]</th>                             <td> 1.783e-14</td> <td> 1.14e-14</td> <td>    1.562</td> <td> 0.119</td> <td>-4.62e-15</td> <td> 4.03e-14</td>\n</tr>\n<tr>\n  <th>Label[T.Drumcode]</th>                             <td> 5.167e-14</td> <td> 3.31e-14</td> <td>    1.562</td> <td> 0.119</td> <td>-1.34e-14</td> <td> 1.17e-13</td>\n</tr>\n<tr>\n  <th>Label[T.Dynamic Reflection]</th>                   <td> 3.583e-16</td> <td> 2.22e-16</td> <td>    1.615</td> <td> 0.107</td> <td> -7.8e-17</td> <td> 7.95e-16</td>\n</tr>\n<tr>\n  <th>Label[T.Dystopian]</th>                            <td>-9.957e-15</td> <td> 6.38e-15</td> <td>   -1.562</td> <td> 0.119</td> <td>-2.25e-14</td> <td> 2.58e-15</td>\n</tr>\n<tr>\n  <th>Label[T.Eglo Records]</th>                         <td>-1.038e-13</td> <td> 6.64e-14</td> <td>   -1.563</td> <td> 0.119</td> <td>-2.34e-13</td> <td> 2.68e-14</td>\n</tr>\n<tr>\n  <th>Label[T.Eleatics Records]</th>                     <td> 5.287e-16</td> <td> 3.31e-16</td> <td>    1.598</td> <td> 0.111</td> <td>-1.22e-16</td> <td> 1.18e-15</td>\n</tr>\n<tr>\n  <th>Label[T.Ellum]</th>                                <td> 1.062e-13</td> <td>  6.8e-14</td> <td>    1.561</td> <td> 0.119</td> <td>-2.76e-14</td> <td>  2.4e-13</td>\n</tr>\n<tr>\n  <th>Label[T.Ellum Black]</th>                          <td> 1.695e-14</td> <td> 1.09e-14</td> <td>    1.562</td> <td> 0.119</td> <td> -4.4e-15</td> <td> 3.83e-14</td>\n</tr>\n<tr>\n  <th>Label[T.Enclave Records]</th>                      <td>-1.112e-14</td> <td> 7.12e-15</td> <td>   -1.562</td> <td> 0.119</td> <td>-2.51e-14</td> <td> 2.89e-15</td>\n</tr>\n<tr>\n  <th>Label[T.Ensis Black]</th>                          <td>-4.463e-16</td> <td> 2.94e-16</td> <td>   -1.516</td> <td> 0.130</td> <td>-1.03e-15</td> <td> 1.33e-16</td>\n</tr>\n<tr>\n  <th>Label[T.F Communications]</th>                     <td> 2.372e-14</td> <td> 1.52e-14</td> <td>    1.563</td> <td> 0.119</td> <td>-6.14e-15</td> <td> 5.36e-14</td>\n</tr>\n<tr>\n  <th>Label[T.Fabric]</th>                               <td>-3.256e-14</td> <td> 2.08e-14</td> <td>   -1.567</td> <td> 0.118</td> <td>-7.34e-14</td> <td> 8.31e-15</td>\n</tr>\n<tr>\n  <th>Label[T.From Our Minds]</th>                       <td> 2.807e-14</td> <td>  1.8e-14</td> <td>    1.562</td> <td> 0.119</td> <td>-7.28e-15</td> <td> 6.34e-14</td>\n</tr>\n<tr>\n  <th>Label[T.Get Physical Music]</th>                   <td> 1.089e-15</td> <td> 6.89e-16</td> <td>    1.581</td> <td> 0.115</td> <td>-2.66e-16</td> <td> 2.44e-15</td>\n</tr>\n<tr>\n  <th>Label[T.Happiness Therapy]</th>                    <td>  -1.5e-14</td> <td>  9.6e-15</td> <td>   -1.562</td> <td> 0.119</td> <td>-3.39e-14</td> <td> 3.89e-15</td>\n</tr>\n<tr>\n  <th>Label[T.Headstrong]</th>                           <td>-3.226e-14</td> <td> 2.07e-14</td> <td>   -1.562</td> <td> 0.119</td> <td>-7.29e-14</td> <td> 8.38e-15</td>\n</tr>\n<tr>\n  <th>Label[T.Hotflush Recordings]</th>                  <td> 1.838e-14</td> <td> 1.17e-14</td> <td>    1.566</td> <td> 0.118</td> <td> -4.7e-15</td> <td> 4.15e-14</td>\n</tr>\n<tr>\n  <th>Label[T.I Records]</th>                            <td> 1.066e-15</td> <td> 6.74e-16</td> <td>    1.581</td> <td> 0.115</td> <td> -2.6e-16</td> <td> 2.39e-15</td>\n</tr>\n<tr>\n  <th>Label[T.IDNK (I Do Not Know)]</th>                 <td> -2.35e-14</td> <td>  1.5e-14</td> <td>   -1.562</td> <td> 0.119</td> <td>-5.31e-14</td> <td>  6.1e-15</td>\n</tr>\n<tr>\n  <th>Label[T.K7 Records]</th>                           <td>  2.08e-15</td> <td> 1.32e-15</td> <td>    1.572</td> <td> 0.117</td> <td>-5.23e-16</td> <td> 4.68e-15</td>\n</tr>\n<tr>\n  <th>Label[T.KULT]</th>                                 <td> 3.414e-15</td> <td> 2.13e-15</td> <td>    1.601</td> <td> 0.110</td> <td> -7.8e-16</td> <td> 7.61e-15</td>\n</tr>\n<tr>\n  <th>Label[T.Kompakt Extra]</th>                        <td> 1.063e-14</td> <td>  6.8e-15</td> <td>    1.563</td> <td> 0.119</td> <td>-2.75e-15</td> <td>  2.4e-14</td>\n</tr>\n<tr>\n  <th>Label[T.Kraftek]</th>                              <td> 6.006e-14</td> <td> 3.84e-14</td> <td>    1.563</td> <td> 0.119</td> <td>-1.55e-14</td> <td> 1.36e-13</td>\n</tr>\n<tr>\n  <th>Label[T.L.I.E.S. Records]</th>                     <td> 8.967e-15</td> <td>  5.7e-15</td> <td>    1.574</td> <td> 0.116</td> <td>-2.24e-15</td> <td> 2.02e-14</td>\n</tr>\n<tr>\n  <th>Label[T.LF RMX]</th>                               <td> 2.179e-15</td> <td> 1.39e-15</td> <td>    1.571</td> <td> 0.117</td> <td>-5.49e-16</td> <td> 4.91e-15</td>\n</tr>\n<tr>\n  <th>Label[T.Let's Play House]</th>                     <td>-5.721e-15</td> <td> 3.67e-15</td> <td>   -1.557</td> <td> 0.120</td> <td> -1.3e-14</td> <td> 1.51e-15</td>\n</tr>\n<tr>\n  <th>Label[T.Life And Death]</th>                       <td>-4.601e-14</td> <td> 2.94e-14</td> <td>   -1.563</td> <td> 0.119</td> <td>-1.04e-13</td> <td> 1.19e-14</td>\n</tr>\n<tr>\n  <th>Label[T.Lone Romantic]</th>                        <td> 2.961e-14</td> <td>  1.9e-14</td> <td>    1.562</td> <td> 0.119</td> <td>-7.69e-15</td> <td> 6.69e-14</td>\n</tr>\n<tr>\n  <th>Label[T.Looking For Trouble]</th>                  <td>-2.982e-14</td> <td> 1.91e-14</td> <td>   -1.561</td> <td> 0.119</td> <td>-6.74e-14</td> <td> 7.75e-15</td>\n</tr>\n<tr>\n  <th>Label[T.Lost Palms]</th>                           <td> 8.137e-15</td> <td> 5.11e-15</td> <td>    1.592</td> <td> 0.112</td> <td>-1.92e-15</td> <td> 1.82e-14</td>\n</tr>\n<tr>\n  <th>Label[T.MPLX]</th>                                 <td> 2.175e-14</td> <td> 1.39e-14</td> <td>    1.561</td> <td> 0.119</td> <td>-5.66e-15</td> <td> 4.92e-14</td>\n</tr>\n<tr>\n  <th>Label[T.Marcel Dettmann Records]</th>              <td> 2.597e-14</td> <td> 1.66e-14</td> <td>    1.569</td> <td> 0.118</td> <td> -6.6e-15</td> <td> 5.85e-14</td>\n</tr>\n<tr>\n  <th>Label[T.Ministry of Sound Recordings]</th>         <td> 5.752e-14</td> <td> 3.68e-14</td> <td>    1.562</td> <td> 0.119</td> <td>-1.49e-14</td> <td>  1.3e-13</td>\n</tr>\n<tr>\n  <th>Label[T.Minus]</th>                                <td>-5.827e-14</td> <td> 3.72e-14</td> <td>   -1.565</td> <td> 0.119</td> <td>-1.32e-13</td> <td>  1.5e-14</td>\n</tr>\n<tr>\n  <th>Label[T.Mixmag Records]</th>                       <td> 1.916e-14</td> <td> 1.23e-14</td> <td>    1.562</td> <td> 0.119</td> <td>-4.96e-15</td> <td> 4.33e-14</td>\n</tr>\n<tr>\n  <th>Label[T.Mutex Recordings]</th>                     <td>-4.074e-15</td> <td> 2.61e-15</td> <td>   -1.559</td> <td> 0.120</td> <td>-9.21e-15</td> <td> 1.07e-15</td>\n</tr>\n<tr>\n  <th>Label[T.Natura Viva]</th>                          <td> 3.199e-15</td> <td> 2.04e-15</td> <td>    1.568</td> <td> 0.118</td> <td>-8.14e-16</td> <td> 7.21e-15</td>\n</tr>\n<tr>\n  <th>Label[T.Needwant]</th>                             <td>-9.598e-14</td> <td> 6.13e-14</td> <td>   -1.565</td> <td> 0.119</td> <td>-2.17e-13</td> <td> 2.47e-14</td>\n</tr>\n<tr>\n  <th>Label[T.Ninja Tune]</th>                           <td>-2.412e-14</td> <td> 1.54e-14</td> <td>   -1.565</td> <td> 0.119</td> <td>-5.44e-14</td> <td>  6.2e-15</td>\n</tr>\n<tr>\n  <th>Label[T.Of Paradise]</th>                          <td>-1.688e-14</td> <td> 1.08e-14</td> <td>   -1.563</td> <td> 0.119</td> <td>-3.81e-14</td> <td> 4.37e-15</td>\n</tr>\n<tr>\n  <th>Label[T.Omena]</th>                                <td>-7.877e-15</td> <td> 5.09e-15</td> <td>   -1.547</td> <td> 0.123</td> <td>-1.79e-14</td> <td> 2.14e-15</td>\n</tr>\n<tr>\n  <th>Label[T.Phantasy Sound / [PIAS]]</th>              <td> 1.278e-14</td> <td> 8.16e-15</td> <td>    1.566</td> <td> 0.118</td> <td>-3.27e-15</td> <td> 2.88e-14</td>\n</tr>\n<tr>\n  <th>Label[T.Pirates are Loud.]</th>                    <td> 1.368e-15</td> <td> 8.67e-16</td> <td>    1.577</td> <td> 0.116</td> <td>-3.39e-16</td> <td> 3.07e-15</td>\n</tr>\n<tr>\n  <th>Label[T.Planet Rhythm]</th>                        <td> 1.217e-14</td> <td> 7.73e-15</td> <td>    1.575</td> <td> 0.116</td> <td>-3.03e-15</td> <td> 2.74e-14</td>\n</tr>\n<tr>\n  <th>Label[T.Plus 8 Records]</th>                       <td> 4.068e-13</td> <td>  2.6e-13</td> <td>    1.562</td> <td> 0.119</td> <td>-1.05e-13</td> <td> 9.19e-13</td>\n</tr>\n<tr>\n  <th>Label[T.Pluto]</th>                                <td>-1.688e-13</td> <td> 1.08e-13</td> <td>   -1.563</td> <td> 0.119</td> <td>-3.81e-13</td> <td> 4.36e-14</td>\n</tr>\n<tr>\n  <th>Label[T.Pour La Vie]</th>                          <td> 9.639e-15</td> <td> 6.12e-15</td> <td>    1.575</td> <td> 0.116</td> <td> -2.4e-15</td> <td> 2.17e-14</td>\n</tr>\n<tr>\n  <th>Label[T.R&S Records]</th>                          <td>-1.829e-13</td> <td> 1.17e-13</td> <td>   -1.564</td> <td> 0.119</td> <td>-4.13e-13</td> <td> 4.72e-14</td>\n</tr>\n<tr>\n  <th>Label[T.Rekids]</th>                               <td> -2.38e-13</td> <td> 1.52e-13</td> <td>   -1.564</td> <td> 0.119</td> <td>-5.37e-13</td> <td> 6.14e-14</td>\n</tr>\n<tr>\n  <th>Label[T.Running Back]</th>                         <td> 6.113e-15</td> <td>  3.9e-15</td> <td>    1.567</td> <td> 0.118</td> <td>-1.56e-15</td> <td> 1.38e-14</td>\n</tr>\n<tr>\n  <th>Label[T.Shall Not Fade]</th>                       <td>-3.107e-14</td> <td> 1.99e-14</td> <td>   -1.562</td> <td> 0.119</td> <td>-7.02e-14</td> <td> 8.07e-15</td>\n</tr>\n<tr>\n  <th>Label[T.Snapshot]</th>                             <td> 3.345e-14</td> <td> 2.14e-14</td> <td>    1.561</td> <td> 0.120</td> <td>-8.71e-15</td> <td> 7.56e-14</td>\n</tr>\n<tr>\n  <th>Label[T.Sofia]</th>                                <td> 4.428e-14</td> <td> 2.83e-14</td> <td>    1.566</td> <td> 0.118</td> <td>-1.14e-14</td> <td> 9.99e-14</td>\n</tr>\n<tr>\n  <th>Label[T.Soma Records]</th>                         <td>-3.201e-15</td> <td> 2.06e-15</td> <td>   -1.554</td> <td> 0.121</td> <td>-7.25e-15</td> <td> 8.52e-16</td>\n</tr>\n<tr>\n  <th>Label[T.Stroboscopic Artefacts]</th>               <td> 1.594e-15</td> <td> 1.01e-15</td> <td>    1.575</td> <td> 0.116</td> <td>-3.98e-16</td> <td> 3.59e-15</td>\n</tr>\n<tr>\n  <th>Label[T.Suol]</th>                                 <td> 1.064e-15</td> <td> 6.73e-16</td> <td>    1.582</td> <td> 0.115</td> <td>-2.59e-16</td> <td> 2.39e-15</td>\n</tr>\n<tr>\n  <th>Label[T.Synesthesia Media]</th>                    <td> 3.385e-15</td> <td> 2.15e-15</td> <td>    1.574</td> <td> 0.116</td> <td>-8.45e-16</td> <td> 7.61e-15</td>\n</tr>\n<tr>\n  <th>Label[T.Terminal M]</th>                           <td> 1.634e-14</td> <td> 1.04e-14</td> <td>    1.568</td> <td> 0.118</td> <td>-4.16e-15</td> <td> 3.68e-14</td>\n</tr>\n<tr>\n  <th>Label[T.Text Records]</th>                         <td>-2.914e-14</td> <td> 1.83e-14</td> <td>   -1.594</td> <td> 0.112</td> <td>-6.51e-14</td> <td> 6.83e-15</td>\n</tr>\n<tr>\n  <th>Label[T.The Corner]</th>                           <td> 6.063e-15</td> <td> 3.87e-15</td> <td>    1.565</td> <td> 0.119</td> <td>-1.56e-15</td> <td> 1.37e-14</td>\n</tr>\n<tr>\n  <th>Label[T.Toolroom]</th>                             <td> 1.885e-14</td> <td> 1.21e-14</td> <td>    1.558</td> <td> 0.120</td> <td>-4.94e-15</td> <td> 4.26e-14</td>\n</tr>\n<tr>\n  <th>Label[T.Traum]</th>                                <td> 5.968e-15</td> <td> 3.79e-15</td> <td>    1.576</td> <td> 0.116</td> <td>-1.48e-15</td> <td> 1.34e-14</td>\n</tr>\n<tr>\n  <th>Label[T.Trip]</th>                                 <td>-1.338e-13</td> <td> 8.55e-14</td> <td>   -1.564</td> <td> 0.119</td> <td>-3.02e-13</td> <td> 3.45e-14</td>\n</tr>\n<tr>\n  <th>Label[T.Tronic]</th>                               <td>-1.596e-15</td> <td> 1.03e-15</td> <td>   -1.557</td> <td> 0.120</td> <td>-3.61e-15</td> <td>  4.2e-16</td>\n</tr>\n<tr>\n  <th>Label[T.Virgo]</th>                                <td>-1.105e-16</td> <td> 7.59e-17</td> <td>   -1.455</td> <td> 0.147</td> <td> -2.6e-16</td> <td> 3.89e-17</td>\n</tr>\n<tr>\n  <th>Label[T.WTF! Music]</th>                           <td> 7.658e-15</td> <td> 4.89e-15</td> <td>    1.567</td> <td> 0.118</td> <td>-1.96e-15</td> <td> 1.73e-14</td>\n</tr>\n<tr>\n  <th>Label[T.Wasabi Recordings]</th>                    <td>  1.81e-15</td> <td> 1.15e-15</td> <td>    1.574</td> <td> 0.117</td> <td>-4.53e-16</td> <td> 4.07e-15</td>\n</tr>\n<tr>\n  <th>Likes</th>                                         <td>-3.068e-08</td> <td> 1.96e-08</td> <td>   -1.564</td> <td> 0.119</td> <td>-6.93e-08</td> <td> 7.91e-09</td>\n</tr>\n<tr>\n  <th>Shares</th>                                        <td>-4.369e-09</td> <td> 2.79e-09</td> <td>   -1.564</td> <td> 0.119</td> <td>-9.86e-09</td> <td> 1.13e-09</td>\n</tr>\n<tr>\n  <th>BPM</th>                                           <td>-9.506e-12</td> <td> 6.08e-12</td> <td>   -1.563</td> <td> 0.119</td> <td>-2.15e-11</td> <td> 2.46e-12</td>\n</tr>\n<tr>\n  <th>Length</th>                                        <td>-1.112e-10</td> <td> 7.11e-11</td> <td>   -1.564</td> <td> 0.119</td> <td>-2.51e-10</td> <td> 2.86e-11</td>\n</tr>\n<tr>\n  <th>Followers</th>                                     <td>-1.038e-09</td> <td> 3.79e-10</td> <td>   -2.739</td> <td> 0.007</td> <td>-1.78e-09</td> <td>-2.92e-10</td>\n</tr>\n<tr>\n  <th>TS</th>                                            <td>  1.01e-21</td> <td> 6.98e-23</td> <td>   14.471</td> <td> 0.000</td> <td> 8.72e-22</td> <td> 1.15e-21</td>\n</tr>\n</table>\n<table class=\"simpletable\">\n<tr>\n  <th>Omnibus:</th>       <td>249.229</td> <th>  Durbin-Watson:     </th> <td>   0.737</td>\n</tr>\n<tr>\n  <th>Prob(Omnibus):</th> <td> 0.000</td>  <th>  Jarque-Bera (JB):  </th> <td>3102.428</td>\n</tr>\n<tr>\n  <th>Skew:</th>          <td> 3.132</td>  <th>  Prob(JB):          </th> <td>    0.00</td>\n</tr>\n<tr>\n  <th>Kurtosis:</th>      <td>16.678</td>  <th>  Cond. No.          </th> <td>2.59e+17</td>\n</tr>\n</table><br/><br/>Notes:<br/>[1] Standard Errors assume that the covariance matrix of the errors is correctly specified.<br/>[2] The condition number is large, 2.59e+17. This might indicate that there are<br/>strong multicollinearity or other numerical problems."
     },
     "metadata": {}
    }
   ],
   "source": [
    "model_bas = smf.ols(formula, data=tracks_foll).fit()\n",
    "display(model_bas.summary())"
   ]
  },
  {
   "cell_type": "code",
   "execution_count": 205,
   "metadata": {},
   "outputs": [
    {
     "output_type": "stream",
     "name": "stdout",
     "text": [
      "ActiveEng ~ Likes + Shares + BPM + Length + Followers\n"
     ]
    },
    {
     "output_type": "display_data",
     "data": {
      "text/plain": "<class 'statsmodels.iolib.summary.Summary'>\n\"\"\"\n                            OLS Regression Results                            \n==============================================================================\nDep. Variable:              ActiveEng   R-squared:                       0.059\nModel:                            OLS   Adj. R-squared:                  0.044\nMethod:                 Least Squares   F-statistic:                     4.039\nDate:                Tue, 06 Apr 2021   Prob (F-statistic):            0.00144\nTime:                        16:17:14   Log-Likelihood:                 1676.9\nNo. Observations:                 329   AIC:                            -3342.\nDf Residuals:                     323   BIC:                            -3319.\nDf Model:                           5                                         \nCovariance Type:            nonrobust                                         \n==============================================================================\n                 coef    std err          t      P>|t|      [0.025      0.975]\n------------------------------------------------------------------------------\nIntercept      0.0018      0.001      2.607      0.010       0.000       0.003\nLikes      -1.472e-07   7.72e-08     -1.907      0.057   -2.99e-07     4.7e-09\nShares      7.887e-07   5.25e-07      1.504      0.134   -2.43e-07    1.82e-06\nBPM        -5.669e-07   5.18e-06     -0.109      0.913   -1.08e-05    9.63e-06\nLength     -5.272e-07   4.09e-07     -1.289      0.198   -1.33e-06    2.78e-07\nFollowers  -1.159e-09   3.98e-10     -2.917      0.004   -1.94e-09   -3.77e-10\n==============================================================================\nOmnibus:                      247.534   Durbin-Watson:                   0.760\nProb(Omnibus):                  0.000   Jarque-Bera (JB):             3073.483\nSkew:                           3.102   Prob(JB):                         0.00\nKurtosis:                      16.628   Cond. No.                     2.61e+06\n==============================================================================\n\nNotes:\n[1] Standard Errors assume that the covariance matrix of the errors is correctly specified.\n[2] The condition number is large, 2.61e+06. This might indicate that there are\nstrong multicollinearity or other numerical problems.\n\"\"\"",
      "text/html": "<table class=\"simpletable\">\n<caption>OLS Regression Results</caption>\n<tr>\n  <th>Dep. Variable:</th>        <td>ActiveEng</td>    <th>  R-squared:         </th> <td>   0.059</td>\n</tr>\n<tr>\n  <th>Model:</th>                   <td>OLS</td>       <th>  Adj. R-squared:    </th> <td>   0.044</td>\n</tr>\n<tr>\n  <th>Method:</th>             <td>Least Squares</td>  <th>  F-statistic:       </th> <td>   4.039</td>\n</tr>\n<tr>\n  <th>Date:</th>             <td>Tue, 06 Apr 2021</td> <th>  Prob (F-statistic):</th>  <td>0.00144</td>\n</tr>\n<tr>\n  <th>Time:</th>                 <td>16:17:14</td>     <th>  Log-Likelihood:    </th> <td>  1676.9</td>\n</tr>\n<tr>\n  <th>No. Observations:</th>      <td>   329</td>      <th>  AIC:               </th> <td>  -3342.</td>\n</tr>\n<tr>\n  <th>Df Residuals:</th>          <td>   323</td>      <th>  BIC:               </th> <td>  -3319.</td>\n</tr>\n<tr>\n  <th>Df Model:</th>              <td>     5</td>      <th>                     </th>     <td> </td>   \n</tr>\n<tr>\n  <th>Covariance Type:</th>      <td>nonrobust</td>    <th>                     </th>     <td> </td>   \n</tr>\n</table>\n<table class=\"simpletable\">\n<tr>\n      <td></td>         <th>coef</th>     <th>std err</th>      <th>t</th>      <th>P>|t|</th>  <th>[0.025</th>    <th>0.975]</th>  \n</tr>\n<tr>\n  <th>Intercept</th> <td>    0.0018</td> <td>    0.001</td> <td>    2.607</td> <td> 0.010</td> <td>    0.000</td> <td>    0.003</td>\n</tr>\n<tr>\n  <th>Likes</th>     <td>-1.472e-07</td> <td> 7.72e-08</td> <td>   -1.907</td> <td> 0.057</td> <td>-2.99e-07</td> <td>  4.7e-09</td>\n</tr>\n<tr>\n  <th>Shares</th>    <td> 7.887e-07</td> <td> 5.25e-07</td> <td>    1.504</td> <td> 0.134</td> <td>-2.43e-07</td> <td> 1.82e-06</td>\n</tr>\n<tr>\n  <th>BPM</th>       <td>-5.669e-07</td> <td> 5.18e-06</td> <td>   -0.109</td> <td> 0.913</td> <td>-1.08e-05</td> <td> 9.63e-06</td>\n</tr>\n<tr>\n  <th>Length</th>    <td>-5.272e-07</td> <td> 4.09e-07</td> <td>   -1.289</td> <td> 0.198</td> <td>-1.33e-06</td> <td> 2.78e-07</td>\n</tr>\n<tr>\n  <th>Followers</th> <td>-1.159e-09</td> <td> 3.98e-10</td> <td>   -2.917</td> <td> 0.004</td> <td>-1.94e-09</td> <td>-3.77e-10</td>\n</tr>\n</table>\n<table class=\"simpletable\">\n<tr>\n  <th>Omnibus:</th>       <td>247.534</td> <th>  Durbin-Watson:     </th> <td>   0.760</td>\n</tr>\n<tr>\n  <th>Prob(Omnibus):</th> <td> 0.000</td>  <th>  Jarque-Bera (JB):  </th> <td>3073.483</td>\n</tr>\n<tr>\n  <th>Skew:</th>          <td> 3.102</td>  <th>  Prob(JB):          </th> <td>    0.00</td>\n</tr>\n<tr>\n  <th>Kurtosis:</th>      <td>16.628</td>  <th>  Cond. No.          </th> <td>2.61e+06</td>\n</tr>\n</table><br/><br/>Notes:<br/>[1] Standard Errors assume that the covariance matrix of the errors is correctly specified.<br/>[2] The condition number is large, 2.61e+06. This might indicate that there are<br/>strong multicollinearity or other numerical problems."
     },
     "metadata": {}
    }
   ],
   "source": [
    "formula2 = 'ActiveEng ~ ' + ' + '.join(tracks_foll.columns.drop(['ActiveEng', 'CommentsCount', 'Plays', 'Label', 'Feat', 'OriginalProducer', 'ArtistName', 'Genre', 'Key', 'TS']))\n",
    "print(formula2)\n",
    "\n",
    "model2 = smf.ols(formula2, data=tracks_foll).fit()\n",
    "display(model2.summary())"
   ]
  },
  {
   "cell_type": "code",
   "execution_count": 136,
   "metadata": {},
   "outputs": [
    {
     "output_type": "stream",
     "name": "stdout",
     "text": [
      "CommentsCount ~ BPM + Key + Genre + Length\n"
     ]
    },
    {
     "output_type": "display_data",
     "data": {
      "text/plain": "<class 'statsmodels.iolib.summary.Summary'>\n\"\"\"\n                            OLS Regression Results                            \n==============================================================================\nDep. Variable:          CommentsCount   R-squared:                       0.174\nModel:                            OLS   Adj. R-squared:                  0.064\nMethod:                 Least Squares   F-statistic:                     1.587\nDate:                Tue, 06 Apr 2021   Prob (F-statistic):            0.00994\nTime:                        15:07:22   Log-Likelihood:                -2262.3\nNo. Observations:                 419   AIC:                             4625.\nDf Residuals:                     369   BIC:                             4827.\nDf Model:                          49                                         \nCovariance Type:            nonrobust                                         \n=================================================================================================================\n                                                    coef    std err          t      P>|t|      [0.025      0.975]\n-----------------------------------------------------------------------------------------------------------------\nIntercept                                       -55.5136     72.920     -0.761      0.447    -198.905      87.878\nKey[T.A min]                                     13.5437     15.377      0.881      0.379     -16.695      43.782\nKey[T.A♭ maj]                                   -19.7401     24.482     -0.806      0.421     -67.882      28.401\nKey[T.A♭ min]                                    29.2047     21.835      1.338      0.182     -13.732      72.141\nKey[T.A♯ maj]                                   -15.0348     31.667     -0.475      0.635     -77.305      47.235\nKey[T.A♯ min]                                   -21.9229     26.846     -0.817      0.415     -74.713      30.867\nKey[T.B maj]                                    -19.4337     31.636     -0.614      0.539     -81.644      42.776\nKey[T.B min]                                    -13.4632     18.228     -0.739      0.461     -49.308      22.381\nKey[T.B♭ maj]                                    63.5179     27.505      2.309      0.021       9.432     117.604\nKey[T.B♭ min]                                    68.3169     22.752      3.003      0.003      23.577     113.057\nKey[T.C maj]                                    -12.9088     17.720     -0.728      0.467     -47.753      21.936\nKey[T.C min]                                    -17.8335     16.866     -1.057      0.291     -50.999      15.333\nKey[T.C♯ maj]                                   -29.0832     35.743     -0.814      0.416     -99.370      41.203\nKey[T.C♯ min]                                   -39.5348     32.208     -1.228      0.220    -102.868      23.799\nKey[T.D maj]                                    -20.8026     22.261     -0.934      0.351     -64.577      22.972\nKey[T.D min]                                    -18.9993     19.143     -0.992      0.322     -56.643      18.644\nKey[T.D♭ maj]                                    10.4595     28.945      0.361      0.718     -46.458      67.377\nKey[T.D♭ min]                                    44.8184     21.206      2.113      0.035       3.118      86.518\nKey[T.D♯ maj]                                   -25.7309     32.340     -0.796      0.427     -89.324      37.862\nKey[T.D♯ min]                                   -24.1463     31.681     -0.762      0.446     -86.444      38.151\nKey[T.E maj]                                    -16.0453     20.436     -0.785      0.433     -56.231      24.140\nKey[T.E min]                                     -8.9645     18.901     -0.474      0.636     -46.132      28.203\nKey[T.E♭ maj]                                    -7.6338     42.841     -0.178      0.859     -91.878      76.610\nKey[T.E♭ min]                                   -17.6753     20.762     -0.851      0.395     -58.503      23.152\nKey[T.F maj]                                    -15.4846     25.439     -0.609      0.543     -65.508      34.538\nKey[T.F min]                                     -9.5368     18.845     -0.506      0.613     -46.594      27.521\nKey[T.F♯ maj]                                   -19.7428     46.658     -0.423      0.672    -111.492      72.006\nKey[T.F♯ min]                                   -15.3554     25.668     -0.598      0.550     -65.829      35.118\nKey[T.G maj]                                     -4.8161     20.329     -0.237      0.813     -44.791      35.158\nKey[T.G min]                                     -2.1045     19.254     -0.109      0.913     -39.966      35.757\nKey[T.G♭ maj]                                    41.4078     35.793      1.157      0.248     -28.975     111.791\nKey[T.G♭ min]                                    18.0689     20.081      0.900      0.369     -21.419      57.557\nKey[T.G♯ maj]                                   -42.1786     43.013     -0.981      0.327    -126.760      42.403\nKey[T.G♯ min]                                   -17.4955     25.899     -0.676      0.500     -68.423      33.432\nGenre[T.Breaks / Breakbeat / UK Bass]            67.1041     67.473      0.995      0.321     -65.575     199.783\nGenre[T.Dance / Electro Pop]                     57.4214     69.594      0.825      0.410     -79.430     194.272\nGenre[T.Deep House]                              68.4252     66.890      1.023      0.307     -63.109     199.959\nGenre[T.Electro (Classic / Detroit / Modern)]    78.4416     70.500      1.113      0.267     -60.190     217.073\nGenre[T.Electronica]                             93.0858     66.325      1.403      0.161     -37.337     223.509\nGenre[T.House]                                   80.6131     67.108      1.201      0.230     -51.349     212.575\nGenre[T.Indie Dance]                             39.3606     71.337      0.552      0.581    -100.917     179.638\nGenre[T.Melodic House & Techno]                  72.4769     66.793      1.085      0.279     -58.866     203.819\nGenre[T.Minimal / Deep Tech]                    248.1175     87.979      2.820      0.005      75.114     421.121\nGenre[T.Progressive House]                       31.6669     72.513      0.437      0.663    -110.923     174.257\nGenre[T.Tech House]                              67.3600     67.220      1.002      0.317     -64.821     199.541\nGenre[T.Techno (Peak Time / Driving)]            57.5933     66.065      0.872      0.384     -72.317     187.503\nGenre[T.Techno (Raw / Deep / Hypnotic)]          65.6363     66.579      0.986      0.325     -65.286     196.559\nGenre[T.UK Garage / Bassline]                    71.9889     75.481      0.954      0.341     -76.439     220.417\nBPM                                               0.0132      0.188      0.070      0.944      -0.356       0.382\nLength                                            0.0243      0.016      1.504      0.133      -0.007       0.056\n==============================================================================\nOmnibus:                      331.704   Durbin-Watson:                   1.069\nProb(Omnibus):                  0.000   Jarque-Bera (JB):             4946.720\nSkew:                           3.387   Prob(JB):                         0.00\nKurtosis:                      18.410   Cond. No.                     4.33e+04\n==============================================================================\n\nNotes:\n[1] Standard Errors assume that the covariance matrix of the errors is correctly specified.\n[2] The condition number is large, 4.33e+04. This might indicate that there are\nstrong multicollinearity or other numerical problems.\n\"\"\"",
      "text/html": "<table class=\"simpletable\">\n<caption>OLS Regression Results</caption>\n<tr>\n  <th>Dep. Variable:</th>      <td>CommentsCount</td>  <th>  R-squared:         </th> <td>   0.174</td>\n</tr>\n<tr>\n  <th>Model:</th>                   <td>OLS</td>       <th>  Adj. R-squared:    </th> <td>   0.064</td>\n</tr>\n<tr>\n  <th>Method:</th>             <td>Least Squares</td>  <th>  F-statistic:       </th> <td>   1.587</td>\n</tr>\n<tr>\n  <th>Date:</th>             <td>Tue, 06 Apr 2021</td> <th>  Prob (F-statistic):</th>  <td>0.00994</td>\n</tr>\n<tr>\n  <th>Time:</th>                 <td>15:07:22</td>     <th>  Log-Likelihood:    </th> <td> -2262.3</td>\n</tr>\n<tr>\n  <th>No. Observations:</th>      <td>   419</td>      <th>  AIC:               </th> <td>   4625.</td>\n</tr>\n<tr>\n  <th>Df Residuals:</th>          <td>   369</td>      <th>  BIC:               </th> <td>   4827.</td>\n</tr>\n<tr>\n  <th>Df Model:</th>              <td>    49</td>      <th>                     </th>     <td> </td>   \n</tr>\n<tr>\n  <th>Covariance Type:</th>      <td>nonrobust</td>    <th>                     </th>     <td> </td>   \n</tr>\n</table>\n<table class=\"simpletable\">\n<tr>\n                        <td></td>                           <th>coef</th>     <th>std err</th>      <th>t</th>      <th>P>|t|</th>  <th>[0.025</th>    <th>0.975]</th>  \n</tr>\n<tr>\n  <th>Intercept</th>                                     <td>  -55.5136</td> <td>   72.920</td> <td>   -0.761</td> <td> 0.447</td> <td> -198.905</td> <td>   87.878</td>\n</tr>\n<tr>\n  <th>Key[T.A min]</th>                                  <td>   13.5437</td> <td>   15.377</td> <td>    0.881</td> <td> 0.379</td> <td>  -16.695</td> <td>   43.782</td>\n</tr>\n<tr>\n  <th>Key[T.A♭ maj]</th>                                 <td>  -19.7401</td> <td>   24.482</td> <td>   -0.806</td> <td> 0.421</td> <td>  -67.882</td> <td>   28.401</td>\n</tr>\n<tr>\n  <th>Key[T.A♭ min]</th>                                 <td>   29.2047</td> <td>   21.835</td> <td>    1.338</td> <td> 0.182</td> <td>  -13.732</td> <td>   72.141</td>\n</tr>\n<tr>\n  <th>Key[T.A♯ maj]</th>                                 <td>  -15.0348</td> <td>   31.667</td> <td>   -0.475</td> <td> 0.635</td> <td>  -77.305</td> <td>   47.235</td>\n</tr>\n<tr>\n  <th>Key[T.A♯ min]</th>                                 <td>  -21.9229</td> <td>   26.846</td> <td>   -0.817</td> <td> 0.415</td> <td>  -74.713</td> <td>   30.867</td>\n</tr>\n<tr>\n  <th>Key[T.B maj]</th>                                  <td>  -19.4337</td> <td>   31.636</td> <td>   -0.614</td> <td> 0.539</td> <td>  -81.644</td> <td>   42.776</td>\n</tr>\n<tr>\n  <th>Key[T.B min]</th>                                  <td>  -13.4632</td> <td>   18.228</td> <td>   -0.739</td> <td> 0.461</td> <td>  -49.308</td> <td>   22.381</td>\n</tr>\n<tr>\n  <th>Key[T.B♭ maj]</th>                                 <td>   63.5179</td> <td>   27.505</td> <td>    2.309</td> <td> 0.021</td> <td>    9.432</td> <td>  117.604</td>\n</tr>\n<tr>\n  <th>Key[T.B♭ min]</th>                                 <td>   68.3169</td> <td>   22.752</td> <td>    3.003</td> <td> 0.003</td> <td>   23.577</td> <td>  113.057</td>\n</tr>\n<tr>\n  <th>Key[T.C maj]</th>                                  <td>  -12.9088</td> <td>   17.720</td> <td>   -0.728</td> <td> 0.467</td> <td>  -47.753</td> <td>   21.936</td>\n</tr>\n<tr>\n  <th>Key[T.C min]</th>                                  <td>  -17.8335</td> <td>   16.866</td> <td>   -1.057</td> <td> 0.291</td> <td>  -50.999</td> <td>   15.333</td>\n</tr>\n<tr>\n  <th>Key[T.C♯ maj]</th>                                 <td>  -29.0832</td> <td>   35.743</td> <td>   -0.814</td> <td> 0.416</td> <td>  -99.370</td> <td>   41.203</td>\n</tr>\n<tr>\n  <th>Key[T.C♯ min]</th>                                 <td>  -39.5348</td> <td>   32.208</td> <td>   -1.228</td> <td> 0.220</td> <td> -102.868</td> <td>   23.799</td>\n</tr>\n<tr>\n  <th>Key[T.D maj]</th>                                  <td>  -20.8026</td> <td>   22.261</td> <td>   -0.934</td> <td> 0.351</td> <td>  -64.577</td> <td>   22.972</td>\n</tr>\n<tr>\n  <th>Key[T.D min]</th>                                  <td>  -18.9993</td> <td>   19.143</td> <td>   -0.992</td> <td> 0.322</td> <td>  -56.643</td> <td>   18.644</td>\n</tr>\n<tr>\n  <th>Key[T.D♭ maj]</th>                                 <td>   10.4595</td> <td>   28.945</td> <td>    0.361</td> <td> 0.718</td> <td>  -46.458</td> <td>   67.377</td>\n</tr>\n<tr>\n  <th>Key[T.D♭ min]</th>                                 <td>   44.8184</td> <td>   21.206</td> <td>    2.113</td> <td> 0.035</td> <td>    3.118</td> <td>   86.518</td>\n</tr>\n<tr>\n  <th>Key[T.D♯ maj]</th>                                 <td>  -25.7309</td> <td>   32.340</td> <td>   -0.796</td> <td> 0.427</td> <td>  -89.324</td> <td>   37.862</td>\n</tr>\n<tr>\n  <th>Key[T.D♯ min]</th>                                 <td>  -24.1463</td> <td>   31.681</td> <td>   -0.762</td> <td> 0.446</td> <td>  -86.444</td> <td>   38.151</td>\n</tr>\n<tr>\n  <th>Key[T.E maj]</th>                                  <td>  -16.0453</td> <td>   20.436</td> <td>   -0.785</td> <td> 0.433</td> <td>  -56.231</td> <td>   24.140</td>\n</tr>\n<tr>\n  <th>Key[T.E min]</th>                                  <td>   -8.9645</td> <td>   18.901</td> <td>   -0.474</td> <td> 0.636</td> <td>  -46.132</td> <td>   28.203</td>\n</tr>\n<tr>\n  <th>Key[T.E♭ maj]</th>                                 <td>   -7.6338</td> <td>   42.841</td> <td>   -0.178</td> <td> 0.859</td> <td>  -91.878</td> <td>   76.610</td>\n</tr>\n<tr>\n  <th>Key[T.E♭ min]</th>                                 <td>  -17.6753</td> <td>   20.762</td> <td>   -0.851</td> <td> 0.395</td> <td>  -58.503</td> <td>   23.152</td>\n</tr>\n<tr>\n  <th>Key[T.F maj]</th>                                  <td>  -15.4846</td> <td>   25.439</td> <td>   -0.609</td> <td> 0.543</td> <td>  -65.508</td> <td>   34.538</td>\n</tr>\n<tr>\n  <th>Key[T.F min]</th>                                  <td>   -9.5368</td> <td>   18.845</td> <td>   -0.506</td> <td> 0.613</td> <td>  -46.594</td> <td>   27.521</td>\n</tr>\n<tr>\n  <th>Key[T.F♯ maj]</th>                                 <td>  -19.7428</td> <td>   46.658</td> <td>   -0.423</td> <td> 0.672</td> <td> -111.492</td> <td>   72.006</td>\n</tr>\n<tr>\n  <th>Key[T.F♯ min]</th>                                 <td>  -15.3554</td> <td>   25.668</td> <td>   -0.598</td> <td> 0.550</td> <td>  -65.829</td> <td>   35.118</td>\n</tr>\n<tr>\n  <th>Key[T.G maj]</th>                                  <td>   -4.8161</td> <td>   20.329</td> <td>   -0.237</td> <td> 0.813</td> <td>  -44.791</td> <td>   35.158</td>\n</tr>\n<tr>\n  <th>Key[T.G min]</th>                                  <td>   -2.1045</td> <td>   19.254</td> <td>   -0.109</td> <td> 0.913</td> <td>  -39.966</td> <td>   35.757</td>\n</tr>\n<tr>\n  <th>Key[T.G♭ maj]</th>                                 <td>   41.4078</td> <td>   35.793</td> <td>    1.157</td> <td> 0.248</td> <td>  -28.975</td> <td>  111.791</td>\n</tr>\n<tr>\n  <th>Key[T.G♭ min]</th>                                 <td>   18.0689</td> <td>   20.081</td> <td>    0.900</td> <td> 0.369</td> <td>  -21.419</td> <td>   57.557</td>\n</tr>\n<tr>\n  <th>Key[T.G♯ maj]</th>                                 <td>  -42.1786</td> <td>   43.013</td> <td>   -0.981</td> <td> 0.327</td> <td> -126.760</td> <td>   42.403</td>\n</tr>\n<tr>\n  <th>Key[T.G♯ min]</th>                                 <td>  -17.4955</td> <td>   25.899</td> <td>   -0.676</td> <td> 0.500</td> <td>  -68.423</td> <td>   33.432</td>\n</tr>\n<tr>\n  <th>Genre[T.Breaks / Breakbeat / UK Bass]</th>         <td>   67.1041</td> <td>   67.473</td> <td>    0.995</td> <td> 0.321</td> <td>  -65.575</td> <td>  199.783</td>\n</tr>\n<tr>\n  <th>Genre[T.Dance / Electro Pop]</th>                  <td>   57.4214</td> <td>   69.594</td> <td>    0.825</td> <td> 0.410</td> <td>  -79.430</td> <td>  194.272</td>\n</tr>\n<tr>\n  <th>Genre[T.Deep House]</th>                           <td>   68.4252</td> <td>   66.890</td> <td>    1.023</td> <td> 0.307</td> <td>  -63.109</td> <td>  199.959</td>\n</tr>\n<tr>\n  <th>Genre[T.Electro (Classic / Detroit / Modern)]</th> <td>   78.4416</td> <td>   70.500</td> <td>    1.113</td> <td> 0.267</td> <td>  -60.190</td> <td>  217.073</td>\n</tr>\n<tr>\n  <th>Genre[T.Electronica]</th>                          <td>   93.0858</td> <td>   66.325</td> <td>    1.403</td> <td> 0.161</td> <td>  -37.337</td> <td>  223.509</td>\n</tr>\n<tr>\n  <th>Genre[T.House]</th>                                <td>   80.6131</td> <td>   67.108</td> <td>    1.201</td> <td> 0.230</td> <td>  -51.349</td> <td>  212.575</td>\n</tr>\n<tr>\n  <th>Genre[T.Indie Dance]</th>                          <td>   39.3606</td> <td>   71.337</td> <td>    0.552</td> <td> 0.581</td> <td> -100.917</td> <td>  179.638</td>\n</tr>\n<tr>\n  <th>Genre[T.Melodic House & Techno]</th>               <td>   72.4769</td> <td>   66.793</td> <td>    1.085</td> <td> 0.279</td> <td>  -58.866</td> <td>  203.819</td>\n</tr>\n<tr>\n  <th>Genre[T.Minimal / Deep Tech]</th>                  <td>  248.1175</td> <td>   87.979</td> <td>    2.820</td> <td> 0.005</td> <td>   75.114</td> <td>  421.121</td>\n</tr>\n<tr>\n  <th>Genre[T.Progressive House]</th>                    <td>   31.6669</td> <td>   72.513</td> <td>    0.437</td> <td> 0.663</td> <td> -110.923</td> <td>  174.257</td>\n</tr>\n<tr>\n  <th>Genre[T.Tech House]</th>                           <td>   67.3600</td> <td>   67.220</td> <td>    1.002</td> <td> 0.317</td> <td>  -64.821</td> <td>  199.541</td>\n</tr>\n<tr>\n  <th>Genre[T.Techno (Peak Time / Driving)]</th>         <td>   57.5933</td> <td>   66.065</td> <td>    0.872</td> <td> 0.384</td> <td>  -72.317</td> <td>  187.503</td>\n</tr>\n<tr>\n  <th>Genre[T.Techno (Raw / Deep / Hypnotic)]</th>       <td>   65.6363</td> <td>   66.579</td> <td>    0.986</td> <td> 0.325</td> <td>  -65.286</td> <td>  196.559</td>\n</tr>\n<tr>\n  <th>Genre[T.UK Garage / Bassline]</th>                 <td>   71.9889</td> <td>   75.481</td> <td>    0.954</td> <td> 0.341</td> <td>  -76.439</td> <td>  220.417</td>\n</tr>\n<tr>\n  <th>BPM</th>                                           <td>    0.0132</td> <td>    0.188</td> <td>    0.070</td> <td> 0.944</td> <td>   -0.356</td> <td>    0.382</td>\n</tr>\n<tr>\n  <th>Length</th>                                        <td>    0.0243</td> <td>    0.016</td> <td>    1.504</td> <td> 0.133</td> <td>   -0.007</td> <td>    0.056</td>\n</tr>\n</table>\n<table class=\"simpletable\">\n<tr>\n  <th>Omnibus:</th>       <td>331.704</td> <th>  Durbin-Watson:     </th> <td>   1.069</td>\n</tr>\n<tr>\n  <th>Prob(Omnibus):</th> <td> 0.000</td>  <th>  Jarque-Bera (JB):  </th> <td>4946.720</td>\n</tr>\n<tr>\n  <th>Skew:</th>          <td> 3.387</td>  <th>  Prob(JB):          </th> <td>    0.00</td>\n</tr>\n<tr>\n  <th>Kurtosis:</th>      <td>18.410</td>  <th>  Cond. No.          </th> <td>4.33e+04</td>\n</tr>\n</table><br/><br/>Notes:<br/>[1] Standard Errors assume that the covariance matrix of the errors is correctly specified.<br/>[2] The condition number is large, 4.33e+04. This might indicate that there are<br/>strong multicollinearity or other numerical problems."
     },
     "metadata": {}
    }
   ],
   "source": [
    "# getting all columns for baseline model\n",
    "formula3 = 'CommentsCount ~ ' + ' + '.join(tracks_foll.columns.drop(['ActiveEng', 'CommentsCount', 'Plays', 'Label', 'Feat', 'OriginalProducer', 'ArtistName', 'Likes', 'Shares', 'TS', 'Followers']))\n",
    "print(formula3)\n",
    "\n",
    "model3 = smf.ols(formula3, data=tracks_foll).fit()\n",
    "display(model3.summary())"
   ]
  },
  {
   "cell_type": "code",
   "execution_count": 281,
   "metadata": {},
   "outputs": [
    {
     "output_type": "stream",
     "name": "stdout",
     "text": [
      "ActiveEng ~ ArtistName + Key + Genre + Length\n                            OLS Regression Results                            \n==============================================================================\nDep. Variable:              ActiveEng   R-squared:                       0.709\nModel:                            OLS   Adj. R-squared:                  0.623\nMethod:                 Least Squares   F-statistic:                     8.233\nDate:                Tue, 06 Apr 2021   Prob (F-statistic):           1.77e-37\nTime:                        17:27:07   Log-Likelihood:                 1870.2\nNo. Observations:                 329   AIC:                            -3588.\nDf Residuals:                     253   BIC:                            -3300.\nDf Model:                          75                                         \nCovariance Type:            nonrobust                                         \n=================================================================================================================\n                                                    coef    std err          t      P>|t|      [0.025      0.975]\n-----------------------------------------------------------------------------------------------------------------\nIntercept                                         0.0013      0.000      2.973      0.003       0.000       0.002\nArtistName[T.Nina Kraviz]                        -0.0001      0.001     -0.290      0.772      -0.001       0.001\nArtistName[T.Richie Hawtin]                       0.0001      0.000      0.349      0.727      -0.001       0.001\nArtistName[T.Tale of Us]                         -0.0004      0.000     -1.014      0.311      -0.001       0.000\nArtistName[T.adam beyer]                          0.0041      0.001      3.598      0.000       0.002       0.006\nArtistName[T.aleksandir]                          0.0081      0.001     14.484      0.000       0.007       0.009\nArtistName[T.baltra]                              0.0007      0.000      1.916      0.057   -2.09e-05       0.002\nArtistName[T.daniel avery]                        0.0025      0.001      3.903      0.000       0.001       0.004\nArtistName[T.efdemin]                            -0.0007      0.000     -1.602      0.110      -0.001       0.000\nArtistName[T.enrico sangiuliano]                  0.0001      0.001      0.191      0.848      -0.001       0.001\nArtistName[T.floating points]                  2.247e-05      0.000      0.063      0.950      -0.001       0.001\nArtistName[T.harrison bdp]                        0.0007      0.000      1.647      0.101      -0.000       0.001\nArtistName[T.ilario alicante]                     0.0008      0.001      1.013      0.312      -0.001       0.002\nArtistName[T.kevin yost]                          0.0023      0.000      4.672      0.000       0.001       0.003\nArtistName[T.kink]                                0.0005      0.000      1.230      0.220      -0.000       0.001\nArtistName[T.laurent garnier]                     0.0009      0.001      1.446      0.149      -0.000       0.002\nArtistName[T.maceo plex]                          0.0009      0.000      2.114      0.035    6.47e-05       0.002\nArtistName[T.mall grab]                          -0.0002      0.001     -0.403      0.688      -0.001       0.001\nArtistName[T.marcel dettmann]                     0.0018      0.000      3.958      0.000       0.001       0.003\nArtistName[T.mathame]                            -0.0002      0.001     -0.389      0.698      -0.001       0.001\nArtistName[T.mind against]                        0.0002      0.001      0.399      0.690      -0.001       0.001\nArtistName[T.monika kruse]                        0.0002      0.000      0.489      0.625      -0.001       0.001\nArtistName[T.mrsch]                               0.0059      0.001      5.632      0.000       0.004       0.008\nArtistName[T.pleasurekraft]                      -0.0003      0.000     -0.666      0.506      -0.001       0.001\nArtistName[T.randomer]                         3.231e-05      0.000      0.072      0.943      -0.001       0.001\nArtistName[T.red axes]                            0.0012      0.001      1.014      0.312      -0.001       0.004\nArtistName[T.ron flatter]                         0.0018      0.000      3.762      0.000       0.001       0.003\nArtistName[T.seb wildblood]                       0.0004      0.000      0.997      0.320      -0.000       0.001\nArtistName[T.woo york]                            0.0001      0.000      0.313      0.754      -0.001       0.001\nKey[T.A min]                                     -0.0007      0.000     -2.265      0.024      -0.001   -8.86e-05\nKey[T.A♭ maj]                                    -0.0014      0.001     -2.625      0.009      -0.002      -0.000\nKey[T.A♭ min]                                    -0.0006      0.000     -1.493      0.137      -0.001       0.000\nKey[T.A♯ maj]                                    -0.0004      0.001     -0.555      0.579      -0.002       0.001\nKey[T.A♯ min]                                    -0.0006      0.000     -1.286      0.199      -0.002       0.000\nKey[T.B maj]                                     -0.0007      0.001     -0.637      0.525      -0.003       0.001\nKey[T.B min]                                     -0.0008      0.000     -2.146      0.033      -0.001   -6.34e-05\nKey[T.B♭ maj]                                    -0.0009      0.001     -1.367      0.173      -0.002       0.000\nKey[T.B♭ min]                                    -0.0008      0.000     -1.920      0.056      -0.002    2.11e-05\nKey[T.C maj]                                   7.153e-05      0.000      0.200      0.841      -0.001       0.001\nKey[T.C min]                                     -0.0004      0.000     -1.286      0.200      -0.001       0.000\nKey[T.C♯ maj]                                    -0.0001      0.001     -0.142      0.887      -0.002       0.002\nKey[T.C♯ min]                                     0.0002      0.001      0.356      0.722      -0.001       0.001\nKey[T.D maj]                                     -0.0005      0.000     -1.169      0.244      -0.001       0.000\nKey[T.D min]                                     -0.0008      0.000     -2.034      0.043      -0.002   -2.47e-05\nKey[T.D♭ maj]                                    -0.0002      0.001     -0.391      0.696      -0.001       0.001\nKey[T.D♭ min]                                    -0.0002      0.000     -0.601      0.548      -0.001       0.001\nKey[T.D♯ maj]                                     0.0002      0.001      0.403      0.687      -0.001       0.001\nKey[T.D♯ min]                                    -0.0006      0.001     -0.961      0.338      -0.002       0.001\nKey[T.E maj]                                     -0.0002      0.000     -0.430      0.667      -0.001       0.001\nKey[T.E min]                                     -0.0009      0.000     -2.607      0.010      -0.002      -0.000\nKey[T.E♭ maj]                                 -5.303e-05      0.001     -0.051      0.959      -0.002       0.002\nKey[T.E♭ min]                                     0.0001      0.000      0.311      0.756      -0.001       0.001\nKey[T.F maj]                                     -0.0010      0.001     -1.555      0.121      -0.002       0.000\nKey[T.F min]                                     -0.0008      0.000     -2.125      0.035      -0.002    -5.8e-05\nKey[T.F♯ maj]                                     0.0001      0.001      0.086      0.931      -0.002       0.003\nKey[T.F♯ min]                                    -0.0002      0.001     -0.387      0.699      -0.001       0.001\nKey[T.G maj]                                     -0.0006      0.000     -1.553      0.122      -0.001       0.000\nKey[T.G min]                                     -0.0008      0.000     -1.912      0.057      -0.002    2.25e-05\nKey[T.G♭ maj]                                    -0.0012      0.001     -1.879      0.061      -0.002    5.71e-05\nKey[T.G♭ min]                                    -0.0002      0.000     -0.518      0.605      -0.001       0.001\nKey[T.G♯ maj]                                    -0.0014      0.001     -1.787      0.075      -0.003       0.000\nKey[T.G♯ min]                                    -0.0010      0.000     -2.064      0.040      -0.002   -4.61e-05\nGenre[T.Dance / Electro Pop]                      0.0006      0.001      0.785      0.433      -0.001       0.002\nGenre[T.Deep House]                              -0.0005      0.000     -1.680      0.094      -0.001    9.02e-05\nGenre[T.Electro (Classic / Detroit / Modern)]    -0.0002      0.001     -0.377      0.706      -0.001       0.001\nGenre[T.Electronica]                             -0.0003      0.000     -1.180      0.239      -0.001       0.000\nGenre[T.House]                                   -0.0001      0.000     -0.325      0.746      -0.001       0.001\nGenre[T.Indie Dance]                             -0.0004      0.001     -0.504      0.614      -0.002       0.001\nGenre[T.Melodic House & Techno]                  -0.0006      0.000     -1.547      0.123      -0.001       0.000\nGenre[T.Minimal / Deep Tech]                     -0.0009      0.001     -0.862      0.390      -0.003       0.001\nGenre[T.Progressive House]                        0.0031      0.001      2.901      0.004       0.001       0.005\nGenre[T.Tech House]                            4.418e-05      0.000      0.104      0.918      -0.001       0.001\nGenre[T.Techno (Peak Time / Driving)]            -0.0001      0.000     -0.330      0.741      -0.001       0.001\nGenre[T.Techno (Raw / Deep / Hypnotic)]          -0.0003      0.000     -0.670      0.503      -0.001       0.000\nGenre[T.UK Garage / Bassline]                    -0.0010      0.001     -1.316      0.189      -0.003       0.001\nLength                                         3.353e-07    3.1e-07      1.081      0.281   -2.75e-07    9.46e-07\n==============================================================================\nOmnibus:                       72.690   Durbin-Watson:                   1.558\nProb(Omnibus):                  0.000   Jarque-Bera (JB):              278.880\nSkew:                           0.898   Prob(JB):                     2.77e-61\nKurtosis:                       7.138   Cond. No.                     1.67e+04\n==============================================================================\n\nNotes:\n[1] Standard Errors assume that the covariance matrix of the errors is correctly specified.\n[2] The condition number is large, 1.67e+04. This might indicate that there are\nstrong multicollinearity or other numerical problems.\n"
     ]
    }
   ],
   "source": [
    "# getting all columns for baseline model\n",
    "formula4 = 'ActiveEng ~ ' + ' + '.join(tracks_foll.columns.drop(['ActiveEng', 'CommentsCount', 'Plays', 'Label', 'Feat', 'OriginalProducer', 'Likes', 'Shares', 'TS', 'Followers', 'BPM', 'Fitted']))\n",
    "print(formula4)\n",
    "\n",
    "model4 = smf.ols(formula4, data=tracks_foll).fit()\n",
    "print(model4.summary())"
   ]
  },
  {
   "cell_type": "code",
   "execution_count": 207,
   "metadata": {},
   "outputs": [
    {
     "output_type": "execute_result",
     "data": {
      "text/plain": [
       "              sum_sq     df          F        PR(>F)\n",
       "ArtistName  0.000398   28.0  16.165655  1.005566e-41\n",
       "Key         0.000036   33.0   1.231660  1.887642e-01\n",
       "Genre       0.000020   13.0   1.761516  4.956734e-02\n",
       "Length      0.000001    1.0   1.168767  2.806841e-01\n",
       "Residual    0.000222  253.0        NaN           NaN"
      ],
      "text/html": "<div>\n<style scoped>\n    .dataframe tbody tr th:only-of-type {\n        vertical-align: middle;\n    }\n\n    .dataframe tbody tr th {\n        vertical-align: top;\n    }\n\n    .dataframe thead th {\n        text-align: right;\n    }\n</style>\n<table border=\"1\" class=\"dataframe\">\n  <thead>\n    <tr style=\"text-align: right;\">\n      <th></th>\n      <th>sum_sq</th>\n      <th>df</th>\n      <th>F</th>\n      <th>PR(&gt;F)</th>\n    </tr>\n  </thead>\n  <tbody>\n    <tr>\n      <th>ArtistName</th>\n      <td>0.000398</td>\n      <td>28.0</td>\n      <td>16.165655</td>\n      <td>1.005566e-41</td>\n    </tr>\n    <tr>\n      <th>Key</th>\n      <td>0.000036</td>\n      <td>33.0</td>\n      <td>1.231660</td>\n      <td>1.887642e-01</td>\n    </tr>\n    <tr>\n      <th>Genre</th>\n      <td>0.000020</td>\n      <td>13.0</td>\n      <td>1.761516</td>\n      <td>4.956734e-02</td>\n    </tr>\n    <tr>\n      <th>Length</th>\n      <td>0.000001</td>\n      <td>1.0</td>\n      <td>1.168767</td>\n      <td>2.806841e-01</td>\n    </tr>\n    <tr>\n      <th>Residual</th>\n      <td>0.000222</td>\n      <td>253.0</td>\n      <td>NaN</td>\n      <td>NaN</td>\n    </tr>\n  </tbody>\n</table>\n</div>"
     },
     "metadata": {},
     "execution_count": 207
    }
   ],
   "source": [
    "## lots of insignificant categories...\n",
    "# let's see the impact of categories with an anova\n",
    "import statsmodels.api as sm\n",
    "sm.stats.anova_lm(model4, typ=2)"
   ]
  },
  {
   "cell_type": "code",
   "execution_count": 215,
   "metadata": {
    "tags": []
   },
   "outputs": [
    {
     "output_type": "stream",
     "name": "stdout",
     "text": [
      "                            OLS Regression Results                            \n==============================================================================\nDep. Variable:              ActiveEng   R-squared:                       0.180\nModel:                            OLS   Adj. R-squared:                  0.046\nMethod:                 Least Squares   F-statistic:                     1.345\nDate:                Tue, 06 Apr 2021   Prob (F-statistic):             0.0783\nTime:                        16:19:44   Log-Likelihood:                 1699.6\nNo. Observations:                 329   AIC:                            -3305.\nDf Residuals:                     282   BIC:                            -3127.\nDf Model:                          46                                         \nCovariance Type:            nonrobust                                         \n=================================================================================================================\n                                                    coef    std err          t      P>|t|      [0.025      0.975]\n-----------------------------------------------------------------------------------------------------------------\nIntercept                                         0.0015      0.000      3.118      0.002       0.001       0.002\nGenre[T.Dance / Electro Pop]                     -0.0004      0.001     -0.500      0.618      -0.002       0.001\nGenre[T.Deep House]                              -0.0002      0.000     -0.446      0.656      -0.001       0.001\nGenre[T.Electro (Classic / Detroit / Modern)]    -0.0001      0.001     -0.159      0.874      -0.002       0.001\nGenre[T.Electronica]                              0.0003      0.000      0.586      0.558      -0.001       0.001\nGenre[T.House]                                    0.0008      0.000      1.656      0.099      -0.000       0.002\nGenre[T.Indie Dance]                              0.0006      0.001      0.658      0.511      -0.001       0.002\nGenre[T.Melodic House & Techno]                7.142e-05      0.000      0.161      0.872      -0.001       0.001\nGenre[T.Minimal / Deep Tech]                     -0.0009      0.002     -0.556      0.579      -0.004       0.002\nGenre[T.Progressive House]                        0.0047      0.002      2.948      0.003       0.002       0.008\nGenre[T.Tech House]                              -0.0001      0.001     -0.230      0.818      -0.001       0.001\nGenre[T.Techno (Peak Time / Driving)]            -0.0003      0.000     -0.716      0.475      -0.001       0.001\nGenre[T.Techno (Raw / Deep / Hypnotic)]           0.0003      0.000      0.771      0.442      -0.001       0.001\nGenre[T.UK Garage / Bassline]                    -0.0004      0.001     -0.321      0.748      -0.003       0.002\nKey[T.A min]                                     -0.0005      0.000     -1.049      0.295      -0.001       0.000\nKey[T.A♭ maj]                                    -0.0009      0.001     -1.262      0.208      -0.002       0.001\nKey[T.A♭ min]                                    -0.0003      0.001     -0.508      0.612      -0.002       0.001\nKey[T.A♯ maj]                                    -0.0009      0.001     -0.766      0.444      -0.003       0.001\nKey[T.A♯ min]                                    -0.0004      0.001     -0.506      0.613      -0.002       0.001\nKey[T.B maj]                                     -0.0008      0.002     -0.533      0.595      -0.004       0.002\nKey[T.B min]                                     -0.0006      0.001     -1.057      0.291      -0.002       0.000\nKey[T.B♭ maj]                                     0.0004      0.001      0.463      0.643      -0.001       0.002\nKey[T.B♭ min]                                    -0.0005      0.001     -0.812      0.418      -0.002       0.001\nKey[T.C maj]                                   3.764e-05      0.001      0.071      0.943      -0.001       0.001\nKey[T.C min]                                     -0.0004      0.000     -0.793      0.428      -0.001       0.001\nKey[T.C♯ maj]                                     0.0005      0.002      0.337      0.737      -0.003       0.004\nKey[T.C♯ min]                                     0.0018      0.001      2.105      0.036       0.000       0.003\nKey[T.D maj]                                     -0.0005      0.001     -0.763      0.446      -0.002       0.001\nKey[T.D min]                                     -0.0008      0.001     -1.328      0.185      -0.002       0.000\nKey[T.D♭ maj]                                    -0.0005      0.001     -0.591      0.555      -0.002       0.001\nKey[T.D♭ min]                                   3.18e-05      0.001      0.054      0.957      -0.001       0.001\nKey[T.D♯ maj]                                  7.484e-05      0.001      0.088      0.930      -0.002       0.002\nKey[T.D♯ min]                                     0.0017      0.001      1.967      0.050   -1.56e-06       0.003\nKey[T.E maj]                                      0.0003      0.001      0.483      0.629      -0.001       0.002\nKey[T.E min]                                     -0.0008      0.001     -1.556      0.121      -0.002       0.000\nKey[T.E♭ maj]                                     0.0002      0.002      0.152      0.879      -0.003       0.003\nKey[T.E♭ min]                                     0.0004      0.001      0.735      0.463      -0.001       0.002\nKey[T.F maj]                                     -0.0005      0.001     -0.486      0.628      -0.002       0.001\nKey[T.F min]                                   -8.95e-05      0.001     -0.163      0.871      -0.001       0.001\nKey[T.F♯ maj]                                    -0.0006      0.002     -0.344      0.731      -0.004       0.003\nKey[T.F♯ min]                                    -0.0006      0.001     -0.741      0.459      -0.002       0.001\nKey[T.G maj]                                     -0.0006      0.001     -0.983      0.327      -0.002       0.001\nKey[T.G min]                                     -0.0006      0.001     -1.039      0.300      -0.002       0.001\nKey[T.G♭ maj]                                    -0.0008      0.001     -0.856      0.393      -0.003       0.001\nKey[T.G♭ min]                                 -2.156e-05      0.001     -0.037      0.970      -0.001       0.001\nKey[T.G♯ maj]                                    -0.0017      0.001     -1.463      0.145      -0.004       0.001\nKey[T.G♯ min]                                     0.0002      0.001      0.224      0.823      -0.001       0.002\n==============================================================================\nOmnibus:                      190.852   Durbin-Watson:                   0.902\nProb(Omnibus):                  0.000   Jarque-Bera (JB):             1455.066\nSkew:                           2.347   Prob(JB):                         0.00\nKurtosis:                      12.171   Cond. No.                         31.8\n==============================================================================\n\nNotes:\n[1] Standard Errors assume that the covariance matrix of the errors is correctly specified.\n"
     ]
    }
   ],
   "source": [
    "formula5 = 'ActiveEng ~ Genre + Key'\n",
    "\n",
    "model5 = smf.ols(formula5, data=tracks_foll).fit()\n",
    "print(model5.summary())"
   ]
  },
  {
   "cell_type": "code",
   "execution_count": 216,
   "metadata": {},
   "outputs": [
    {
     "output_type": "execute_result",
     "data": {
      "text/plain": [
       "            sum_sq     df         F    PR(>F)\n",
       "Genre     0.000049   13.0  1.695484  0.061335\n",
       "Key       0.000072   33.0  0.982455  0.499600\n",
       "Residual  0.000628  282.0       NaN       NaN"
      ],
      "text/html": "<div>\n<style scoped>\n    .dataframe tbody tr th:only-of-type {\n        vertical-align: middle;\n    }\n\n    .dataframe tbody tr th {\n        vertical-align: top;\n    }\n\n    .dataframe thead th {\n        text-align: right;\n    }\n</style>\n<table border=\"1\" class=\"dataframe\">\n  <thead>\n    <tr style=\"text-align: right;\">\n      <th></th>\n      <th>sum_sq</th>\n      <th>df</th>\n      <th>F</th>\n      <th>PR(&gt;F)</th>\n    </tr>\n  </thead>\n  <tbody>\n    <tr>\n      <th>Genre</th>\n      <td>0.000049</td>\n      <td>13.0</td>\n      <td>1.695484</td>\n      <td>0.061335</td>\n    </tr>\n    <tr>\n      <th>Key</th>\n      <td>0.000072</td>\n      <td>33.0</td>\n      <td>0.982455</td>\n      <td>0.499600</td>\n    </tr>\n    <tr>\n      <th>Residual</th>\n      <td>0.000628</td>\n      <td>282.0</td>\n      <td>NaN</td>\n      <td>NaN</td>\n    </tr>\n  </tbody>\n</table>\n</div>"
     },
     "metadata": {},
     "execution_count": 216
    }
   ],
   "source": [
    "sm.stats.anova_lm(model5, typ=2)"
   ]
  },
  {
   "cell_type": "code",
   "execution_count": 224,
   "metadata": {
    "tags": []
   },
   "outputs": [
    {
     "output_type": "stream",
     "name": "stdout",
     "text": [
      "                            OLS Regression Results                            \n",
      "==============================================================================\n",
      "Dep. Variable:              ActiveEng   R-squared:                       0.724\n",
      "Model:                            OLS   Adj. R-squared:                  0.617\n",
      "Method:                 Least Squares   F-statistic:                     6.816\n",
      "Date:                Tue, 06 Apr 2021   Prob (F-statistic):           9.74e-33\n",
      "Time:                        16:24:45   Log-Likelihood:                 1878.4\n",
      "No. Observations:                 329   AIC:                            -3573.\n",
      "Df Residuals:                     237   BIC:                            -3224.\n",
      "Df Model:                          91                                         \n",
      "Covariance Type:            nonrobust                                         \n",
      "====================================================================================================\n",
      "                                       coef    std err          t      P>|t|      [0.025      0.975]\n",
      "----------------------------------------------------------------------------------------------------\n",
      "Intercept                            0.0010      0.002      0.464      0.643      -0.003       0.005\n",
      "Key[T.A min]                         0.0002      0.003      0.056      0.955      -0.006       0.006\n",
      "Key[T.A♭ maj]                        0.0218      0.021      1.060      0.290      -0.019       0.062\n",
      "Key[T.A♭ min]                        0.0004      0.003      0.134      0.893      -0.006       0.007\n",
      "Key[T.A♯ maj]                       -0.0289      0.174     -0.166      0.868      -0.372       0.314\n",
      "Key[T.A♯ min]                       -0.0040      0.005     -0.837      0.404      -0.013       0.005\n",
      "Key[T.B maj]                     -4.699e-08   6.61e-08     -0.711      0.478   -1.77e-07    8.31e-08\n",
      "Key[T.B min]                         0.0031      0.003      0.978      0.329      -0.003       0.009\n",
      "Key[T.B♭ maj]                       -0.0736      0.042     -1.753      0.081      -0.156       0.009\n",
      "Key[T.B♭ min]                        0.0013      0.003      0.389      0.698      -0.005       0.008\n",
      "Key[T.C maj]                         0.0037      0.003      1.158      0.248      -0.003       0.010\n",
      "Key[T.C min]                        -0.0010      0.003     -0.381      0.704      -0.006       0.004\n",
      "Key[T.C♯ maj]                     5.294e-09   6.05e-08      0.087      0.930   -1.14e-07    1.24e-07\n",
      "Key[T.C♯ min]                        0.0178      0.009      2.060      0.041       0.001       0.035\n",
      "Key[T.D maj]                        -0.0017      0.004     -0.384      0.701      -0.010       0.007\n",
      "Key[T.D min]                        -0.0014      0.005     -0.280      0.779      -0.011       0.009\n",
      "Key[T.D♭ maj]                       -0.0099      0.017     -0.586      0.559      -0.043       0.023\n",
      "Key[T.D♭ min]                        0.0011      0.011      0.099      0.921      -0.020       0.022\n",
      "Key[T.D♯ maj]                        0.0037      0.004      1.014      0.312      -0.003       0.011\n",
      "Key[T.D♯ min]                       -0.0987      0.032     -3.114      0.002      -0.161      -0.036\n",
      "Key[T.E maj]                         0.0034      0.004      0.923      0.357      -0.004       0.011\n",
      "Key[T.E min]                        -0.0010      0.002     -0.437      0.662      -0.006       0.004\n",
      "Key[T.E♭ maj]                     2.632e-09   6.35e-08      0.041      0.967   -1.22e-07    1.28e-07\n",
      "Key[T.E♭ min]                       -0.0040      0.004     -1.120      0.264      -0.011       0.003\n",
      "Key[T.F maj]                         0.0032      0.029      0.111      0.912      -0.053       0.059\n",
      "Key[T.F min]                        -0.0002      0.003     -0.061      0.951      -0.005       0.005\n",
      "Key[T.F♯ maj]                    -4.438e-08   6.62e-08     -0.670      0.503   -1.75e-07    8.61e-08\n",
      "Key[T.F♯ min]                       -0.0040      0.012     -0.324      0.747      -0.029       0.020\n",
      "Key[T.G maj]                        -0.0004      0.005     -0.086      0.931      -0.009       0.009\n",
      "Key[T.G min]                        -0.0035      0.007     -0.519      0.604      -0.017       0.010\n",
      "Key[T.G♭ maj]                       -0.0048      0.003     -1.531      0.127      -0.011       0.001\n",
      "Key[T.G♭ min]                        0.0036      0.004      0.830      0.407      -0.005       0.012\n",
      "Key[T.G♯ maj]                        0.0007      0.016      0.046      0.963      -0.031       0.032\n",
      "Key[T.G♯ min]                       -0.0115      0.015     -0.753      0.452      -0.041       0.018\n",
      "ArtistName[T.Nina Kraviz]           -0.0001      0.001     -0.200      0.842      -0.001       0.001\n",
      "ArtistName[T.Richie Hawtin]          0.0005      0.000      1.265      0.207      -0.000       0.001\n",
      "ArtistName[T.Tale of Us]         -8.425e-05      0.000     -0.213      0.832      -0.001       0.001\n",
      "ArtistName[T.adam beyer]             0.0034      0.001      2.802      0.006       0.001       0.006\n",
      "ArtistName[T.aleksandir]             0.0071      0.001     10.945      0.000       0.006       0.008\n",
      "ArtistName[T.baltra]                 0.0009      0.000      2.170      0.031    7.92e-05       0.002\n",
      "ArtistName[T.daniel avery]           0.0023      0.001      3.410      0.001       0.001       0.004\n",
      "ArtistName[T.efdemin]               -0.0005      0.000     -1.250      0.213      -0.001       0.000\n",
      "ArtistName[T.enrico sangiuliano]     0.0005      0.001      0.791      0.430      -0.001       0.002\n",
      "ArtistName[T.floating points]        0.0003      0.000      0.844      0.400      -0.000       0.001\n",
      "ArtistName[T.harrison bdp]           0.0009      0.000      2.231      0.027       0.000       0.002\n",
      "ArtistName[T.ilario alicante]        0.0020      0.001      2.021      0.044    5.16e-05       0.004\n",
      "ArtistName[T.kevin yost]             0.0025      0.000      5.416      0.000       0.002       0.003\n",
      "ArtistName[T.kink]                   0.0005      0.000      1.027      0.306      -0.000       0.001\n",
      "ArtistName[T.laurent garnier]        0.0011      0.001      1.478      0.141      -0.000       0.003\n",
      "ArtistName[T.maceo plex]             0.0007      0.000      2.022      0.044    1.88e-05       0.001\n",
      "ArtistName[T.mall grab]           9.304e-05      0.001      0.183      0.855      -0.001       0.001\n",
      "ArtistName[T.marcel dettmann]        0.0019      0.000      4.997      0.000       0.001       0.003\n",
      "ArtistName[T.mathame]                0.0003      0.000      0.694      0.488      -0.001       0.001\n",
      "ArtistName[T.mind against]           0.0001      0.000      0.281      0.779      -0.001       0.001\n",
      "ArtistName[T.monika kruse]           0.0005      0.000      1.140      0.255      -0.000       0.001\n",
      "ArtistName[T.mrsch]                  0.0062      0.001      5.992      0.000       0.004       0.008\n",
      "ArtistName[T.pleasurekraft]      -5.525e-05      0.000     -0.131      0.896      -0.001       0.001\n",
      "ArtistName[T.randomer]               0.0002      0.000      0.584      0.560      -0.001       0.001\n",
      "ArtistName[T.red axes]               0.0012      0.001      1.163      0.246      -0.001       0.003\n",
      "ArtistName[T.ron flatter]            0.0020      0.000      4.963      0.000       0.001       0.003\n",
      "ArtistName[T.seb wildblood]          0.0004      0.000      1.068      0.287      -0.000       0.001\n",
      "ArtistName[T.woo york]               0.0002      0.000      0.557      0.578      -0.001       0.001\n",
      "BPM                               1.031e-06   1.78e-05      0.058      0.954    -3.4e-05    3.61e-05\n",
      "BPM:Key[T.A min]                 -7.478e-06   2.31e-05     -0.324      0.746    -5.3e-05     3.8e-05\n",
      "BPM:Key[T.A♭ maj]                   -0.0002      0.000     -1.135      0.258      -0.001       0.000\n",
      "BPM:Key[T.A♭ min]                -9.268e-06   2.56e-05     -0.361      0.718   -5.98e-05    4.13e-05\n",
      "BPM:Key[T.A♯ maj]                    0.0002      0.001      0.162      0.871      -0.003       0.003\n",
      "BPM:Key[T.A♯ min]                 2.511e-05   3.79e-05      0.662      0.508   -4.96e-05    9.98e-05\n",
      "BPM:Key[T.B maj]                 -5.873e-06   8.26e-06     -0.711      0.478   -2.21e-05    1.04e-05\n",
      "BPM:Key[T.B min]                 -3.151e-05    2.5e-05     -1.258      0.210   -8.08e-05    1.78e-05\n",
      "BPM:Key[T.B♭ maj]                    0.0006      0.000      1.733      0.084   -7.87e-05       0.001\n",
      "BPM:Key[T.B♭ min]                -1.889e-05   2.74e-05     -0.689      0.492   -7.29e-05    3.51e-05\n",
      "BPM:Key[T.C maj]                 -3.252e-05   2.65e-05     -1.225      0.222   -8.48e-05    1.98e-05\n",
      "BPM:Key[T.C min]                  2.936e-06   2.03e-05      0.145      0.885    -3.7e-05    4.29e-05\n",
      "BPM:Key[T.C♯ maj]                 6.882e-07   7.87e-06      0.087      0.930   -1.48e-05    1.62e-05\n",
      "BPM:Key[T.C♯ min]                   -0.0001   6.52e-05     -2.022      0.044      -0.000   -3.41e-06\n",
      "BPM:Key[T.D maj]                  8.445e-06   3.38e-05      0.250      0.803   -5.81e-05     7.5e-05\n",
      "BPM:Key[T.D min]                  4.139e-06      4e-05      0.104      0.918   -7.46e-05    8.29e-05\n",
      "BPM:Key[T.D♭ maj]                 7.661e-05      0.000      0.566      0.572      -0.000       0.000\n",
      "BPM:Key[T.D♭ min]                -1.091e-05   8.61e-05     -0.127      0.899      -0.000       0.000\n",
      "BPM:Key[T.D♯ maj]                 -2.63e-05   2.67e-05     -0.984      0.326   -7.89e-05    2.63e-05\n",
      "BPM:Key[T.D♯ min]                    0.0008      0.000      3.101      0.002       0.000       0.001\n",
      "BPM:Key[T.E maj]                 -2.956e-05   2.88e-05     -1.026      0.306   -8.63e-05    2.72e-05\n",
      "BPM:Key[T.E min]                 -1.295e-07   1.91e-05     -0.007      0.995   -3.78e-05    3.75e-05\n",
      "BPM:Key[T.E♭ maj]                 3.343e-07   8.06e-06      0.041      0.967   -1.55e-05    1.62e-05\n",
      "BPM:Key[T.E♭ min]                 3.265e-05   2.94e-05      1.112      0.267   -2.52e-05    9.05e-05\n",
      "BPM:Key[T.F maj]                 -3.545e-05      0.000     -0.156      0.876      -0.000       0.000\n",
      "BPM:Key[T.F min]                 -5.296e-06   2.05e-05     -0.259      0.796   -4.57e-05    3.51e-05\n",
      "BPM:Key[T.F♯ maj]                -5.503e-06   8.21e-06     -0.670      0.503   -2.17e-05    1.07e-05\n",
      "BPM:Key[T.F♯ min]                 2.989e-05   9.79e-05      0.305      0.760      -0.000       0.000\n",
      "BPM:Key[T.G maj]                 -2.731e-06   3.73e-05     -0.073      0.942   -7.61e-05    7.07e-05\n",
      "BPM:Key[T.G min]                  2.099e-05   5.36e-05      0.391      0.696   -8.47e-05       0.000\n",
      "BPM:Key[T.G♭ maj]                 3.427e-05   2.72e-05      1.259      0.209   -1.94e-05    8.79e-05\n",
      "BPM:Key[T.G♭ min]                -2.916e-05    3.5e-05     -0.833      0.406   -9.82e-05    3.98e-05\n",
      "BPM:Key[T.G♯ maj]                -1.859e-05      0.000     -0.145      0.885      -0.000       0.000\n",
      "BPM:Key[T.G♯ min]                 8.278e-05      0.000      0.691      0.490      -0.000       0.000\n",
      "==============================================================================\n",
      "Omnibus:                       87.548   Durbin-Watson:                   1.532\n",
      "Prob(Omnibus):                  0.000   Jarque-Bera (JB):              319.786\n",
      "Skew:                           1.117   Prob(JB):                     3.63e-70\n",
      "Kurtosis:                       7.282   Cond. No.                     1.01e+16\n",
      "==============================================================================\n",
      "\n",
      "Notes:\n",
      "[1] Standard Errors assume that the covariance matrix of the errors is correctly specified.\n",
      "[2] The smallest eigenvalue is 5.33e-26. This might indicate that there are\n",
      "strong multicollinearity problems or that the design matrix is singular.\n",
      "C:\\Users\\Federico\\miniconda3\\lib\\site-packages\\statsmodels\\base\\model.py:1832: ValueWarning:\n",
      "\n",
      "covariance of constraints does not have full rank. The number of constraints is 33, but rank is 29\n",
      "\n"
     ]
    },
    {
     "output_type": "execute_result",
     "data": {
      "text/plain": [
       "                  sum_sq     df          F        PR(>F)\n",
       "Key         4.001514e-05   33.0   1.358217  1.123290e-01\n",
       "ArtistName  2.881379e-04   28.0  11.526595  1.526263e-30\n",
       "BPM         4.223106e-07    1.0   0.473032  4.922681e-01\n",
       "BPM:Key     3.168731e-05   33.0   1.075549  3.649670e-01\n",
       "Residual    2.115873e-04  237.0        NaN           NaN"
      ],
      "text/html": "<div>\n<style scoped>\n    .dataframe tbody tr th:only-of-type {\n        vertical-align: middle;\n    }\n\n    .dataframe tbody tr th {\n        vertical-align: top;\n    }\n\n    .dataframe thead th {\n        text-align: right;\n    }\n</style>\n<table border=\"1\" class=\"dataframe\">\n  <thead>\n    <tr style=\"text-align: right;\">\n      <th></th>\n      <th>sum_sq</th>\n      <th>df</th>\n      <th>F</th>\n      <th>PR(&gt;F)</th>\n    </tr>\n  </thead>\n  <tbody>\n    <tr>\n      <th>Key</th>\n      <td>4.001514e-05</td>\n      <td>33.0</td>\n      <td>1.358217</td>\n      <td>1.123290e-01</td>\n    </tr>\n    <tr>\n      <th>ArtistName</th>\n      <td>2.881379e-04</td>\n      <td>28.0</td>\n      <td>11.526595</td>\n      <td>1.526263e-30</td>\n    </tr>\n    <tr>\n      <th>BPM</th>\n      <td>4.223106e-07</td>\n      <td>1.0</td>\n      <td>0.473032</td>\n      <td>4.922681e-01</td>\n    </tr>\n    <tr>\n      <th>BPM:Key</th>\n      <td>3.168731e-05</td>\n      <td>33.0</td>\n      <td>1.075549</td>\n      <td>3.649670e-01</td>\n    </tr>\n    <tr>\n      <th>Residual</th>\n      <td>2.115873e-04</td>\n      <td>237.0</td>\n      <td>NaN</td>\n      <td>NaN</td>\n    </tr>\n  </tbody>\n</table>\n</div>"
     },
     "metadata": {},
     "execution_count": 224
    }
   ],
   "source": [
    "# popularity is all that matters?\n",
    "model6 = smf.ols('ActiveEng ~ BPM*Key + ArtistName', data=tracks_foll).fit()\n",
    "print(model6.summary())\n",
    "sm.stats.anova_lm(model6, typ=2)"
   ]
  },
  {
   "cell_type": "code",
   "execution_count": 227,
   "metadata": {},
   "outputs": [
    {
     "output_type": "stream",
     "name": "stdout",
     "text": [
      "                            OLS Regression Results                            \n",
      "==============================================================================\n",
      "Dep. Variable:              ActiveEng   R-squared:                       0.347\n",
      "Model:                            OLS   Adj. R-squared:                  0.192\n",
      "Method:                 Least Squares   F-statistic:                     2.236\n",
      "Date:                Tue, 06 Apr 2021   Prob (F-statistic):           5.15e-06\n",
      "Time:                        16:26:56   Log-Likelihood:                 1737.1\n",
      "No. Observations:                 329   AIC:                            -3346.\n",
      "Df Residuals:                     265   BIC:                            -3103.\n",
      "Df Model:                          63                                         \n",
      "Covariance Type:            nonrobust                                         \n",
      "=====================================================================================\n",
      "                        coef    std err          t      P>|t|      [0.025      0.975]\n",
      "-------------------------------------------------------------------------------------\n",
      "Intercept             0.0004      0.003      0.126      0.900      -0.006       0.006\n",
      "Key[T.A min]          0.0008      0.004      0.193      0.847      -0.007       0.009\n",
      "Key[T.A♭ maj]        -0.0048      0.028     -0.169      0.866      -0.061       0.051\n",
      "Key[T.A♭ min]        -0.0028      0.005     -0.621      0.535      -0.012       0.006\n",
      "Key[T.A♯ maj]        -0.0320      0.242     -0.132      0.895      -0.508       0.444\n",
      "Key[T.A♯ min]         0.0004      0.007      0.061      0.951      -0.013       0.013\n",
      "Key[T.B maj]       -7.06e-08   9.04e-08     -0.781      0.436   -2.49e-07    1.07e-07\n",
      "Key[T.B min]          0.0074      0.004      1.666      0.097      -0.001       0.016\n",
      "Key[T.B♭ maj]        -0.0595      0.042     -1.408      0.160      -0.143       0.024\n",
      "Key[T.B♭ min]         0.0027      0.004      0.601      0.548      -0.006       0.011\n",
      "Key[T.C maj]          0.0073      0.004      1.670      0.096      -0.001       0.016\n",
      "Key[T.C min]      -2.178e-05      0.003     -0.006      0.995      -0.007       0.007\n",
      "Key[T.C♯ maj]      1.164e-08    8.4e-08      0.139      0.890   -1.54e-07    1.77e-07\n",
      "Key[T.C♯ min]         0.0387      0.012      3.281      0.001       0.015       0.062\n",
      "Key[T.D maj]          0.0018      0.006      0.289      0.773      -0.010       0.014\n",
      "Key[T.D min]          0.0015      0.006      0.244      0.808      -0.011       0.014\n",
      "Key[T.D♭ maj]        -0.0130      0.023     -0.559      0.577      -0.059       0.033\n",
      "Key[T.D♭ min]         0.0121      0.015      0.821      0.412      -0.017       0.041\n",
      "Key[T.D♯ maj]         0.0050      0.005      1.011      0.313      -0.005       0.015\n",
      "Key[T.D♯ min]        -0.2429      0.041     -5.935      0.000      -0.323      -0.162\n",
      "Key[T.E maj]          0.0087      0.005      1.717      0.087      -0.001       0.019\n",
      "Key[T.E min]          0.0001      0.003      0.031      0.975      -0.006       0.007\n",
      "Key[T.E♭ maj]     -3.895e-09   8.77e-08     -0.044      0.965   -1.77e-07    1.69e-07\n",
      "Key[T.E♭ min]        -0.0055      0.005     -1.096      0.274      -0.015       0.004\n",
      "Key[T.F maj]          0.0318      0.040      0.795      0.428      -0.047       0.111\n",
      "Key[T.F min]         -0.0016      0.003     -0.461      0.645      -0.008       0.005\n",
      "Key[T.F♯ maj]      -6.43e-08   9.19e-08     -0.700      0.485   -2.45e-07    1.17e-07\n",
      "Key[T.F♯ min]        -0.0006      0.018     -0.036      0.971      -0.036       0.034\n",
      "Key[T.G maj]          0.0007      0.006      0.105      0.916      -0.012       0.013\n",
      "Key[T.G min]          0.0028      0.009      0.300      0.765      -0.016       0.021\n",
      "Key[T.G♭ maj]        -0.0001      0.004     -0.033      0.973      -0.009       0.008\n",
      "Key[T.G♭ min]         0.0061      0.006      0.997      0.320      -0.006       0.018\n",
      "Key[T.G♯ maj]        -0.0047      0.021     -0.226      0.822      -0.045       0.036\n",
      "Key[T.G♯ min]        -0.0897      0.019     -4.616      0.000      -0.128      -0.051\n",
      "BPM                8.454e-06   2.45e-05      0.344      0.731   -3.99e-05    5.68e-05\n",
      "BPM:Key[T.A min]  -9.873e-06   3.18e-05     -0.311      0.756   -7.24e-05    5.27e-05\n",
      "BPM:Key[T.A♭ maj]  3.132e-05      0.000      0.139      0.890      -0.000       0.000\n",
      "BPM:Key[T.A♭ min]   1.88e-05   3.56e-05      0.528      0.598   -5.14e-05     8.9e-05\n",
      "BPM:Key[T.A♯ maj]     0.0002      0.002      0.128      0.898      -0.004       0.004\n",
      "BPM:Key[T.A♯ min] -5.563e-06   5.21e-05     -0.107      0.915      -0.000     9.7e-05\n",
      "BPM:Key[T.B maj]  -8.826e-06   1.13e-05     -0.781      0.436   -3.11e-05    1.34e-05\n",
      "BPM:Key[T.B min]   -6.14e-05   3.46e-05     -1.772      0.078      -0.000    6.82e-06\n",
      "BPM:Key[T.B♭ maj]     0.0005      0.000      1.413      0.159      -0.000       0.001\n",
      "BPM:Key[T.B♭ min] -2.781e-05   3.72e-05     -0.747      0.455      -0.000    4.55e-05\n",
      "BPM:Key[T.C maj]  -6.006e-05   3.57e-05     -1.684      0.093      -0.000    1.02e-05\n",
      "BPM:Key[T.C min]  -1.388e-08   2.79e-05     -0.000      1.000   -5.49e-05    5.49e-05\n",
      "BPM:Key[T.C♯ maj]  1.514e-06   1.09e-05      0.139      0.890      -2e-05     2.3e-05\n",
      "BPM:Key[T.C♯ min]    -0.0003   8.89e-05     -3.092      0.002      -0.000   -9.99e-05\n",
      "BPM:Key[T.D maj]  -1.642e-05   4.66e-05     -0.353      0.725      -0.000    7.52e-05\n",
      "BPM:Key[T.D min]  -1.776e-05   4.97e-05     -0.357      0.721      -0.000    8.01e-05\n",
      "BPM:Key[T.D♭ maj]     0.0001      0.000      0.539      0.591      -0.000       0.000\n",
      "BPM:Key[T.D♭ min] -9.552e-05      0.000     -0.815      0.416      -0.000       0.000\n",
      "BPM:Key[T.D♯ maj] -3.583e-05   3.67e-05     -0.977      0.330      -0.000    3.64e-05\n",
      "BPM:Key[T.D♯ min]     0.0019      0.000      5.981      0.000       0.001       0.003\n",
      "BPM:Key[T.E maj]  -6.552e-05   3.99e-05     -1.642      0.102      -0.000     1.3e-05\n",
      "BPM:Key[T.E min]  -6.143e-06   2.62e-05     -0.234      0.815   -5.77e-05    4.54e-05\n",
      "BPM:Key[T.E♭ maj] -4.947e-07   1.11e-05     -0.044      0.965   -2.24e-05    2.14e-05\n",
      "BPM:Key[T.E♭ min]  4.982e-05   4.07e-05      1.226      0.221   -3.02e-05       0.000\n",
      "BPM:Key[T.F maj]     -0.0003      0.000     -0.810      0.419      -0.001       0.000\n",
      "BPM:Key[T.F min]   1.222e-05   2.82e-05      0.433      0.666   -4.34e-05    6.78e-05\n",
      "BPM:Key[T.F♯ maj] -7.973e-06   1.14e-05     -0.700      0.485   -3.04e-05    1.45e-05\n",
      "BPM:Key[T.F♯ min]  3.697e-06      0.000      0.027      0.979      -0.000       0.000\n",
      "BPM:Key[T.G maj]  -7.883e-06   5.22e-05     -0.151      0.880      -0.000     9.5e-05\n",
      "BPM:Key[T.G min]  -2.581e-05   7.46e-05     -0.346      0.730      -0.000       0.000\n",
      "BPM:Key[T.G♭ maj] -5.658e-06   3.73e-05     -0.152      0.879    -7.9e-05    6.77e-05\n",
      "BPM:Key[T.G♭ min] -4.488e-05   4.87e-05     -0.923      0.357      -0.000    5.09e-05\n",
      "BPM:Key[T.G♯ maj]  2.798e-05      0.000      0.171      0.864      -0.000       0.000\n",
      "BPM:Key[T.G♯ min]     0.0007      0.000      4.635      0.000       0.000       0.001\n",
      "==============================================================================\n",
      "Omnibus:                      153.031   Durbin-Watson:                   1.191\n",
      "Prob(Omnibus):                  0.000   Jarque-Bera (JB):              817.491\n",
      "Skew:                           1.909   Prob(JB):                    3.05e-178\n",
      "Kurtosis:                       9.713   Cond. No.                     1.01e+16\n",
      "==============================================================================\n",
      "\n",
      "Notes:\n",
      "[1] Standard Errors assume that the covariance matrix of the errors is correctly specified.\n",
      "[2] The smallest eigenvalue is 5.33e-26. This might indicate that there are\n",
      "strong multicollinearity problems or that the design matrix is singular.\n",
      "C:\\Users\\Federico\\miniconda3\\lib\\site-packages\\statsmodels\\base\\model.py:1832: ValueWarning:\n",
      "\n",
      "covariance of constraints does not have full rank. The number of constraints is 33, but rank is 29\n",
      "\n"
     ]
    },
    {
     "output_type": "execute_result",
     "data": {
      "text/plain": [
       "                sum_sq     df         F    PR(>F)\n",
       "Key       9.816061e-05   33.0  1.577386  0.034367\n",
       "BPM       3.493290e-09    1.0  0.001852  0.965702\n",
       "BPM:Key   1.790526e-04   33.0  2.877274  0.000001\n",
       "Residual  4.997252e-04  265.0       NaN       NaN"
      ],
      "text/html": "<div>\n<style scoped>\n    .dataframe tbody tr th:only-of-type {\n        vertical-align: middle;\n    }\n\n    .dataframe tbody tr th {\n        vertical-align: top;\n    }\n\n    .dataframe thead th {\n        text-align: right;\n    }\n</style>\n<table border=\"1\" class=\"dataframe\">\n  <thead>\n    <tr style=\"text-align: right;\">\n      <th></th>\n      <th>sum_sq</th>\n      <th>df</th>\n      <th>F</th>\n      <th>PR(&gt;F)</th>\n    </tr>\n  </thead>\n  <tbody>\n    <tr>\n      <th>Key</th>\n      <td>9.816061e-05</td>\n      <td>33.0</td>\n      <td>1.577386</td>\n      <td>0.034367</td>\n    </tr>\n    <tr>\n      <th>BPM</th>\n      <td>3.493290e-09</td>\n      <td>1.0</td>\n      <td>0.001852</td>\n      <td>0.965702</td>\n    </tr>\n    <tr>\n      <th>BPM:Key</th>\n      <td>1.790526e-04</td>\n      <td>33.0</td>\n      <td>2.877274</td>\n      <td>0.000001</td>\n    </tr>\n    <tr>\n      <th>Residual</th>\n      <td>4.997252e-04</td>\n      <td>265.0</td>\n      <td>NaN</td>\n      <td>NaN</td>\n    </tr>\n  </tbody>\n</table>\n</div>"
     },
     "metadata": {},
     "execution_count": 227
    }
   ],
   "source": [
    "# popularity is all that matters?\n",
    "model7 = smf.ols('ActiveEng ~ BPM*Key', data=tracks_foll).fit()\n",
    "print(model7.summary())\n",
    "sm.stats.anova_lm(model7, typ=2)"
   ]
  },
  {
   "cell_type": "code",
   "execution_count": 237,
   "metadata": {},
   "outputs": [
    {
     "output_type": "display_data",
     "data": {
      "application/vnd.plotly.v1+json": {
       "config": {
        "plotlyServerURL": "https://plot.ly"
       },
       "data": [
        {
         "hovertemplate": "BPM=%{x}<br>ActiveEng=%{y}<extra></extra>",
         "legendgroup": "",
         "marker": {
          "color": "#636efa",
          "symbol": "circle"
         },
         "mode": "markers",
         "name": "",
         "orientation": "v",
         "showlegend": false,
         "type": "scatter",
         "x": [
          78,
          129,
          129,
          120,
          151,
          119,
          126,
          88,
          84,
          124,
          149,
          126,
          149,
          114,
          120,
          120,
          124,
          123,
          124,
          126,
          123,
          128,
          125,
          122,
          126,
          134,
          138,
          129,
          129,
          129,
          129,
          129,
          129,
          129,
          129,
          129,
          129,
          129,
          129,
          0,
          129,
          129,
          72,
          72,
          132,
          142,
          126,
          124,
          140,
          146,
          120,
          98,
          124,
          122,
          102,
          127,
          75,
          120,
          125,
          127,
          124,
          126,
          124,
          127,
          130,
          130,
          124,
          120,
          125,
          66,
          123,
          94,
          66,
          116,
          124,
          124,
          128,
          129,
          124,
          126,
          123,
          124,
          124,
          105,
          126,
          124,
          129,
          128,
          127,
          126,
          128,
          128,
          125,
          128,
          129,
          129,
          108,
          126,
          127,
          124,
          128,
          128,
          124,
          128,
          128,
          129,
          128,
          128,
          130,
          125,
          126,
          125,
          126,
          125,
          126,
          120,
          120,
          123,
          122,
          122,
          123,
          123,
          120,
          119,
          121,
          123,
          120,
          123,
          120,
          121,
          125,
          125,
          126,
          125,
          92,
          122,
          127,
          127,
          127,
          127,
          127,
          127,
          127,
          128,
          125,
          127,
          124,
          124,
          128,
          127,
          126,
          126,
          127,
          126,
          126,
          126,
          126,
          126,
          128,
          124,
          123,
          124,
          126,
          125,
          126,
          125,
          125,
          128,
          129,
          120,
          107,
          120,
          108,
          107,
          120,
          120,
          145,
          127,
          132,
          124,
          120,
          122,
          125,
          130,
          130,
          130,
          127,
          65,
          163,
          130,
          123,
          123,
          127,
          127,
          95,
          125,
          127,
          127,
          123,
          123,
          90,
          93,
          127,
          127,
          128,
          131,
          128,
          127,
          124,
          125,
          125,
          124,
          124,
          123,
          123,
          123,
          122,
          127,
          127,
          127,
          127,
          127,
          127,
          127,
          130,
          130,
          128,
          127,
          122,
          125,
          126,
          128,
          125,
          130,
          130,
          129,
          130,
          127,
          125,
          96,
          124,
          127,
          125,
          128,
          135,
          128,
          133,
          135,
          137,
          128,
          130,
          123,
          104,
          164,
          133,
          182,
          120,
          134,
          122,
          120,
          123,
          122,
          126,
          120,
          122,
          146,
          136,
          135,
          137,
          140,
          129,
          156,
          131,
          100,
          123,
          130,
          132,
          124,
          138,
          139,
          137,
          139,
          138,
          137,
          90,
          120,
          129,
          125,
          128,
          85,
          128,
          128,
          128,
          127,
          140,
          89,
          127,
          130,
          123,
          146,
          146,
          125,
          122,
          183,
          146,
          144,
          144,
          163,
          139,
          135,
          135,
          130,
          125,
          125,
          82,
          143,
          148,
          84,
          67,
          123,
          118,
          118,
          123,
          125,
          123,
          98,
          150,
          132,
          128
         ],
         "xaxis": "x",
         "y": [
          0.0012143290831815423,
          0.0004421995990723635,
          0.00032739259572687655,
          0.00031111270656088836,
          0.00005618948516917658,
          0.00032955316467965496,
          0.0005925304697399247,
          0.00010993037742762916,
          0.00021282029454328764,
          0.00006292474200855777,
          0.00017094017094017094,
          0.00015477480266212662,
          0.000044031526573026284,
          0.00009616309260505818,
          0.00037415036687522086,
          0.00043155469407160884,
          0.0003351880404907153,
          0.0004886139891489997,
          0.00021168501270110075,
          0.0002756339581036384,
          0.0006172077521293668,
          0.00010975342064827688,
          0.00010889450300548829,
          0.00010109179134654265,
          0.00012639828098337863,
          0.0017917369308600337,
          0.002293720166139731,
          0.0012298060260495277,
          0.0014512283611485435,
          0.0017417267977108733,
          0.0005014206919605549,
          0.00025230225810521004,
          0.00016170763260025875,
          0.0017452006980802793,
          0.0011824990145841545,
          0.0012239902080783353,
          0.0006294256490952006,
          0.00015026296018031557,
          0.00030679552078539653,
          0.0005414185165132648,
          0.00022933149868134388,
          0.0006586169045005489,
          0.0009786208973200843,
          0.00037645287280598563,
          0.00029251170046801873,
          0.0006919457514530861,
          0.0009810104407539765,
          0.0009296560272699101,
          0.0006453000645300065,
          0.0004349244318799609,
          0.00009837678307919331,
          0.0006611533203343867,
          0.0004452496468709697,
          0.0006423913220250777,
          0.0008905644694462173,
          0.0006144058982966237,
          0.0004973108983542632,
          0.0004909659220858428,
          0.00029368873045450863,
          0.0006110205579402804,
          0.0005137581806110297,
          0.0007017406111522777,
          0.0008733303303027238,
          0.0005893003958767982,
          0.0011926306519945361,
          0.00013663068725235688,
          0.000691426313709996,
          0.0004702089071001545,
          0.00022799817601459188,
          0.000164887258337112,
          0.0002821758896378743,
          0.0003420313813792415,
          0.0003762227238525207,
          0.00037054191755442334,
          0.0003570790930191037,
          0.00020464545175483476,
          0.0006501950585175553,
          0.0002536783358701167,
          0.0004056466006814863,
          0.002355712603062426,
          0.0002699055330634278,
          0.0026352390015372228,
          0.0007442691277165823,
          0.002404983441097619,
          0.0012004466778336126,
          0.0005319148936170213,
          0.000507292327203551,
          0.0007320048800325336,
          0.0012276785714285714,
          0.0019000570017100513,
          0.0041841004184100415,
          0.0029850746268656717,
          0.0007937767899666614,
          0.0006606592765012714,
          0.0005057695189569909,
          0.0007637913617660827,
          0.0005843425415978847,
          0.0009049773755656109,
          0.0006872852233676976,
          0.00044306601683650863,
          0.0015467904098994587,
          0.000416571991214118,
          0.0003326901324106727,
          0.0005861814104034457,
          0.0005360070626812965,
          0.0008164217401446233,
          0.00032451728054518905,
          0.00033025099075297226,
          0.00032539977686872444,
          0.0004684418145956607,
          0.0003647471846076688,
          0.00033921302578018993,
          0.0006584362139917696,
          0.0003828300713021008,
          0.0003186404673393521,
          0.002331002331002331,
          0.0015290519877675841,
          0.006153846153846154,
          0.003575685339690107,
          0.0015337423312883436,
          0.0007423904974016332,
          0.005,
          0.002770083102493075,
          0.004106776180698152,
          0.0020408163265306124,
          0.0017211703958691911,
          0.0014144271570014145,
          0.0018298261665141812,
          0.0007034822370735139,
          0.001937046004842615,
          0.0007785341830822711,
          0.00048466049532302623,
          0.00032990856819681405,
          0.00035119210207983765,
          0.000351493848857645,
          0.0020107238605898124,
          0.0024905123339658444,
          0.006571318129107074,
          0.005397070161912105,
          0.0028680688336520078,
          0.002292263610315186,
          0.0030543677458766036,
          0.002638522427440633,
          0.0018072289156626507,
          0.0037267080745341614,
          0.0008021926599371615,
          0.0005305807447424271,
          0.000859106529209622,
          0.0006397952655150352,
          0.0010905125408942203,
          0.001243008079552517,
          0.0008445945945945946,
          0.001401541695865452,
          0.0011799410029498525,
          0.0015298317185109638,
          0.0004578754578754579,
          0.001436265709156194,
          0.000403105666263561,
          0.0008701510133048897,
          0.00042410870067052125,
          0.0004692632566870014,
          0.0023521505376344087,
          0.0010423905489923557,
          0.001828710758914965,
          0.0008726003490401396,
          0.0025252525252525255,
          0.0005709223348754799,
          0.00014898688915375446,
          0.00024338006230529595,
          0.0028328611898017,
          0.0015193719929095975,
          0.0010256410256410256,
          0.000832408435072142,
          0.0007358351729212656,
          0.0014449260864732689,
          0.0010855144132191532,
          0.001033858878263117,
          0.000576241134751773,
          0.0014926446786318022,
          0.0008726500104338588,
          0.0007074864934396708,
          0.0005297278208006458,
          0.006412997007268063,
          0.0005449591280653951,
          0.0009900990099009901,
          0.0010857763300760044,
          0.0013280212483399733,
          0.00041425020712510354,
          0.002386634844868735,
          0.002421307506053269,
          0.0008771735378593799,
          0.0008361314108894594,
          0.0007587253414264037,
          0.002207505518763797,
          0.0020408163265306124,
          0.002506265664160401,
          0.002277904328018223,
          0.0041841004184100415,
          0.004132231404958678,
          0.006535947712418301,
          0.004424778761061947,
          0.004246284501061571,
          0.00303951367781155,
          0.0024691358024691358,
          0.001937984496124031,
          0.0031847133757961785,
          0.0049504950495049506,
          0.0011723329425556857,
          0.00065302568567697,
          0.0005165289256198347,
          0.00013958682300390843,
          0.00019138755980861245,
          0.001953125,
          0.000258158896800981,
          0.0005338705615713926,
          0.0002791931318489565,
          0.0010138941043935411,
          0.001584786053882726,
          0.00020781379883624273,
          0.0011627906976744186,
          0.00032829940906106366,
          0.0017739483020780538,
          0.0006732306656568207,
          0.00025025025025025025,
          0.00046809174598221254,
          0.000529567519858782,
          0.0004350348027842227,
          0.0007606490872210953,
          0.0005369127516778523,
          0.0009428032683846638,
          0.0011686554311723459,
          0.0013024790517952502,
          0.0007365089475884309,
          0.0011187199132144552,
          0.0007587253414264037,
          0.0003312355084465055,
          0.0017327418907679513,
          0.0013965505202150688,
          0.0031365988812797323,
          0.00055005500550055,
          0.0005405405405405405,
          0.0004010159069643096,
          0.0007558578987150416,
          0.0007782101167315176,
          0.008174386920980926,
          0.011834319526627219,
          0.011111111111111112,
          0.006622516556291391,
          0.004835589941972921,
          0.004568414797206953,
          0.005263157894736842,
          0.0016486810551558752,
          0.0013308490817141336,
          0.0007990411506192569,
          0.0003695491500369549,
          0.001215066828675577,
          0.0029365700861393894,
          0.0021116536887950377,
          0.0008288701861769957,
          0.0008745080891998251,
          0.0009282896263634254,
          0.0024752475247524753,
          0.00030429555578834997,
          0.000496765379969065,
          0.0005986669682174359,
          0.0008731643703577706,
          0.0006934973069187914,
          0.0003282036321201955,
          0.0005076464242654991,
          0.0006097412258237604,
          0.0012360939431396785,
          0.0016420361247947454,
          0.0004460966542750929,
          0.0003837298541826554,
          0.0006752194463200541,
          0.00008656135035706557,
          0.00039478878799842083,
          0.00099601593625498,
          0.0002891949535480606,
          0.00013070186903672723,
          0.0004652858993221916,
          0.0006010677792313404,
          0.00030805421754228745,
          0.0006814148073022312,
          0.006216696269982238,
          0.0026748184944593045,
          0.0008045052292839903,
          0.0019259576289321636,
          0.002514860539551898,
          0.0013961605584642235,
          0.0008103727714748784,
          0.0019749835418038184,
          0.0006808421493662931,
          0.0026873693639892504,
          0.0007150518412584912,
          0.000975609756097561,
          0.0005249343832020997,
          0.0016815200941651253,
          0.002165841584158416,
          0.0008203152863970326,
          0.000446927374301676,
          0.00024279880807857851,
          0.00035104963841887243,
          0.0002740176467364498,
          0.0010435078901974146,
          0.0009245562130177514,
          0.0013795640577577485,
          0.00023977940294928664,
          0.0006302468046487004,
          0.000637213254035684,
          0.0005263449498587179,
          0.0007313951362223441,
          0.0005957980558168705,
          0.0003033026286227814,
          0.0005135206222366954,
          0.0010107074952466727,
          0.0005221772757943707,
          0.00038438690288989064,
          0.0004061967352666225,
          0.0004705681040383299,
          0.00031735956839098697,
          0.000264417802631801,
          0.00048293600163263527,
          0.0003581341212284,
          0.0023094688221709007,
          0.0011061946902654867,
          0.00044863167339614175,
          0.0005356186395286556,
          0.0026997840172786176
         ],
         "yaxis": "y"
        }
       ],
       "layout": {
        "legend": {
         "tracegroupgap": 0
        },
        "template": {
         "data": {
          "bar": [
           {
            "error_x": {
             "color": "#2a3f5f"
            },
            "error_y": {
             "color": "#2a3f5f"
            },
            "marker": {
             "line": {
              "color": "#E5ECF6",
              "width": 0.5
             }
            },
            "type": "bar"
           }
          ],
          "barpolar": [
           {
            "marker": {
             "line": {
              "color": "#E5ECF6",
              "width": 0.5
             }
            },
            "type": "barpolar"
           }
          ],
          "carpet": [
           {
            "aaxis": {
             "endlinecolor": "#2a3f5f",
             "gridcolor": "white",
             "linecolor": "white",
             "minorgridcolor": "white",
             "startlinecolor": "#2a3f5f"
            },
            "baxis": {
             "endlinecolor": "#2a3f5f",
             "gridcolor": "white",
             "linecolor": "white",
             "minorgridcolor": "white",
             "startlinecolor": "#2a3f5f"
            },
            "type": "carpet"
           }
          ],
          "choropleth": [
           {
            "colorbar": {
             "outlinewidth": 0,
             "ticks": ""
            },
            "type": "choropleth"
           }
          ],
          "contour": [
           {
            "colorbar": {
             "outlinewidth": 0,
             "ticks": ""
            },
            "colorscale": [
             [
              0,
              "#0d0887"
             ],
             [
              0.1111111111111111,
              "#46039f"
             ],
             [
              0.2222222222222222,
              "#7201a8"
             ],
             [
              0.3333333333333333,
              "#9c179e"
             ],
             [
              0.4444444444444444,
              "#bd3786"
             ],
             [
              0.5555555555555556,
              "#d8576b"
             ],
             [
              0.6666666666666666,
              "#ed7953"
             ],
             [
              0.7777777777777778,
              "#fb9f3a"
             ],
             [
              0.8888888888888888,
              "#fdca26"
             ],
             [
              1,
              "#f0f921"
             ]
            ],
            "type": "contour"
           }
          ],
          "contourcarpet": [
           {
            "colorbar": {
             "outlinewidth": 0,
             "ticks": ""
            },
            "type": "contourcarpet"
           }
          ],
          "heatmap": [
           {
            "colorbar": {
             "outlinewidth": 0,
             "ticks": ""
            },
            "colorscale": [
             [
              0,
              "#0d0887"
             ],
             [
              0.1111111111111111,
              "#46039f"
             ],
             [
              0.2222222222222222,
              "#7201a8"
             ],
             [
              0.3333333333333333,
              "#9c179e"
             ],
             [
              0.4444444444444444,
              "#bd3786"
             ],
             [
              0.5555555555555556,
              "#d8576b"
             ],
             [
              0.6666666666666666,
              "#ed7953"
             ],
             [
              0.7777777777777778,
              "#fb9f3a"
             ],
             [
              0.8888888888888888,
              "#fdca26"
             ],
             [
              1,
              "#f0f921"
             ]
            ],
            "type": "heatmap"
           }
          ],
          "heatmapgl": [
           {
            "colorbar": {
             "outlinewidth": 0,
             "ticks": ""
            },
            "colorscale": [
             [
              0,
              "#0d0887"
             ],
             [
              0.1111111111111111,
              "#46039f"
             ],
             [
              0.2222222222222222,
              "#7201a8"
             ],
             [
              0.3333333333333333,
              "#9c179e"
             ],
             [
              0.4444444444444444,
              "#bd3786"
             ],
             [
              0.5555555555555556,
              "#d8576b"
             ],
             [
              0.6666666666666666,
              "#ed7953"
             ],
             [
              0.7777777777777778,
              "#fb9f3a"
             ],
             [
              0.8888888888888888,
              "#fdca26"
             ],
             [
              1,
              "#f0f921"
             ]
            ],
            "type": "heatmapgl"
           }
          ],
          "histogram": [
           {
            "marker": {
             "colorbar": {
              "outlinewidth": 0,
              "ticks": ""
             }
            },
            "type": "histogram"
           }
          ],
          "histogram2d": [
           {
            "colorbar": {
             "outlinewidth": 0,
             "ticks": ""
            },
            "colorscale": [
             [
              0,
              "#0d0887"
             ],
             [
              0.1111111111111111,
              "#46039f"
             ],
             [
              0.2222222222222222,
              "#7201a8"
             ],
             [
              0.3333333333333333,
              "#9c179e"
             ],
             [
              0.4444444444444444,
              "#bd3786"
             ],
             [
              0.5555555555555556,
              "#d8576b"
             ],
             [
              0.6666666666666666,
              "#ed7953"
             ],
             [
              0.7777777777777778,
              "#fb9f3a"
             ],
             [
              0.8888888888888888,
              "#fdca26"
             ],
             [
              1,
              "#f0f921"
             ]
            ],
            "type": "histogram2d"
           }
          ],
          "histogram2dcontour": [
           {
            "colorbar": {
             "outlinewidth": 0,
             "ticks": ""
            },
            "colorscale": [
             [
              0,
              "#0d0887"
             ],
             [
              0.1111111111111111,
              "#46039f"
             ],
             [
              0.2222222222222222,
              "#7201a8"
             ],
             [
              0.3333333333333333,
              "#9c179e"
             ],
             [
              0.4444444444444444,
              "#bd3786"
             ],
             [
              0.5555555555555556,
              "#d8576b"
             ],
             [
              0.6666666666666666,
              "#ed7953"
             ],
             [
              0.7777777777777778,
              "#fb9f3a"
             ],
             [
              0.8888888888888888,
              "#fdca26"
             ],
             [
              1,
              "#f0f921"
             ]
            ],
            "type": "histogram2dcontour"
           }
          ],
          "mesh3d": [
           {
            "colorbar": {
             "outlinewidth": 0,
             "ticks": ""
            },
            "type": "mesh3d"
           }
          ],
          "parcoords": [
           {
            "line": {
             "colorbar": {
              "outlinewidth": 0,
              "ticks": ""
             }
            },
            "type": "parcoords"
           }
          ],
          "pie": [
           {
            "automargin": true,
            "type": "pie"
           }
          ],
          "scatter": [
           {
            "marker": {
             "colorbar": {
              "outlinewidth": 0,
              "ticks": ""
             }
            },
            "type": "scatter"
           }
          ],
          "scatter3d": [
           {
            "line": {
             "colorbar": {
              "outlinewidth": 0,
              "ticks": ""
             }
            },
            "marker": {
             "colorbar": {
              "outlinewidth": 0,
              "ticks": ""
             }
            },
            "type": "scatter3d"
           }
          ],
          "scattercarpet": [
           {
            "marker": {
             "colorbar": {
              "outlinewidth": 0,
              "ticks": ""
             }
            },
            "type": "scattercarpet"
           }
          ],
          "scattergeo": [
           {
            "marker": {
             "colorbar": {
              "outlinewidth": 0,
              "ticks": ""
             }
            },
            "type": "scattergeo"
           }
          ],
          "scattergl": [
           {
            "marker": {
             "colorbar": {
              "outlinewidth": 0,
              "ticks": ""
             }
            },
            "type": "scattergl"
           }
          ],
          "scattermapbox": [
           {
            "marker": {
             "colorbar": {
              "outlinewidth": 0,
              "ticks": ""
             }
            },
            "type": "scattermapbox"
           }
          ],
          "scatterpolar": [
           {
            "marker": {
             "colorbar": {
              "outlinewidth": 0,
              "ticks": ""
             }
            },
            "type": "scatterpolar"
           }
          ],
          "scatterpolargl": [
           {
            "marker": {
             "colorbar": {
              "outlinewidth": 0,
              "ticks": ""
             }
            },
            "type": "scatterpolargl"
           }
          ],
          "scatterternary": [
           {
            "marker": {
             "colorbar": {
              "outlinewidth": 0,
              "ticks": ""
             }
            },
            "type": "scatterternary"
           }
          ],
          "surface": [
           {
            "colorbar": {
             "outlinewidth": 0,
             "ticks": ""
            },
            "colorscale": [
             [
              0,
              "#0d0887"
             ],
             [
              0.1111111111111111,
              "#46039f"
             ],
             [
              0.2222222222222222,
              "#7201a8"
             ],
             [
              0.3333333333333333,
              "#9c179e"
             ],
             [
              0.4444444444444444,
              "#bd3786"
             ],
             [
              0.5555555555555556,
              "#d8576b"
             ],
             [
              0.6666666666666666,
              "#ed7953"
             ],
             [
              0.7777777777777778,
              "#fb9f3a"
             ],
             [
              0.8888888888888888,
              "#fdca26"
             ],
             [
              1,
              "#f0f921"
             ]
            ],
            "type": "surface"
           }
          ],
          "table": [
           {
            "cells": {
             "fill": {
              "color": "#EBF0F8"
             },
             "line": {
              "color": "white"
             }
            },
            "header": {
             "fill": {
              "color": "#C8D4E3"
             },
             "line": {
              "color": "white"
             }
            },
            "type": "table"
           }
          ]
         },
         "layout": {
          "annotationdefaults": {
           "arrowcolor": "#2a3f5f",
           "arrowhead": 0,
           "arrowwidth": 1
          },
          "autotypenumbers": "strict",
          "coloraxis": {
           "colorbar": {
            "outlinewidth": 0,
            "ticks": ""
           }
          },
          "colorscale": {
           "diverging": [
            [
             0,
             "#8e0152"
            ],
            [
             0.1,
             "#c51b7d"
            ],
            [
             0.2,
             "#de77ae"
            ],
            [
             0.3,
             "#f1b6da"
            ],
            [
             0.4,
             "#fde0ef"
            ],
            [
             0.5,
             "#f7f7f7"
            ],
            [
             0.6,
             "#e6f5d0"
            ],
            [
             0.7,
             "#b8e186"
            ],
            [
             0.8,
             "#7fbc41"
            ],
            [
             0.9,
             "#4d9221"
            ],
            [
             1,
             "#276419"
            ]
           ],
           "sequential": [
            [
             0,
             "#0d0887"
            ],
            [
             0.1111111111111111,
             "#46039f"
            ],
            [
             0.2222222222222222,
             "#7201a8"
            ],
            [
             0.3333333333333333,
             "#9c179e"
            ],
            [
             0.4444444444444444,
             "#bd3786"
            ],
            [
             0.5555555555555556,
             "#d8576b"
            ],
            [
             0.6666666666666666,
             "#ed7953"
            ],
            [
             0.7777777777777778,
             "#fb9f3a"
            ],
            [
             0.8888888888888888,
             "#fdca26"
            ],
            [
             1,
             "#f0f921"
            ]
           ],
           "sequentialminus": [
            [
             0,
             "#0d0887"
            ],
            [
             0.1111111111111111,
             "#46039f"
            ],
            [
             0.2222222222222222,
             "#7201a8"
            ],
            [
             0.3333333333333333,
             "#9c179e"
            ],
            [
             0.4444444444444444,
             "#bd3786"
            ],
            [
             0.5555555555555556,
             "#d8576b"
            ],
            [
             0.6666666666666666,
             "#ed7953"
            ],
            [
             0.7777777777777778,
             "#fb9f3a"
            ],
            [
             0.8888888888888888,
             "#fdca26"
            ],
            [
             1,
             "#f0f921"
            ]
           ]
          },
          "colorway": [
           "#636efa",
           "#EF553B",
           "#00cc96",
           "#ab63fa",
           "#FFA15A",
           "#19d3f3",
           "#FF6692",
           "#B6E880",
           "#FF97FF",
           "#FECB52"
          ],
          "font": {
           "color": "#2a3f5f"
          },
          "geo": {
           "bgcolor": "white",
           "lakecolor": "white",
           "landcolor": "#E5ECF6",
           "showlakes": true,
           "showland": true,
           "subunitcolor": "white"
          },
          "hoverlabel": {
           "align": "left"
          },
          "hovermode": "closest",
          "mapbox": {
           "style": "light"
          },
          "paper_bgcolor": "white",
          "plot_bgcolor": "#E5ECF6",
          "polar": {
           "angularaxis": {
            "gridcolor": "white",
            "linecolor": "white",
            "ticks": ""
           },
           "bgcolor": "#E5ECF6",
           "radialaxis": {
            "gridcolor": "white",
            "linecolor": "white",
            "ticks": ""
           }
          },
          "scene": {
           "xaxis": {
            "backgroundcolor": "#E5ECF6",
            "gridcolor": "white",
            "gridwidth": 2,
            "linecolor": "white",
            "showbackground": true,
            "ticks": "",
            "zerolinecolor": "white"
           },
           "yaxis": {
            "backgroundcolor": "#E5ECF6",
            "gridcolor": "white",
            "gridwidth": 2,
            "linecolor": "white",
            "showbackground": true,
            "ticks": "",
            "zerolinecolor": "white"
           },
           "zaxis": {
            "backgroundcolor": "#E5ECF6",
            "gridcolor": "white",
            "gridwidth": 2,
            "linecolor": "white",
            "showbackground": true,
            "ticks": "",
            "zerolinecolor": "white"
           }
          },
          "shapedefaults": {
           "line": {
            "color": "#2a3f5f"
           }
          },
          "ternary": {
           "aaxis": {
            "gridcolor": "white",
            "linecolor": "white",
            "ticks": ""
           },
           "baxis": {
            "gridcolor": "white",
            "linecolor": "white",
            "ticks": ""
           },
           "bgcolor": "#E5ECF6",
           "caxis": {
            "gridcolor": "white",
            "linecolor": "white",
            "ticks": ""
           }
          },
          "title": {
           "x": 0.05
          },
          "xaxis": {
           "automargin": true,
           "gridcolor": "white",
           "linecolor": "white",
           "ticks": "",
           "title": {
            "standoff": 15
           },
           "zerolinecolor": "white",
           "zerolinewidth": 2
          },
          "yaxis": {
           "automargin": true,
           "gridcolor": "white",
           "linecolor": "white",
           "ticks": "",
           "title": {
            "standoff": 15
           },
           "zerolinecolor": "white",
           "zerolinewidth": 2
          }
         }
        },
        "title": {
         "text": "BPM vs active engagement"
        },
        "xaxis": {
         "anchor": "y",
         "domain": [
          0,
          1
         ],
         "title": {
          "text": "BPM"
         }
        },
        "yaxis": {
         "anchor": "x",
         "domain": [
          0,
          1
         ],
         "title": {
          "text": "ActiveEng"
         }
        }
       }
      }
     },
     "metadata": {}
    }
   ],
   "source": [
    "px.scatter(tracks_foll, \"BPM\", \"ActiveEng\", title=\"BPM vs active engagement\") \n"
   ]
  },
  {
   "cell_type": "code",
   "execution_count": 229,
   "metadata": {},
   "outputs": [
    {
     "output_type": "display_data",
     "data": {
      "application/vnd.plotly.v1+json": {
       "config": {
        "plotlyServerURL": "https://plot.ly"
       },
       "data": [
        {
         "hovertemplate": "TS=%{x}<br>ActiveEng=%{y}<extra></extra>",
         "legendgroup": "",
         "marker": {
          "color": "#636efa",
          "symbol": "circle"
         },
         "mode": "markers",
         "name": "",
         "orientation": "v",
         "showlegend": false,
         "type": "scatter",
         "x": [
          1606435200000000000,
          1495023979000000000,
          1418124721000000000,
          1330546807000000000,
          1330546762000000000,
          1311292800000000000,
          1517403622000000000,
          1490918400000000000,
          1490918400000000000,
          1490918400000000000,
          1490918400000000000,
          1490918400000000000,
          1490918400000000000,
          1490918400000000000,
          1490918400000000000,
          1490918400000000000,
          1446054528000000000,
          1379983237000000000,
          1366761600000000000,
          1366761600000000000,
          1366761600000000000,
          1273795200000000000,
          1273795200000000000,
          1273795200000000000,
          1273795200000000000,
          1606435200000000000,
          1606435200000000000,
          1568937600000000000,
          1568937600000000000,
          1568937600000000000,
          1568937600000000000,
          1568937600000000000,
          1568937600000000000,
          1568937600000000000,
          1568937600000000000,
          1568937600000000000,
          1568937600000000000,
          1568937600000000000,
          1568937600000000000,
          1568937600000000000,
          1568937600000000000,
          1568332800000000000,
          1556841600000000000,
          1556841600000000000,
          1556841600000000000,
          1556841600000000000,
          1556841600000000000,
          1556841600000000000,
          1556841600000000000,
          1556841600000000000,
          1556841600000000000,
          1556814921000000000,
          1509730376000000000,
          1505301770000000000,
          1503611714000000000,
          1501625578000000000,
          1499194527000000000,
          1457055520000000000,
          1454529008000000000,
          1436307169000000000,
          1398949038000000000,
          1392732319000000000,
          1392732009000000000,
          1383586330000000000,
          1382361599000000000,
          1545350400000000000,
          1519344000000000000,
          1519344000000000000,
          1476403200000000000,
          1404767144000000000,
          1404767118000000000,
          1404767104000000000,
          1404766970000000000,
          1318809600000000000,
          1318809600000000000,
          1244419200000000000,
          1228694400000000000,
          1226880000000000000,
          1178496000000000000,
          1597968000000000000,
          1476987197000000000,
          1607040000000000000,
          1607040000000000000,
          1597875616000000000,
          1585633046000000000,
          1585633042000000000,
          1585633009000000000,
          1585632984000000000,
          1585632945000000000,
          1585632935000000000,
          1577059200000000000,
          1577059200000000000,
          1573171200000000000,
          1559260800000000000,
          1559260800000000000,
          1559260800000000000,
          1545421610000000000,
          1544188672000000000,
          1544187657000000000,
          1527811200000000000,
          1527811200000000000,
          1526614448000000000,
          1497571200000000000,
          1572008402000000000,
          1557527651000000000,
          1548423177000000000,
          1548423172000000000,
          1548423165000000000,
          1548423160000000000,
          1541446699000000000,
          1541446688000000000,
          1519382645000000000,
          1519382612000000000,
          1519382576000000000,
          1519382503000000000,
          1615544138000000000,
          1615507200000000000,
          1615404997000000000,
          1611749745000000000,
          1611532800000000000,
          1611403858000000000,
          1610323200000000000,
          1602201600000000000,
          1602201600000000000,
          1599163056000000000,
          1599162942000000000,
          1599162741000000000,
          1599162617000000000,
          1598615482000000000,
          1592221049000000000,
          1545646306000000000,
          1545646302000000000,
          1467641585000000000,
          1424698411000000000,
          1461882521000000000,
          1461148164000000000,
          1430367456000000000,
          1429768654000000000,
          1429246901000000000,
          1428441320000000000,
          1427302139000000000,
          1426589489000000000,
          1425952707000000000,
          1604016000000000000,
          1597363200000000000,
          1569505401000000000,
          1549065600000000000,
          1549065600000000000,
          1544745600000000000,
          1544745600000000000,
          1544745600000000000,
          1544745600000000000,
          1544745600000000000,
          1529020800000000000,
          1529020800000000000,
          1529020800000000000,
          1529020800000000000,
          1523996288000000000,
          1509294268000000000,
          1483908483000000000,
          1605830400000000000,
          1599177600000000000,
          1595548800000000000,
          1591315200000000000,
          1562889600000000000,
          1509321600000000000,
          1495540850000000000,
          1422805512000000000,
          1422803435000000000,
          1574156630000000000,
          1573131578000000000,
          1564126200000000000,
          1564125120000000000,
          1564124624000000000,
          1562912468000000000,
          1540977314000000000,
          1540456932000000000,
          1539766806000000000,
          1539159986000000000,
          1520868203000000000,
          1513001887000000000,
          1509390919000000000,
          1609851153000000000,
          1465516800000000000,
          1465516800000000000,
          1465516800000000000,
          1465516800000000000,
          1448582400000000000,
          1427414400000000000,
          1421366400000000000,
          1418746848000000000,
          1401139721000000000,
          1379030400000000000,
          1379030400000000000,
          1379030400000000000,
          1377820800000000000,
          1377820800000000000,
          1377820800000000000,
          1377820800000000000,
          1377820800000000000,
          1377820800000000000,
          1377820800000000000,
          1377820800000000000,
          1377820800000000000,
          1377820800000000000,
          1377820800000000000,
          1377820800000000000,
          1357862400000000000,
          1565913600000000000,
          1564704000000000000,
          1559260800000000000,
          1559260800000000000,
          1423440000000000000,
          1418641012000000000,
          1418641012000000000,
          1418641011000000000,
          1350388584000000000,
          1597363200000000000,
          1596153600000000000,
          1594944000000000000,
          1593734400000000000,
          1588291200000000000,
          1585267200000000000,
          1487289600000000000,
          1487289600000000000,
          1487250793000000000,
          1487250784000000000,
          1487250774000000000,
          1422230400000000000,
          1539907200000000000,
          1497687464000000000,
          1497418496000000000,
          1494412549000000000,
          1402315416000000000,
          1399852800000000000,
          1399852800000000000,
          1396258374000000000,
          1379662002000000000,
          1373881920000000000,
          1367798400000000000,
          1367798400000000000,
          1348444800000000000,
          1348444800000000000,
          1348444800000000000,
          1607040000000000000,
          1607040000000000000,
          1607040000000000000,
          1607040000000000000,
          1604620800000000000,
          1604473214000000000,
          1614955929000000000,
          1599539252000000000,
          1593755092000000000,
          1593755090000000000,
          1593755085000000000,
          1593755082000000000,
          1587653065000000000,
          1582123476000000000,
          1562895957000000000,
          1501804800000000000,
          1501804800000000000,
          1501804800000000000,
          1501691961000000000,
          1483000692000000000,
          1483000623000000000,
          1473142573000000000,
          1543930782000000000,
          1543930775000000000,
          1543930767000000000,
          1543930758000000000,
          1540166400000000000,
          1503014400000000000,
          1503014400000000000,
          1487339554000000000,
          1446163200000000000,
          1438847024000000000,
          1438847024000000000,
          1424390400000000000,
          1580467003000000000,
          1580466870000000000,
          1580466800000000000,
          1580466767000000000,
          1580466680000000000,
          1580466599000000000,
          1606176000000000000,
          1598918400000000000,
          1598918400000000000,
          1608047074000000000,
          1606435200000000000,
          1606435200000000000,
          1606435200000000000,
          1606435200000000000,
          1601596800000000000,
          1598572800000000000,
          1598572800000000000,
          1598572800000000000,
          1598572800000000000,
          1598572800000000000,
          1582894879000000000,
          1586264400000000000,
          1586264400000000000,
          1575590400000000000,
          1571356800000000000,
          1571356800000000000,
          1571356800000000000,
          1571356800000000000,
          1571356800000000000,
          1571356800000000000,
          1569934800000000000,
          1566950400000000000,
          1562889600000000000,
          1560816000000000000,
          1508413345000000000,
          1507228713000000000,
          1469019718000000000,
          1463490144000000000,
          1445256489000000000,
          1443013366000000000,
          1440680648000000000,
          1417996800000000000,
          1417996800000000000,
          1416402886000000000,
          1416401604000000000,
          1408320000000000000,
          1611137427000000000,
          1601337600000000000,
          1595548800000000000,
          1595548800000000000,
          1595548800000000000
         ],
         "xaxis": "x",
         "y": [
          0.0012143290831815423,
          0.0004421995990723635,
          0.00032739259572687655,
          0.00031111270656088836,
          0.00005618948516917658,
          0.00032955316467965496,
          0.0005925304697399247,
          0.00010993037742762916,
          0.00021282029454328764,
          0.00006292474200855777,
          0.00017094017094017094,
          0.00015477480266212662,
          0.000044031526573026284,
          0.00009616309260505818,
          0.00037415036687522086,
          0.00043155469407160884,
          0.0003351880404907153,
          0.0004886139891489997,
          0.00021168501270110075,
          0.0002756339581036384,
          0.0006172077521293668,
          0.00010975342064827688,
          0.00010889450300548829,
          0.00010109179134654265,
          0.00012639828098337863,
          0.0017917369308600337,
          0.002293720166139731,
          0.0012298060260495277,
          0.0014512283611485435,
          0.0017417267977108733,
          0.0005014206919605549,
          0.00025230225810521004,
          0.00016170763260025875,
          0.0017452006980802793,
          0.0011824990145841545,
          0.0012239902080783353,
          0.0006294256490952006,
          0.00015026296018031557,
          0.00030679552078539653,
          0.0005414185165132648,
          0.00022933149868134388,
          0.0006586169045005489,
          0.0009786208973200843,
          0.00037645287280598563,
          0.00029251170046801873,
          0.0006919457514530861,
          0.0009810104407539765,
          0.0009296560272699101,
          0.0006453000645300065,
          0.0004349244318799609,
          0.00009837678307919331,
          0.0006611533203343867,
          0.0004452496468709697,
          0.0006423913220250777,
          0.0008905644694462173,
          0.0006144058982966237,
          0.0004973108983542632,
          0.0004909659220858428,
          0.00029368873045450863,
          0.0006110205579402804,
          0.0005137581806110297,
          0.0007017406111522777,
          0.0008733303303027238,
          0.0005893003958767982,
          0.0011926306519945361,
          0.00013663068725235688,
          0.000691426313709996,
          0.0004702089071001545,
          0.00022799817601459188,
          0.000164887258337112,
          0.0002821758896378743,
          0.0003420313813792415,
          0.0003762227238525207,
          0.00037054191755442334,
          0.0003570790930191037,
          0.00020464545175483476,
          0.0006501950585175553,
          0.0002536783358701167,
          0.0004056466006814863,
          0.002355712603062426,
          0.0002699055330634278,
          0.0026352390015372228,
          0.0007442691277165823,
          0.002404983441097619,
          0.0012004466778336126,
          0.0005319148936170213,
          0.000507292327203551,
          0.0007320048800325336,
          0.0012276785714285714,
          0.0019000570017100513,
          0.0041841004184100415,
          0.0029850746268656717,
          0.0007937767899666614,
          0.0006606592765012714,
          0.0005057695189569909,
          0.0007637913617660827,
          0.0005843425415978847,
          0.0009049773755656109,
          0.0006872852233676976,
          0.00044306601683650863,
          0.0015467904098994587,
          0.000416571991214118,
          0.0003326901324106727,
          0.0005861814104034457,
          0.0005360070626812965,
          0.0008164217401446233,
          0.00032451728054518905,
          0.00033025099075297226,
          0.00032539977686872444,
          0.0004684418145956607,
          0.0003647471846076688,
          0.00033921302578018993,
          0.0006584362139917696,
          0.0003828300713021008,
          0.0003186404673393521,
          0.002331002331002331,
          0.0015290519877675841,
          0.006153846153846154,
          0.003575685339690107,
          0.0015337423312883436,
          0.0007423904974016332,
          0.005,
          0.002770083102493075,
          0.004106776180698152,
          0.0020408163265306124,
          0.0017211703958691911,
          0.0014144271570014145,
          0.0018298261665141812,
          0.0007034822370735139,
          0.001937046004842615,
          0.0007785341830822711,
          0.00048466049532302623,
          0.00032990856819681405,
          0.00035119210207983765,
          0.000351493848857645,
          0.0020107238605898124,
          0.0024905123339658444,
          0.006571318129107074,
          0.005397070161912105,
          0.0028680688336520078,
          0.002292263610315186,
          0.0030543677458766036,
          0.002638522427440633,
          0.0018072289156626507,
          0.0037267080745341614,
          0.0008021926599371615,
          0.0005305807447424271,
          0.000859106529209622,
          0.0006397952655150352,
          0.0010905125408942203,
          0.001243008079552517,
          0.0008445945945945946,
          0.001401541695865452,
          0.0011799410029498525,
          0.0015298317185109638,
          0.0004578754578754579,
          0.001436265709156194,
          0.000403105666263561,
          0.0008701510133048897,
          0.00042410870067052125,
          0.0004692632566870014,
          0.0023521505376344087,
          0.0010423905489923557,
          0.001828710758914965,
          0.0008726003490401396,
          0.0025252525252525255,
          0.0005709223348754799,
          0.00014898688915375446,
          0.00024338006230529595,
          0.0028328611898017,
          0.0015193719929095975,
          0.0010256410256410256,
          0.000832408435072142,
          0.0007358351729212656,
          0.0014449260864732689,
          0.0010855144132191532,
          0.001033858878263117,
          0.000576241134751773,
          0.0014926446786318022,
          0.0008726500104338588,
          0.0007074864934396708,
          0.0005297278208006458,
          0.006412997007268063,
          0.0005449591280653951,
          0.0009900990099009901,
          0.0010857763300760044,
          0.0013280212483399733,
          0.00041425020712510354,
          0.002386634844868735,
          0.002421307506053269,
          0.0008771735378593799,
          0.0008361314108894594,
          0.0007587253414264037,
          0.002207505518763797,
          0.0020408163265306124,
          0.002506265664160401,
          0.002277904328018223,
          0.0041841004184100415,
          0.004132231404958678,
          0.006535947712418301,
          0.004424778761061947,
          0.004246284501061571,
          0.00303951367781155,
          0.0024691358024691358,
          0.001937984496124031,
          0.0031847133757961785,
          0.0049504950495049506,
          0.0011723329425556857,
          0.00065302568567697,
          0.0005165289256198347,
          0.00013958682300390843,
          0.00019138755980861245,
          0.001953125,
          0.000258158896800981,
          0.0005338705615713926,
          0.0002791931318489565,
          0.0010138941043935411,
          0.001584786053882726,
          0.00020781379883624273,
          0.0011627906976744186,
          0.00032829940906106366,
          0.0017739483020780538,
          0.0006732306656568207,
          0.00025025025025025025,
          0.00046809174598221254,
          0.000529567519858782,
          0.0004350348027842227,
          0.0007606490872210953,
          0.0005369127516778523,
          0.0009428032683846638,
          0.0011686554311723459,
          0.0013024790517952502,
          0.0007365089475884309,
          0.0011187199132144552,
          0.0007587253414264037,
          0.0003312355084465055,
          0.0017327418907679513,
          0.0013965505202150688,
          0.0031365988812797323,
          0.00055005500550055,
          0.0005405405405405405,
          0.0004010159069643096,
          0.0007558578987150416,
          0.0007782101167315176,
          0.008174386920980926,
          0.011834319526627219,
          0.011111111111111112,
          0.006622516556291391,
          0.004835589941972921,
          0.004568414797206953,
          0.005263157894736842,
          0.0016486810551558752,
          0.0013308490817141336,
          0.0007990411506192569,
          0.0003695491500369549,
          0.001215066828675577,
          0.0029365700861393894,
          0.0021116536887950377,
          0.0008288701861769957,
          0.0008745080891998251,
          0.0009282896263634254,
          0.0024752475247524753,
          0.00030429555578834997,
          0.000496765379969065,
          0.0005986669682174359,
          0.0008731643703577706,
          0.0006934973069187914,
          0.0003282036321201955,
          0.0005076464242654991,
          0.0006097412258237604,
          0.0012360939431396785,
          0.0016420361247947454,
          0.0004460966542750929,
          0.0003837298541826554,
          0.0006752194463200541,
          0.00008656135035706557,
          0.00039478878799842083,
          0.00099601593625498,
          0.0002891949535480606,
          0.00013070186903672723,
          0.0004652858993221916,
          0.0006010677792313404,
          0.00030805421754228745,
          0.0006814148073022312,
          0.006216696269982238,
          0.0026748184944593045,
          0.0008045052292839903,
          0.0019259576289321636,
          0.002514860539551898,
          0.0013961605584642235,
          0.0008103727714748784,
          0.0019749835418038184,
          0.0006808421493662931,
          0.0026873693639892504,
          0.0007150518412584912,
          0.000975609756097561,
          0.0005249343832020997,
          0.0016815200941651253,
          0.002165841584158416,
          0.0008203152863970326,
          0.000446927374301676,
          0.00024279880807857851,
          0.00035104963841887243,
          0.0002740176467364498,
          0.0010435078901974146,
          0.0009245562130177514,
          0.0013795640577577485,
          0.00023977940294928664,
          0.0006302468046487004,
          0.000637213254035684,
          0.0005263449498587179,
          0.0007313951362223441,
          0.0005957980558168705,
          0.0003033026286227814,
          0.0005135206222366954,
          0.0010107074952466727,
          0.0005221772757943707,
          0.00038438690288989064,
          0.0004061967352666225,
          0.0004705681040383299,
          0.00031735956839098697,
          0.000264417802631801,
          0.00048293600163263527,
          0.0003581341212284,
          0.0023094688221709007,
          0.0011061946902654867,
          0.00044863167339614175,
          0.0005356186395286556,
          0.0026997840172786176
         ],
         "yaxis": "y"
        }
       ],
       "layout": {
        "legend": {
         "tracegroupgap": 0
        },
        "template": {
         "data": {
          "bar": [
           {
            "error_x": {
             "color": "#2a3f5f"
            },
            "error_y": {
             "color": "#2a3f5f"
            },
            "marker": {
             "line": {
              "color": "#E5ECF6",
              "width": 0.5
             }
            },
            "type": "bar"
           }
          ],
          "barpolar": [
           {
            "marker": {
             "line": {
              "color": "#E5ECF6",
              "width": 0.5
             }
            },
            "type": "barpolar"
           }
          ],
          "carpet": [
           {
            "aaxis": {
             "endlinecolor": "#2a3f5f",
             "gridcolor": "white",
             "linecolor": "white",
             "minorgridcolor": "white",
             "startlinecolor": "#2a3f5f"
            },
            "baxis": {
             "endlinecolor": "#2a3f5f",
             "gridcolor": "white",
             "linecolor": "white",
             "minorgridcolor": "white",
             "startlinecolor": "#2a3f5f"
            },
            "type": "carpet"
           }
          ],
          "choropleth": [
           {
            "colorbar": {
             "outlinewidth": 0,
             "ticks": ""
            },
            "type": "choropleth"
           }
          ],
          "contour": [
           {
            "colorbar": {
             "outlinewidth": 0,
             "ticks": ""
            },
            "colorscale": [
             [
              0,
              "#0d0887"
             ],
             [
              0.1111111111111111,
              "#46039f"
             ],
             [
              0.2222222222222222,
              "#7201a8"
             ],
             [
              0.3333333333333333,
              "#9c179e"
             ],
             [
              0.4444444444444444,
              "#bd3786"
             ],
             [
              0.5555555555555556,
              "#d8576b"
             ],
             [
              0.6666666666666666,
              "#ed7953"
             ],
             [
              0.7777777777777778,
              "#fb9f3a"
             ],
             [
              0.8888888888888888,
              "#fdca26"
             ],
             [
              1,
              "#f0f921"
             ]
            ],
            "type": "contour"
           }
          ],
          "contourcarpet": [
           {
            "colorbar": {
             "outlinewidth": 0,
             "ticks": ""
            },
            "type": "contourcarpet"
           }
          ],
          "heatmap": [
           {
            "colorbar": {
             "outlinewidth": 0,
             "ticks": ""
            },
            "colorscale": [
             [
              0,
              "#0d0887"
             ],
             [
              0.1111111111111111,
              "#46039f"
             ],
             [
              0.2222222222222222,
              "#7201a8"
             ],
             [
              0.3333333333333333,
              "#9c179e"
             ],
             [
              0.4444444444444444,
              "#bd3786"
             ],
             [
              0.5555555555555556,
              "#d8576b"
             ],
             [
              0.6666666666666666,
              "#ed7953"
             ],
             [
              0.7777777777777778,
              "#fb9f3a"
             ],
             [
              0.8888888888888888,
              "#fdca26"
             ],
             [
              1,
              "#f0f921"
             ]
            ],
            "type": "heatmap"
           }
          ],
          "heatmapgl": [
           {
            "colorbar": {
             "outlinewidth": 0,
             "ticks": ""
            },
            "colorscale": [
             [
              0,
              "#0d0887"
             ],
             [
              0.1111111111111111,
              "#46039f"
             ],
             [
              0.2222222222222222,
              "#7201a8"
             ],
             [
              0.3333333333333333,
              "#9c179e"
             ],
             [
              0.4444444444444444,
              "#bd3786"
             ],
             [
              0.5555555555555556,
              "#d8576b"
             ],
             [
              0.6666666666666666,
              "#ed7953"
             ],
             [
              0.7777777777777778,
              "#fb9f3a"
             ],
             [
              0.8888888888888888,
              "#fdca26"
             ],
             [
              1,
              "#f0f921"
             ]
            ],
            "type": "heatmapgl"
           }
          ],
          "histogram": [
           {
            "marker": {
             "colorbar": {
              "outlinewidth": 0,
              "ticks": ""
             }
            },
            "type": "histogram"
           }
          ],
          "histogram2d": [
           {
            "colorbar": {
             "outlinewidth": 0,
             "ticks": ""
            },
            "colorscale": [
             [
              0,
              "#0d0887"
             ],
             [
              0.1111111111111111,
              "#46039f"
             ],
             [
              0.2222222222222222,
              "#7201a8"
             ],
             [
              0.3333333333333333,
              "#9c179e"
             ],
             [
              0.4444444444444444,
              "#bd3786"
             ],
             [
              0.5555555555555556,
              "#d8576b"
             ],
             [
              0.6666666666666666,
              "#ed7953"
             ],
             [
              0.7777777777777778,
              "#fb9f3a"
             ],
             [
              0.8888888888888888,
              "#fdca26"
             ],
             [
              1,
              "#f0f921"
             ]
            ],
            "type": "histogram2d"
           }
          ],
          "histogram2dcontour": [
           {
            "colorbar": {
             "outlinewidth": 0,
             "ticks": ""
            },
            "colorscale": [
             [
              0,
              "#0d0887"
             ],
             [
              0.1111111111111111,
              "#46039f"
             ],
             [
              0.2222222222222222,
              "#7201a8"
             ],
             [
              0.3333333333333333,
              "#9c179e"
             ],
             [
              0.4444444444444444,
              "#bd3786"
             ],
             [
              0.5555555555555556,
              "#d8576b"
             ],
             [
              0.6666666666666666,
              "#ed7953"
             ],
             [
              0.7777777777777778,
              "#fb9f3a"
             ],
             [
              0.8888888888888888,
              "#fdca26"
             ],
             [
              1,
              "#f0f921"
             ]
            ],
            "type": "histogram2dcontour"
           }
          ],
          "mesh3d": [
           {
            "colorbar": {
             "outlinewidth": 0,
             "ticks": ""
            },
            "type": "mesh3d"
           }
          ],
          "parcoords": [
           {
            "line": {
             "colorbar": {
              "outlinewidth": 0,
              "ticks": ""
             }
            },
            "type": "parcoords"
           }
          ],
          "pie": [
           {
            "automargin": true,
            "type": "pie"
           }
          ],
          "scatter": [
           {
            "marker": {
             "colorbar": {
              "outlinewidth": 0,
              "ticks": ""
             }
            },
            "type": "scatter"
           }
          ],
          "scatter3d": [
           {
            "line": {
             "colorbar": {
              "outlinewidth": 0,
              "ticks": ""
             }
            },
            "marker": {
             "colorbar": {
              "outlinewidth": 0,
              "ticks": ""
             }
            },
            "type": "scatter3d"
           }
          ],
          "scattercarpet": [
           {
            "marker": {
             "colorbar": {
              "outlinewidth": 0,
              "ticks": ""
             }
            },
            "type": "scattercarpet"
           }
          ],
          "scattergeo": [
           {
            "marker": {
             "colorbar": {
              "outlinewidth": 0,
              "ticks": ""
             }
            },
            "type": "scattergeo"
           }
          ],
          "scattergl": [
           {
            "marker": {
             "colorbar": {
              "outlinewidth": 0,
              "ticks": ""
             }
            },
            "type": "scattergl"
           }
          ],
          "scattermapbox": [
           {
            "marker": {
             "colorbar": {
              "outlinewidth": 0,
              "ticks": ""
             }
            },
            "type": "scattermapbox"
           }
          ],
          "scatterpolar": [
           {
            "marker": {
             "colorbar": {
              "outlinewidth": 0,
              "ticks": ""
             }
            },
            "type": "scatterpolar"
           }
          ],
          "scatterpolargl": [
           {
            "marker": {
             "colorbar": {
              "outlinewidth": 0,
              "ticks": ""
             }
            },
            "type": "scatterpolargl"
           }
          ],
          "scatterternary": [
           {
            "marker": {
             "colorbar": {
              "outlinewidth": 0,
              "ticks": ""
             }
            },
            "type": "scatterternary"
           }
          ],
          "surface": [
           {
            "colorbar": {
             "outlinewidth": 0,
             "ticks": ""
            },
            "colorscale": [
             [
              0,
              "#0d0887"
             ],
             [
              0.1111111111111111,
              "#46039f"
             ],
             [
              0.2222222222222222,
              "#7201a8"
             ],
             [
              0.3333333333333333,
              "#9c179e"
             ],
             [
              0.4444444444444444,
              "#bd3786"
             ],
             [
              0.5555555555555556,
              "#d8576b"
             ],
             [
              0.6666666666666666,
              "#ed7953"
             ],
             [
              0.7777777777777778,
              "#fb9f3a"
             ],
             [
              0.8888888888888888,
              "#fdca26"
             ],
             [
              1,
              "#f0f921"
             ]
            ],
            "type": "surface"
           }
          ],
          "table": [
           {
            "cells": {
             "fill": {
              "color": "#EBF0F8"
             },
             "line": {
              "color": "white"
             }
            },
            "header": {
             "fill": {
              "color": "#C8D4E3"
             },
             "line": {
              "color": "white"
             }
            },
            "type": "table"
           }
          ]
         },
         "layout": {
          "annotationdefaults": {
           "arrowcolor": "#2a3f5f",
           "arrowhead": 0,
           "arrowwidth": 1
          },
          "autotypenumbers": "strict",
          "coloraxis": {
           "colorbar": {
            "outlinewidth": 0,
            "ticks": ""
           }
          },
          "colorscale": {
           "diverging": [
            [
             0,
             "#8e0152"
            ],
            [
             0.1,
             "#c51b7d"
            ],
            [
             0.2,
             "#de77ae"
            ],
            [
             0.3,
             "#f1b6da"
            ],
            [
             0.4,
             "#fde0ef"
            ],
            [
             0.5,
             "#f7f7f7"
            ],
            [
             0.6,
             "#e6f5d0"
            ],
            [
             0.7,
             "#b8e186"
            ],
            [
             0.8,
             "#7fbc41"
            ],
            [
             0.9,
             "#4d9221"
            ],
            [
             1,
             "#276419"
            ]
           ],
           "sequential": [
            [
             0,
             "#0d0887"
            ],
            [
             0.1111111111111111,
             "#46039f"
            ],
            [
             0.2222222222222222,
             "#7201a8"
            ],
            [
             0.3333333333333333,
             "#9c179e"
            ],
            [
             0.4444444444444444,
             "#bd3786"
            ],
            [
             0.5555555555555556,
             "#d8576b"
            ],
            [
             0.6666666666666666,
             "#ed7953"
            ],
            [
             0.7777777777777778,
             "#fb9f3a"
            ],
            [
             0.8888888888888888,
             "#fdca26"
            ],
            [
             1,
             "#f0f921"
            ]
           ],
           "sequentialminus": [
            [
             0,
             "#0d0887"
            ],
            [
             0.1111111111111111,
             "#46039f"
            ],
            [
             0.2222222222222222,
             "#7201a8"
            ],
            [
             0.3333333333333333,
             "#9c179e"
            ],
            [
             0.4444444444444444,
             "#bd3786"
            ],
            [
             0.5555555555555556,
             "#d8576b"
            ],
            [
             0.6666666666666666,
             "#ed7953"
            ],
            [
             0.7777777777777778,
             "#fb9f3a"
            ],
            [
             0.8888888888888888,
             "#fdca26"
            ],
            [
             1,
             "#f0f921"
            ]
           ]
          },
          "colorway": [
           "#636efa",
           "#EF553B",
           "#00cc96",
           "#ab63fa",
           "#FFA15A",
           "#19d3f3",
           "#FF6692",
           "#B6E880",
           "#FF97FF",
           "#FECB52"
          ],
          "font": {
           "color": "#2a3f5f"
          },
          "geo": {
           "bgcolor": "white",
           "lakecolor": "white",
           "landcolor": "#E5ECF6",
           "showlakes": true,
           "showland": true,
           "subunitcolor": "white"
          },
          "hoverlabel": {
           "align": "left"
          },
          "hovermode": "closest",
          "mapbox": {
           "style": "light"
          },
          "paper_bgcolor": "white",
          "plot_bgcolor": "#E5ECF6",
          "polar": {
           "angularaxis": {
            "gridcolor": "white",
            "linecolor": "white",
            "ticks": ""
           },
           "bgcolor": "#E5ECF6",
           "radialaxis": {
            "gridcolor": "white",
            "linecolor": "white",
            "ticks": ""
           }
          },
          "scene": {
           "xaxis": {
            "backgroundcolor": "#E5ECF6",
            "gridcolor": "white",
            "gridwidth": 2,
            "linecolor": "white",
            "showbackground": true,
            "ticks": "",
            "zerolinecolor": "white"
           },
           "yaxis": {
            "backgroundcolor": "#E5ECF6",
            "gridcolor": "white",
            "gridwidth": 2,
            "linecolor": "white",
            "showbackground": true,
            "ticks": "",
            "zerolinecolor": "white"
           },
           "zaxis": {
            "backgroundcolor": "#E5ECF6",
            "gridcolor": "white",
            "gridwidth": 2,
            "linecolor": "white",
            "showbackground": true,
            "ticks": "",
            "zerolinecolor": "white"
           }
          },
          "shapedefaults": {
           "line": {
            "color": "#2a3f5f"
           }
          },
          "ternary": {
           "aaxis": {
            "gridcolor": "white",
            "linecolor": "white",
            "ticks": ""
           },
           "baxis": {
            "gridcolor": "white",
            "linecolor": "white",
            "ticks": ""
           },
           "bgcolor": "#E5ECF6",
           "caxis": {
            "gridcolor": "white",
            "linecolor": "white",
            "ticks": ""
           }
          },
          "title": {
           "x": 0.05
          },
          "xaxis": {
           "automargin": true,
           "gridcolor": "white",
           "linecolor": "white",
           "ticks": "",
           "title": {
            "standoff": 15
           },
           "zerolinecolor": "white",
           "zerolinewidth": 2
          },
          "yaxis": {
           "automargin": true,
           "gridcolor": "white",
           "linecolor": "white",
           "ticks": "",
           "title": {
            "standoff": 15
           },
           "zerolinecolor": "white",
           "zerolinewidth": 2
          }
         }
        },
        "title": {
         "text": "TS vs active engagement"
        },
        "xaxis": {
         "anchor": "y",
         "domain": [
          0,
          1
         ],
         "title": {
          "text": "TS"
         }
        },
        "yaxis": {
         "anchor": "x",
         "domain": [
          0,
          1
         ],
         "title": {
          "text": "ActiveEng"
         }
        }
       }
      }
     },
     "metadata": {}
    }
   ],
   "source": [
    "px.scatter(tracks_foll, \"TS\", \"ActiveEng\", title=\"TS vs active engagement\") \n"
   ]
  },
  {
   "cell_type": "code",
   "execution_count": 161,
   "metadata": {},
   "outputs": [
    {
     "output_type": "display_data",
     "data": {
      "application/vnd.plotly.v1+json": {
       "config": {
        "plotlyServerURL": "https://plot.ly"
       },
       "data": [
        {
         "hovertemplate": "Length=%{x}<br>ActiveEng=%{y}<extra></extra>",
         "legendgroup": "",
         "marker": {
          "color": "#636efa",
          "symbol": "circle"
         },
         "mode": "markers",
         "name": "",
         "orientation": "v",
         "showlegend": false,
         "type": "scatter",
         "x": [
          479,
          463,
          431,
          392,
          224,
          500,
          400,
          400,
          506,
          477,
          406,
          649,
          398,
          416,
          1098,
          316,
          388,
          400,
          465,
          345,
          331,
          432,
          345,
          527,
          571,
          535,
          488,
          478,
          997,
          1118,
          273,
          267,
          343,
          204,
          186,
          85,
          420,
          450,
          326,
          266,
          133,
          166,
          59,
          435,
          317,
          2233,
          2233,
          383,
          475,
          306,
          488,
          272,
          313,
          323,
          205,
          282,
          299,
          475,
          438,
          252,
          242,
          341,
          1224,
          481,
          182,
          302,
          251,
          340,
          282,
          282,
          453,
          422,
          356,
          400,
          406,
          462,
          400,
          635,
          566,
          369,
          453,
          453,
          377,
          316,
          426,
          453,
          279,
          461,
          446,
          437,
          419,
          477,
          563,
          427,
          645,
          399,
          563,
          361,
          392,
          432,
          488,
          645,
          496,
          496,
          332,
          525,
          449,
          360,
          457,
          377,
          413,
          383,
          427,
          383,
          402,
          438,
          378,
          378,
          407,
          409,
          377,
          419,
          340,
          340,
          389,
          454,
          435,
          427,
          470,
          364,
          376,
          484,
          432,
          374,
          435,
          470,
          434,
          530,
          530,
          440,
          440,
          479,
          503,
          479,
          503,
          401,
          415,
          66,
          480,
          368,
          414,
          403,
          406,
          382,
          388,
          309,
          261,
          173,
          463,
          439,
          481,
          410,
          456,
          508,
          397,
          447,
          488,
          589,
          454,
          423,
          422,
          464,
          461,
          146,
          724,
          415,
          415,
          415,
          415,
          415,
          415,
          415,
          430,
          496,
          559,
          598,
          598,
          436,
          570,
          490,
          502,
          523,
          440,
          480,
          569,
          506,
          539,
          442,
          442,
          598,
          452,
          436,
          427,
          399,
          463,
          450,
          530,
          456,
          456,
          445,
          515,
          189,
          448,
          308,
          234,
          204,
          325,
          193,
          364,
          332,
          413,
          698,
          348,
          321,
          289,
          698,
          485,
          443,
          391,
          310,
          317,
          312,
          208,
          372,
          312,
          401,
          374,
          374,
          363,
          371,
          251,
          538,
          463,
          346,
          496,
          374,
          207,
          392,
          378,
          336,
          296,
          296,
          262,
          303,
          329,
          502,
          396,
          396,
          502,
          529,
          523,
          518,
          471,
          382,
          458,
          324,
          324,
          324,
          324,
          324,
          324,
          324,
          324,
          324,
          324,
          324,
          483,
          470,
          433,
          470,
          433,
          483,
          393,
          369,
          368,
          399,
          380,
          369,
          392,
          370,
          394,
          361,
          380,
          372,
          361,
          361,
          369,
          376,
          390,
          388,
          390,
          390,
          388,
          456,
          441,
          349,
          423,
          435,
          434,
          428,
          330,
          328,
          73,
          279,
          238,
          184,
          195,
          234,
          598,
          384,
          398,
          270,
          299,
          232,
          292,
          244,
          186,
          271,
          406,
          394,
          351,
          285,
          346,
          372,
          381,
          410,
          353,
          341,
          310,
          301,
          313,
          359,
          339,
          308,
          419,
          340,
          326,
          343,
          341,
          297,
          297,
          340,
          397,
          325,
          256,
          339,
          307,
          255,
          307,
          339,
          395,
          215,
          294,
          349,
          231,
          233,
          337,
          326,
          349,
          420,
          322,
          420,
          402,
          290,
          302,
          288,
          256,
          408,
          354,
          468,
          644,
          404,
          142,
          285,
          143,
          644,
          234,
          244,
          155,
          192,
          353,
          364,
          281,
          1127,
          1127,
          844,
          1103,
          314,
          308,
          642,
          715,
          391,
          391,
          715,
          473,
          579,
          516,
          425,
          694,
          147,
          339,
          324,
          263,
          606,
          435,
          278,
          290,
          516,
          660
         ],
         "xaxis": "x",
         "y": [
          0.0012143290831815423,
          0,
          0.0004421995990723635,
          0.00032739259572687655,
          0.00031111270656088836,
          0.00005618948516917658,
          0.00032955316467965496,
          0.0005925304697399247,
          0.00010993037742762916,
          0.00021282029454328764,
          0.00006292474200855777,
          0.00017094017094017094,
          0.00015477480266212662,
          0.000044031526573026284,
          0,
          0.00009616309260505818,
          0.00037415036687522086,
          0.00043155469407160884,
          0.0003351880404907153,
          0.0004886139891489997,
          0.00021168501270110075,
          0.0002756339581036384,
          0.0006172077521293668,
          0.00010975342064827688,
          0.00010889450300548829,
          0.00010109179134654265,
          0.00012639828098337863,
          0,
          0.0017917369308600337,
          0.002293720166139731,
          0.0012298060260495277,
          0.0014512283611485435,
          0.0017417267977108733,
          0.0005014206919605549,
          0.00025230225810521004,
          0.00016170763260025875,
          0.0017452006980802793,
          0.0011824990145841545,
          0.0012239902080783353,
          0.0006294256490952006,
          0.00015026296018031557,
          0.00030679552078539653,
          0.0005414185165132648,
          0.00022933149868134388,
          0.0006586169045005489,
          0.0009786208973200843,
          0.00037645287280598563,
          0.00029251170046801873,
          0.0006919457514530861,
          0.0009810104407539765,
          0.0009296560272699101,
          0.0006453000645300065,
          0.0004349244318799609,
          0.00009837678307919331,
          0.0006611533203343867,
          0.0004452496468709697,
          0.0006423913220250777,
          0.0008905644694462173,
          0.0006144058982966237,
          0.0004973108983542632,
          0.0004909659220858428,
          0.00029368873045450863,
          0.0006110205579402804,
          0.0005137581806110297,
          0.0007017406111522777,
          0.0008733303303027238,
          0.0005893003958767982,
          0.0011926306519945361,
          0.00013663068725235688,
          0,
          0.000691426313709996,
          0.0004702089071001545,
          0.00022799817601459188,
          0.000164887258337112,
          0.0002821758896378743,
          0.0003420313813792415,
          0.0003762227238525207,
          0.00037054191755442334,
          0.0003570790930191037,
          0,
          0,
          0.00020464545175483476,
          0.0006501950585175553,
          0.0002536783358701167,
          0,
          0.0004056466006814863,
          0,
          0.002355712603062426,
          0,
          0,
          0,
          0,
          0,
          0,
          0,
          0,
          0,
          0,
          0,
          0,
          0,
          0.0002699055330634278,
          0.0026352390015372228,
          0.0007442691277165823,
          0.002404983441097619,
          0.0012004466778336126,
          0.0005319148936170213,
          0.000507292327203551,
          0.0007320048800325336,
          0.0012276785714285714,
          0.0019000570017100513,
          0.0041841004184100415,
          0,
          0.0029850746268656717,
          0.0007937767899666614,
          0.0006606592765012714,
          0.0005057695189569909,
          0.0007637913617660827,
          0.0005843425415978847,
          0.0009049773755656109,
          0.0006872852233676976,
          0.00044306601683650863,
          0.0015467904098994587,
          0.000416571991214118,
          0.0003326901324106727,
          0.0005861814104034457,
          0.0005360070626812965,
          0.0008164217401446233,
          0.00032451728054518905,
          0.00033025099075297226,
          0.00032539977686872444,
          0.0004684418145956607,
          0.0003647471846076688,
          0.00033921302578018993,
          0.0006584362139917696,
          0.0003828300713021008,
          0.0003186404673393521,
          0.002331002331002331,
          0.0015290519877675841,
          0,
          0.006153846153846154,
          0.003575685339690107,
          0,
          0.0015337423312883436,
          0.0007423904974016332,
          0,
          0,
          0,
          0,
          0,
          0,
          0,
          0.005,
          0,
          0,
          0.002770083102493075,
          0.004106776180698152,
          0,
          0.0020408163265306124,
          0.0017211703958691911,
          0.0014144271570014145,
          0.0018298261665141812,
          0.0007034822370735139,
          0,
          0,
          0.001937046004842615,
          0.0007785341830822711,
          0.00048466049532302623,
          0,
          0,
          0.00032990856819681405,
          0,
          0.00035119210207983765,
          0.000351493848857645,
          0.0020107238605898124,
          0.0024905123339658444,
          0.006571318129107074,
          0.005397070161912105,
          0.0028680688336520078,
          0.002292263610315186,
          0.0030543677458766036,
          0.002638522427440633,
          0.0018072289156626507,
          0.0037267080745341614,
          0.0008021926599371615,
          0.0005305807447424271,
          0,
          0.000859106529209622,
          0.0006397952655150352,
          0.0010905125408942203,
          0.001243008079552517,
          0.0008445945945945946,
          0.001401541695865452,
          0.0011799410029498525,
          0.0015298317185109638,
          0.0004578754578754579,
          0.001436265709156194,
          0.000403105666263561,
          0.0008701510133048897,
          0.00042410870067052125,
          0.0004692632566870014,
          0.0023521505376344087,
          0.0010423905489923557,
          0.001828710758914965,
          0.0008726003490401396,
          0.0025252525252525255,
          0.0005709223348754799,
          0,
          0.00014898688915375446,
          0.00024338006230529595,
          0,
          0.0028328611898017,
          0.0015193719929095975,
          0.0010256410256410256,
          0.000832408435072142,
          0.0007358351729212656,
          0.0014449260864732689,
          0.0010855144132191532,
          0.001033858878263117,
          0.000576241134751773,
          0.0014926446786318022,
          0,
          0,
          0,
          0,
          0.0008726500104338588,
          0.0007074864934396708,
          0.0005297278208006458,
          0.006412997007268063,
          0.0005449591280653951,
          0.0009900990099009901,
          0.0010857763300760044,
          0.0013280212483399733,
          0.00041425020712510354,
          0.002386634844868735,
          0.002421307506053269,
          0.0008771735378593799,
          0.0008361314108894594,
          0.0007587253414264037,
          0.002207505518763797,
          0.0020408163265306124,
          0.002506265664160401,
          0.002277904328018223,
          0.0041841004184100415,
          0.004132231404958678,
          0.006535947712418301,
          0.004424778761061947,
          0.004246284501061571,
          0.00303951367781155,
          0.0024691358024691358,
          0.001937984496124031,
          0.0031847133757961785,
          0.0049504950495049506,
          0.0011723329425556857,
          0,
          0.00065302568567697,
          0.0005165289256198347,
          0.00013958682300390843,
          0.00019138755980861245,
          0.001953125,
          0,
          0.000258158896800981,
          0.0005338705615713926,
          0.0002791931318489565,
          0.0010138941043935411,
          0.001584786053882726,
          0,
          0,
          0,
          0.00020781379883624273,
          0.0011627906976744186,
          0.00032829940906106366,
          0,
          0,
          0.0017739483020780538,
          0.0006732306656568207,
          0.00025025025025025025,
          0.00046809174598221254,
          0,
          0.000529567519858782,
          0.0004350348027842227,
          0.0007606490872210953,
          0.0005369127516778523,
          0.0009428032683846638,
          0.0011686554311723459,
          0.0013024790517952502,
          0.0007365089475884309,
          0,
          0.0011187199132144552,
          0,
          0,
          0.0007587253414264037,
          0,
          0.0003312355084465055,
          0,
          0.0017327418907679513,
          0.0013965505202150688,
          0.0031365988812797323,
          0.00055005500550055,
          0.0005405405405405405,
          0,
          0,
          0,
          0,
          0,
          0,
          0.0004010159069643096,
          0,
          0.0007558578987150416,
          0.0007782101167315176,
          0.008174386920980926,
          0.011834319526627219,
          0,
          0.011111111111111112,
          0.006622516556291391,
          0,
          0,
          0.004835589941972921,
          0.004568414797206953,
          0.005263157894736842,
          0.0016486810551558752,
          0.0013308490817141336,
          0.0007990411506192569,
          0.0003695491500369549,
          0.001215066828675577,
          0.0029365700861393894,
          0.0021116536887950377,
          0.0008288701861769957,
          0.0008745080891998251,
          0.0009282896263634254,
          0,
          0.0024752475247524753,
          0.00030429555578834997,
          0.000496765379969065,
          0.0005986669682174359,
          0.0008731643703577706,
          0.0006934973069187914,
          0.0003282036321201955,
          0.0005076464242654991,
          0.0006097412258237604,
          0.0012360939431396785,
          0.0016420361247947454,
          0.0004460966542750929,
          0,
          0.0003837298541826554,
          0,
          0,
          0.0006752194463200541,
          0,
          0,
          0.00008656135035706557,
          0.00039478878799842083,
          0,
          0.00099601593625498,
          0,
          0.0002891949535480606,
          0.00013070186903672723,
          0.0004652858993221916,
          0.0006010677792313404,
          0.00030805421754228745,
          0.0006814148073022312,
          0,
          0,
          0,
          0.006216696269982238,
          0.0026748184944593045,
          0.0008045052292839903,
          0.0019259576289321636,
          0.002514860539551898,
          0,
          0.0013961605584642235,
          0.0008103727714748784,
          0.0019749835418038184,
          0.0006808421493662931,
          0.0026873693639892504,
          0.0007150518412584912,
          0.000975609756097561,
          0.0005249343832020997,
          0.0016815200941651253,
          0.002165841584158416,
          0.0008203152863970326,
          0.000446927374301676,
          0.00024279880807857851,
          0.00035104963841887243,
          0.0002740176467364498,
          0.0010435078901974146,
          0.0009245562130177514,
          0.0013795640577577485,
          0.00023977940294928664,
          0.0006302468046487004,
          0.000637213254035684,
          0.0005263449498587179,
          0.0007313951362223441,
          0.0005957980558168705,
          0.0003033026286227814,
          0.0005135206222366954,
          0.0010107074952466727,
          0.0005221772757943707,
          0.00038438690288989064,
          0.0004061967352666225,
          0.0004705681040383299,
          0.00031735956839098697,
          0.000264417802631801,
          0.00048293600163263527,
          0.0003581341212284,
          0,
          0,
          0.0023094688221709007,
          0,
          0,
          0,
          0,
          0.0011061946902654867,
          0,
          0,
          0.00044863167339614175,
          0,
          0.0005356186395286556,
          0.0026997840172786176
         ],
         "yaxis": "y"
        }
       ],
       "layout": {
        "legend": {
         "tracegroupgap": 0
        },
        "template": {
         "data": {
          "bar": [
           {
            "error_x": {
             "color": "#2a3f5f"
            },
            "error_y": {
             "color": "#2a3f5f"
            },
            "marker": {
             "line": {
              "color": "#E5ECF6",
              "width": 0.5
             }
            },
            "type": "bar"
           }
          ],
          "barpolar": [
           {
            "marker": {
             "line": {
              "color": "#E5ECF6",
              "width": 0.5
             }
            },
            "type": "barpolar"
           }
          ],
          "carpet": [
           {
            "aaxis": {
             "endlinecolor": "#2a3f5f",
             "gridcolor": "white",
             "linecolor": "white",
             "minorgridcolor": "white",
             "startlinecolor": "#2a3f5f"
            },
            "baxis": {
             "endlinecolor": "#2a3f5f",
             "gridcolor": "white",
             "linecolor": "white",
             "minorgridcolor": "white",
             "startlinecolor": "#2a3f5f"
            },
            "type": "carpet"
           }
          ],
          "choropleth": [
           {
            "colorbar": {
             "outlinewidth": 0,
             "ticks": ""
            },
            "type": "choropleth"
           }
          ],
          "contour": [
           {
            "colorbar": {
             "outlinewidth": 0,
             "ticks": ""
            },
            "colorscale": [
             [
              0,
              "#0d0887"
             ],
             [
              0.1111111111111111,
              "#46039f"
             ],
             [
              0.2222222222222222,
              "#7201a8"
             ],
             [
              0.3333333333333333,
              "#9c179e"
             ],
             [
              0.4444444444444444,
              "#bd3786"
             ],
             [
              0.5555555555555556,
              "#d8576b"
             ],
             [
              0.6666666666666666,
              "#ed7953"
             ],
             [
              0.7777777777777778,
              "#fb9f3a"
             ],
             [
              0.8888888888888888,
              "#fdca26"
             ],
             [
              1,
              "#f0f921"
             ]
            ],
            "type": "contour"
           }
          ],
          "contourcarpet": [
           {
            "colorbar": {
             "outlinewidth": 0,
             "ticks": ""
            },
            "type": "contourcarpet"
           }
          ],
          "heatmap": [
           {
            "colorbar": {
             "outlinewidth": 0,
             "ticks": ""
            },
            "colorscale": [
             [
              0,
              "#0d0887"
             ],
             [
              0.1111111111111111,
              "#46039f"
             ],
             [
              0.2222222222222222,
              "#7201a8"
             ],
             [
              0.3333333333333333,
              "#9c179e"
             ],
             [
              0.4444444444444444,
              "#bd3786"
             ],
             [
              0.5555555555555556,
              "#d8576b"
             ],
             [
              0.6666666666666666,
              "#ed7953"
             ],
             [
              0.7777777777777778,
              "#fb9f3a"
             ],
             [
              0.8888888888888888,
              "#fdca26"
             ],
             [
              1,
              "#f0f921"
             ]
            ],
            "type": "heatmap"
           }
          ],
          "heatmapgl": [
           {
            "colorbar": {
             "outlinewidth": 0,
             "ticks": ""
            },
            "colorscale": [
             [
              0,
              "#0d0887"
             ],
             [
              0.1111111111111111,
              "#46039f"
             ],
             [
              0.2222222222222222,
              "#7201a8"
             ],
             [
              0.3333333333333333,
              "#9c179e"
             ],
             [
              0.4444444444444444,
              "#bd3786"
             ],
             [
              0.5555555555555556,
              "#d8576b"
             ],
             [
              0.6666666666666666,
              "#ed7953"
             ],
             [
              0.7777777777777778,
              "#fb9f3a"
             ],
             [
              0.8888888888888888,
              "#fdca26"
             ],
             [
              1,
              "#f0f921"
             ]
            ],
            "type": "heatmapgl"
           }
          ],
          "histogram": [
           {
            "marker": {
             "colorbar": {
              "outlinewidth": 0,
              "ticks": ""
             }
            },
            "type": "histogram"
           }
          ],
          "histogram2d": [
           {
            "colorbar": {
             "outlinewidth": 0,
             "ticks": ""
            },
            "colorscale": [
             [
              0,
              "#0d0887"
             ],
             [
              0.1111111111111111,
              "#46039f"
             ],
             [
              0.2222222222222222,
              "#7201a8"
             ],
             [
              0.3333333333333333,
              "#9c179e"
             ],
             [
              0.4444444444444444,
              "#bd3786"
             ],
             [
              0.5555555555555556,
              "#d8576b"
             ],
             [
              0.6666666666666666,
              "#ed7953"
             ],
             [
              0.7777777777777778,
              "#fb9f3a"
             ],
             [
              0.8888888888888888,
              "#fdca26"
             ],
             [
              1,
              "#f0f921"
             ]
            ],
            "type": "histogram2d"
           }
          ],
          "histogram2dcontour": [
           {
            "colorbar": {
             "outlinewidth": 0,
             "ticks": ""
            },
            "colorscale": [
             [
              0,
              "#0d0887"
             ],
             [
              0.1111111111111111,
              "#46039f"
             ],
             [
              0.2222222222222222,
              "#7201a8"
             ],
             [
              0.3333333333333333,
              "#9c179e"
             ],
             [
              0.4444444444444444,
              "#bd3786"
             ],
             [
              0.5555555555555556,
              "#d8576b"
             ],
             [
              0.6666666666666666,
              "#ed7953"
             ],
             [
              0.7777777777777778,
              "#fb9f3a"
             ],
             [
              0.8888888888888888,
              "#fdca26"
             ],
             [
              1,
              "#f0f921"
             ]
            ],
            "type": "histogram2dcontour"
           }
          ],
          "mesh3d": [
           {
            "colorbar": {
             "outlinewidth": 0,
             "ticks": ""
            },
            "type": "mesh3d"
           }
          ],
          "parcoords": [
           {
            "line": {
             "colorbar": {
              "outlinewidth": 0,
              "ticks": ""
             }
            },
            "type": "parcoords"
           }
          ],
          "pie": [
           {
            "automargin": true,
            "type": "pie"
           }
          ],
          "scatter": [
           {
            "marker": {
             "colorbar": {
              "outlinewidth": 0,
              "ticks": ""
             }
            },
            "type": "scatter"
           }
          ],
          "scatter3d": [
           {
            "line": {
             "colorbar": {
              "outlinewidth": 0,
              "ticks": ""
             }
            },
            "marker": {
             "colorbar": {
              "outlinewidth": 0,
              "ticks": ""
             }
            },
            "type": "scatter3d"
           }
          ],
          "scattercarpet": [
           {
            "marker": {
             "colorbar": {
              "outlinewidth": 0,
              "ticks": ""
             }
            },
            "type": "scattercarpet"
           }
          ],
          "scattergeo": [
           {
            "marker": {
             "colorbar": {
              "outlinewidth": 0,
              "ticks": ""
             }
            },
            "type": "scattergeo"
           }
          ],
          "scattergl": [
           {
            "marker": {
             "colorbar": {
              "outlinewidth": 0,
              "ticks": ""
             }
            },
            "type": "scattergl"
           }
          ],
          "scattermapbox": [
           {
            "marker": {
             "colorbar": {
              "outlinewidth": 0,
              "ticks": ""
             }
            },
            "type": "scattermapbox"
           }
          ],
          "scatterpolar": [
           {
            "marker": {
             "colorbar": {
              "outlinewidth": 0,
              "ticks": ""
             }
            },
            "type": "scatterpolar"
           }
          ],
          "scatterpolargl": [
           {
            "marker": {
             "colorbar": {
              "outlinewidth": 0,
              "ticks": ""
             }
            },
            "type": "scatterpolargl"
           }
          ],
          "scatterternary": [
           {
            "marker": {
             "colorbar": {
              "outlinewidth": 0,
              "ticks": ""
             }
            },
            "type": "scatterternary"
           }
          ],
          "surface": [
           {
            "colorbar": {
             "outlinewidth": 0,
             "ticks": ""
            },
            "colorscale": [
             [
              0,
              "#0d0887"
             ],
             [
              0.1111111111111111,
              "#46039f"
             ],
             [
              0.2222222222222222,
              "#7201a8"
             ],
             [
              0.3333333333333333,
              "#9c179e"
             ],
             [
              0.4444444444444444,
              "#bd3786"
             ],
             [
              0.5555555555555556,
              "#d8576b"
             ],
             [
              0.6666666666666666,
              "#ed7953"
             ],
             [
              0.7777777777777778,
              "#fb9f3a"
             ],
             [
              0.8888888888888888,
              "#fdca26"
             ],
             [
              1,
              "#f0f921"
             ]
            ],
            "type": "surface"
           }
          ],
          "table": [
           {
            "cells": {
             "fill": {
              "color": "#EBF0F8"
             },
             "line": {
              "color": "white"
             }
            },
            "header": {
             "fill": {
              "color": "#C8D4E3"
             },
             "line": {
              "color": "white"
             }
            },
            "type": "table"
           }
          ]
         },
         "layout": {
          "annotationdefaults": {
           "arrowcolor": "#2a3f5f",
           "arrowhead": 0,
           "arrowwidth": 1
          },
          "autotypenumbers": "strict",
          "coloraxis": {
           "colorbar": {
            "outlinewidth": 0,
            "ticks": ""
           }
          },
          "colorscale": {
           "diverging": [
            [
             0,
             "#8e0152"
            ],
            [
             0.1,
             "#c51b7d"
            ],
            [
             0.2,
             "#de77ae"
            ],
            [
             0.3,
             "#f1b6da"
            ],
            [
             0.4,
             "#fde0ef"
            ],
            [
             0.5,
             "#f7f7f7"
            ],
            [
             0.6,
             "#e6f5d0"
            ],
            [
             0.7,
             "#b8e186"
            ],
            [
             0.8,
             "#7fbc41"
            ],
            [
             0.9,
             "#4d9221"
            ],
            [
             1,
             "#276419"
            ]
           ],
           "sequential": [
            [
             0,
             "#0d0887"
            ],
            [
             0.1111111111111111,
             "#46039f"
            ],
            [
             0.2222222222222222,
             "#7201a8"
            ],
            [
             0.3333333333333333,
             "#9c179e"
            ],
            [
             0.4444444444444444,
             "#bd3786"
            ],
            [
             0.5555555555555556,
             "#d8576b"
            ],
            [
             0.6666666666666666,
             "#ed7953"
            ],
            [
             0.7777777777777778,
             "#fb9f3a"
            ],
            [
             0.8888888888888888,
             "#fdca26"
            ],
            [
             1,
             "#f0f921"
            ]
           ],
           "sequentialminus": [
            [
             0,
             "#0d0887"
            ],
            [
             0.1111111111111111,
             "#46039f"
            ],
            [
             0.2222222222222222,
             "#7201a8"
            ],
            [
             0.3333333333333333,
             "#9c179e"
            ],
            [
             0.4444444444444444,
             "#bd3786"
            ],
            [
             0.5555555555555556,
             "#d8576b"
            ],
            [
             0.6666666666666666,
             "#ed7953"
            ],
            [
             0.7777777777777778,
             "#fb9f3a"
            ],
            [
             0.8888888888888888,
             "#fdca26"
            ],
            [
             1,
             "#f0f921"
            ]
           ]
          },
          "colorway": [
           "#636efa",
           "#EF553B",
           "#00cc96",
           "#ab63fa",
           "#FFA15A",
           "#19d3f3",
           "#FF6692",
           "#B6E880",
           "#FF97FF",
           "#FECB52"
          ],
          "font": {
           "color": "#2a3f5f"
          },
          "geo": {
           "bgcolor": "white",
           "lakecolor": "white",
           "landcolor": "#E5ECF6",
           "showlakes": true,
           "showland": true,
           "subunitcolor": "white"
          },
          "hoverlabel": {
           "align": "left"
          },
          "hovermode": "closest",
          "mapbox": {
           "style": "light"
          },
          "paper_bgcolor": "white",
          "plot_bgcolor": "#E5ECF6",
          "polar": {
           "angularaxis": {
            "gridcolor": "white",
            "linecolor": "white",
            "ticks": ""
           },
           "bgcolor": "#E5ECF6",
           "radialaxis": {
            "gridcolor": "white",
            "linecolor": "white",
            "ticks": ""
           }
          },
          "scene": {
           "xaxis": {
            "backgroundcolor": "#E5ECF6",
            "gridcolor": "white",
            "gridwidth": 2,
            "linecolor": "white",
            "showbackground": true,
            "ticks": "",
            "zerolinecolor": "white"
           },
           "yaxis": {
            "backgroundcolor": "#E5ECF6",
            "gridcolor": "white",
            "gridwidth": 2,
            "linecolor": "white",
            "showbackground": true,
            "ticks": "",
            "zerolinecolor": "white"
           },
           "zaxis": {
            "backgroundcolor": "#E5ECF6",
            "gridcolor": "white",
            "gridwidth": 2,
            "linecolor": "white",
            "showbackground": true,
            "ticks": "",
            "zerolinecolor": "white"
           }
          },
          "shapedefaults": {
           "line": {
            "color": "#2a3f5f"
           }
          },
          "ternary": {
           "aaxis": {
            "gridcolor": "white",
            "linecolor": "white",
            "ticks": ""
           },
           "baxis": {
            "gridcolor": "white",
            "linecolor": "white",
            "ticks": ""
           },
           "bgcolor": "#E5ECF6",
           "caxis": {
            "gridcolor": "white",
            "linecolor": "white",
            "ticks": ""
           }
          },
          "title": {
           "x": 0.05
          },
          "xaxis": {
           "automargin": true,
           "gridcolor": "white",
           "linecolor": "white",
           "ticks": "",
           "title": {
            "standoff": 15
           },
           "zerolinecolor": "white",
           "zerolinewidth": 2
          },
          "yaxis": {
           "automargin": true,
           "gridcolor": "white",
           "linecolor": "white",
           "ticks": "",
           "title": {
            "standoff": 15
           },
           "zerolinecolor": "white",
           "zerolinewidth": 2
          }
         }
        },
        "title": {
         "text": "Length vs active engagement"
        },
        "xaxis": {
         "anchor": "y",
         "domain": [
          0,
          1
         ],
         "title": {
          "text": "Length"
         }
        },
        "yaxis": {
         "anchor": "x",
         "domain": [
          0,
          1
         ],
         "title": {
          "text": "ActiveEng"
         }
        }
       }
      }
     },
     "metadata": {}
    }
   ],
   "source": [
    "px.scatter(tracks_foll, \"Key\", \"ActiveEng\", title=\"Length vs active engagement\") \n"
   ]
  },
  {
   "cell_type": "code",
   "execution_count": 239,
   "metadata": {},
   "outputs": [
    {
     "output_type": "display_data",
     "data": {
      "application/vnd.plotly.v1+json": {
       "config": {
        "plotlyServerURL": "https://plot.ly"
       },
       "data": [
        {
         "hovertemplate": "ArtistName=%{x}<br>ActiveEng=%{y}<extra></extra>",
         "legendgroup": "",
         "marker": {
          "color": "#636efa",
          "symbol": "circle"
         },
         "mode": "markers",
         "name": "",
         "orientation": "v",
         "showlegend": false,
         "type": "scatter",
         "x": [
          "Nina Kraviz",
          "Nina Kraviz",
          "Nina Kraviz",
          "Nina Kraviz",
          "Nina Kraviz",
          "Nina Kraviz",
          "Tale of Us",
          "Tale of Us",
          "Tale of Us",
          "Tale of Us",
          "Tale of Us",
          "Tale of Us",
          "Tale of Us",
          "Tale of Us",
          "Tale of Us",
          "Tale of Us",
          "Tale of Us",
          "Tale of Us",
          "Tale of Us",
          "Tale of Us",
          "Tale of Us",
          "Tale of Us",
          "Tale of Us",
          "Tale of Us",
          "Tale of Us",
          "Richie Hawtin",
          "Richie Hawtin",
          "Richie Hawtin",
          "Richie Hawtin",
          "Richie Hawtin",
          "Richie Hawtin",
          "Richie Hawtin",
          "Richie Hawtin",
          "Richie Hawtin",
          "Richie Hawtin",
          "Richie Hawtin",
          "Richie Hawtin",
          "Richie Hawtin",
          "Richie Hawtin",
          "Richie Hawtin",
          "Richie Hawtin",
          "Richie Hawtin",
          "Richie Hawtin",
          "Richie Hawtin",
          "Richie Hawtin",
          "Richie Hawtin",
          "Richie Hawtin",
          "Richie Hawtin",
          "Richie Hawtin",
          "Richie Hawtin",
          "Richie Hawtin",
          "Four Tet",
          "Four Tet",
          "Four Tet",
          "Four Tet",
          "Four Tet",
          "Four Tet",
          "Four Tet",
          "Four Tet",
          "Four Tet",
          "Four Tet",
          "Four Tet",
          "Four Tet",
          "Four Tet",
          "Four Tet",
          "efdemin",
          "efdemin",
          "efdemin",
          "efdemin",
          "efdemin",
          "efdemin",
          "efdemin",
          "efdemin",
          "efdemin",
          "efdemin",
          "efdemin",
          "efdemin",
          "efdemin",
          "efdemin",
          "ilario alicante",
          "ilario alicante",
          "maceo plex",
          "maceo plex",
          "maceo plex",
          "maceo plex",
          "maceo plex",
          "maceo plex",
          "maceo plex",
          "maceo plex",
          "maceo plex",
          "maceo plex",
          "maceo plex",
          "maceo plex",
          "maceo plex",
          "maceo plex",
          "maceo plex",
          "maceo plex",
          "maceo plex",
          "maceo plex",
          "maceo plex",
          "maceo plex",
          "maceo plex",
          "maceo plex",
          "pleasurekraft",
          "pleasurekraft",
          "pleasurekraft",
          "pleasurekraft",
          "pleasurekraft",
          "pleasurekraft",
          "pleasurekraft",
          "pleasurekraft",
          "pleasurekraft",
          "pleasurekraft",
          "pleasurekraft",
          "pleasurekraft",
          "ron flatter",
          "ron flatter",
          "ron flatter",
          "ron flatter",
          "ron flatter",
          "ron flatter",
          "ron flatter",
          "ron flatter",
          "ron flatter",
          "ron flatter",
          "ron flatter",
          "ron flatter",
          "ron flatter",
          "ron flatter",
          "ron flatter",
          "enrico sangiuliano",
          "enrico sangiuliano",
          "enrico sangiuliano",
          "enrico sangiuliano",
          "kevin yost",
          "kevin yost",
          "kevin yost",
          "kevin yost",
          "kevin yost",
          "kevin yost",
          "kevin yost",
          "kevin yost",
          "kevin yost",
          "harrison bdp",
          "harrison bdp",
          "harrison bdp",
          "harrison bdp",
          "harrison bdp",
          "harrison bdp",
          "harrison bdp",
          "harrison bdp",
          "harrison bdp",
          "harrison bdp",
          "harrison bdp",
          "harrison bdp",
          "harrison bdp",
          "harrison bdp",
          "harrison bdp",
          "harrison bdp",
          "harrison bdp",
          "monika kruse",
          "monika kruse",
          "monika kruse",
          "monika kruse",
          "monika kruse",
          "monika kruse",
          "monika kruse",
          "monika kruse",
          "monika kruse",
          "seb wildblood",
          "seb wildblood",
          "seb wildblood",
          "seb wildblood",
          "seb wildblood",
          "seb wildblood",
          "seb wildblood",
          "seb wildblood",
          "seb wildblood",
          "seb wildblood",
          "seb wildblood",
          "seb wildblood",
          "seb wildblood",
          "mrsch",
          "marcel dettmann",
          "marcel dettmann",
          "marcel dettmann",
          "marcel dettmann",
          "marcel dettmann",
          "marcel dettmann",
          "marcel dettmann",
          "marcel dettmann",
          "marcel dettmann",
          "marcel dettmann",
          "marcel dettmann",
          "marcel dettmann",
          "marcel dettmann",
          "marcel dettmann",
          "marcel dettmann",
          "marcel dettmann",
          "marcel dettmann",
          "marcel dettmann",
          "marcel dettmann",
          "marcel dettmann",
          "marcel dettmann",
          "marcel dettmann",
          "marcel dettmann",
          "marcel dettmann",
          "marcel dettmann",
          "mind against",
          "mind against",
          "mind against",
          "mind against",
          "mind against",
          "mind against",
          "mind against",
          "mind against",
          "mind against",
          "mathame",
          "mathame",
          "mathame",
          "mathame",
          "mathame",
          "mathame",
          "mathame",
          "mathame",
          "mathame",
          "mathame",
          "mathame",
          "mathame",
          "woo york",
          "woo york",
          "woo york",
          "woo york",
          "woo york",
          "woo york",
          "woo york",
          "woo york",
          "woo york",
          "woo york",
          "woo york",
          "woo york",
          "woo york",
          "woo york",
          "woo york",
          "aleksandir",
          "aleksandir",
          "aleksandir",
          "aleksandir",
          "aleksandir",
          "adam beyer",
          "baltra",
          "baltra",
          "baltra",
          "baltra",
          "baltra",
          "baltra",
          "baltra",
          "baltra",
          "baltra",
          "baltra",
          "baltra",
          "baltra",
          "baltra",
          "baltra",
          "baltra",
          "baltra",
          "randomer",
          "randomer",
          "randomer",
          "randomer",
          "randomer",
          "randomer",
          "randomer",
          "randomer",
          "randomer",
          "randomer",
          "randomer",
          "randomer",
          "mall grab",
          "mall grab",
          "mall grab",
          "mall grab",
          "mall grab",
          "mall grab",
          "daniel avery",
          "daniel avery",
          "daniel avery",
          "kink",
          "kink",
          "kink",
          "kink",
          "kink",
          "kink",
          "kink",
          "kink",
          "kink",
          "kink",
          "kink",
          "kink",
          "floating points",
          "floating points",
          "floating points",
          "floating points",
          "floating points",
          "floating points",
          "floating points",
          "floating points",
          "floating points",
          "floating points",
          "floating points",
          "floating points",
          "floating points",
          "floating points",
          "floating points",
          "floating points",
          "floating points",
          "floating points",
          "floating points",
          "floating points",
          "floating points",
          "floating points",
          "floating points",
          "floating points",
          "floating points",
          "red axes",
          "laurent garnier",
          "laurent garnier",
          "laurent garnier",
          "laurent garnier"
         ],
         "xaxis": "x",
         "y": [
          0.0012143290831815423,
          0.0004421995990723635,
          0.00032739259572687655,
          0.00031111270656088836,
          0.00005618948516917658,
          0.00032955316467965496,
          0.0005925304697399247,
          0.00010993037742762916,
          0.00021282029454328764,
          0.00006292474200855777,
          0.00017094017094017094,
          0.00015477480266212662,
          0.000044031526573026284,
          0.00009616309260505818,
          0.00037415036687522086,
          0.00043155469407160884,
          0.0003351880404907153,
          0.0004886139891489997,
          0.00021168501270110075,
          0.0002756339581036384,
          0.0006172077521293668,
          0.00010975342064827688,
          0.00010889450300548829,
          0.00010109179134654265,
          0.00012639828098337863,
          0.0017917369308600337,
          0.002293720166139731,
          0.0012298060260495277,
          0.0014512283611485435,
          0.0017417267977108733,
          0.0005014206919605549,
          0.00025230225810521004,
          0.00016170763260025875,
          0.0017452006980802793,
          0.0011824990145841545,
          0.0012239902080783353,
          0.0006294256490952006,
          0.00015026296018031557,
          0.00030679552078539653,
          0.0005414185165132648,
          0.00022933149868134388,
          0.0006586169045005489,
          0.0009786208973200843,
          0.00037645287280598563,
          0.00029251170046801873,
          0.0006919457514530861,
          0.0009810104407539765,
          0.0009296560272699101,
          0.0006453000645300065,
          0.0004349244318799609,
          0.00009837678307919331,
          0.0006611533203343867,
          0.0004452496468709697,
          0.0006423913220250777,
          0.0008905644694462173,
          0.0006144058982966237,
          0.0004973108983542632,
          0.0004909659220858428,
          0.00029368873045450863,
          0.0006110205579402804,
          0.0005137581806110297,
          0.0007017406111522777,
          0.0008733303303027238,
          0.0005893003958767982,
          0.0011926306519945361,
          0.00013663068725235688,
          0.000691426313709996,
          0.0004702089071001545,
          0.00022799817601459188,
          0.000164887258337112,
          0.0002821758896378743,
          0.0003420313813792415,
          0.0003762227238525207,
          0.00037054191755442334,
          0.0003570790930191037,
          0.00020464545175483476,
          0.0006501950585175553,
          0.0002536783358701167,
          0.0004056466006814863,
          0.002355712603062426,
          0.0002699055330634278,
          0.0026352390015372228,
          0.0007442691277165823,
          0.002404983441097619,
          0.0012004466778336126,
          0.0005319148936170213,
          0.000507292327203551,
          0.0007320048800325336,
          0.0012276785714285714,
          0.0019000570017100513,
          0.0041841004184100415,
          0.0029850746268656717,
          0.0007937767899666614,
          0.0006606592765012714,
          0.0005057695189569909,
          0.0007637913617660827,
          0.0005843425415978847,
          0.0009049773755656109,
          0.0006872852233676976,
          0.00044306601683650863,
          0.0015467904098994587,
          0.000416571991214118,
          0.0003326901324106727,
          0.0005861814104034457,
          0.0005360070626812965,
          0.0008164217401446233,
          0.00032451728054518905,
          0.00033025099075297226,
          0.00032539977686872444,
          0.0004684418145956607,
          0.0003647471846076688,
          0.00033921302578018993,
          0.0006584362139917696,
          0.0003828300713021008,
          0.0003186404673393521,
          0.002331002331002331,
          0.0015290519877675841,
          0.006153846153846154,
          0.003575685339690107,
          0.0015337423312883436,
          0.0007423904974016332,
          0.005,
          0.002770083102493075,
          0.004106776180698152,
          0.0020408163265306124,
          0.0017211703958691911,
          0.0014144271570014145,
          0.0018298261665141812,
          0.0007034822370735139,
          0.001937046004842615,
          0.0007785341830822711,
          0.00048466049532302623,
          0.00032990856819681405,
          0.00035119210207983765,
          0.000351493848857645,
          0.0020107238605898124,
          0.0024905123339658444,
          0.006571318129107074,
          0.005397070161912105,
          0.0028680688336520078,
          0.002292263610315186,
          0.0030543677458766036,
          0.002638522427440633,
          0.0018072289156626507,
          0.0037267080745341614,
          0.0008021926599371615,
          0.0005305807447424271,
          0.000859106529209622,
          0.0006397952655150352,
          0.0010905125408942203,
          0.001243008079552517,
          0.0008445945945945946,
          0.001401541695865452,
          0.0011799410029498525,
          0.0015298317185109638,
          0.0004578754578754579,
          0.001436265709156194,
          0.000403105666263561,
          0.0008701510133048897,
          0.00042410870067052125,
          0.0004692632566870014,
          0.0023521505376344087,
          0.0010423905489923557,
          0.001828710758914965,
          0.0008726003490401396,
          0.0025252525252525255,
          0.0005709223348754799,
          0.00014898688915375446,
          0.00024338006230529595,
          0.0028328611898017,
          0.0015193719929095975,
          0.0010256410256410256,
          0.000832408435072142,
          0.0007358351729212656,
          0.0014449260864732689,
          0.0010855144132191532,
          0.001033858878263117,
          0.000576241134751773,
          0.0014926446786318022,
          0.0008726500104338588,
          0.0007074864934396708,
          0.0005297278208006458,
          0.006412997007268063,
          0.0005449591280653951,
          0.0009900990099009901,
          0.0010857763300760044,
          0.0013280212483399733,
          0.00041425020712510354,
          0.002386634844868735,
          0.002421307506053269,
          0.0008771735378593799,
          0.0008361314108894594,
          0.0007587253414264037,
          0.002207505518763797,
          0.0020408163265306124,
          0.002506265664160401,
          0.002277904328018223,
          0.0041841004184100415,
          0.004132231404958678,
          0.006535947712418301,
          0.004424778761061947,
          0.004246284501061571,
          0.00303951367781155,
          0.0024691358024691358,
          0.001937984496124031,
          0.0031847133757961785,
          0.0049504950495049506,
          0.0011723329425556857,
          0.00065302568567697,
          0.0005165289256198347,
          0.00013958682300390843,
          0.00019138755980861245,
          0.001953125,
          0.000258158896800981,
          0.0005338705615713926,
          0.0002791931318489565,
          0.0010138941043935411,
          0.001584786053882726,
          0.00020781379883624273,
          0.0011627906976744186,
          0.00032829940906106366,
          0.0017739483020780538,
          0.0006732306656568207,
          0.00025025025025025025,
          0.00046809174598221254,
          0.000529567519858782,
          0.0004350348027842227,
          0.0007606490872210953,
          0.0005369127516778523,
          0.0009428032683846638,
          0.0011686554311723459,
          0.0013024790517952502,
          0.0007365089475884309,
          0.0011187199132144552,
          0.0007587253414264037,
          0.0003312355084465055,
          0.0017327418907679513,
          0.0013965505202150688,
          0.0031365988812797323,
          0.00055005500550055,
          0.0005405405405405405,
          0.0004010159069643096,
          0.0007558578987150416,
          0.0007782101167315176,
          0.008174386920980926,
          0.011834319526627219,
          0.011111111111111112,
          0.006622516556291391,
          0.004835589941972921,
          0.004568414797206953,
          0.005263157894736842,
          0.0016486810551558752,
          0.0013308490817141336,
          0.0007990411506192569,
          0.0003695491500369549,
          0.001215066828675577,
          0.0029365700861393894,
          0.0021116536887950377,
          0.0008288701861769957,
          0.0008745080891998251,
          0.0009282896263634254,
          0.0024752475247524753,
          0.00030429555578834997,
          0.000496765379969065,
          0.0005986669682174359,
          0.0008731643703577706,
          0.0006934973069187914,
          0.0003282036321201955,
          0.0005076464242654991,
          0.0006097412258237604,
          0.0012360939431396785,
          0.0016420361247947454,
          0.0004460966542750929,
          0.0003837298541826554,
          0.0006752194463200541,
          0.00008656135035706557,
          0.00039478878799842083,
          0.00099601593625498,
          0.0002891949535480606,
          0.00013070186903672723,
          0.0004652858993221916,
          0.0006010677792313404,
          0.00030805421754228745,
          0.0006814148073022312,
          0.006216696269982238,
          0.0026748184944593045,
          0.0008045052292839903,
          0.0019259576289321636,
          0.002514860539551898,
          0.0013961605584642235,
          0.0008103727714748784,
          0.0019749835418038184,
          0.0006808421493662931,
          0.0026873693639892504,
          0.0007150518412584912,
          0.000975609756097561,
          0.0005249343832020997,
          0.0016815200941651253,
          0.002165841584158416,
          0.0008203152863970326,
          0.000446927374301676,
          0.00024279880807857851,
          0.00035104963841887243,
          0.0002740176467364498,
          0.0010435078901974146,
          0.0009245562130177514,
          0.0013795640577577485,
          0.00023977940294928664,
          0.0006302468046487004,
          0.000637213254035684,
          0.0005263449498587179,
          0.0007313951362223441,
          0.0005957980558168705,
          0.0003033026286227814,
          0.0005135206222366954,
          0.0010107074952466727,
          0.0005221772757943707,
          0.00038438690288989064,
          0.0004061967352666225,
          0.0004705681040383299,
          0.00031735956839098697,
          0.000264417802631801,
          0.00048293600163263527,
          0.0003581341212284,
          0.0023094688221709007,
          0.0011061946902654867,
          0.00044863167339614175,
          0.0005356186395286556,
          0.0026997840172786176
         ],
         "yaxis": "y"
        }
       ],
       "layout": {
        "legend": {
         "tracegroupgap": 0
        },
        "template": {
         "data": {
          "bar": [
           {
            "error_x": {
             "color": "#2a3f5f"
            },
            "error_y": {
             "color": "#2a3f5f"
            },
            "marker": {
             "line": {
              "color": "#E5ECF6",
              "width": 0.5
             }
            },
            "type": "bar"
           }
          ],
          "barpolar": [
           {
            "marker": {
             "line": {
              "color": "#E5ECF6",
              "width": 0.5
             }
            },
            "type": "barpolar"
           }
          ],
          "carpet": [
           {
            "aaxis": {
             "endlinecolor": "#2a3f5f",
             "gridcolor": "white",
             "linecolor": "white",
             "minorgridcolor": "white",
             "startlinecolor": "#2a3f5f"
            },
            "baxis": {
             "endlinecolor": "#2a3f5f",
             "gridcolor": "white",
             "linecolor": "white",
             "minorgridcolor": "white",
             "startlinecolor": "#2a3f5f"
            },
            "type": "carpet"
           }
          ],
          "choropleth": [
           {
            "colorbar": {
             "outlinewidth": 0,
             "ticks": ""
            },
            "type": "choropleth"
           }
          ],
          "contour": [
           {
            "colorbar": {
             "outlinewidth": 0,
             "ticks": ""
            },
            "colorscale": [
             [
              0,
              "#0d0887"
             ],
             [
              0.1111111111111111,
              "#46039f"
             ],
             [
              0.2222222222222222,
              "#7201a8"
             ],
             [
              0.3333333333333333,
              "#9c179e"
             ],
             [
              0.4444444444444444,
              "#bd3786"
             ],
             [
              0.5555555555555556,
              "#d8576b"
             ],
             [
              0.6666666666666666,
              "#ed7953"
             ],
             [
              0.7777777777777778,
              "#fb9f3a"
             ],
             [
              0.8888888888888888,
              "#fdca26"
             ],
             [
              1,
              "#f0f921"
             ]
            ],
            "type": "contour"
           }
          ],
          "contourcarpet": [
           {
            "colorbar": {
             "outlinewidth": 0,
             "ticks": ""
            },
            "type": "contourcarpet"
           }
          ],
          "heatmap": [
           {
            "colorbar": {
             "outlinewidth": 0,
             "ticks": ""
            },
            "colorscale": [
             [
              0,
              "#0d0887"
             ],
             [
              0.1111111111111111,
              "#46039f"
             ],
             [
              0.2222222222222222,
              "#7201a8"
             ],
             [
              0.3333333333333333,
              "#9c179e"
             ],
             [
              0.4444444444444444,
              "#bd3786"
             ],
             [
              0.5555555555555556,
              "#d8576b"
             ],
             [
              0.6666666666666666,
              "#ed7953"
             ],
             [
              0.7777777777777778,
              "#fb9f3a"
             ],
             [
              0.8888888888888888,
              "#fdca26"
             ],
             [
              1,
              "#f0f921"
             ]
            ],
            "type": "heatmap"
           }
          ],
          "heatmapgl": [
           {
            "colorbar": {
             "outlinewidth": 0,
             "ticks": ""
            },
            "colorscale": [
             [
              0,
              "#0d0887"
             ],
             [
              0.1111111111111111,
              "#46039f"
             ],
             [
              0.2222222222222222,
              "#7201a8"
             ],
             [
              0.3333333333333333,
              "#9c179e"
             ],
             [
              0.4444444444444444,
              "#bd3786"
             ],
             [
              0.5555555555555556,
              "#d8576b"
             ],
             [
              0.6666666666666666,
              "#ed7953"
             ],
             [
              0.7777777777777778,
              "#fb9f3a"
             ],
             [
              0.8888888888888888,
              "#fdca26"
             ],
             [
              1,
              "#f0f921"
             ]
            ],
            "type": "heatmapgl"
           }
          ],
          "histogram": [
           {
            "marker": {
             "colorbar": {
              "outlinewidth": 0,
              "ticks": ""
             }
            },
            "type": "histogram"
           }
          ],
          "histogram2d": [
           {
            "colorbar": {
             "outlinewidth": 0,
             "ticks": ""
            },
            "colorscale": [
             [
              0,
              "#0d0887"
             ],
             [
              0.1111111111111111,
              "#46039f"
             ],
             [
              0.2222222222222222,
              "#7201a8"
             ],
             [
              0.3333333333333333,
              "#9c179e"
             ],
             [
              0.4444444444444444,
              "#bd3786"
             ],
             [
              0.5555555555555556,
              "#d8576b"
             ],
             [
              0.6666666666666666,
              "#ed7953"
             ],
             [
              0.7777777777777778,
              "#fb9f3a"
             ],
             [
              0.8888888888888888,
              "#fdca26"
             ],
             [
              1,
              "#f0f921"
             ]
            ],
            "type": "histogram2d"
           }
          ],
          "histogram2dcontour": [
           {
            "colorbar": {
             "outlinewidth": 0,
             "ticks": ""
            },
            "colorscale": [
             [
              0,
              "#0d0887"
             ],
             [
              0.1111111111111111,
              "#46039f"
             ],
             [
              0.2222222222222222,
              "#7201a8"
             ],
             [
              0.3333333333333333,
              "#9c179e"
             ],
             [
              0.4444444444444444,
              "#bd3786"
             ],
             [
              0.5555555555555556,
              "#d8576b"
             ],
             [
              0.6666666666666666,
              "#ed7953"
             ],
             [
              0.7777777777777778,
              "#fb9f3a"
             ],
             [
              0.8888888888888888,
              "#fdca26"
             ],
             [
              1,
              "#f0f921"
             ]
            ],
            "type": "histogram2dcontour"
           }
          ],
          "mesh3d": [
           {
            "colorbar": {
             "outlinewidth": 0,
             "ticks": ""
            },
            "type": "mesh3d"
           }
          ],
          "parcoords": [
           {
            "line": {
             "colorbar": {
              "outlinewidth": 0,
              "ticks": ""
             }
            },
            "type": "parcoords"
           }
          ],
          "pie": [
           {
            "automargin": true,
            "type": "pie"
           }
          ],
          "scatter": [
           {
            "marker": {
             "colorbar": {
              "outlinewidth": 0,
              "ticks": ""
             }
            },
            "type": "scatter"
           }
          ],
          "scatter3d": [
           {
            "line": {
             "colorbar": {
              "outlinewidth": 0,
              "ticks": ""
             }
            },
            "marker": {
             "colorbar": {
              "outlinewidth": 0,
              "ticks": ""
             }
            },
            "type": "scatter3d"
           }
          ],
          "scattercarpet": [
           {
            "marker": {
             "colorbar": {
              "outlinewidth": 0,
              "ticks": ""
             }
            },
            "type": "scattercarpet"
           }
          ],
          "scattergeo": [
           {
            "marker": {
             "colorbar": {
              "outlinewidth": 0,
              "ticks": ""
             }
            },
            "type": "scattergeo"
           }
          ],
          "scattergl": [
           {
            "marker": {
             "colorbar": {
              "outlinewidth": 0,
              "ticks": ""
             }
            },
            "type": "scattergl"
           }
          ],
          "scattermapbox": [
           {
            "marker": {
             "colorbar": {
              "outlinewidth": 0,
              "ticks": ""
             }
            },
            "type": "scattermapbox"
           }
          ],
          "scatterpolar": [
           {
            "marker": {
             "colorbar": {
              "outlinewidth": 0,
              "ticks": ""
             }
            },
            "type": "scatterpolar"
           }
          ],
          "scatterpolargl": [
           {
            "marker": {
             "colorbar": {
              "outlinewidth": 0,
              "ticks": ""
             }
            },
            "type": "scatterpolargl"
           }
          ],
          "scatterternary": [
           {
            "marker": {
             "colorbar": {
              "outlinewidth": 0,
              "ticks": ""
             }
            },
            "type": "scatterternary"
           }
          ],
          "surface": [
           {
            "colorbar": {
             "outlinewidth": 0,
             "ticks": ""
            },
            "colorscale": [
             [
              0,
              "#0d0887"
             ],
             [
              0.1111111111111111,
              "#46039f"
             ],
             [
              0.2222222222222222,
              "#7201a8"
             ],
             [
              0.3333333333333333,
              "#9c179e"
             ],
             [
              0.4444444444444444,
              "#bd3786"
             ],
             [
              0.5555555555555556,
              "#d8576b"
             ],
             [
              0.6666666666666666,
              "#ed7953"
             ],
             [
              0.7777777777777778,
              "#fb9f3a"
             ],
             [
              0.8888888888888888,
              "#fdca26"
             ],
             [
              1,
              "#f0f921"
             ]
            ],
            "type": "surface"
           }
          ],
          "table": [
           {
            "cells": {
             "fill": {
              "color": "#EBF0F8"
             },
             "line": {
              "color": "white"
             }
            },
            "header": {
             "fill": {
              "color": "#C8D4E3"
             },
             "line": {
              "color": "white"
             }
            },
            "type": "table"
           }
          ]
         },
         "layout": {
          "annotationdefaults": {
           "arrowcolor": "#2a3f5f",
           "arrowhead": 0,
           "arrowwidth": 1
          },
          "autotypenumbers": "strict",
          "coloraxis": {
           "colorbar": {
            "outlinewidth": 0,
            "ticks": ""
           }
          },
          "colorscale": {
           "diverging": [
            [
             0,
             "#8e0152"
            ],
            [
             0.1,
             "#c51b7d"
            ],
            [
             0.2,
             "#de77ae"
            ],
            [
             0.3,
             "#f1b6da"
            ],
            [
             0.4,
             "#fde0ef"
            ],
            [
             0.5,
             "#f7f7f7"
            ],
            [
             0.6,
             "#e6f5d0"
            ],
            [
             0.7,
             "#b8e186"
            ],
            [
             0.8,
             "#7fbc41"
            ],
            [
             0.9,
             "#4d9221"
            ],
            [
             1,
             "#276419"
            ]
           ],
           "sequential": [
            [
             0,
             "#0d0887"
            ],
            [
             0.1111111111111111,
             "#46039f"
            ],
            [
             0.2222222222222222,
             "#7201a8"
            ],
            [
             0.3333333333333333,
             "#9c179e"
            ],
            [
             0.4444444444444444,
             "#bd3786"
            ],
            [
             0.5555555555555556,
             "#d8576b"
            ],
            [
             0.6666666666666666,
             "#ed7953"
            ],
            [
             0.7777777777777778,
             "#fb9f3a"
            ],
            [
             0.8888888888888888,
             "#fdca26"
            ],
            [
             1,
             "#f0f921"
            ]
           ],
           "sequentialminus": [
            [
             0,
             "#0d0887"
            ],
            [
             0.1111111111111111,
             "#46039f"
            ],
            [
             0.2222222222222222,
             "#7201a8"
            ],
            [
             0.3333333333333333,
             "#9c179e"
            ],
            [
             0.4444444444444444,
             "#bd3786"
            ],
            [
             0.5555555555555556,
             "#d8576b"
            ],
            [
             0.6666666666666666,
             "#ed7953"
            ],
            [
             0.7777777777777778,
             "#fb9f3a"
            ],
            [
             0.8888888888888888,
             "#fdca26"
            ],
            [
             1,
             "#f0f921"
            ]
           ]
          },
          "colorway": [
           "#636efa",
           "#EF553B",
           "#00cc96",
           "#ab63fa",
           "#FFA15A",
           "#19d3f3",
           "#FF6692",
           "#B6E880",
           "#FF97FF",
           "#FECB52"
          ],
          "font": {
           "color": "#2a3f5f"
          },
          "geo": {
           "bgcolor": "white",
           "lakecolor": "white",
           "landcolor": "#E5ECF6",
           "showlakes": true,
           "showland": true,
           "subunitcolor": "white"
          },
          "hoverlabel": {
           "align": "left"
          },
          "hovermode": "closest",
          "mapbox": {
           "style": "light"
          },
          "paper_bgcolor": "white",
          "plot_bgcolor": "#E5ECF6",
          "polar": {
           "angularaxis": {
            "gridcolor": "white",
            "linecolor": "white",
            "ticks": ""
           },
           "bgcolor": "#E5ECF6",
           "radialaxis": {
            "gridcolor": "white",
            "linecolor": "white",
            "ticks": ""
           }
          },
          "scene": {
           "xaxis": {
            "backgroundcolor": "#E5ECF6",
            "gridcolor": "white",
            "gridwidth": 2,
            "linecolor": "white",
            "showbackground": true,
            "ticks": "",
            "zerolinecolor": "white"
           },
           "yaxis": {
            "backgroundcolor": "#E5ECF6",
            "gridcolor": "white",
            "gridwidth": 2,
            "linecolor": "white",
            "showbackground": true,
            "ticks": "",
            "zerolinecolor": "white"
           },
           "zaxis": {
            "backgroundcolor": "#E5ECF6",
            "gridcolor": "white",
            "gridwidth": 2,
            "linecolor": "white",
            "showbackground": true,
            "ticks": "",
            "zerolinecolor": "white"
           }
          },
          "shapedefaults": {
           "line": {
            "color": "#2a3f5f"
           }
          },
          "ternary": {
           "aaxis": {
            "gridcolor": "white",
            "linecolor": "white",
            "ticks": ""
           },
           "baxis": {
            "gridcolor": "white",
            "linecolor": "white",
            "ticks": ""
           },
           "bgcolor": "#E5ECF6",
           "caxis": {
            "gridcolor": "white",
            "linecolor": "white",
            "ticks": ""
           }
          },
          "title": {
           "x": 0.05
          },
          "xaxis": {
           "automargin": true,
           "gridcolor": "white",
           "linecolor": "white",
           "ticks": "",
           "title": {
            "standoff": 15
           },
           "zerolinecolor": "white",
           "zerolinewidth": 2
          },
          "yaxis": {
           "automargin": true,
           "gridcolor": "white",
           "linecolor": "white",
           "ticks": "",
           "title": {
            "standoff": 15
           },
           "zerolinecolor": "white",
           "zerolinewidth": 2
          }
         }
        },
        "title": {
         "text": "Artist vs active engagement"
        },
        "xaxis": {
         "anchor": "y",
         "domain": [
          0,
          1
         ],
         "title": {
          "text": "ArtistName"
         }
        },
        "yaxis": {
         "anchor": "x",
         "domain": [
          0,
          1
         ],
         "title": {
          "text": "ActiveEng"
         }
        }
       }
      }
     },
     "metadata": {}
    }
   ],
   "source": [
    "px.scatter(tracks_foll, \"ArtistName\", \"ActiveEng\", title=\"Artist vs active engagement\") \n"
   ]
  },
  {
   "cell_type": "code",
   "execution_count": 231,
   "metadata": {},
   "outputs": [
    {
     "output_type": "display_data",
     "data": {
      "application/vnd.plotly.v1+json": {
       "config": {
        "plotlyServerURL": "https://plot.ly"
       },
       "data": [
        {
         "hovertemplate": "Key=%{x}<br>ActiveEng=%{y}<extra></extra>",
         "legendgroup": "",
         "marker": {
          "color": "#636efa",
          "symbol": "circle"
         },
         "mode": "markers",
         "name": "",
         "orientation": "v",
         "showlegend": false,
         "type": "scatter",
         "x": [
          "B♭ min",
          "G min",
          "A min",
          "G♭ min",
          "A min",
          "F min",
          "A min",
          "A min",
          "E♭ min",
          "G maj",
          "C min",
          "A min",
          "G♭ min",
          "C min",
          "D♭ maj",
          "G min",
          "B♭ min",
          "A♭ min",
          "A♯ maj",
          "D min",
          "A♭ min",
          "G min",
          "G min",
          "A♭ min",
          "G min",
          "C min",
          "F min",
          "A min",
          "A min",
          "A maj",
          "A min",
          "C maj",
          "F maj",
          "A min",
          "A min",
          "A min",
          "F min",
          "A min",
          "A maj",
          "E min",
          "B min",
          "B min",
          "C min",
          "C min",
          "D min",
          "A maj",
          "D min",
          "G♯ min",
          "G maj",
          "D maj",
          "G♯ maj",
          "C maj",
          "F♯ maj",
          "C maj",
          "E min",
          "C maj",
          "A maj",
          "G maj",
          "A min",
          "B♭ maj",
          "A min",
          "B♭ min",
          "G♭ maj",
          "G♭ min",
          "D♭ min",
          "F♯ min",
          "A maj",
          "D♭ min",
          "G♭ min",
          "F min",
          "C maj",
          "A♭ min",
          "F min",
          "E♭ min",
          "A maj",
          "A maj",
          "F min",
          "D♭ min",
          "A maj",
          "F min",
          "B♭ maj",
          "G maj",
          "G maj",
          "G♭ min",
          "A min",
          "E min",
          "A min",
          "G♯ min",
          "B min",
          "G♭ min",
          "A maj",
          "A maj",
          "A min",
          "A min",
          "A min",
          "A min",
          "B♭ min",
          "C min",
          "B min",
          "E maj",
          "E min",
          "E min",
          "A♭ maj",
          "A min",
          "A min",
          "D♯ min",
          "C min",
          "D min",
          "G min",
          "A♯ maj",
          "A min",
          "B maj",
          "C maj",
          "E♭ min",
          "G♭ maj",
          "F min",
          "F min",
          "G♭ min",
          "E♭ min",
          "E♭ min",
          "G maj",
          "A min",
          "A min",
          "C maj",
          "F min",
          "C maj",
          "A♯ min",
          "F maj",
          "A♯ min",
          "A min",
          "E maj",
          "F maj",
          "A♭ maj",
          "A♭ maj",
          "E min",
          "E♭ min",
          "C min",
          "C min",
          "C min",
          "C min",
          "C min",
          "C min",
          "C min",
          "E min",
          "C maj",
          "D♯ min",
          "G min",
          "A min",
          "A min",
          "A min",
          "D min",
          "C min",
          "E maj",
          "A min",
          "G min",
          "G min",
          "G maj",
          "B min",
          "A min",
          "G min",
          "B min",
          "A maj",
          "B♭ min",
          "D♭ min",
          "D maj",
          "D♭ maj",
          "A min",
          "F min",
          "A maj",
          "G maj",
          "C min",
          "C maj",
          "A♯ min",
          "A min",
          "D♯ maj",
          "A maj",
          "C min",
          "D maj",
          "D min",
          "B min",
          "G♭ min",
          "G♭ min",
          "G min",
          "A♭ maj",
          "D min",
          "B min",
          "A♭ maj",
          "G♭ maj",
          "A♭ min",
          "E maj",
          "D♭ min",
          "D♭ min",
          "B♭ min",
          "G♭ min",
          "B♭ min",
          "E maj",
          "G♭ min",
          "E♭ min",
          "D maj",
          "D♭ min",
          "B min",
          "E maj",
          "D♭ min",
          "A♭ min",
          "B min",
          "E♭ min",
          "G♭ min",
          "A♭ min",
          "D min",
          "D maj",
          "D maj",
          "D min",
          "A♯ min",
          "D♭ maj",
          "D♭ maj",
          "D♭ min",
          "A♭ min",
          "F min",
          "F min",
          "F min",
          "F min",
          "F min",
          "F min",
          "C maj",
          "C min",
          "C min",
          "G maj",
          "C maj",
          "A♭ maj",
          "C maj",
          "F♯ min",
          "B♭ maj",
          "E♭ min",
          "D♭ maj",
          "E♭ min",
          "A min",
          "E♭ min",
          "E♭ maj",
          "C maj",
          "C min",
          "C maj",
          "C min",
          "G min",
          "E min",
          "G♯ min",
          "C♯ min",
          "D♯ min",
          "A min",
          "F min",
          "B♭ maj",
          "E♭ min",
          "G min",
          "C min",
          "A min",
          "C♯ min",
          "E min",
          "A maj",
          "F♯ min",
          "F♯ min",
          "D maj",
          "G min",
          "G♭ min",
          "G♯ min",
          "G maj",
          "E min",
          "A♭ min",
          "A min",
          "B min",
          "D min",
          "A min",
          "D♭ min",
          "D maj",
          "A min",
          "G maj",
          "B min",
          "B min",
          "D♭ min",
          "C min",
          "A min",
          "B min",
          "C min",
          "D maj",
          "A min",
          "A min",
          "C maj",
          "G maj",
          "D♯ min",
          "C♯ min",
          "D♯ maj",
          "E min",
          "D min",
          "D♯ maj",
          "A min",
          "A maj",
          "A maj",
          "C maj",
          "A min",
          "C♯ maj",
          "F♯ min",
          "E maj",
          "C♯ min",
          "C min",
          "E min",
          "D♯ maj",
          "E maj",
          "B min",
          "A♯ min",
          "B min",
          "A♯ min",
          "C min",
          "C min",
          "C maj",
          "G♯ min",
          "G♯ min",
          "E min",
          "G min",
          "C min",
          "C min",
          "F min",
          "B♭ min",
          "E min",
          "E min",
          "B♭ min",
          "F min",
          "A maj",
          "D min",
          "E min",
          "G♯ maj",
          "E maj"
         ],
         "xaxis": "x",
         "y": [
          0.0012143290831815423,
          0.0004421995990723635,
          0.00032739259572687655,
          0.00031111270656088836,
          0.00005618948516917658,
          0.00032955316467965496,
          0.0005925304697399247,
          0.00010993037742762916,
          0.00021282029454328764,
          0.00006292474200855777,
          0.00017094017094017094,
          0.00015477480266212662,
          0.000044031526573026284,
          0.00009616309260505818,
          0.00037415036687522086,
          0.00043155469407160884,
          0.0003351880404907153,
          0.0004886139891489997,
          0.00021168501270110075,
          0.0002756339581036384,
          0.0006172077521293668,
          0.00010975342064827688,
          0.00010889450300548829,
          0.00010109179134654265,
          0.00012639828098337863,
          0.0017917369308600337,
          0.002293720166139731,
          0.0012298060260495277,
          0.0014512283611485435,
          0.0017417267977108733,
          0.0005014206919605549,
          0.00025230225810521004,
          0.00016170763260025875,
          0.0017452006980802793,
          0.0011824990145841545,
          0.0012239902080783353,
          0.0006294256490952006,
          0.00015026296018031557,
          0.00030679552078539653,
          0.0005414185165132648,
          0.00022933149868134388,
          0.0006586169045005489,
          0.0009786208973200843,
          0.00037645287280598563,
          0.00029251170046801873,
          0.0006919457514530861,
          0.0009810104407539765,
          0.0009296560272699101,
          0.0006453000645300065,
          0.0004349244318799609,
          0.00009837678307919331,
          0.0006611533203343867,
          0.0004452496468709697,
          0.0006423913220250777,
          0.0008905644694462173,
          0.0006144058982966237,
          0.0004973108983542632,
          0.0004909659220858428,
          0.00029368873045450863,
          0.0006110205579402804,
          0.0005137581806110297,
          0.0007017406111522777,
          0.0008733303303027238,
          0.0005893003958767982,
          0.0011926306519945361,
          0.00013663068725235688,
          0.000691426313709996,
          0.0004702089071001545,
          0.00022799817601459188,
          0.000164887258337112,
          0.0002821758896378743,
          0.0003420313813792415,
          0.0003762227238525207,
          0.00037054191755442334,
          0.0003570790930191037,
          0.00020464545175483476,
          0.0006501950585175553,
          0.0002536783358701167,
          0.0004056466006814863,
          0.002355712603062426,
          0.0002699055330634278,
          0.0026352390015372228,
          0.0007442691277165823,
          0.002404983441097619,
          0.0012004466778336126,
          0.0005319148936170213,
          0.000507292327203551,
          0.0007320048800325336,
          0.0012276785714285714,
          0.0019000570017100513,
          0.0041841004184100415,
          0.0029850746268656717,
          0.0007937767899666614,
          0.0006606592765012714,
          0.0005057695189569909,
          0.0007637913617660827,
          0.0005843425415978847,
          0.0009049773755656109,
          0.0006872852233676976,
          0.00044306601683650863,
          0.0015467904098994587,
          0.000416571991214118,
          0.0003326901324106727,
          0.0005861814104034457,
          0.0005360070626812965,
          0.0008164217401446233,
          0.00032451728054518905,
          0.00033025099075297226,
          0.00032539977686872444,
          0.0004684418145956607,
          0.0003647471846076688,
          0.00033921302578018993,
          0.0006584362139917696,
          0.0003828300713021008,
          0.0003186404673393521,
          0.002331002331002331,
          0.0015290519877675841,
          0.006153846153846154,
          0.003575685339690107,
          0.0015337423312883436,
          0.0007423904974016332,
          0.005,
          0.002770083102493075,
          0.004106776180698152,
          0.0020408163265306124,
          0.0017211703958691911,
          0.0014144271570014145,
          0.0018298261665141812,
          0.0007034822370735139,
          0.001937046004842615,
          0.0007785341830822711,
          0.00048466049532302623,
          0.00032990856819681405,
          0.00035119210207983765,
          0.000351493848857645,
          0.0020107238605898124,
          0.0024905123339658444,
          0.006571318129107074,
          0.005397070161912105,
          0.0028680688336520078,
          0.002292263610315186,
          0.0030543677458766036,
          0.002638522427440633,
          0.0018072289156626507,
          0.0037267080745341614,
          0.0008021926599371615,
          0.0005305807447424271,
          0.000859106529209622,
          0.0006397952655150352,
          0.0010905125408942203,
          0.001243008079552517,
          0.0008445945945945946,
          0.001401541695865452,
          0.0011799410029498525,
          0.0015298317185109638,
          0.0004578754578754579,
          0.001436265709156194,
          0.000403105666263561,
          0.0008701510133048897,
          0.00042410870067052125,
          0.0004692632566870014,
          0.0023521505376344087,
          0.0010423905489923557,
          0.001828710758914965,
          0.0008726003490401396,
          0.0025252525252525255,
          0.0005709223348754799,
          0.00014898688915375446,
          0.00024338006230529595,
          0.0028328611898017,
          0.0015193719929095975,
          0.0010256410256410256,
          0.000832408435072142,
          0.0007358351729212656,
          0.0014449260864732689,
          0.0010855144132191532,
          0.001033858878263117,
          0.000576241134751773,
          0.0014926446786318022,
          0.0008726500104338588,
          0.0007074864934396708,
          0.0005297278208006458,
          0.006412997007268063,
          0.0005449591280653951,
          0.0009900990099009901,
          0.0010857763300760044,
          0.0013280212483399733,
          0.00041425020712510354,
          0.002386634844868735,
          0.002421307506053269,
          0.0008771735378593799,
          0.0008361314108894594,
          0.0007587253414264037,
          0.002207505518763797,
          0.0020408163265306124,
          0.002506265664160401,
          0.002277904328018223,
          0.0041841004184100415,
          0.004132231404958678,
          0.006535947712418301,
          0.004424778761061947,
          0.004246284501061571,
          0.00303951367781155,
          0.0024691358024691358,
          0.001937984496124031,
          0.0031847133757961785,
          0.0049504950495049506,
          0.0011723329425556857,
          0.00065302568567697,
          0.0005165289256198347,
          0.00013958682300390843,
          0.00019138755980861245,
          0.001953125,
          0.000258158896800981,
          0.0005338705615713926,
          0.0002791931318489565,
          0.0010138941043935411,
          0.001584786053882726,
          0.00020781379883624273,
          0.0011627906976744186,
          0.00032829940906106366,
          0.0017739483020780538,
          0.0006732306656568207,
          0.00025025025025025025,
          0.00046809174598221254,
          0.000529567519858782,
          0.0004350348027842227,
          0.0007606490872210953,
          0.0005369127516778523,
          0.0009428032683846638,
          0.0011686554311723459,
          0.0013024790517952502,
          0.0007365089475884309,
          0.0011187199132144552,
          0.0007587253414264037,
          0.0003312355084465055,
          0.0017327418907679513,
          0.0013965505202150688,
          0.0031365988812797323,
          0.00055005500550055,
          0.0005405405405405405,
          0.0004010159069643096,
          0.0007558578987150416,
          0.0007782101167315176,
          0.008174386920980926,
          0.011834319526627219,
          0.011111111111111112,
          0.006622516556291391,
          0.004835589941972921,
          0.004568414797206953,
          0.005263157894736842,
          0.0016486810551558752,
          0.0013308490817141336,
          0.0007990411506192569,
          0.0003695491500369549,
          0.001215066828675577,
          0.0029365700861393894,
          0.0021116536887950377,
          0.0008288701861769957,
          0.0008745080891998251,
          0.0009282896263634254,
          0.0024752475247524753,
          0.00030429555578834997,
          0.000496765379969065,
          0.0005986669682174359,
          0.0008731643703577706,
          0.0006934973069187914,
          0.0003282036321201955,
          0.0005076464242654991,
          0.0006097412258237604,
          0.0012360939431396785,
          0.0016420361247947454,
          0.0004460966542750929,
          0.0003837298541826554,
          0.0006752194463200541,
          0.00008656135035706557,
          0.00039478878799842083,
          0.00099601593625498,
          0.0002891949535480606,
          0.00013070186903672723,
          0.0004652858993221916,
          0.0006010677792313404,
          0.00030805421754228745,
          0.0006814148073022312,
          0.006216696269982238,
          0.0026748184944593045,
          0.0008045052292839903,
          0.0019259576289321636,
          0.002514860539551898,
          0.0013961605584642235,
          0.0008103727714748784,
          0.0019749835418038184,
          0.0006808421493662931,
          0.0026873693639892504,
          0.0007150518412584912,
          0.000975609756097561,
          0.0005249343832020997,
          0.0016815200941651253,
          0.002165841584158416,
          0.0008203152863970326,
          0.000446927374301676,
          0.00024279880807857851,
          0.00035104963841887243,
          0.0002740176467364498,
          0.0010435078901974146,
          0.0009245562130177514,
          0.0013795640577577485,
          0.00023977940294928664,
          0.0006302468046487004,
          0.000637213254035684,
          0.0005263449498587179,
          0.0007313951362223441,
          0.0005957980558168705,
          0.0003033026286227814,
          0.0005135206222366954,
          0.0010107074952466727,
          0.0005221772757943707,
          0.00038438690288989064,
          0.0004061967352666225,
          0.0004705681040383299,
          0.00031735956839098697,
          0.000264417802631801,
          0.00048293600163263527,
          0.0003581341212284,
          0.0023094688221709007,
          0.0011061946902654867,
          0.00044863167339614175,
          0.0005356186395286556,
          0.0026997840172786176
         ],
         "yaxis": "y"
        }
       ],
       "layout": {
        "legend": {
         "tracegroupgap": 0
        },
        "template": {
         "data": {
          "bar": [
           {
            "error_x": {
             "color": "#2a3f5f"
            },
            "error_y": {
             "color": "#2a3f5f"
            },
            "marker": {
             "line": {
              "color": "#E5ECF6",
              "width": 0.5
             }
            },
            "type": "bar"
           }
          ],
          "barpolar": [
           {
            "marker": {
             "line": {
              "color": "#E5ECF6",
              "width": 0.5
             }
            },
            "type": "barpolar"
           }
          ],
          "carpet": [
           {
            "aaxis": {
             "endlinecolor": "#2a3f5f",
             "gridcolor": "white",
             "linecolor": "white",
             "minorgridcolor": "white",
             "startlinecolor": "#2a3f5f"
            },
            "baxis": {
             "endlinecolor": "#2a3f5f",
             "gridcolor": "white",
             "linecolor": "white",
             "minorgridcolor": "white",
             "startlinecolor": "#2a3f5f"
            },
            "type": "carpet"
           }
          ],
          "choropleth": [
           {
            "colorbar": {
             "outlinewidth": 0,
             "ticks": ""
            },
            "type": "choropleth"
           }
          ],
          "contour": [
           {
            "colorbar": {
             "outlinewidth": 0,
             "ticks": ""
            },
            "colorscale": [
             [
              0,
              "#0d0887"
             ],
             [
              0.1111111111111111,
              "#46039f"
             ],
             [
              0.2222222222222222,
              "#7201a8"
             ],
             [
              0.3333333333333333,
              "#9c179e"
             ],
             [
              0.4444444444444444,
              "#bd3786"
             ],
             [
              0.5555555555555556,
              "#d8576b"
             ],
             [
              0.6666666666666666,
              "#ed7953"
             ],
             [
              0.7777777777777778,
              "#fb9f3a"
             ],
             [
              0.8888888888888888,
              "#fdca26"
             ],
             [
              1,
              "#f0f921"
             ]
            ],
            "type": "contour"
           }
          ],
          "contourcarpet": [
           {
            "colorbar": {
             "outlinewidth": 0,
             "ticks": ""
            },
            "type": "contourcarpet"
           }
          ],
          "heatmap": [
           {
            "colorbar": {
             "outlinewidth": 0,
             "ticks": ""
            },
            "colorscale": [
             [
              0,
              "#0d0887"
             ],
             [
              0.1111111111111111,
              "#46039f"
             ],
             [
              0.2222222222222222,
              "#7201a8"
             ],
             [
              0.3333333333333333,
              "#9c179e"
             ],
             [
              0.4444444444444444,
              "#bd3786"
             ],
             [
              0.5555555555555556,
              "#d8576b"
             ],
             [
              0.6666666666666666,
              "#ed7953"
             ],
             [
              0.7777777777777778,
              "#fb9f3a"
             ],
             [
              0.8888888888888888,
              "#fdca26"
             ],
             [
              1,
              "#f0f921"
             ]
            ],
            "type": "heatmap"
           }
          ],
          "heatmapgl": [
           {
            "colorbar": {
             "outlinewidth": 0,
             "ticks": ""
            },
            "colorscale": [
             [
              0,
              "#0d0887"
             ],
             [
              0.1111111111111111,
              "#46039f"
             ],
             [
              0.2222222222222222,
              "#7201a8"
             ],
             [
              0.3333333333333333,
              "#9c179e"
             ],
             [
              0.4444444444444444,
              "#bd3786"
             ],
             [
              0.5555555555555556,
              "#d8576b"
             ],
             [
              0.6666666666666666,
              "#ed7953"
             ],
             [
              0.7777777777777778,
              "#fb9f3a"
             ],
             [
              0.8888888888888888,
              "#fdca26"
             ],
             [
              1,
              "#f0f921"
             ]
            ],
            "type": "heatmapgl"
           }
          ],
          "histogram": [
           {
            "marker": {
             "colorbar": {
              "outlinewidth": 0,
              "ticks": ""
             }
            },
            "type": "histogram"
           }
          ],
          "histogram2d": [
           {
            "colorbar": {
             "outlinewidth": 0,
             "ticks": ""
            },
            "colorscale": [
             [
              0,
              "#0d0887"
             ],
             [
              0.1111111111111111,
              "#46039f"
             ],
             [
              0.2222222222222222,
              "#7201a8"
             ],
             [
              0.3333333333333333,
              "#9c179e"
             ],
             [
              0.4444444444444444,
              "#bd3786"
             ],
             [
              0.5555555555555556,
              "#d8576b"
             ],
             [
              0.6666666666666666,
              "#ed7953"
             ],
             [
              0.7777777777777778,
              "#fb9f3a"
             ],
             [
              0.8888888888888888,
              "#fdca26"
             ],
             [
              1,
              "#f0f921"
             ]
            ],
            "type": "histogram2d"
           }
          ],
          "histogram2dcontour": [
           {
            "colorbar": {
             "outlinewidth": 0,
             "ticks": ""
            },
            "colorscale": [
             [
              0,
              "#0d0887"
             ],
             [
              0.1111111111111111,
              "#46039f"
             ],
             [
              0.2222222222222222,
              "#7201a8"
             ],
             [
              0.3333333333333333,
              "#9c179e"
             ],
             [
              0.4444444444444444,
              "#bd3786"
             ],
             [
              0.5555555555555556,
              "#d8576b"
             ],
             [
              0.6666666666666666,
              "#ed7953"
             ],
             [
              0.7777777777777778,
              "#fb9f3a"
             ],
             [
              0.8888888888888888,
              "#fdca26"
             ],
             [
              1,
              "#f0f921"
             ]
            ],
            "type": "histogram2dcontour"
           }
          ],
          "mesh3d": [
           {
            "colorbar": {
             "outlinewidth": 0,
             "ticks": ""
            },
            "type": "mesh3d"
           }
          ],
          "parcoords": [
           {
            "line": {
             "colorbar": {
              "outlinewidth": 0,
              "ticks": ""
             }
            },
            "type": "parcoords"
           }
          ],
          "pie": [
           {
            "automargin": true,
            "type": "pie"
           }
          ],
          "scatter": [
           {
            "marker": {
             "colorbar": {
              "outlinewidth": 0,
              "ticks": ""
             }
            },
            "type": "scatter"
           }
          ],
          "scatter3d": [
           {
            "line": {
             "colorbar": {
              "outlinewidth": 0,
              "ticks": ""
             }
            },
            "marker": {
             "colorbar": {
              "outlinewidth": 0,
              "ticks": ""
             }
            },
            "type": "scatter3d"
           }
          ],
          "scattercarpet": [
           {
            "marker": {
             "colorbar": {
              "outlinewidth": 0,
              "ticks": ""
             }
            },
            "type": "scattercarpet"
           }
          ],
          "scattergeo": [
           {
            "marker": {
             "colorbar": {
              "outlinewidth": 0,
              "ticks": ""
             }
            },
            "type": "scattergeo"
           }
          ],
          "scattergl": [
           {
            "marker": {
             "colorbar": {
              "outlinewidth": 0,
              "ticks": ""
             }
            },
            "type": "scattergl"
           }
          ],
          "scattermapbox": [
           {
            "marker": {
             "colorbar": {
              "outlinewidth": 0,
              "ticks": ""
             }
            },
            "type": "scattermapbox"
           }
          ],
          "scatterpolar": [
           {
            "marker": {
             "colorbar": {
              "outlinewidth": 0,
              "ticks": ""
             }
            },
            "type": "scatterpolar"
           }
          ],
          "scatterpolargl": [
           {
            "marker": {
             "colorbar": {
              "outlinewidth": 0,
              "ticks": ""
             }
            },
            "type": "scatterpolargl"
           }
          ],
          "scatterternary": [
           {
            "marker": {
             "colorbar": {
              "outlinewidth": 0,
              "ticks": ""
             }
            },
            "type": "scatterternary"
           }
          ],
          "surface": [
           {
            "colorbar": {
             "outlinewidth": 0,
             "ticks": ""
            },
            "colorscale": [
             [
              0,
              "#0d0887"
             ],
             [
              0.1111111111111111,
              "#46039f"
             ],
             [
              0.2222222222222222,
              "#7201a8"
             ],
             [
              0.3333333333333333,
              "#9c179e"
             ],
             [
              0.4444444444444444,
              "#bd3786"
             ],
             [
              0.5555555555555556,
              "#d8576b"
             ],
             [
              0.6666666666666666,
              "#ed7953"
             ],
             [
              0.7777777777777778,
              "#fb9f3a"
             ],
             [
              0.8888888888888888,
              "#fdca26"
             ],
             [
              1,
              "#f0f921"
             ]
            ],
            "type": "surface"
           }
          ],
          "table": [
           {
            "cells": {
             "fill": {
              "color": "#EBF0F8"
             },
             "line": {
              "color": "white"
             }
            },
            "header": {
             "fill": {
              "color": "#C8D4E3"
             },
             "line": {
              "color": "white"
             }
            },
            "type": "table"
           }
          ]
         },
         "layout": {
          "annotationdefaults": {
           "arrowcolor": "#2a3f5f",
           "arrowhead": 0,
           "arrowwidth": 1
          },
          "autotypenumbers": "strict",
          "coloraxis": {
           "colorbar": {
            "outlinewidth": 0,
            "ticks": ""
           }
          },
          "colorscale": {
           "diverging": [
            [
             0,
             "#8e0152"
            ],
            [
             0.1,
             "#c51b7d"
            ],
            [
             0.2,
             "#de77ae"
            ],
            [
             0.3,
             "#f1b6da"
            ],
            [
             0.4,
             "#fde0ef"
            ],
            [
             0.5,
             "#f7f7f7"
            ],
            [
             0.6,
             "#e6f5d0"
            ],
            [
             0.7,
             "#b8e186"
            ],
            [
             0.8,
             "#7fbc41"
            ],
            [
             0.9,
             "#4d9221"
            ],
            [
             1,
             "#276419"
            ]
           ],
           "sequential": [
            [
             0,
             "#0d0887"
            ],
            [
             0.1111111111111111,
             "#46039f"
            ],
            [
             0.2222222222222222,
             "#7201a8"
            ],
            [
             0.3333333333333333,
             "#9c179e"
            ],
            [
             0.4444444444444444,
             "#bd3786"
            ],
            [
             0.5555555555555556,
             "#d8576b"
            ],
            [
             0.6666666666666666,
             "#ed7953"
            ],
            [
             0.7777777777777778,
             "#fb9f3a"
            ],
            [
             0.8888888888888888,
             "#fdca26"
            ],
            [
             1,
             "#f0f921"
            ]
           ],
           "sequentialminus": [
            [
             0,
             "#0d0887"
            ],
            [
             0.1111111111111111,
             "#46039f"
            ],
            [
             0.2222222222222222,
             "#7201a8"
            ],
            [
             0.3333333333333333,
             "#9c179e"
            ],
            [
             0.4444444444444444,
             "#bd3786"
            ],
            [
             0.5555555555555556,
             "#d8576b"
            ],
            [
             0.6666666666666666,
             "#ed7953"
            ],
            [
             0.7777777777777778,
             "#fb9f3a"
            ],
            [
             0.8888888888888888,
             "#fdca26"
            ],
            [
             1,
             "#f0f921"
            ]
           ]
          },
          "colorway": [
           "#636efa",
           "#EF553B",
           "#00cc96",
           "#ab63fa",
           "#FFA15A",
           "#19d3f3",
           "#FF6692",
           "#B6E880",
           "#FF97FF",
           "#FECB52"
          ],
          "font": {
           "color": "#2a3f5f"
          },
          "geo": {
           "bgcolor": "white",
           "lakecolor": "white",
           "landcolor": "#E5ECF6",
           "showlakes": true,
           "showland": true,
           "subunitcolor": "white"
          },
          "hoverlabel": {
           "align": "left"
          },
          "hovermode": "closest",
          "mapbox": {
           "style": "light"
          },
          "paper_bgcolor": "white",
          "plot_bgcolor": "#E5ECF6",
          "polar": {
           "angularaxis": {
            "gridcolor": "white",
            "linecolor": "white",
            "ticks": ""
           },
           "bgcolor": "#E5ECF6",
           "radialaxis": {
            "gridcolor": "white",
            "linecolor": "white",
            "ticks": ""
           }
          },
          "scene": {
           "xaxis": {
            "backgroundcolor": "#E5ECF6",
            "gridcolor": "white",
            "gridwidth": 2,
            "linecolor": "white",
            "showbackground": true,
            "ticks": "",
            "zerolinecolor": "white"
           },
           "yaxis": {
            "backgroundcolor": "#E5ECF6",
            "gridcolor": "white",
            "gridwidth": 2,
            "linecolor": "white",
            "showbackground": true,
            "ticks": "",
            "zerolinecolor": "white"
           },
           "zaxis": {
            "backgroundcolor": "#E5ECF6",
            "gridcolor": "white",
            "gridwidth": 2,
            "linecolor": "white",
            "showbackground": true,
            "ticks": "",
            "zerolinecolor": "white"
           }
          },
          "shapedefaults": {
           "line": {
            "color": "#2a3f5f"
           }
          },
          "ternary": {
           "aaxis": {
            "gridcolor": "white",
            "linecolor": "white",
            "ticks": ""
           },
           "baxis": {
            "gridcolor": "white",
            "linecolor": "white",
            "ticks": ""
           },
           "bgcolor": "#E5ECF6",
           "caxis": {
            "gridcolor": "white",
            "linecolor": "white",
            "ticks": ""
           }
          },
          "title": {
           "x": 0.05
          },
          "xaxis": {
           "automargin": true,
           "gridcolor": "white",
           "linecolor": "white",
           "ticks": "",
           "title": {
            "standoff": 15
           },
           "zerolinecolor": "white",
           "zerolinewidth": 2
          },
          "yaxis": {
           "automargin": true,
           "gridcolor": "white",
           "linecolor": "white",
           "ticks": "",
           "title": {
            "standoff": 15
           },
           "zerolinecolor": "white",
           "zerolinewidth": 2
          }
         }
        },
        "title": {
         "text": "Key vs active engagement"
        },
        "xaxis": {
         "anchor": "y",
         "domain": [
          0,
          1
         ],
         "title": {
          "text": "Key"
         }
        },
        "yaxis": {
         "anchor": "x",
         "domain": [
          0,
          1
         ],
         "title": {
          "text": "ActiveEng"
         }
        }
       }
      }
     },
     "metadata": {}
    }
   ],
   "source": [
    "px.scatter(tracks_foll, \"Key\", \"ActiveEng\", title=\"Key vs active engagement\") \n"
   ]
  },
  {
   "cell_type": "code",
   "execution_count": null,
   "metadata": {},
   "outputs": [],
   "source": [
    "# splitting data into train and test dataset\n",
    "from sklearn.model_selection import train_test_split\n",
    "X = tracks_foll\n",
    "y = tracks_foll['CommentsCount']\n",
    "\n",
    "X_train, X_test, y_train, y_test = train_test_split(X, y, test_size=0.3)"
   ]
  },
  {
   "cell_type": "code",
   "execution_count": null,
   "metadata": {},
   "outputs": [],
   "source": [
    "\n",
    "import plotly.graph_objects as go\n",
    "\n",
    "ice_df[\"fitted\"] = model.fittedvalues\n",
    "\n",
    "fig = go.Figure()\n",
    "fig.add_trace(go.Scatter(\n",
    "    x=ice_df[\"Year\"], y=ice_df[\"Extent\"], name=\"Year vs Sea Ice Extent (million sq km)\", mode=\"markers\"))\n",
    "fig.add_trace(go.Scatter(\n",
    "    x=ice_df[\"Year\"], y=ice_df[\"fitted\"], name=\"Fitted Regression Line\"))\n",
    "fig.update_layout(title=\"Regression line of Year vs Sea Ice Extent (million sq km)\", xaxis_title=\"Year\",\n",
    "    yaxis_title=\"Sea Ice Extent\")\n",
    "fig.show()"
   ]
  },
  {
   "cell_type": "code",
   "execution_count": 235,
   "metadata": {},
   "outputs": [
    {
     "output_type": "stream",
     "name": "stderr",
     "text": [
      "<ipython-input-235-49a742f21a98>:1: SettingWithCopyWarning:\n\n\nA value is trying to be set on a copy of a slice from a DataFrame.\nTry using .loc[row_indexer,col_indexer] = value instead\n\nSee the caveats in the documentation: https://pandas.pydata.org/pandas-docs/stable/user_guide/indexing.html#returning-a-view-versus-a-copy\n\n"
     ]
    },
    {
     "output_type": "display_data",
     "data": {
      "application/vnd.plotly.v1+json": {
       "config": {
        "plotlyServerURL": "https://plot.ly"
       },
       "data": [
        {
         "hovertemplate": "Key=B♭ min<br>BPM=%{x}<br>Fitted=%{y}<extra></extra>",
         "legendgroup": "B♭ min",
         "marker": {
          "color": "#636efa",
          "symbol": "circle"
         },
         "mode": "markers",
         "name": "B♭ min",
         "orientation": "v",
         "showlegend": true,
         "type": "scatter",
         "x": [
          78,
          124,
          126,
          108,
          126,
          127,
          95,
          123,
          123
         ],
         "xaxis": "x",
         "y": [
          0.000778184538547215,
          -0.000023273041780234958,
          0.0000252611130323677,
          0.0010836724145153827,
          0.0005319671216080771,
          0.001930194953074661,
          0.0025016472194797456,
          0.00040169114028399495,
          0.00040169114028399495
         ],
         "yaxis": "y"
        },
        {
         "hovertemplate": "Key=G min<br>BPM=%{x}<br>Fitted=%{y}<extra></extra>",
         "legendgroup": "G min",
         "marker": {
          "color": "#EF553B",
          "symbol": "circle"
         },
         "mode": "markers",
         "name": "G min",
         "orientation": "v",
         "showlegend": true,
         "type": "scatter",
         "x": [
          129,
          120,
          128,
          125,
          126,
          130,
          124,
          126,
          126,
          124,
          125,
          125,
          123,
          123,
          143
         ],
         "xaxis": "x",
         "y": [
          0.000207989098051772,
          0.000029758431487163228,
          0.0002059679596600238,
          0.00013988938659520054,
          0.00016191557761680844,
          0.00027902141499318127,
          0.0010612367777697636,
          0.0011052891598129786,
          0.0011052891598129786,
          0.0010612367777697636,
          0.006412997007267236,
          0.00044751704368017507,
          0.001040777530471704,
          0.001040777530471704,
          0.0009434671237232082
         ],
         "yaxis": "y"
        },
        {
         "hovertemplate": "Key=A min<br>BPM=%{x}<br>Fitted=%{y}<extra></extra>",
         "legendgroup": "A min",
         "marker": {
          "color": "#00cc96",
          "symbol": "circle"
         },
         "mode": "markers",
         "name": "A min",
         "orientation": "v",
         "showlegend": true,
         "type": "scatter",
         "x": [
          129,
          151,
          126,
          88,
          126,
          129,
          129,
          129,
          129,
          129,
          129,
          129,
          125,
          124,
          126,
          129,
          125,
          128,
          129,
          129,
          128,
          128,
          126,
          123,
          120,
          121,
          124,
          128,
          127,
          126,
          128,
          125,
          107,
          129,
          135,
          164,
          136,
          140,
          131,
          138,
          138,
          137,
          128,
          127
         ],
         "xaxis": "x",
         "y": [
          0.0002277182412524808,
          0.00008588587718047296,
          0.0002670640708012502,
          0.0005120472451074455,
          0.0002670640708012502,
          0.0007986040331423984,
          0.0007986040331423984,
          0.0007986040331423984,
          0.0007986040331423984,
          0.0007986040331423984,
          0.0007986040331423984,
          0.0007986040331423984,
          0.0003577609179038078,
          0.0003642078435434446,
          0.0010882833938943258,
          0.0010689426169754154,
          0.0010947303195339624,
          0.0010753895426150522,
          0.0010689426169754154,
          0.0010689426169754154,
          0.0002831712928119197,
          0.0002831712928119197,
          0.00029606514409119317,
          0.0023348820131556688,
          0.002354222790074579,
          0.0023477758644349423,
          0.0012233315042766938,
          0.0011975438017181469,
          0.0012039907273577836,
          0.0012104376529974204,
          0.0011975438017181469,
          0.0008644669264795171,
          0.0009064794101832644,
          0.000555350950967315,
          0.00740654215936672,
          0.0009670214224147739,
          0.0005361549540823232,
          0.0005103672515237763,
          0.0005683895822805067,
          0.00036698902513663384,
          0.00036698902513663384,
          0.0003734359507762705,
          0.000796664508563312,
          0.0008031114342029487
         ],
         "yaxis": "y"
        },
        {
         "hovertemplate": "Key=G♭ min<br>BPM=%{x}<br>Fitted=%{y}<extra></extra>",
         "legendgroup": "G♭ min",
         "marker": {
          "color": "#ab63fa",
          "symbol": "circle"
         },
         "mode": "markers",
         "name": "G♭ min",
         "orientation": "v",
         "showlegend": true,
         "type": "scatter",
         "x": [
          120,
          149,
          127,
          125,
          105,
          126,
          123,
          120,
          122,
          127,
          127,
          128,
          122
         ],
         "xaxis": "x",
         "y": [
          0.0011469509174213614,
          0.000351165985806852,
          0.0010542910677310184,
          0.0005964694413074538,
          0.002410135629822418,
          0.0018193911584730475,
          0.0031310410681511048,
          0.0016838797222801373,
          0.0016276183440563875,
          0.0029770827910984704,
          0.0029770827910984704,
          0.002948952101986595,
          0.0020556351177471897
         ],
         "yaxis": "y"
        },
        {
         "hovertemplate": "Key=F min<br>BPM=%{x}<br>Fitted=%{y}<extra></extra>",
         "legendgroup": "F min",
         "marker": {
          "color": "#FFA15A",
          "symbol": "circle"
         },
         "mode": "markers",
         "name": "F min",
         "orientation": "v",
         "showlegend": true,
         "type": "scatter",
         "x": [
          119,
          138,
          129,
          66,
          66,
          128,
          126,
          120,
          120,
          121,
          128,
          127,
          127,
          127,
          127,
          127,
          127,
          137,
          67,
          125
         ],
         "xaxis": "x",
         "y": [
          0.0002340479619344295,
          0.0007238978732948083,
          0.0007622832903877477,
          0.00005026738759387296,
          0.00005026738759387296,
          -0.00021416548571304367,
          0.002343711277866896,
          0.0022982651336561372,
          0.0022982651336561372,
          0.0022940000873124776,
          0.0008066235275099795,
          0.0006066011584301752,
          0.0006066011584301752,
          0.0006066011584301752,
          0.0006066011584301752,
          0.0006066011584301752,
          0.0006066011584301752,
          0.00737478259970061,
          0.0008829417231736773,
          0.0006355690352414005
         ],
         "yaxis": "y"
        },
        {
         "hovertemplate": "Key=E♭ min<br>BPM=%{x}<br>Fitted=%{y}<extra></extra>",
         "legendgroup": "E♭ min",
         "marker": {
          "color": "#19d3f3",
          "symbol": "circle"
         },
         "mode": "markers",
         "name": "E♭ min",
         "orientation": "v",
         "showlegend": true,
         "type": "scatter",
         "x": [
          84,
          116,
          125,
          122,
          122,
          122,
          127,
          131,
          125,
          130,
          130,
          130
         ],
         "xaxis": "x",
         "y": [
          -0.00030035616820211445,
          0.0003477347291884342,
          0.0011097350051994716,
          0.003028155724166136,
          0.003028155724166136,
          0.0035917984298247923,
          0.003155145825525835,
          0.0032898863230977024,
          0.0013883615889945036,
          0.0015567872109593381,
          0.0015567872109593381,
          0.002194100079794082
         ],
         "yaxis": "y"
        },
        {
         "hovertemplate": "Key=G maj<br>BPM=%{x}<br>Fitted=%{y}<extra></extra>",
         "legendgroup": "G maj",
         "marker": {
          "color": "#FF6692",
          "symbol": "circle"
         },
         "mode": "markers",
         "name": "G maj",
         "orientation": "v",
         "showlegend": true,
         "type": "scatter",
         "x": [
          124,
          140,
          120,
          124,
          124,
          123,
          126,
          120,
          128,
          120,
          100,
          120
         ],
         "xaxis": "x",
         "y": [
          0.000308296030169089,
          0.0008319788108777165,
          0.0003993454412698676,
          0.0011295153532621645,
          0.0011295153532621645,
          0.002358473068014062,
          0.0012482698675463308,
          0.0008320192720358633,
          0.0006881650551463972,
          0.0012600360457266657,
          0.0006826531076736754,
          0.002712297380645234
         ],
         "yaxis": "y"
        },
        {
         "hovertemplate": "Key=C min<br>BPM=%{x}<br>Fitted=%{y}<extra></extra>",
         "legendgroup": "C min",
         "marker": {
          "color": "#B6E880",
          "symbol": "circle"
         },
         "mode": "markers",
         "name": "C min",
         "orientation": "v",
         "showlegend": true,
         "type": "scatter",
         "x": [
          149,
          114,
          134,
          72,
          72,
          126,
          128,
          127,
          127,
          127,
          127,
          127,
          127,
          127,
          126,
          107,
          145,
          130,
          130,
          96,
          127,
          104,
          124,
          137,
          125,
          135,
          135,
          148,
          84
         ],
         "xaxis": "x",
         "y": [
          0.0005473201736208146,
          0.00040848263865487567,
          0.0010386991121811848,
          0.0007927583359558071,
          0.0007927583359558071,
          0.0012773034023077015,
          0.0004930187259311942,
          0.0030721707370221034,
          0.0030721707370221034,
          0.0030721707370221034,
          0.0030721707370221034,
          0.0030721707370221034,
          0.0030721707370221034,
          0.0030721707370221034,
          0.0013994576614107966,
          0.0008976388838906045,
          0.0010483767789964812,
          0.0008586197406830423,
          0.0008586197406830423,
          0.0006447081349002246,
          0.0007676785230129135,
          0.0013137552974414692,
          0.0007817106454654411,
          0.0006770067950720884,
          0.000859223591240385,
          0.0008988914583735103,
          0.0008988914583735103,
          0.0009504596856465734,
          0.0006965853359945707
         ],
         "yaxis": "y"
        },
        {
         "hovertemplate": "Key=D♭ maj<br>BPM=%{x}<br>Fitted=%{y}<extra></extra>",
         "legendgroup": "D♭ maj",
         "marker": {
          "color": "#FF97FF",
          "symbol": "circle"
         },
         "mode": "markers",
         "name": "D♭ maj",
         "orientation": "v",
         "showlegend": true,
         "type": "scatter",
         "x": [
          120,
          125,
          123,
          123,
          130
         ],
         "xaxis": "x",
         "y": [
          0.00036875084617227563,
          0.001347911951565986,
          0.0008203503060056558,
          0.0008203503060056558,
          0.0014527888539674072
         ],
         "yaxis": "y"
        },
        {
         "hovertemplate": "Key=A♭ min<br>BPM=%{x}<br>Fitted=%{y}<extra></extra>",
         "legendgroup": "A♭ min",
         "marker": {
          "color": "#FECB52",
          "symbol": "circle"
         },
         "mode": "markers",
         "name": "A♭ min",
         "orientation": "v",
         "showlegend": true,
         "type": "scatter",
         "x": [
          123,
          123,
          122,
          94,
          163,
          127,
          127,
          122,
          146
         ],
         "xaxis": "x",
         "y": [
          0.00033762973596897184,
          0.00033762973596897184,
          0.000345866470392151,
          0.0001466619510567804,
          0.00201520200387217,
          0.002311724443106627,
          0.002311724443106627,
          0.0005645428250124829,
          0.0010931253701555654
         ],
         "yaxis": "y"
        },
        {
         "hovertemplate": "Key=A♯ maj<br>BPM=%{x}<br>Fitted=%{y}<extra></extra>",
         "legendgroup": "A♯ maj",
         "marker": {
          "color": "#636efa",
          "symbol": "circle"
         },
         "mode": "markers",
         "name": "A♯ maj",
         "orientation": "v",
         "showlegend": true,
         "type": "scatter",
         "x": [
          124,
          125
         ],
         "xaxis": "x",
         "y": [
          0.00021168501270103085,
          0.00046844181459629666
         ],
         "yaxis": "y"
        },
        {
         "hovertemplate": "Key=D min<br>BPM=%{x}<br>Fitted=%{y}<extra></extra>",
         "legendgroup": "D min",
         "marker": {
          "color": "#EF553B",
          "symbol": "circle"
         },
         "mode": "markers",
         "name": "D min",
         "orientation": "v",
         "showlegend": true,
         "type": "scatter",
         "x": [
          126,
          132,
          126,
          128,
          126,
          132,
          130,
          124,
          124,
          137,
          128,
          98
         ],
         "xaxis": "x",
         "y": [
          0.00014738312445359072,
          0.0007292876716772495,
          0.0006982638637136492,
          0.0001867254670647341,
          0.0010907567066497613,
          0.0006953306846461077,
          0.002175107307926364,
          0.00035571820975272245,
          0.00035571820975272245,
          0.0005378202453976313,
          0.0007002186828161263,
          0.0012014558158075885
         ],
         "yaxis": "y"
        },
        {
         "hovertemplate": "Key=A maj<br>BPM=%{x}<br>Fitted=%{y}<extra></extra>",
         "legendgroup": "A maj",
         "marker": {
          "color": "#00cc96",
          "symbol": "circle"
         },
         "mode": "markers",
         "name": "A maj",
         "orientation": "v",
         "showlegend": true,
         "type": "scatter",
         "x": [
          129,
          129,
          142,
          75,
          124,
          124,
          124,
          124,
          128,
          128,
          124,
          129,
          120,
          120,
          127,
          140,
          123
         ],
         "xaxis": "x",
         "y": [
          0.0015994073982354608,
          0.0015994073982354608,
          0.001612812919783867,
          0.0010770921063141747,
          0.0006135376059646996,
          0.0006135376059646996,
          0.0006135376059646996,
          0.0006135376059646996,
          0.001868714788103216,
          0.001868714788103216,
          0.0016343266191877228,
          0.0016394825890140327,
          0.001556169665516961,
          0.0019841864392077637,
          0.0015889585600862139,
          0.00160236408163462,
          0.0023094688221710824
         ],
         "yaxis": "y"
        },
        {
         "hovertemplate": "Key=C maj<br>BPM=%{x}<br>Fitted=%{y}<extra></extra>",
         "legendgroup": "C maj",
         "marker": {
          "color": "#ab63fa",
          "symbol": "circle"
         },
         "mode": "markers",
         "name": "C maj",
         "orientation": "v",
         "showlegend": true,
         "type": "scatter",
         "x": [
          129,
          98,
          122,
          127,
          123,
          126,
          119,
          123,
          125,
          120,
          127,
          127,
          125,
          125,
          124,
          90,
          89,
          130
         ],
         "xaxis": "x",
         "y": [
          0.0011505775790263606,
          0.0016601937519819723,
          0.0009043896301088759,
          0.0007469304380519808,
          0.0003588147870501831,
          0.0007231734282903816,
          0.002963092389315601,
          0.002837125035670085,
          0.001669037775607988,
          0.0014000471376976295,
          0.001049349031204226,
          0.001049349031204226,
          0.0010332918504967923,
          0.0010332918504967923,
          0.0010647836889081724,
          0.00422508039864837,
          0.002401864665262797,
          0.0009753113000939943
         ],
         "yaxis": "y"
        },
        {
         "hovertemplate": "Key=F maj<br>BPM=%{x}<br>Fitted=%{y}<extra></extra>",
         "legendgroup": "F maj",
         "marker": {
          "color": "#FFA15A",
          "symbol": "circle"
         },
         "mode": "markers",
         "name": "F maj",
         "orientation": "v",
         "showlegend": true,
         "type": "scatter",
         "x": [
          129,
          123,
          125
         ],
         "xaxis": "x",
         "y": [
          0.00019769269477598085,
          0.0019017962908667758,
          0.0003767053087964656
         ],
         "yaxis": "y"
        },
        {
         "hovertemplate": "Key=E min<br>BPM=%{x}<br>Fitted=%{y}<extra></extra>",
         "legendgroup": "E min",
         "marker": {
          "color": "#19d3f3",
          "symbol": "circle"
         },
         "mode": "markers",
         "name": "E min",
         "orientation": "v",
         "showlegend": true,
         "type": "scatter",
         "x": [
          0,
          102,
          124,
          128,
          128,
          92,
          128,
          128,
          182,
          122,
          85,
          122,
          82,
          118,
          118,
          150
         ],
         "xaxis": "x",
         "y": [
          0.00043315365506997204,
          0.00005849421482763394,
          0.0008153005802441178,
          0.0008189073009325413,
          0.0008189073009325413,
          0.0025773473627378187,
          0.0009410615600356361,
          0.0003053156349244406,
          0.0009913192330529021,
          0.0009372184227265496,
          0.0005014100194802483,
          0.0003993841955459018,
          0.0003633169886616668,
          0.0003957774748574783,
          0.0003957774748574783,
          0.0012163754034765937
         ],
         "yaxis": "y"
        },
        {
         "hovertemplate": "Key=B min<br>BPM=%{x}<br>Fitted=%{y}<extra></extra>",
         "legendgroup": "B min",
         "marker": {
          "color": "#FF6692",
          "symbol": "circle"
         },
         "mode": "markers",
         "name": "B min",
         "orientation": "v",
         "showlegend": true,
         "type": "scatter",
         "x": [
          129,
          129,
          127,
          127,
          126,
          123,
          124,
          130,
          90,
          128,
          135,
          123,
          130,
          139,
          144,
          163
         ],
         "xaxis": "x",
         "y": [
          0.0006548907715166119,
          0.0006548907715166119,
          0.0009861808792437934,
          0.0009861808792437934,
          0.0011388109002939697,
          0.0008778205339776747,
          0.0007733125942208795,
          0.0020805759151398453,
          0.0032996063930231176,
          0.0021415274390340086,
          0.0002547156002515034,
          0.0006204247436164849,
          0.00040709440998691225,
          -0.000023459525203239386,
          0.00005397990178939837,
          -0.0005250595752051561
         ],
         "yaxis": "y"
        },
        {
         "hovertemplate": "Key=G♯ min<br>BPM=%{x}<br>Fitted=%{y}<extra></extra>",
         "legendgroup": "G♯ min",
         "marker": {
          "color": "#B6E880",
          "symbol": "circle"
         },
         "mode": "markers",
         "name": "G♯ min",
         "orientation": "v",
         "showlegend": true,
         "type": "scatter",
         "x": [
          124,
          128,
          135,
          126,
          125,
          125
         ],
         "xaxis": "x",
         "y": [
          0.000403941886765102,
          0.001009506487104182,
          0.007972433112218914,
          0.0009656146816777924,
          0.00034397395037063204,
          0.00034397395037063204
         ],
         "yaxis": "y"
        },
        {
         "hovertemplate": "Key=D maj<br>BPM=%{x}<br>Fitted=%{y}<extra></extra>",
         "legendgroup": "D maj",
         "marker": {
          "color": "#FF97FF",
          "symbol": "circle"
         },
         "mode": "markers",
         "name": "D maj",
         "orientation": "v",
         "showlegend": true,
         "type": "scatter",
         "x": [
          146,
          126,
          127,
          123,
          125,
          125,
          120,
          156,
          139
         ],
         "xaxis": "x",
         "y": [
          0.0011546814205605186,
          0.0010052409306421182,
          0.0009406845368672531,
          0.002392899293329315,
          0.0006234855711889713,
          0.0006234855711889713,
          0.0013023708223141154,
          0.0010321186613263865,
          0.0007147582550675441
         ],
         "yaxis": "y"
        },
        {
         "hovertemplate": "Key=G♯ maj<br>BPM=%{x}<br>Fitted=%{y}<extra></extra>",
         "legendgroup": "G♯ maj",
         "marker": {
          "color": "#FECB52",
          "symbol": "circle"
         },
         "mode": "markers",
         "name": "G♯ maj",
         "orientation": "v",
         "showlegend": true,
         "type": "scatter",
         "x": [
          120,
          132
         ],
         "xaxis": "x",
         "y": [
          0.0000983767830810263,
          0.0005356186395317273
         ],
         "yaxis": "y"
        },
        {
         "hovertemplate": "Key=F♯ maj<br>BPM=%{x}<br>Fitted=%{y}<extra></extra>",
         "legendgroup": "F♯ maj",
         "marker": {
          "color": "#636efa",
          "symbol": "circle"
         },
         "mode": "markers",
         "name": "F♯ maj",
         "orientation": "v",
         "showlegend": true,
         "type": "scatter",
         "x": [
          124
         ],
         "xaxis": "x",
         "y": [
          0.00044524964686605756
         ],
         "yaxis": "y"
        },
        {
         "hovertemplate": "Key=B♭ maj<br>BPM=%{x}<br>Fitted=%{y}<extra></extra>",
         "legendgroup": "B♭ maj",
         "marker": {
          "color": "#EF553B",
          "symbol": "circle"
         },
         "mode": "markers",
         "name": "B♭ maj",
         "orientation": "v",
         "showlegend": true,
         "type": "scatter",
         "x": [
          127,
          123,
          128,
          128
         ],
         "xaxis": "x",
         "y": [
          0.0005510139319685192,
          0.00028190685826119666,
          0.0013504843525787291,
          0.004568414797210263
         ],
         "yaxis": "y"
        },
        {
         "hovertemplate": "Key=G♭ maj<br>BPM=%{x}<br>Fitted=%{y}<extra></extra>",
         "legendgroup": "G♭ maj",
         "marker": {
          "color": "#00cc96",
          "symbol": "circle"
         },
         "mode": "markers",
         "name": "G♭ maj",
         "orientation": "v",
         "showlegend": true,
         "type": "scatter",
         "x": [
          124,
          126,
          65
         ],
         "xaxis": "x",
         "y": [
          0.0005835611688414849,
          0.0005989090005612662,
          0.00042375083537254075
         ],
         "yaxis": "y"
        },
        {
         "hovertemplate": "Key=D♭ min<br>BPM=%{x}<br>Fitted=%{y}<extra></extra>",
         "legendgroup": "D♭ min",
         "marker": {
          "color": "#ab63fa",
          "symbol": "circle"
         },
         "mode": "markers",
         "name": "D♭ min",
         "orientation": "v",
         "showlegend": true,
         "type": "scatter",
         "x": [
          130,
          120,
          129,
          125,
          123,
          123,
          123,
          127,
          123,
          129,
          132
         ],
         "xaxis": "x",
         "y": [
          0.0007897196633099709,
          0.0003744194406370058,
          0.00028551493686009206,
          0.0013458170628728545,
          0.002781659334059467,
          0.002781659334059467,
          0.002781659334059467,
          0.0027421462212697274,
          0.0009932940438494259,
          0.001048908159721925,
          0.0010192733251296205
         ],
         "yaxis": "y"
        },
        {
         "hovertemplate": "Key=F♯ min<br>BPM=%{x}<br>Fitted=%{y}<extra></extra>",
         "legendgroup": "F♯ min",
         "marker": {
          "color": "#FFA15A",
          "symbol": "circle"
         },
         "mode": "markers",
         "name": "F♯ min",
         "orientation": "v",
         "showlegend": true,
         "type": "scatter",
         "x": [
          130,
          126,
          134,
          122,
          123
         ],
         "xaxis": "x",
         "y": [
          0.0004832327952400796,
          0.0010970008076856106,
          0.0019816991321680287,
          0.0016106209486965173,
          0.0012390978937740927
         ],
         "yaxis": "y"
        },
        {
         "hovertemplate": "Key=E maj<br>BPM=%{x}<br>Fitted=%{y}<extra></extra>",
         "legendgroup": "E maj",
         "marker": {
          "color": "#19d3f3",
          "symbol": "circle"
         },
         "mode": "markers",
         "name": "E maj",
         "orientation": "v",
         "showlegend": true,
         "type": "scatter",
         "x": [
          124,
          125,
          127,
          130,
          125,
          93,
          146,
          146,
          128
         ],
         "xaxis": "x",
         "y": [
          0.001573270851349804,
          0.0013157427278146028,
          0.0016098329891155805,
          0.0025879089304124653,
          0.0027305624659746622,
          0.0036435450935727223,
          0.000531482270522134,
          0.000531482270522134,
          0.0018367791616577703
         ],
         "yaxis": "y"
        },
        {
         "hovertemplate": "Key=A♭ maj<br>BPM=%{x}<br>Fitted=%{y}<extra></extra>",
         "legendgroup": "A♭ maj",
         "marker": {
          "color": "#FF6692",
          "symbol": "circle"
         },
         "mode": "markers",
         "name": "A♭ maj",
         "orientation": "v",
         "showlegend": true,
         "type": "scatter",
         "x": [
          124,
          126,
          125,
          130,
          127,
          122
         ],
         "xaxis": "x",
         "y": [
          0.0006323333316691458,
          0.000033452902969792475,
          0.0002183944091080879,
          0.0007085066165766693,
          0.001263331134991559,
          0.0005676655354678282
         ],
         "yaxis": "y"
        },
        {
         "hovertemplate": "Key=D♯ min<br>BPM=%{x}<br>Fitted=%{y}<extra></extra>",
         "legendgroup": "D♯ min",
         "marker": {
          "color": "#B6E880",
          "symbol": "circle"
         },
         "mode": "markers",
         "name": "D♯ min",
         "orientation": "v",
         "showlegend": true,
         "type": "scatter",
         "x": [
          129,
          127,
          133,
          129
         ],
         "xaxis": "x",
         "y": [
          0.0003904414268855183,
          -0.00021657845465632153,
          0.010601725553813973,
          0.002758642214433865
         ],
         "yaxis": "y"
        },
        {
         "hovertemplate": "Key=B maj<br>BPM=%{x}<br>Fitted=%{y}<extra></extra>",
         "legendgroup": "B maj",
         "marker": {
          "color": "#FF97FF",
          "symbol": "circle"
         },
         "mode": "markers",
         "name": "B maj",
         "orientation": "v",
         "showlegend": true,
         "type": "scatter",
         "x": [
          125
         ],
         "xaxis": "x",
         "y": [
          0.0003392130257736542
         ],
         "yaxis": "y"
        },
        {
         "hovertemplate": "Key=A♯ min<br>BPM=%{x}<br>Fitted=%{y}<extra></extra>",
         "legendgroup": "A♯ min",
         "marker": {
          "color": "#FECB52",
          "symbol": "circle"
         },
         "mode": "markers",
         "name": "A♯ min",
         "orientation": "v",
         "showlegend": true,
         "type": "scatter",
         "x": [
          120,
          120,
          108,
          124,
          144,
          139
         ],
         "xaxis": "x",
         "y": [
          0.002107047944686095,
          0.002107047944686095,
          0.0002617589951917506,
          0.0003818256459668353,
          0.0010931481505651614,
          0.0009624250104452647
         ],
         "yaxis": "y"
        },
        {
         "hovertemplate": "Key=D♯ maj<br>BPM=%{x}<br>Fitted=%{y}<extra></extra>",
         "legendgroup": "D♯ maj",
         "marker": {
          "color": "#636efa",
          "symbol": "circle"
         },
         "mode": "markers",
         "name": "D♯ maj",
         "orientation": "v",
         "showlegend": true,
         "type": "scatter",
         "x": [
          120,
          128,
          128,
          183
         ],
         "xaxis": "x",
         "y": [
          0.002065851306778663,
          0.0018893012326867487,
          0.0018893012326867487,
          0.00036433404241720084
         ],
         "yaxis": "y"
        },
        {
         "hovertemplate": "Key=E♭ maj<br>BPM=%{x}<br>Fitted=%{y}<extra></extra>",
         "legendgroup": "E♭ maj",
         "marker": {
          "color": "#EF553B",
          "symbol": "circle"
         },
         "mode": "markers",
         "name": "E♭ maj",
         "orientation": "v",
         "showlegend": true,
         "type": "scatter",
         "x": [
          127
         ],
         "xaxis": "x",
         "y": [
          0.001396550520216237
         ],
         "yaxis": "y"
        },
        {
         "hovertemplate": "Key=C♯ min<br>BPM=%{x}<br>Fitted=%{y}<extra></extra>",
         "legendgroup": "C♯ min",
         "marker": {
          "color": "#00cc96",
          "symbol": "circle"
         },
         "mode": "markers",
         "name": "C♯ min",
         "orientation": "v",
         "showlegend": true,
         "type": "scatter",
         "x": [
          128,
          133,
          125,
          146
         ],
         "xaxis": "x",
         "y": [
          0.009222440631883433,
          0.0023161185626411895,
          0.0029596918071064307,
          0.00007850267827715085
         ],
         "yaxis": "y"
        },
        {
         "hovertemplate": "Key=C♯ maj<br>BPM=%{x}<br>Fitted=%{y}<extra></extra>",
         "legendgroup": "C♯ maj",
         "marker": {
          "color": "#ab63fa",
          "symbol": "circle"
         },
         "mode": "markers",
         "name": "C♯ maj",
         "orientation": "v",
         "showlegend": true,
         "type": "scatter",
         "x": [
          130
         ],
         "xaxis": "x",
         "y": [
          0.0016815200941569662
         ],
         "yaxis": "y"
        }
       ],
       "layout": {
        "legend": {
         "title": {
          "text": "Key"
         },
         "tracegroupgap": 0
        },
        "template": {
         "data": {
          "bar": [
           {
            "error_x": {
             "color": "#2a3f5f"
            },
            "error_y": {
             "color": "#2a3f5f"
            },
            "marker": {
             "line": {
              "color": "#E5ECF6",
              "width": 0.5
             }
            },
            "type": "bar"
           }
          ],
          "barpolar": [
           {
            "marker": {
             "line": {
              "color": "#E5ECF6",
              "width": 0.5
             }
            },
            "type": "barpolar"
           }
          ],
          "carpet": [
           {
            "aaxis": {
             "endlinecolor": "#2a3f5f",
             "gridcolor": "white",
             "linecolor": "white",
             "minorgridcolor": "white",
             "startlinecolor": "#2a3f5f"
            },
            "baxis": {
             "endlinecolor": "#2a3f5f",
             "gridcolor": "white",
             "linecolor": "white",
             "minorgridcolor": "white",
             "startlinecolor": "#2a3f5f"
            },
            "type": "carpet"
           }
          ],
          "choropleth": [
           {
            "colorbar": {
             "outlinewidth": 0,
             "ticks": ""
            },
            "type": "choropleth"
           }
          ],
          "contour": [
           {
            "colorbar": {
             "outlinewidth": 0,
             "ticks": ""
            },
            "colorscale": [
             [
              0,
              "#0d0887"
             ],
             [
              0.1111111111111111,
              "#46039f"
             ],
             [
              0.2222222222222222,
              "#7201a8"
             ],
             [
              0.3333333333333333,
              "#9c179e"
             ],
             [
              0.4444444444444444,
              "#bd3786"
             ],
             [
              0.5555555555555556,
              "#d8576b"
             ],
             [
              0.6666666666666666,
              "#ed7953"
             ],
             [
              0.7777777777777778,
              "#fb9f3a"
             ],
             [
              0.8888888888888888,
              "#fdca26"
             ],
             [
              1,
              "#f0f921"
             ]
            ],
            "type": "contour"
           }
          ],
          "contourcarpet": [
           {
            "colorbar": {
             "outlinewidth": 0,
             "ticks": ""
            },
            "type": "contourcarpet"
           }
          ],
          "heatmap": [
           {
            "colorbar": {
             "outlinewidth": 0,
             "ticks": ""
            },
            "colorscale": [
             [
              0,
              "#0d0887"
             ],
             [
              0.1111111111111111,
              "#46039f"
             ],
             [
              0.2222222222222222,
              "#7201a8"
             ],
             [
              0.3333333333333333,
              "#9c179e"
             ],
             [
              0.4444444444444444,
              "#bd3786"
             ],
             [
              0.5555555555555556,
              "#d8576b"
             ],
             [
              0.6666666666666666,
              "#ed7953"
             ],
             [
              0.7777777777777778,
              "#fb9f3a"
             ],
             [
              0.8888888888888888,
              "#fdca26"
             ],
             [
              1,
              "#f0f921"
             ]
            ],
            "type": "heatmap"
           }
          ],
          "heatmapgl": [
           {
            "colorbar": {
             "outlinewidth": 0,
             "ticks": ""
            },
            "colorscale": [
             [
              0,
              "#0d0887"
             ],
             [
              0.1111111111111111,
              "#46039f"
             ],
             [
              0.2222222222222222,
              "#7201a8"
             ],
             [
              0.3333333333333333,
              "#9c179e"
             ],
             [
              0.4444444444444444,
              "#bd3786"
             ],
             [
              0.5555555555555556,
              "#d8576b"
             ],
             [
              0.6666666666666666,
              "#ed7953"
             ],
             [
              0.7777777777777778,
              "#fb9f3a"
             ],
             [
              0.8888888888888888,
              "#fdca26"
             ],
             [
              1,
              "#f0f921"
             ]
            ],
            "type": "heatmapgl"
           }
          ],
          "histogram": [
           {
            "marker": {
             "colorbar": {
              "outlinewidth": 0,
              "ticks": ""
             }
            },
            "type": "histogram"
           }
          ],
          "histogram2d": [
           {
            "colorbar": {
             "outlinewidth": 0,
             "ticks": ""
            },
            "colorscale": [
             [
              0,
              "#0d0887"
             ],
             [
              0.1111111111111111,
              "#46039f"
             ],
             [
              0.2222222222222222,
              "#7201a8"
             ],
             [
              0.3333333333333333,
              "#9c179e"
             ],
             [
              0.4444444444444444,
              "#bd3786"
             ],
             [
              0.5555555555555556,
              "#d8576b"
             ],
             [
              0.6666666666666666,
              "#ed7953"
             ],
             [
              0.7777777777777778,
              "#fb9f3a"
             ],
             [
              0.8888888888888888,
              "#fdca26"
             ],
             [
              1,
              "#f0f921"
             ]
            ],
            "type": "histogram2d"
           }
          ],
          "histogram2dcontour": [
           {
            "colorbar": {
             "outlinewidth": 0,
             "ticks": ""
            },
            "colorscale": [
             [
              0,
              "#0d0887"
             ],
             [
              0.1111111111111111,
              "#46039f"
             ],
             [
              0.2222222222222222,
              "#7201a8"
             ],
             [
              0.3333333333333333,
              "#9c179e"
             ],
             [
              0.4444444444444444,
              "#bd3786"
             ],
             [
              0.5555555555555556,
              "#d8576b"
             ],
             [
              0.6666666666666666,
              "#ed7953"
             ],
             [
              0.7777777777777778,
              "#fb9f3a"
             ],
             [
              0.8888888888888888,
              "#fdca26"
             ],
             [
              1,
              "#f0f921"
             ]
            ],
            "type": "histogram2dcontour"
           }
          ],
          "mesh3d": [
           {
            "colorbar": {
             "outlinewidth": 0,
             "ticks": ""
            },
            "type": "mesh3d"
           }
          ],
          "parcoords": [
           {
            "line": {
             "colorbar": {
              "outlinewidth": 0,
              "ticks": ""
             }
            },
            "type": "parcoords"
           }
          ],
          "pie": [
           {
            "automargin": true,
            "type": "pie"
           }
          ],
          "scatter": [
           {
            "marker": {
             "colorbar": {
              "outlinewidth": 0,
              "ticks": ""
             }
            },
            "type": "scatter"
           }
          ],
          "scatter3d": [
           {
            "line": {
             "colorbar": {
              "outlinewidth": 0,
              "ticks": ""
             }
            },
            "marker": {
             "colorbar": {
              "outlinewidth": 0,
              "ticks": ""
             }
            },
            "type": "scatter3d"
           }
          ],
          "scattercarpet": [
           {
            "marker": {
             "colorbar": {
              "outlinewidth": 0,
              "ticks": ""
             }
            },
            "type": "scattercarpet"
           }
          ],
          "scattergeo": [
           {
            "marker": {
             "colorbar": {
              "outlinewidth": 0,
              "ticks": ""
             }
            },
            "type": "scattergeo"
           }
          ],
          "scattergl": [
           {
            "marker": {
             "colorbar": {
              "outlinewidth": 0,
              "ticks": ""
             }
            },
            "type": "scattergl"
           }
          ],
          "scattermapbox": [
           {
            "marker": {
             "colorbar": {
              "outlinewidth": 0,
              "ticks": ""
             }
            },
            "type": "scattermapbox"
           }
          ],
          "scatterpolar": [
           {
            "marker": {
             "colorbar": {
              "outlinewidth": 0,
              "ticks": ""
             }
            },
            "type": "scatterpolar"
           }
          ],
          "scatterpolargl": [
           {
            "marker": {
             "colorbar": {
              "outlinewidth": 0,
              "ticks": ""
             }
            },
            "type": "scatterpolargl"
           }
          ],
          "scatterternary": [
           {
            "marker": {
             "colorbar": {
              "outlinewidth": 0,
              "ticks": ""
             }
            },
            "type": "scatterternary"
           }
          ],
          "surface": [
           {
            "colorbar": {
             "outlinewidth": 0,
             "ticks": ""
            },
            "colorscale": [
             [
              0,
              "#0d0887"
             ],
             [
              0.1111111111111111,
              "#46039f"
             ],
             [
              0.2222222222222222,
              "#7201a8"
             ],
             [
              0.3333333333333333,
              "#9c179e"
             ],
             [
              0.4444444444444444,
              "#bd3786"
             ],
             [
              0.5555555555555556,
              "#d8576b"
             ],
             [
              0.6666666666666666,
              "#ed7953"
             ],
             [
              0.7777777777777778,
              "#fb9f3a"
             ],
             [
              0.8888888888888888,
              "#fdca26"
             ],
             [
              1,
              "#f0f921"
             ]
            ],
            "type": "surface"
           }
          ],
          "table": [
           {
            "cells": {
             "fill": {
              "color": "#EBF0F8"
             },
             "line": {
              "color": "white"
             }
            },
            "header": {
             "fill": {
              "color": "#C8D4E3"
             },
             "line": {
              "color": "white"
             }
            },
            "type": "table"
           }
          ]
         },
         "layout": {
          "annotationdefaults": {
           "arrowcolor": "#2a3f5f",
           "arrowhead": 0,
           "arrowwidth": 1
          },
          "autotypenumbers": "strict",
          "coloraxis": {
           "colorbar": {
            "outlinewidth": 0,
            "ticks": ""
           }
          },
          "colorscale": {
           "diverging": [
            [
             0,
             "#8e0152"
            ],
            [
             0.1,
             "#c51b7d"
            ],
            [
             0.2,
             "#de77ae"
            ],
            [
             0.3,
             "#f1b6da"
            ],
            [
             0.4,
             "#fde0ef"
            ],
            [
             0.5,
             "#f7f7f7"
            ],
            [
             0.6,
             "#e6f5d0"
            ],
            [
             0.7,
             "#b8e186"
            ],
            [
             0.8,
             "#7fbc41"
            ],
            [
             0.9,
             "#4d9221"
            ],
            [
             1,
             "#276419"
            ]
           ],
           "sequential": [
            [
             0,
             "#0d0887"
            ],
            [
             0.1111111111111111,
             "#46039f"
            ],
            [
             0.2222222222222222,
             "#7201a8"
            ],
            [
             0.3333333333333333,
             "#9c179e"
            ],
            [
             0.4444444444444444,
             "#bd3786"
            ],
            [
             0.5555555555555556,
             "#d8576b"
            ],
            [
             0.6666666666666666,
             "#ed7953"
            ],
            [
             0.7777777777777778,
             "#fb9f3a"
            ],
            [
             0.8888888888888888,
             "#fdca26"
            ],
            [
             1,
             "#f0f921"
            ]
           ],
           "sequentialminus": [
            [
             0,
             "#0d0887"
            ],
            [
             0.1111111111111111,
             "#46039f"
            ],
            [
             0.2222222222222222,
             "#7201a8"
            ],
            [
             0.3333333333333333,
             "#9c179e"
            ],
            [
             0.4444444444444444,
             "#bd3786"
            ],
            [
             0.5555555555555556,
             "#d8576b"
            ],
            [
             0.6666666666666666,
             "#ed7953"
            ],
            [
             0.7777777777777778,
             "#fb9f3a"
            ],
            [
             0.8888888888888888,
             "#fdca26"
            ],
            [
             1,
             "#f0f921"
            ]
           ]
          },
          "colorway": [
           "#636efa",
           "#EF553B",
           "#00cc96",
           "#ab63fa",
           "#FFA15A",
           "#19d3f3",
           "#FF6692",
           "#B6E880",
           "#FF97FF",
           "#FECB52"
          ],
          "font": {
           "color": "#2a3f5f"
          },
          "geo": {
           "bgcolor": "white",
           "lakecolor": "white",
           "landcolor": "#E5ECF6",
           "showlakes": true,
           "showland": true,
           "subunitcolor": "white"
          },
          "hoverlabel": {
           "align": "left"
          },
          "hovermode": "closest",
          "mapbox": {
           "style": "light"
          },
          "paper_bgcolor": "white",
          "plot_bgcolor": "#E5ECF6",
          "polar": {
           "angularaxis": {
            "gridcolor": "white",
            "linecolor": "white",
            "ticks": ""
           },
           "bgcolor": "#E5ECF6",
           "radialaxis": {
            "gridcolor": "white",
            "linecolor": "white",
            "ticks": ""
           }
          },
          "scene": {
           "xaxis": {
            "backgroundcolor": "#E5ECF6",
            "gridcolor": "white",
            "gridwidth": 2,
            "linecolor": "white",
            "showbackground": true,
            "ticks": "",
            "zerolinecolor": "white"
           },
           "yaxis": {
            "backgroundcolor": "#E5ECF6",
            "gridcolor": "white",
            "gridwidth": 2,
            "linecolor": "white",
            "showbackground": true,
            "ticks": "",
            "zerolinecolor": "white"
           },
           "zaxis": {
            "backgroundcolor": "#E5ECF6",
            "gridcolor": "white",
            "gridwidth": 2,
            "linecolor": "white",
            "showbackground": true,
            "ticks": "",
            "zerolinecolor": "white"
           }
          },
          "shapedefaults": {
           "line": {
            "color": "#2a3f5f"
           }
          },
          "ternary": {
           "aaxis": {
            "gridcolor": "white",
            "linecolor": "white",
            "ticks": ""
           },
           "baxis": {
            "gridcolor": "white",
            "linecolor": "white",
            "ticks": ""
           },
           "bgcolor": "#E5ECF6",
           "caxis": {
            "gridcolor": "white",
            "linecolor": "white",
            "ticks": ""
           }
          },
          "title": {
           "x": 0.05
          },
          "xaxis": {
           "automargin": true,
           "gridcolor": "white",
           "linecolor": "white",
           "ticks": "",
           "title": {
            "standoff": 15
           },
           "zerolinecolor": "white",
           "zerolinewidth": 2
          },
          "yaxis": {
           "automargin": true,
           "gridcolor": "white",
           "linecolor": "white",
           "ticks": "",
           "title": {
            "standoff": 15
           },
           "zerolinecolor": "white",
           "zerolinewidth": 2
          }
         }
        },
        "title": {
         "text": "Key vs predicted values. Coloured by BPM"
        },
        "xaxis": {
         "anchor": "y",
         "domain": [
          0,
          1
         ],
         "title": {
          "text": "BPM"
         }
        },
        "yaxis": {
         "anchor": "x",
         "domain": [
          0,
          1
         ],
         "title": {
          "text": "Fitted"
         }
        }
       }
      }
     },
     "metadata": {}
    }
   ],
   "source": [
    "tracks_foll[\"Fitted\"] = model6.fittedvalues\n",
    "px.scatter(tracks_foll, \"BPM\", \"Fitted\", color=\"Key\", title=\"BPM vs predicted values. Coloured by Key\")"
   ]
  },
  {
   "cell_type": "code",
   "execution_count": 236,
   "metadata": {},
   "outputs": [
    {
     "output_type": "display_data",
     "data": {
      "application/vnd.plotly.v1+json": {
       "config": {
        "plotlyServerURL": "https://plot.ly"
       },
       "data": [
        {
         "hovertemplate": "Key=%{x}<br>Fitted=%{y}<br>BPM=%{marker.color}<extra></extra>",
         "legendgroup": "",
         "marker": {
          "color": [
           78,
           129,
           129,
           120,
           151,
           119,
           126,
           88,
           84,
           124,
           149,
           126,
           149,
           114,
           120,
           120,
           124,
           123,
           124,
           126,
           123,
           128,
           125,
           122,
           126,
           134,
           138,
           129,
           129,
           129,
           129,
           129,
           129,
           129,
           129,
           129,
           129,
           129,
           129,
           0,
           129,
           129,
           72,
           72,
           132,
           142,
           126,
           124,
           140,
           146,
           120,
           98,
           124,
           122,
           102,
           127,
           75,
           120,
           125,
           127,
           124,
           126,
           124,
           127,
           130,
           130,
           124,
           120,
           125,
           66,
           123,
           94,
           66,
           116,
           124,
           124,
           128,
           129,
           124,
           126,
           123,
           124,
           124,
           105,
           126,
           124,
           129,
           128,
           127,
           126,
           128,
           128,
           125,
           128,
           129,
           129,
           108,
           126,
           127,
           124,
           128,
           128,
           124,
           128,
           128,
           129,
           128,
           128,
           130,
           125,
           126,
           125,
           126,
           125,
           126,
           120,
           120,
           123,
           122,
           122,
           123,
           123,
           120,
           119,
           121,
           123,
           120,
           123,
           120,
           121,
           125,
           125,
           126,
           125,
           92,
           122,
           127,
           127,
           127,
           127,
           127,
           127,
           127,
           128,
           125,
           127,
           124,
           124,
           128,
           127,
           126,
           126,
           127,
           126,
           126,
           126,
           126,
           126,
           128,
           124,
           123,
           124,
           126,
           125,
           126,
           125,
           125,
           128,
           129,
           120,
           107,
           120,
           108,
           107,
           120,
           120,
           145,
           127,
           132,
           124,
           120,
           122,
           125,
           130,
           130,
           130,
           127,
           65,
           163,
           130,
           123,
           123,
           127,
           127,
           95,
           125,
           127,
           127,
           123,
           123,
           90,
           93,
           127,
           127,
           128,
           131,
           128,
           127,
           124,
           125,
           125,
           124,
           124,
           123,
           123,
           123,
           122,
           127,
           127,
           127,
           127,
           127,
           127,
           127,
           130,
           130,
           128,
           127,
           122,
           125,
           126,
           128,
           125,
           130,
           130,
           129,
           130,
           127,
           125,
           96,
           124,
           127,
           125,
           128,
           135,
           128,
           133,
           135,
           137,
           128,
           130,
           123,
           104,
           164,
           133,
           182,
           120,
           134,
           122,
           120,
           123,
           122,
           126,
           120,
           122,
           146,
           136,
           135,
           137,
           140,
           129,
           156,
           131,
           100,
           123,
           130,
           132,
           124,
           138,
           139,
           137,
           139,
           138,
           137,
           90,
           120,
           129,
           125,
           128,
           85,
           128,
           128,
           128,
           127,
           140,
           89,
           127,
           130,
           123,
           146,
           146,
           125,
           122,
           183,
           146,
           144,
           144,
           163,
           139,
           135,
           135,
           130,
           125,
           125,
           82,
           143,
           148,
           84,
           67,
           123,
           118,
           118,
           123,
           125,
           123,
           98,
           150,
           132,
           128
          ],
          "coloraxis": "coloraxis",
          "symbol": "circle"
         },
         "mode": "markers",
         "name": "",
         "orientation": "v",
         "showlegend": false,
         "type": "scatter",
         "x": [
          "B♭ min",
          "G min",
          "A min",
          "G♭ min",
          "A min",
          "F min",
          "A min",
          "A min",
          "E♭ min",
          "G maj",
          "C min",
          "A min",
          "G♭ min",
          "C min",
          "D♭ maj",
          "G min",
          "B♭ min",
          "A♭ min",
          "A♯ maj",
          "D min",
          "A♭ min",
          "G min",
          "G min",
          "A♭ min",
          "G min",
          "C min",
          "F min",
          "A min",
          "A min",
          "A maj",
          "A min",
          "C maj",
          "F maj",
          "A min",
          "A min",
          "A min",
          "F min",
          "A min",
          "A maj",
          "E min",
          "B min",
          "B min",
          "C min",
          "C min",
          "D min",
          "A maj",
          "D min",
          "G♯ min",
          "G maj",
          "D maj",
          "G♯ maj",
          "C maj",
          "F♯ maj",
          "C maj",
          "E min",
          "C maj",
          "A maj",
          "G maj",
          "A min",
          "B♭ maj",
          "A min",
          "B♭ min",
          "G♭ maj",
          "G♭ min",
          "D♭ min",
          "F♯ min",
          "A maj",
          "D♭ min",
          "G♭ min",
          "F min",
          "C maj",
          "A♭ min",
          "F min",
          "E♭ min",
          "A maj",
          "A maj",
          "F min",
          "D♭ min",
          "A maj",
          "F min",
          "B♭ maj",
          "G maj",
          "G maj",
          "G♭ min",
          "A min",
          "E min",
          "A min",
          "G♯ min",
          "B min",
          "G♭ min",
          "A maj",
          "A maj",
          "A min",
          "A min",
          "A min",
          "A min",
          "B♭ min",
          "C min",
          "B min",
          "E maj",
          "E min",
          "E min",
          "A♭ maj",
          "A min",
          "A min",
          "D♯ min",
          "C min",
          "D min",
          "G min",
          "A♯ maj",
          "A min",
          "B maj",
          "C maj",
          "E♭ min",
          "G♭ maj",
          "F min",
          "F min",
          "G♭ min",
          "E♭ min",
          "E♭ min",
          "G maj",
          "A min",
          "A min",
          "C maj",
          "F min",
          "C maj",
          "A♯ min",
          "F maj",
          "A♯ min",
          "A min",
          "E maj",
          "F maj",
          "A♭ maj",
          "A♭ maj",
          "E min",
          "E♭ min",
          "C min",
          "C min",
          "C min",
          "C min",
          "C min",
          "C min",
          "C min",
          "E min",
          "C maj",
          "D♯ min",
          "G min",
          "A min",
          "A min",
          "A min",
          "D min",
          "C min",
          "E maj",
          "A min",
          "G min",
          "G min",
          "G maj",
          "B min",
          "A min",
          "G min",
          "B min",
          "A maj",
          "B♭ min",
          "D♭ min",
          "D maj",
          "D♭ maj",
          "A min",
          "F min",
          "A maj",
          "G maj",
          "C min",
          "C maj",
          "A♯ min",
          "A min",
          "D♯ maj",
          "A maj",
          "C min",
          "D maj",
          "D min",
          "B min",
          "G♭ min",
          "G♭ min",
          "G min",
          "A♭ maj",
          "D min",
          "B min",
          "A♭ maj",
          "G♭ maj",
          "A♭ min",
          "E maj",
          "D♭ min",
          "D♭ min",
          "B♭ min",
          "G♭ min",
          "B♭ min",
          "E maj",
          "G♭ min",
          "E♭ min",
          "D maj",
          "D♭ min",
          "B min",
          "E maj",
          "D♭ min",
          "A♭ min",
          "B min",
          "E♭ min",
          "G♭ min",
          "A♭ min",
          "D min",
          "D maj",
          "D maj",
          "D min",
          "A♯ min",
          "D♭ maj",
          "D♭ maj",
          "D♭ min",
          "A♭ min",
          "F min",
          "F min",
          "F min",
          "F min",
          "F min",
          "F min",
          "C maj",
          "C min",
          "C min",
          "G maj",
          "C maj",
          "A♭ maj",
          "C maj",
          "F♯ min",
          "B♭ maj",
          "E♭ min",
          "D♭ maj",
          "E♭ min",
          "A min",
          "E♭ min",
          "E♭ maj",
          "C maj",
          "C min",
          "C maj",
          "C min",
          "G min",
          "E min",
          "G♯ min",
          "C♯ min",
          "D♯ min",
          "A min",
          "F min",
          "B♭ maj",
          "E♭ min",
          "G min",
          "C min",
          "A min",
          "C♯ min",
          "E min",
          "A maj",
          "F♯ min",
          "F♯ min",
          "D maj",
          "G min",
          "G♭ min",
          "G♯ min",
          "G maj",
          "E min",
          "A♭ min",
          "A min",
          "B min",
          "D min",
          "A min",
          "D♭ min",
          "D maj",
          "A min",
          "G maj",
          "B min",
          "B min",
          "D♭ min",
          "C min",
          "A min",
          "B min",
          "C min",
          "D maj",
          "A min",
          "A min",
          "C maj",
          "G maj",
          "D♯ min",
          "C♯ min",
          "D♯ maj",
          "E min",
          "D min",
          "D♯ maj",
          "A min",
          "A maj",
          "A maj",
          "C maj",
          "A min",
          "C♯ maj",
          "F♯ min",
          "E maj",
          "C♯ min",
          "C min",
          "E min",
          "D♯ maj",
          "E maj",
          "B min",
          "A♯ min",
          "B min",
          "A♯ min",
          "C min",
          "C min",
          "C maj",
          "G♯ min",
          "G♯ min",
          "E min",
          "G min",
          "C min",
          "C min",
          "F min",
          "B♭ min",
          "E min",
          "E min",
          "B♭ min",
          "F min",
          "A maj",
          "D min",
          "E min",
          "G♯ maj",
          "E maj"
         ],
         "xaxis": "x",
         "y": [
          0.000778184538547215,
          0.000207989098051772,
          0.0002277182412524808,
          0.0011469509174213614,
          0.00008588587718047296,
          0.0002340479619344295,
          0.0002670640708012502,
          0.0005120472451074455,
          -0.00030035616820211445,
          0.000308296030169089,
          0.0005473201736208146,
          0.0002670640708012502,
          0.000351165985806852,
          0.00040848263865487567,
          0.00036875084617227563,
          0.000029758431487163228,
          -0.000023273041780234958,
          0.00033762973596897184,
          0.00021168501270103085,
          0.00014738312445359072,
          0.00033762973596897184,
          0.0002059679596600238,
          0.00013988938659520054,
          0.000345866470392151,
          0.00016191557761680844,
          0.0010386991121811848,
          0.0007238978732948083,
          0.0007986040331423984,
          0.0007986040331423984,
          0.0015994073982354608,
          0.0007986040331423984,
          0.0011505775790263606,
          0.00019769269477598085,
          0.0007986040331423984,
          0.0007986040331423984,
          0.0007986040331423984,
          0.0007622832903877477,
          0.0007986040331423984,
          0.0015994073982354608,
          0.00043315365506997204,
          0.0006548907715166119,
          0.0006548907715166119,
          0.0007927583359558071,
          0.0007927583359558071,
          0.0007292876716772495,
          0.001612812919783867,
          0.0006982638637136492,
          0.000403941886765102,
          0.0008319788108777165,
          0.0011546814205605186,
          0.0000983767830810263,
          0.0016601937519819723,
          0.00044524964686605756,
          0.0009043896301088759,
          0.00005849421482763394,
          0.0007469304380519808,
          0.0010770921063141747,
          0.0003993454412698676,
          0.0003577609179038078,
          0.0005510139319685192,
          0.0003642078435434446,
          0.0000252611130323677,
          0.0005835611688414849,
          0.0010542910677310184,
          0.0007897196633099709,
          0.0004832327952400796,
          0.0006135376059646996,
          0.0003744194406370058,
          0.0005964694413074538,
          0.00005026738759387296,
          0.0003588147870501831,
          0.0001466619510567804,
          0.00005026738759387296,
          0.0003477347291884342,
          0.0006135376059646996,
          0.0006135376059646996,
          -0.00021416548571304367,
          0.00028551493686009206,
          0.0006135376059646996,
          0.002343711277866896,
          0.00028190685826119666,
          0.0011295153532621645,
          0.0011295153532621645,
          0.002410135629822418,
          0.0010882833938943258,
          0.0008153005802441178,
          0.0010689426169754154,
          0.001009506487104182,
          0.0009861808792437934,
          0.0018193911584730475,
          0.001868714788103216,
          0.001868714788103216,
          0.0010947303195339624,
          0.0010753895426150522,
          0.0010689426169754154,
          0.0010689426169754154,
          0.0010836724145153827,
          0.0012773034023077015,
          0.0009861808792437934,
          0.001573270851349804,
          0.0008189073009325413,
          0.0008189073009325413,
          0.0006323333316691458,
          0.0002831712928119197,
          0.0002831712928119197,
          0.0003904414268855183,
          0.0004930187259311942,
          0.0001867254670647341,
          0.00027902141499318127,
          0.00046844181459629666,
          0.00029606514409119317,
          0.0003392130257736542,
          0.0007231734282903816,
          0.0011097350051994716,
          0.0005989090005612662,
          0.0022982651336561372,
          0.0022982651336561372,
          0.0031310410681511048,
          0.003028155724166136,
          0.003028155724166136,
          0.002358473068014062,
          0.0023348820131556688,
          0.002354222790074579,
          0.002963092389315601,
          0.0022940000873124776,
          0.002837125035670085,
          0.002107047944686095,
          0.0019017962908667758,
          0.002107047944686095,
          0.0023477758644349423,
          0.0013157427278146028,
          0.0003767053087964656,
          0.000033452902969792475,
          0.0002183944091080879,
          0.0025773473627378187,
          0.0035917984298247923,
          0.0030721707370221034,
          0.0030721707370221034,
          0.0030721707370221034,
          0.0030721707370221034,
          0.0030721707370221034,
          0.0030721707370221034,
          0.0030721707370221034,
          0.0009410615600356361,
          0.001669037775607988,
          -0.00021657845465632153,
          0.0010612367777697636,
          0.0012233315042766938,
          0.0011975438017181469,
          0.0012039907273577836,
          0.0010907567066497613,
          0.0013994576614107966,
          0.0016098329891155805,
          0.0012104376529974204,
          0.0011052891598129786,
          0.0011052891598129786,
          0.0012482698675463308,
          0.0011388109002939697,
          0.0011975438017181469,
          0.0010612367777697636,
          0.0008778205339776747,
          0.0016343266191877228,
          0.0005319671216080771,
          0.0013458170628728545,
          0.0010052409306421182,
          0.001347911951565986,
          0.0008644669264795171,
          0.0008066235275099795,
          0.0016394825890140327,
          0.0008320192720358633,
          0.0008976388838906045,
          0.0014000471376976295,
          0.0002617589951917506,
          0.0009064794101832644,
          0.002065851306778663,
          0.001556169665516961,
          0.0010483767789964812,
          0.0009406845368672531,
          0.0006953306846461077,
          0.0007733125942208795,
          0.0016838797222801373,
          0.0016276183440563875,
          0.006412997007267236,
          0.0007085066165766693,
          0.002175107307926364,
          0.0020805759151398453,
          0.001263331134991559,
          0.00042375083537254075,
          0.00201520200387217,
          0.0025879089304124653,
          0.002781659334059467,
          0.002781659334059467,
          0.001930194953074661,
          0.0029770827910984704,
          0.0025016472194797456,
          0.0027305624659746622,
          0.0029770827910984704,
          0.003155145825525835,
          0.002392899293329315,
          0.002781659334059467,
          0.0032996063930231176,
          0.0036435450935727223,
          0.0027421462212697274,
          0.002311724443106627,
          0.0021415274390340086,
          0.0032898863230977024,
          0.002948952101986595,
          0.002311724443106627,
          0.00035571820975272245,
          0.0006234855711889713,
          0.0006234855711889713,
          0.00035571820975272245,
          0.0003818256459668353,
          0.0008203503060056558,
          0.0008203503060056558,
          0.0009932940438494259,
          0.0005645428250124829,
          0.0006066011584301752,
          0.0006066011584301752,
          0.0006066011584301752,
          0.0006066011584301752,
          0.0006066011584301752,
          0.0006066011584301752,
          0.001049349031204226,
          0.0008586197406830423,
          0.0008586197406830423,
          0.0006881650551463972,
          0.001049349031204226,
          0.0005676655354678282,
          0.0010332918504967923,
          0.0010970008076856106,
          0.0013504843525787291,
          0.0013883615889945036,
          0.0014527888539674072,
          0.0015567872109593381,
          0.000555350950967315,
          0.0015567872109593381,
          0.001396550520216237,
          0.0010332918504967923,
          0.0006447081349002246,
          0.0010647836889081724,
          0.0007676785230129135,
          0.00044751704368017507,
          0.0003053156349244406,
          0.007972433112218914,
          0.009222440631883433,
          0.010601725553813973,
          0.00740654215936672,
          0.00737478259970061,
          0.004568414797210263,
          0.002194100079794082,
          0.001040777530471704,
          0.0013137552974414692,
          0.0009670214224147739,
          0.0023161185626411895,
          0.0009913192330529021,
          0.0019841864392077637,
          0.0019816991321680287,
          0.0016106209486965173,
          0.0013023708223141154,
          0.001040777530471704,
          0.0020556351177471897,
          0.0009656146816777924,
          0.0012600360457266657,
          0.0009372184227265496,
          0.0010931253701555654,
          0.0005361549540823232,
          0.0002547156002515034,
          0.0005378202453976313,
          0.0005103672515237763,
          0.001048908159721925,
          0.0010321186613263865,
          0.0005683895822805067,
          0.0006826531076736754,
          0.0006204247436164849,
          0.00040709440998691225,
          0.0010192733251296205,
          0.0007817106454654411,
          0.00036698902513663384,
          -0.000023459525203239386,
          0.0006770067950720884,
          0.0007147582550675441,
          0.00036698902513663384,
          0.0003734359507762705,
          0.00422508039864837,
          0.002712297380645234,
          0.002758642214433865,
          0.0029596918071064307,
          0.0018893012326867487,
          0.0005014100194802483,
          0.0007002186828161263,
          0.0018893012326867487,
          0.000796664508563312,
          0.0015889585600862139,
          0.00160236408163462,
          0.002401864665262797,
          0.0008031114342029487,
          0.0016815200941569662,
          0.0012390978937740927,
          0.000531482270522134,
          0.00007850267827715085,
          0.000859223591240385,
          0.0003993841955459018,
          0.00036433404241720084,
          0.000531482270522134,
          0.00005397990178939837,
          0.0010931481505651614,
          -0.0005250595752051561,
          0.0009624250104452647,
          0.0008988914583735103,
          0.0008988914583735103,
          0.0009753113000939943,
          0.00034397395037063204,
          0.00034397395037063204,
          0.0003633169886616668,
          0.0009434671237232082,
          0.0009504596856465734,
          0.0006965853359945707,
          0.0008829417231736773,
          0.00040169114028399495,
          0.0003957774748574783,
          0.0003957774748574783,
          0.00040169114028399495,
          0.0006355690352414005,
          0.0023094688221710824,
          0.0012014558158075885,
          0.0012163754034765937,
          0.0005356186395317273,
          0.0018367791616577703
         ],
         "yaxis": "y"
        }
       ],
       "layout": {
        "coloraxis": {
         "colorbar": {
          "title": {
           "text": "BPM"
          }
         },
         "colorscale": [
          [
           0,
           "#0d0887"
          ],
          [
           0.1111111111111111,
           "#46039f"
          ],
          [
           0.2222222222222222,
           "#7201a8"
          ],
          [
           0.3333333333333333,
           "#9c179e"
          ],
          [
           0.4444444444444444,
           "#bd3786"
          ],
          [
           0.5555555555555556,
           "#d8576b"
          ],
          [
           0.6666666666666666,
           "#ed7953"
          ],
          [
           0.7777777777777778,
           "#fb9f3a"
          ],
          [
           0.8888888888888888,
           "#fdca26"
          ],
          [
           1,
           "#f0f921"
          ]
         ]
        },
        "legend": {
         "tracegroupgap": 0
        },
        "template": {
         "data": {
          "bar": [
           {
            "error_x": {
             "color": "#2a3f5f"
            },
            "error_y": {
             "color": "#2a3f5f"
            },
            "marker": {
             "line": {
              "color": "#E5ECF6",
              "width": 0.5
             }
            },
            "type": "bar"
           }
          ],
          "barpolar": [
           {
            "marker": {
             "line": {
              "color": "#E5ECF6",
              "width": 0.5
             }
            },
            "type": "barpolar"
           }
          ],
          "carpet": [
           {
            "aaxis": {
             "endlinecolor": "#2a3f5f",
             "gridcolor": "white",
             "linecolor": "white",
             "minorgridcolor": "white",
             "startlinecolor": "#2a3f5f"
            },
            "baxis": {
             "endlinecolor": "#2a3f5f",
             "gridcolor": "white",
             "linecolor": "white",
             "minorgridcolor": "white",
             "startlinecolor": "#2a3f5f"
            },
            "type": "carpet"
           }
          ],
          "choropleth": [
           {
            "colorbar": {
             "outlinewidth": 0,
             "ticks": ""
            },
            "type": "choropleth"
           }
          ],
          "contour": [
           {
            "colorbar": {
             "outlinewidth": 0,
             "ticks": ""
            },
            "colorscale": [
             [
              0,
              "#0d0887"
             ],
             [
              0.1111111111111111,
              "#46039f"
             ],
             [
              0.2222222222222222,
              "#7201a8"
             ],
             [
              0.3333333333333333,
              "#9c179e"
             ],
             [
              0.4444444444444444,
              "#bd3786"
             ],
             [
              0.5555555555555556,
              "#d8576b"
             ],
             [
              0.6666666666666666,
              "#ed7953"
             ],
             [
              0.7777777777777778,
              "#fb9f3a"
             ],
             [
              0.8888888888888888,
              "#fdca26"
             ],
             [
              1,
              "#f0f921"
             ]
            ],
            "type": "contour"
           }
          ],
          "contourcarpet": [
           {
            "colorbar": {
             "outlinewidth": 0,
             "ticks": ""
            },
            "type": "contourcarpet"
           }
          ],
          "heatmap": [
           {
            "colorbar": {
             "outlinewidth": 0,
             "ticks": ""
            },
            "colorscale": [
             [
              0,
              "#0d0887"
             ],
             [
              0.1111111111111111,
              "#46039f"
             ],
             [
              0.2222222222222222,
              "#7201a8"
             ],
             [
              0.3333333333333333,
              "#9c179e"
             ],
             [
              0.4444444444444444,
              "#bd3786"
             ],
             [
              0.5555555555555556,
              "#d8576b"
             ],
             [
              0.6666666666666666,
              "#ed7953"
             ],
             [
              0.7777777777777778,
              "#fb9f3a"
             ],
             [
              0.8888888888888888,
              "#fdca26"
             ],
             [
              1,
              "#f0f921"
             ]
            ],
            "type": "heatmap"
           }
          ],
          "heatmapgl": [
           {
            "colorbar": {
             "outlinewidth": 0,
             "ticks": ""
            },
            "colorscale": [
             [
              0,
              "#0d0887"
             ],
             [
              0.1111111111111111,
              "#46039f"
             ],
             [
              0.2222222222222222,
              "#7201a8"
             ],
             [
              0.3333333333333333,
              "#9c179e"
             ],
             [
              0.4444444444444444,
              "#bd3786"
             ],
             [
              0.5555555555555556,
              "#d8576b"
             ],
             [
              0.6666666666666666,
              "#ed7953"
             ],
             [
              0.7777777777777778,
              "#fb9f3a"
             ],
             [
              0.8888888888888888,
              "#fdca26"
             ],
             [
              1,
              "#f0f921"
             ]
            ],
            "type": "heatmapgl"
           }
          ],
          "histogram": [
           {
            "marker": {
             "colorbar": {
              "outlinewidth": 0,
              "ticks": ""
             }
            },
            "type": "histogram"
           }
          ],
          "histogram2d": [
           {
            "colorbar": {
             "outlinewidth": 0,
             "ticks": ""
            },
            "colorscale": [
             [
              0,
              "#0d0887"
             ],
             [
              0.1111111111111111,
              "#46039f"
             ],
             [
              0.2222222222222222,
              "#7201a8"
             ],
             [
              0.3333333333333333,
              "#9c179e"
             ],
             [
              0.4444444444444444,
              "#bd3786"
             ],
             [
              0.5555555555555556,
              "#d8576b"
             ],
             [
              0.6666666666666666,
              "#ed7953"
             ],
             [
              0.7777777777777778,
              "#fb9f3a"
             ],
             [
              0.8888888888888888,
              "#fdca26"
             ],
             [
              1,
              "#f0f921"
             ]
            ],
            "type": "histogram2d"
           }
          ],
          "histogram2dcontour": [
           {
            "colorbar": {
             "outlinewidth": 0,
             "ticks": ""
            },
            "colorscale": [
             [
              0,
              "#0d0887"
             ],
             [
              0.1111111111111111,
              "#46039f"
             ],
             [
              0.2222222222222222,
              "#7201a8"
             ],
             [
              0.3333333333333333,
              "#9c179e"
             ],
             [
              0.4444444444444444,
              "#bd3786"
             ],
             [
              0.5555555555555556,
              "#d8576b"
             ],
             [
              0.6666666666666666,
              "#ed7953"
             ],
             [
              0.7777777777777778,
              "#fb9f3a"
             ],
             [
              0.8888888888888888,
              "#fdca26"
             ],
             [
              1,
              "#f0f921"
             ]
            ],
            "type": "histogram2dcontour"
           }
          ],
          "mesh3d": [
           {
            "colorbar": {
             "outlinewidth": 0,
             "ticks": ""
            },
            "type": "mesh3d"
           }
          ],
          "parcoords": [
           {
            "line": {
             "colorbar": {
              "outlinewidth": 0,
              "ticks": ""
             }
            },
            "type": "parcoords"
           }
          ],
          "pie": [
           {
            "automargin": true,
            "type": "pie"
           }
          ],
          "scatter": [
           {
            "marker": {
             "colorbar": {
              "outlinewidth": 0,
              "ticks": ""
             }
            },
            "type": "scatter"
           }
          ],
          "scatter3d": [
           {
            "line": {
             "colorbar": {
              "outlinewidth": 0,
              "ticks": ""
             }
            },
            "marker": {
             "colorbar": {
              "outlinewidth": 0,
              "ticks": ""
             }
            },
            "type": "scatter3d"
           }
          ],
          "scattercarpet": [
           {
            "marker": {
             "colorbar": {
              "outlinewidth": 0,
              "ticks": ""
             }
            },
            "type": "scattercarpet"
           }
          ],
          "scattergeo": [
           {
            "marker": {
             "colorbar": {
              "outlinewidth": 0,
              "ticks": ""
             }
            },
            "type": "scattergeo"
           }
          ],
          "scattergl": [
           {
            "marker": {
             "colorbar": {
              "outlinewidth": 0,
              "ticks": ""
             }
            },
            "type": "scattergl"
           }
          ],
          "scattermapbox": [
           {
            "marker": {
             "colorbar": {
              "outlinewidth": 0,
              "ticks": ""
             }
            },
            "type": "scattermapbox"
           }
          ],
          "scatterpolar": [
           {
            "marker": {
             "colorbar": {
              "outlinewidth": 0,
              "ticks": ""
             }
            },
            "type": "scatterpolar"
           }
          ],
          "scatterpolargl": [
           {
            "marker": {
             "colorbar": {
              "outlinewidth": 0,
              "ticks": ""
             }
            },
            "type": "scatterpolargl"
           }
          ],
          "scatterternary": [
           {
            "marker": {
             "colorbar": {
              "outlinewidth": 0,
              "ticks": ""
             }
            },
            "type": "scatterternary"
           }
          ],
          "surface": [
           {
            "colorbar": {
             "outlinewidth": 0,
             "ticks": ""
            },
            "colorscale": [
             [
              0,
              "#0d0887"
             ],
             [
              0.1111111111111111,
              "#46039f"
             ],
             [
              0.2222222222222222,
              "#7201a8"
             ],
             [
              0.3333333333333333,
              "#9c179e"
             ],
             [
              0.4444444444444444,
              "#bd3786"
             ],
             [
              0.5555555555555556,
              "#d8576b"
             ],
             [
              0.6666666666666666,
              "#ed7953"
             ],
             [
              0.7777777777777778,
              "#fb9f3a"
             ],
             [
              0.8888888888888888,
              "#fdca26"
             ],
             [
              1,
              "#f0f921"
             ]
            ],
            "type": "surface"
           }
          ],
          "table": [
           {
            "cells": {
             "fill": {
              "color": "#EBF0F8"
             },
             "line": {
              "color": "white"
             }
            },
            "header": {
             "fill": {
              "color": "#C8D4E3"
             },
             "line": {
              "color": "white"
             }
            },
            "type": "table"
           }
          ]
         },
         "layout": {
          "annotationdefaults": {
           "arrowcolor": "#2a3f5f",
           "arrowhead": 0,
           "arrowwidth": 1
          },
          "autotypenumbers": "strict",
          "coloraxis": {
           "colorbar": {
            "outlinewidth": 0,
            "ticks": ""
           }
          },
          "colorscale": {
           "diverging": [
            [
             0,
             "#8e0152"
            ],
            [
             0.1,
             "#c51b7d"
            ],
            [
             0.2,
             "#de77ae"
            ],
            [
             0.3,
             "#f1b6da"
            ],
            [
             0.4,
             "#fde0ef"
            ],
            [
             0.5,
             "#f7f7f7"
            ],
            [
             0.6,
             "#e6f5d0"
            ],
            [
             0.7,
             "#b8e186"
            ],
            [
             0.8,
             "#7fbc41"
            ],
            [
             0.9,
             "#4d9221"
            ],
            [
             1,
             "#276419"
            ]
           ],
           "sequential": [
            [
             0,
             "#0d0887"
            ],
            [
             0.1111111111111111,
             "#46039f"
            ],
            [
             0.2222222222222222,
             "#7201a8"
            ],
            [
             0.3333333333333333,
             "#9c179e"
            ],
            [
             0.4444444444444444,
             "#bd3786"
            ],
            [
             0.5555555555555556,
             "#d8576b"
            ],
            [
             0.6666666666666666,
             "#ed7953"
            ],
            [
             0.7777777777777778,
             "#fb9f3a"
            ],
            [
             0.8888888888888888,
             "#fdca26"
            ],
            [
             1,
             "#f0f921"
            ]
           ],
           "sequentialminus": [
            [
             0,
             "#0d0887"
            ],
            [
             0.1111111111111111,
             "#46039f"
            ],
            [
             0.2222222222222222,
             "#7201a8"
            ],
            [
             0.3333333333333333,
             "#9c179e"
            ],
            [
             0.4444444444444444,
             "#bd3786"
            ],
            [
             0.5555555555555556,
             "#d8576b"
            ],
            [
             0.6666666666666666,
             "#ed7953"
            ],
            [
             0.7777777777777778,
             "#fb9f3a"
            ],
            [
             0.8888888888888888,
             "#fdca26"
            ],
            [
             1,
             "#f0f921"
            ]
           ]
          },
          "colorway": [
           "#636efa",
           "#EF553B",
           "#00cc96",
           "#ab63fa",
           "#FFA15A",
           "#19d3f3",
           "#FF6692",
           "#B6E880",
           "#FF97FF",
           "#FECB52"
          ],
          "font": {
           "color": "#2a3f5f"
          },
          "geo": {
           "bgcolor": "white",
           "lakecolor": "white",
           "landcolor": "#E5ECF6",
           "showlakes": true,
           "showland": true,
           "subunitcolor": "white"
          },
          "hoverlabel": {
           "align": "left"
          },
          "hovermode": "closest",
          "mapbox": {
           "style": "light"
          },
          "paper_bgcolor": "white",
          "plot_bgcolor": "#E5ECF6",
          "polar": {
           "angularaxis": {
            "gridcolor": "white",
            "linecolor": "white",
            "ticks": ""
           },
           "bgcolor": "#E5ECF6",
           "radialaxis": {
            "gridcolor": "white",
            "linecolor": "white",
            "ticks": ""
           }
          },
          "scene": {
           "xaxis": {
            "backgroundcolor": "#E5ECF6",
            "gridcolor": "white",
            "gridwidth": 2,
            "linecolor": "white",
            "showbackground": true,
            "ticks": "",
            "zerolinecolor": "white"
           },
           "yaxis": {
            "backgroundcolor": "#E5ECF6",
            "gridcolor": "white",
            "gridwidth": 2,
            "linecolor": "white",
            "showbackground": true,
            "ticks": "",
            "zerolinecolor": "white"
           },
           "zaxis": {
            "backgroundcolor": "#E5ECF6",
            "gridcolor": "white",
            "gridwidth": 2,
            "linecolor": "white",
            "showbackground": true,
            "ticks": "",
            "zerolinecolor": "white"
           }
          },
          "shapedefaults": {
           "line": {
            "color": "#2a3f5f"
           }
          },
          "ternary": {
           "aaxis": {
            "gridcolor": "white",
            "linecolor": "white",
            "ticks": ""
           },
           "baxis": {
            "gridcolor": "white",
            "linecolor": "white",
            "ticks": ""
           },
           "bgcolor": "#E5ECF6",
           "caxis": {
            "gridcolor": "white",
            "linecolor": "white",
            "ticks": ""
           }
          },
          "title": {
           "x": 0.05
          },
          "xaxis": {
           "automargin": true,
           "gridcolor": "white",
           "linecolor": "white",
           "ticks": "",
           "title": {
            "standoff": 15
           },
           "zerolinecolor": "white",
           "zerolinewidth": 2
          },
          "yaxis": {
           "automargin": true,
           "gridcolor": "white",
           "linecolor": "white",
           "ticks": "",
           "title": {
            "standoff": 15
           },
           "zerolinecolor": "white",
           "zerolinewidth": 2
          }
         }
        },
        "title": {
         "text": "Key vs predicted values. Coloured by BPM"
        },
        "xaxis": {
         "anchor": "y",
         "domain": [
          0,
          1
         ],
         "title": {
          "text": "Key"
         }
        },
        "yaxis": {
         "anchor": "x",
         "domain": [
          0,
          1
         ],
         "title": {
          "text": "Fitted"
         }
        }
       }
      }
     },
     "metadata": {}
    }
   ],
   "source": [
    "px.scatter(tracks_foll, \"Key\", \"Fitted\", color=\"BPM\", title=\"Key vs predicted values. Coloured by BPM\")"
   ]
  },
  {
   "cell_type": "code",
   "execution_count": 271,
   "metadata": {},
   "outputs": [],
   "source": [
    "# splitting data into train and test dataset\n",
    "from sklearn.model_selection import train_test_split\n",
    "X = tracks_foll\n",
    "y = tracks_foll['ActiveEng']\n",
    "\n",
    "X_train, X_test, y_train, y_test = train_test_split(X, y, test_size=0.4)"
   ]
  },
  {
   "cell_type": "code",
   "execution_count": 272,
   "metadata": {},
   "outputs": [
    {
     "output_type": "execute_result",
     "data": {
      "text/plain": [
       "((197, 16), (132, 16))"
      ]
     },
     "metadata": {},
     "execution_count": 272
    }
   ],
   "source": [
    "X_train.shape, X_test.shape"
   ]
  },
  {
   "cell_type": "code",
   "execution_count": 273,
   "metadata": {},
   "outputs": [
    {
     "output_type": "stream",
     "name": "stdout",
     "text": [
      "                            OLS Regression Results                            \n==============================================================================\nDep. Variable:              ActiveEng   R-squared:                       0.776\nModel:                            OLS   Adj. R-squared:                  0.615\nMethod:                 Least Squares   F-statistic:                     4.823\nDate:                Tue, 06 Apr 2021   Prob (F-statistic):           1.25e-14\nTime:                        16:55:43   Log-Likelihood:                 1129.9\nNo. Observations:                 197   AIC:                            -2094.\nDf Residuals:                     114   BIC:                            -1821.\nDf Model:                          82                                         \nCovariance Type:            nonrobust                                         \n====================================================================================================\n                                       coef    std err          t      P>|t|      [0.025      0.975]\n----------------------------------------------------------------------------------------------------\nIntercept                            0.0012      0.002      0.503      0.616      -0.004       0.006\nKey[T.A min]                        -0.0003      0.004     -0.080      0.936      -0.008       0.007\nKey[T.A♭ maj]                        0.0268      0.025      1.063      0.290      -0.023       0.077\nKey[T.A♭ min]                        0.0007      0.004      0.173      0.863      -0.007       0.008\nKey[T.A♯ maj]                       -0.0333      0.196     -0.170      0.866      -0.422       0.356\nKey[T.A♯ min]                       -0.0016      0.006     -0.268      0.789      -0.013       0.010\nKey[T.B min]                         0.0038      0.004      0.921      0.359      -0.004       0.012\nKey[T.B♭ maj]                    -4.739e-05   6.15e-05     -0.771      0.443      -0.000    7.45e-05\nKey[T.B♭ min]                        0.0339      0.037      0.911      0.364      -0.040       0.108\nKey[T.C maj]                         0.0034      0.004      0.772      0.442      -0.005       0.012\nKey[T.C min]                        -0.0014      0.003     -0.475      0.636      -0.007       0.004\nKey[T.C♯ maj]                     1.128e-08   6.82e-08      0.165      0.869   -1.24e-07    1.46e-07\nKey[T.C♯ min]                        0.0308      0.013      2.352      0.020       0.005       0.057\nKey[T.D maj]                        -0.0023      0.006     -0.378      0.706      -0.014       0.010\nKey[T.D min]                         0.0015      0.006      0.239      0.812      -0.011       0.014\nKey[T.D♭ maj]                       -0.1221      0.100     -1.217      0.226      -0.321       0.077\nKey[T.D♭ min]                        0.0085      0.013      0.639      0.524      -0.018       0.035\nKey[T.D♯ maj]                        0.0039      0.004      0.910      0.365      -0.005       0.013\nKey[T.D♯ min]                       -0.2439      0.064     -3.797      0.000      -0.371      -0.117\nKey[T.E maj]                         0.0055      0.005      1.116      0.267      -0.004       0.015\nKey[T.E min]                        -0.0012      0.003     -0.452      0.652      -0.007       0.004\nKey[T.E♭ min]                       -0.0020      0.004     -0.483      0.630      -0.010       0.006\nKey[T.F maj]                     -8.319e-08   6.74e-08     -1.235      0.219   -2.17e-07    5.03e-08\nKey[T.F min]                        -0.0004      0.003     -0.122      0.903      -0.006       0.006\nKey[T.F♯ min]                        0.0157      0.051      0.305      0.761      -0.086       0.118\nKey[T.G maj]                        -0.0013      0.005     -0.251      0.802      -0.012       0.009\nKey[T.G min]                        -0.0048      0.008     -0.577      0.565      -0.021       0.012\nKey[T.G♭ maj]                       -0.0053      0.004     -1.470      0.144      -0.012       0.002\nKey[T.G♭ min]                        0.0079      0.006      1.231      0.221      -0.005       0.021\nKey[T.G♯ maj]                    -3.617e-08   8.84e-08     -0.409      0.683   -2.11e-07    1.39e-07\nKey[T.G♯ min]                       -0.0003      0.057     -0.005      0.996      -0.113       0.113\nArtistName[T.Nina Kraviz]           -0.0003      0.001     -0.308      0.759      -0.002       0.002\nArtistName[T.Richie Hawtin]          0.0002      0.001      0.333      0.740      -0.001       0.001\nArtistName[T.Tale of Us]            -0.0005      0.001     -0.829      0.409      -0.002       0.001\nArtistName[T.aleksandir]             0.0061      0.001      5.559      0.000       0.004       0.008\nArtistName[T.baltra]              3.766e-05      0.001      0.060      0.953      -0.001       0.001\nArtistName[T.daniel avery]           0.0032      0.001      3.247      0.002       0.001       0.005\nArtistName[T.efdemin]               -0.0007      0.001     -1.205      0.231      -0.002       0.000\nArtistName[T.enrico sangiuliano]     0.0006      0.001      0.582      0.562      -0.002       0.003\nArtistName[T.floating points]       -0.0003      0.001     -0.456      0.649      -0.001       0.001\nArtistName[T.harrison bdp]           0.0003      0.001      0.499      0.619      -0.001       0.002\nArtistName[T.ilario alicante]       -0.0012      0.002     -0.770      0.443      -0.004       0.002\nArtistName[T.kevin yost]             0.0022      0.001      3.304      0.001       0.001       0.003\nArtistName[T.kink]                   0.0001      0.001      0.197      0.844      -0.001       0.002\nArtistName[T.laurent garnier]       -0.0002      0.001     -0.162      0.871      -0.002       0.002\nArtistName[T.maceo plex]          1.662e-05      0.001      0.028      0.977      -0.001       0.001\nArtistName[T.mall grab]             -0.0009      0.001     -0.762      0.448      -0.003       0.001\nArtistName[T.marcel dettmann]        0.0019      0.001      3.300      0.001       0.001       0.003\nArtistName[T.mathame]              5.63e-05      0.001      0.076      0.939      -0.001       0.002\nArtistName[T.mind against]          -0.0001      0.001     -0.154      0.878      -0.002       0.001\nArtistName[T.monika kruse]           0.0002      0.001      0.274      0.784      -0.001       0.002\nArtistName[T.pleasurekraft]         -0.0005      0.001     -0.774      0.440      -0.002       0.001\nArtistName[T.randomer]              -0.0002      0.001     -0.364      0.716      -0.001       0.001\nArtistName[T.ron flatter]            0.0017      0.001      3.056      0.003       0.001       0.003\nArtistName[T.seb wildblood]         -0.0008      0.001     -1.061      0.291      -0.002       0.001\nArtistName[T.woo york]              -0.0002      0.001     -0.271      0.787      -0.002       0.001\nBPM                               1.066e-06   2.07e-05      0.051      0.959      -4e-05    4.21e-05\nBPM:Key[T.A min]                 -1.422e-06   2.89e-05     -0.049      0.961   -5.86e-05    5.58e-05\nBPM:Key[T.A♭ maj]                   -0.0002      0.000     -1.136      0.258      -0.001       0.000\nBPM:Key[T.A♭ min]                -9.161e-06   2.97e-05     -0.308      0.759   -6.81e-05    4.97e-05\nBPM:Key[T.A♯ maj]                    0.0003      0.002      0.167      0.868      -0.003       0.003\nBPM:Key[T.A♯ min]                 1.212e-05    4.8e-05      0.252      0.801   -8.31e-05       0.000\nBPM:Key[T.B min]                 -3.557e-05   3.34e-05     -1.065      0.289      -0.000    3.06e-05\nBPM:Key[T.B♭ maj]                 1.511e-06   9.92e-06      0.152      0.879   -1.81e-05    2.12e-05\nBPM:Key[T.B♭ min]                   -0.0003      0.000     -0.936      0.351      -0.001       0.000\nBPM:Key[T.C maj]                  -3.08e-05   3.73e-05     -0.827      0.410      -0.000     4.3e-05\nBPM:Key[T.C min]                  1.029e-05    2.4e-05      0.428      0.669   -3.73e-05    5.79e-05\nBPM:Key[T.C♯ maj]                 1.466e-06   8.87e-06      0.165      0.869   -1.61e-05     1.9e-05\nBPM:Key[T.C♯ min]                   -0.0002   9.57e-05     -2.299      0.023      -0.000   -3.04e-05\nBPM:Key[T.D maj]                  1.717e-05   4.59e-05      0.374      0.709   -7.38e-05       0.000\nBPM:Key[T.D min]                 -1.713e-05   5.16e-05     -0.332      0.741      -0.000    8.51e-05\nBPM:Key[T.D♭ maj]                    0.0010      0.001      1.218      0.226      -0.001       0.003\nBPM:Key[T.D♭ min]                -6.805e-05      0.000     -0.645      0.520      -0.000       0.000\nBPM:Key[T.D♯ maj]                -2.631e-05   3.16e-05     -0.833      0.406   -8.88e-05    3.62e-05\nBPM:Key[T.D♯ min]                    0.0019      0.000      3.794      0.000       0.001       0.003\nBPM:Key[T.E maj]                  -4.85e-05   4.08e-05     -1.187      0.238      -0.000    3.24e-05\nBPM:Key[T.E min]                  4.068e-06   2.25e-05      0.181      0.857   -4.06e-05    4.87e-05\nBPM:Key[T.E♭ min]                 1.431e-05   3.46e-05      0.413      0.680   -5.43e-05    8.29e-05\nBPM:Key[T.F maj]                 -1.073e-05   8.69e-06     -1.235      0.219    -2.8e-05    6.49e-06\nBPM:Key[T.F min]                 -2.771e-06   2.48e-05     -0.112      0.911   -5.19e-05    4.63e-05\nBPM:Key[T.F♯ min]                   -0.0001      0.000     -0.310      0.757      -0.001       0.001\nBPM:Key[T.G maj]                  4.325e-06   4.23e-05      0.102      0.919   -7.95e-05    8.81e-05\nBPM:Key[T.G min]                   3.24e-05   6.53e-05      0.496      0.621    -9.7e-05       0.000\nBPM:Key[T.G♭ maj]                 3.808e-05   3.15e-05      1.208      0.230   -2.44e-05       0.000\nBPM:Key[T.G♭ min]                -5.921e-05   5.07e-05     -1.168      0.245      -0.000    4.12e-05\nBPM:Key[T.G♯ maj]                -4.774e-06   1.17e-05     -0.409      0.683   -2.79e-05    1.83e-05\nBPM:Key[T.G♯ min]                -2.635e-06      0.000     -0.006      0.995      -0.001       0.001\n==============================================================================\nOmnibus:                       35.105   Durbin-Watson:                   2.085\nProb(Omnibus):                  0.000   Jarque-Bera (JB):              130.158\nSkew:                           0.619   Prob(JB):                     5.45e-29\nKurtosis:                       6.785   Cond. No.                     1.01e+16\n==============================================================================\n\nNotes:\n[1] Standard Errors assume that the covariance matrix of the errors is correctly specified.\n[2] The smallest eigenvalue is 3.14e-26. This might indicate that there are\nstrong multicollinearity problems or that the design matrix is singular.\n"
     ]
    }
   ],
   "source": [
    "model_fin = smf.ols('ActiveEng ~ BPM*Key + ArtistName', data=X_train).fit()\n",
    "print(model_fin.summary())"
   ]
  },
  {
   "cell_type": "code",
   "execution_count": 274,
   "metadata": {},
   "outputs": [
    {
     "output_type": "stream",
     "name": "stderr",
     "text": [
      "C:\\Users\\Federico\\miniconda3\\lib\\site-packages\\statsmodels\\base\\model.py:1832: ValueWarning:\n\ncovariance of constraints does not have full rank. The number of constraints is 30, but rank is 27\n\n"
     ]
    },
    {
     "output_type": "execute_result",
     "data": {
      "text/plain": [
       "                  sum_sq     df         F        PR(>F)\n",
       "Key         2.656696e-05   30.0  0.839758  6.920344e-01\n",
       "ArtistName  1.547381e-04   25.0  5.869360  1.947672e-11\n",
       "BPM         6.023336e-08    1.0  0.057118  8.115401e-01\n",
       "BPM:Key     4.092495e-05   30.0  1.293601  1.681070e-01\n",
       "Residual    1.202186e-04  114.0       NaN           NaN"
      ],
      "text/html": "<div>\n<style scoped>\n    .dataframe tbody tr th:only-of-type {\n        vertical-align: middle;\n    }\n\n    .dataframe tbody tr th {\n        vertical-align: top;\n    }\n\n    .dataframe thead th {\n        text-align: right;\n    }\n</style>\n<table border=\"1\" class=\"dataframe\">\n  <thead>\n    <tr style=\"text-align: right;\">\n      <th></th>\n      <th>sum_sq</th>\n      <th>df</th>\n      <th>F</th>\n      <th>PR(&gt;F)</th>\n    </tr>\n  </thead>\n  <tbody>\n    <tr>\n      <th>Key</th>\n      <td>2.656696e-05</td>\n      <td>30.0</td>\n      <td>0.839758</td>\n      <td>6.920344e-01</td>\n    </tr>\n    <tr>\n      <th>ArtistName</th>\n      <td>1.547381e-04</td>\n      <td>25.0</td>\n      <td>5.869360</td>\n      <td>1.947672e-11</td>\n    </tr>\n    <tr>\n      <th>BPM</th>\n      <td>6.023336e-08</td>\n      <td>1.0</td>\n      <td>0.057118</td>\n      <td>8.115401e-01</td>\n    </tr>\n    <tr>\n      <th>BPM:Key</th>\n      <td>4.092495e-05</td>\n      <td>30.0</td>\n      <td>1.293601</td>\n      <td>1.681070e-01</td>\n    </tr>\n    <tr>\n      <th>Residual</th>\n      <td>1.202186e-04</td>\n      <td>114.0</td>\n      <td>NaN</td>\n      <td>NaN</td>\n    </tr>\n  </tbody>\n</table>\n</div>"
     },
     "metadata": {},
     "execution_count": 274
    }
   ],
   "source": [
    "sm.stats.anova_lm(model_fin, typ=2)"
   ]
  },
  {
   "cell_type": "code",
   "execution_count": 275,
   "metadata": {},
   "outputs": [
    {
     "output_type": "error",
     "ename": "PatsyError",
     "evalue": "predict requires that you use a DataFrame when predicting from a model\nthat was created using the formula api.\n\nThe original error message returned by patsy is:\nError converting data to categorical: observation with value 'F♯ maj' does not match any of the expected levels (expected: ['A maj', 'A min', ..., 'G♯ maj', 'G♯ min'])\n    ActiveEng ~ BPM*Key + ArtistName\n                    ^^^",
     "traceback": [
      "\u001b[1;31m---------------------------------------------------------------------------\u001b[0m",
      "\u001b[1;31mKeyError\u001b[0m                                  Traceback (most recent call last)",
      "\u001b[1;32m~\\miniconda3\\lib\\site-packages\\patsy\\categorical.py\u001b[0m in \u001b[0;36mcategorical_to_int\u001b[1;34m(data, levels, NA_action, origin)\u001b[0m\n\u001b[0;32m    345\u001b[0m             \u001b[1;32mtry\u001b[0m\u001b[1;33m:\u001b[0m\u001b[1;33m\u001b[0m\u001b[1;33m\u001b[0m\u001b[0m\n\u001b[1;32m--> 346\u001b[1;33m                 \u001b[0mout\u001b[0m\u001b[1;33m[\u001b[0m\u001b[0mi\u001b[0m\u001b[1;33m]\u001b[0m \u001b[1;33m=\u001b[0m \u001b[0mlevel_to_int\u001b[0m\u001b[1;33m[\u001b[0m\u001b[0mvalue\u001b[0m\u001b[1;33m]\u001b[0m\u001b[1;33m\u001b[0m\u001b[1;33m\u001b[0m\u001b[0m\n\u001b[0m\u001b[0;32m    347\u001b[0m             \u001b[1;32mexcept\u001b[0m \u001b[0mKeyError\u001b[0m\u001b[1;33m:\u001b[0m\u001b[1;33m\u001b[0m\u001b[1;33m\u001b[0m\u001b[0m\n",
      "\u001b[1;31mKeyError\u001b[0m: 'F♯ maj'",
      "\nDuring handling of the above exception, another exception occurred:\n",
      "\u001b[1;31mPatsyError\u001b[0m                                Traceback (most recent call last)",
      "\u001b[1;32m~\\miniconda3\\lib\\site-packages\\statsmodels\\base\\model.py\u001b[0m in \u001b[0;36mpredict\u001b[1;34m(self, exog, transform, *args, **kwargs)\u001b[0m\n\u001b[0;32m   1076\u001b[0m             \u001b[1;32mtry\u001b[0m\u001b[1;33m:\u001b[0m\u001b[1;33m\u001b[0m\u001b[1;33m\u001b[0m\u001b[0m\n\u001b[1;32m-> 1077\u001b[1;33m                 \u001b[0mexog\u001b[0m \u001b[1;33m=\u001b[0m \u001b[0mdmatrix\u001b[0m\u001b[1;33m(\u001b[0m\u001b[0mdesign_info\u001b[0m\u001b[1;33m,\u001b[0m \u001b[0mexog\u001b[0m\u001b[1;33m,\u001b[0m \u001b[0mreturn_type\u001b[0m\u001b[1;33m=\u001b[0m\u001b[1;34m\"dataframe\"\u001b[0m\u001b[1;33m)\u001b[0m\u001b[1;33m\u001b[0m\u001b[1;33m\u001b[0m\u001b[0m\n\u001b[0m\u001b[0;32m   1078\u001b[0m             \u001b[1;32mexcept\u001b[0m \u001b[0mException\u001b[0m \u001b[1;32mas\u001b[0m \u001b[0mexc\u001b[0m\u001b[1;33m:\u001b[0m\u001b[1;33m\u001b[0m\u001b[1;33m\u001b[0m\u001b[0m\n",
      "\u001b[1;32m~\\miniconda3\\lib\\site-packages\\patsy\\highlevel.py\u001b[0m in \u001b[0;36mdmatrix\u001b[1;34m(formula_like, data, eval_env, NA_action, return_type)\u001b[0m\n\u001b[0;32m    289\u001b[0m     \u001b[0meval_env\u001b[0m \u001b[1;33m=\u001b[0m \u001b[0mEvalEnvironment\u001b[0m\u001b[1;33m.\u001b[0m\u001b[0mcapture\u001b[0m\u001b[1;33m(\u001b[0m\u001b[0meval_env\u001b[0m\u001b[1;33m,\u001b[0m \u001b[0mreference\u001b[0m\u001b[1;33m=\u001b[0m\u001b[1;36m1\u001b[0m\u001b[1;33m)\u001b[0m\u001b[1;33m\u001b[0m\u001b[1;33m\u001b[0m\u001b[0m\n\u001b[1;32m--> 290\u001b[1;33m     (lhs, rhs) = _do_highlevel_design(formula_like, data, eval_env,\n\u001b[0m\u001b[0;32m    291\u001b[0m                                       NA_action, return_type)\n",
      "\u001b[1;32m~\\miniconda3\\lib\\site-packages\\patsy\\highlevel.py\u001b[0m in \u001b[0;36m_do_highlevel_design\u001b[1;34m(formula_like, data, eval_env, NA_action, return_type)\u001b[0m\n\u001b[0;32m    166\u001b[0m     \u001b[1;32mif\u001b[0m \u001b[0mdesign_infos\u001b[0m \u001b[1;32mis\u001b[0m \u001b[1;32mnot\u001b[0m \u001b[1;32mNone\u001b[0m\u001b[1;33m:\u001b[0m\u001b[1;33m\u001b[0m\u001b[1;33m\u001b[0m\u001b[0m\n\u001b[1;32m--> 167\u001b[1;33m         return build_design_matrices(design_infos, data,\n\u001b[0m\u001b[0;32m    168\u001b[0m                                      \u001b[0mNA_action\u001b[0m\u001b[1;33m=\u001b[0m\u001b[0mNA_action\u001b[0m\u001b[1;33m,\u001b[0m\u001b[1;33m\u001b[0m\u001b[1;33m\u001b[0m\u001b[0m\n",
      "\u001b[1;32m~\\miniconda3\\lib\\site-packages\\patsy\\build.py\u001b[0m in \u001b[0;36mbuild_design_matrices\u001b[1;34m(design_infos, data, NA_action, return_type, dtype)\u001b[0m\n\u001b[0;32m    887\u001b[0m             \u001b[1;32mif\u001b[0m \u001b[0mfactor_info\u001b[0m \u001b[1;32mnot\u001b[0m \u001b[1;32min\u001b[0m \u001b[0mfactor_info_to_values\u001b[0m\u001b[1;33m:\u001b[0m\u001b[1;33m\u001b[0m\u001b[1;33m\u001b[0m\u001b[0m\n\u001b[1;32m--> 888\u001b[1;33m                 \u001b[0mvalue\u001b[0m\u001b[1;33m,\u001b[0m \u001b[0mis_NA\u001b[0m \u001b[1;33m=\u001b[0m \u001b[0m_eval_factor\u001b[0m\u001b[1;33m(\u001b[0m\u001b[0mfactor_info\u001b[0m\u001b[1;33m,\u001b[0m \u001b[0mdata\u001b[0m\u001b[1;33m,\u001b[0m \u001b[0mNA_action\u001b[0m\u001b[1;33m)\u001b[0m\u001b[1;33m\u001b[0m\u001b[1;33m\u001b[0m\u001b[0m\n\u001b[0m\u001b[0;32m    889\u001b[0m                 \u001b[0mfactor_info_to_isNAs\u001b[0m\u001b[1;33m[\u001b[0m\u001b[0mfactor_info\u001b[0m\u001b[1;33m]\u001b[0m \u001b[1;33m=\u001b[0m \u001b[0mis_NA\u001b[0m\u001b[1;33m\u001b[0m\u001b[1;33m\u001b[0m\u001b[0m\n",
      "\u001b[1;32m~\\miniconda3\\lib\\site-packages\\patsy\\build.py\u001b[0m in \u001b[0;36m_eval_factor\u001b[1;34m(factor_info, data, NA_action)\u001b[0m\n\u001b[0;32m     83\u001b[0m         \u001b[1;32massert\u001b[0m \u001b[0mfactor_info\u001b[0m\u001b[1;33m.\u001b[0m\u001b[0mtype\u001b[0m \u001b[1;33m==\u001b[0m \u001b[1;34m\"categorical\"\u001b[0m\u001b[1;33m\u001b[0m\u001b[1;33m\u001b[0m\u001b[0m\n\u001b[1;32m---> 84\u001b[1;33m         result = categorical_to_int(result, factor_info.categories, NA_action,\n\u001b[0m\u001b[0;32m     85\u001b[0m                                     origin=factor_info.factor)\n",
      "\u001b[1;32m~\\miniconda3\\lib\\site-packages\\patsy\\categorical.py\u001b[0m in \u001b[0;36mcategorical_to_int\u001b[1;34m(data, levels, NA_action, origin)\u001b[0m\n\u001b[0;32m    358\u001b[0m                 \u001b[0mlevel_str\u001b[0m \u001b[1;33m=\u001b[0m \u001b[1;34m\"[%s]\"\u001b[0m \u001b[1;33m%\u001b[0m \u001b[1;33m(\u001b[0m\u001b[1;34m\", \"\u001b[0m\u001b[1;33m.\u001b[0m\u001b[0mjoin\u001b[0m\u001b[1;33m(\u001b[0m\u001b[0mlevel_strs\u001b[0m\u001b[1;33m)\u001b[0m\u001b[1;33m)\u001b[0m\u001b[1;33m\u001b[0m\u001b[1;33m\u001b[0m\u001b[0m\n\u001b[1;32m--> 359\u001b[1;33m                 raise PatsyError(\"Error converting data to categorical: \"\n\u001b[0m\u001b[0;32m    360\u001b[0m                                  \u001b[1;34m\"observation with value %r does not match \"\u001b[0m\u001b[1;33m\u001b[0m\u001b[1;33m\u001b[0m\u001b[0m\n",
      "\u001b[1;31mPatsyError\u001b[0m: Error converting data to categorical: observation with value 'F♯ maj' does not match any of the expected levels (expected: ['A maj', 'A min', ..., 'G♯ maj', 'G♯ min'])\n    ActiveEng ~ BPM*Key + ArtistName\n                    ^^^",
      "\nDuring handling of the above exception, another exception occurred:\n",
      "\u001b[1;31mPatsyError\u001b[0m                                Traceback (most recent call last)",
      "\u001b[1;32m<ipython-input-275-7b1753b4d30f>\u001b[0m in \u001b[0;36m<module>\u001b[1;34m\u001b[0m\n\u001b[1;32m----> 1\u001b[1;33m \u001b[0mpredictions\u001b[0m \u001b[1;33m=\u001b[0m \u001b[0mmodel_fin\u001b[0m\u001b[1;33m.\u001b[0m\u001b[0mpredict\u001b[0m\u001b[1;33m(\u001b[0m\u001b[0mX_test\u001b[0m\u001b[1;33m)\u001b[0m\u001b[1;33m\u001b[0m\u001b[1;33m\u001b[0m\u001b[0m\n\u001b[0m",
      "\u001b[1;32m~\\miniconda3\\lib\\site-packages\\statsmodels\\base\\model.py\u001b[0m in \u001b[0;36mpredict\u001b[1;34m(self, exog, transform, *args, **kwargs)\u001b[0m\n\u001b[0;32m   1082\u001b[0m                        \u001b[1;34m'\\n\\nThe original error message returned by patsy is:\\n'\u001b[0m\u001b[1;33m\u001b[0m\u001b[1;33m\u001b[0m\u001b[0m\n\u001b[0;32m   1083\u001b[0m                        '{0}'.format(str(str(exc))))\n\u001b[1;32m-> 1084\u001b[1;33m                 \u001b[1;32mraise\u001b[0m \u001b[0mexc\u001b[0m\u001b[1;33m.\u001b[0m\u001b[0m__class__\u001b[0m\u001b[1;33m(\u001b[0m\u001b[0mmsg\u001b[0m\u001b[1;33m)\u001b[0m\u001b[1;33m\u001b[0m\u001b[1;33m\u001b[0m\u001b[0m\n\u001b[0m\u001b[0;32m   1085\u001b[0m             \u001b[1;32mif\u001b[0m \u001b[0morig_exog_len\u001b[0m \u001b[1;33m>\u001b[0m \u001b[0mlen\u001b[0m\u001b[1;33m(\u001b[0m\u001b[0mexog\u001b[0m\u001b[1;33m)\u001b[0m \u001b[1;32mand\u001b[0m \u001b[1;32mnot\u001b[0m \u001b[0mis_dict\u001b[0m\u001b[1;33m:\u001b[0m\u001b[1;33m\u001b[0m\u001b[1;33m\u001b[0m\u001b[0m\n\u001b[0;32m   1086\u001b[0m                 \u001b[1;32mif\u001b[0m \u001b[0mexog_index\u001b[0m \u001b[1;32mis\u001b[0m \u001b[1;32mNone\u001b[0m\u001b[1;33m:\u001b[0m\u001b[1;33m\u001b[0m\u001b[1;33m\u001b[0m\u001b[0m\n",
      "\u001b[1;31mPatsyError\u001b[0m: predict requires that you use a DataFrame when predicting from a model\nthat was created using the formula api.\n\nThe original error message returned by patsy is:\nError converting data to categorical: observation with value 'F♯ maj' does not match any of the expected levels (expected: ['A maj', 'A min', ..., 'G♯ maj', 'G♯ min'])\n    ActiveEng ~ BPM*Key + ArtistName\n                    ^^^"
     ]
    }
   ],
   "source": [
    "predictions = model_fin.predict(X_test)"
   ]
  },
  {
   "cell_type": "code",
   "execution_count": 276,
   "metadata": {},
   "outputs": [
    {
     "output_type": "stream",
     "name": "stdout",
     "text": [
      "                            OLS Regression Results                            \n==============================================================================\nDep. Variable:              ActiveEng   R-squared:                       0.131\nModel:                            OLS   Adj. R-squared:                  0.069\nMethod:                 Least Squares   F-statistic:                     2.124\nDate:                Tue, 06 Apr 2021   Prob (F-statistic):             0.0146\nTime:                        16:56:30   Log-Likelihood:                 996.32\nNo. Observations:                 197   AIC:                            -1965.\nDf Residuals:                     183   BIC:                            -1919.\nDf Model:                          13                                         \nCovariance Type:            nonrobust                                         \n=================================================================================================================\n                                                    coef    std err          t      P>|t|      [0.025      0.975]\n-----------------------------------------------------------------------------------------------------------------\nIntercept                                         0.0011      0.001      2.049      0.042    3.93e-05       0.002\nGenre[T.Dance / Electro Pop]                    3.35e-05      0.001      0.036      0.971      -0.002       0.002\nGenre[T.Deep House]                           -8.665e-06      0.001     -0.014      0.989      -0.001       0.001\nGenre[T.Electro (Classic / Detroit / Modern)] -4.737e-05      0.001     -0.045      0.964      -0.002       0.002\nGenre[T.Electronica]                              0.0008      0.001      1.452      0.148      -0.000       0.002\nGenre[T.House]                                    0.0015      0.001      2.252      0.026       0.000       0.003\nGenre[T.Indie Dance]                              0.0006      0.001      0.576      0.565      -0.001       0.003\nGenre[T.Melodic House & Techno]                   0.0003      0.001      0.498      0.619      -0.001       0.001\nGenre[T.Progressive House]                        0.0053      0.002      3.206      0.002       0.002       0.009\nGenre[T.Tech House]                               0.0004      0.001      0.605      0.546      -0.001       0.002\nGenre[T.Techno (Peak Time / Driving)]          8.105e-05      0.001      0.151      0.880      -0.001       0.001\nGenre[T.Techno (Raw / Deep / Hypnotic)]           0.0010      0.001      1.832      0.069   -7.94e-05       0.002\nGenre[T.UK Garage / Bassline]                    -0.0003      0.002     -0.202      0.840      -0.004       0.003\nLength                                        -5.818e-07   4.85e-07     -1.201      0.231   -1.54e-06    3.74e-07\n==============================================================================\nOmnibus:                      166.587   Durbin-Watson:                   2.143\nProb(Omnibus):                  0.000   Jarque-Bera (JB):             2359.982\nSkew:                           3.211   Prob(JB):                         0.00\nKurtosis:                      18.693   Cond. No.                     8.55e+03\n==============================================================================\n\nNotes:\n[1] Standard Errors assume that the covariance matrix of the errors is correctly specified.\n[2] The condition number is large, 8.55e+03. This might indicate that there are\nstrong multicollinearity or other numerical problems.\n"
     ]
    }
   ],
   "source": [
    "model_fin2 = smf.ols('ActiveEng ~ Genre + Length', data=X_train).fit()\n",
    "print(model_fin2.summary())\n",
    "\n",
    "# doesn't work with artists as some have no tracks in the test dataset"
   ]
  },
  {
   "cell_type": "code",
   "execution_count": 277,
   "metadata": {},
   "outputs": [
    {
     "output_type": "error",
     "ename": "PatsyError",
     "evalue": "predict requires that you use a DataFrame when predicting from a model\nthat was created using the formula api.\n\nThe original error message returned by patsy is:\nError converting data to categorical: observation with value 'Minimal / Deep Tech' does not match any of the expected levels (expected: ['Breaks / Breakbeat / UK Bass', 'Dance / Electro Pop', ..., 'Techno (Raw / Deep / Hypnotic)', 'UK Garage / Bassline'])\n    ActiveEng ~ Genre + Length\n                ^^^^^",
     "traceback": [
      "\u001b[1;31m---------------------------------------------------------------------------\u001b[0m",
      "\u001b[1;31mKeyError\u001b[0m                                  Traceback (most recent call last)",
      "\u001b[1;32m~\\miniconda3\\lib\\site-packages\\patsy\\categorical.py\u001b[0m in \u001b[0;36mcategorical_to_int\u001b[1;34m(data, levels, NA_action, origin)\u001b[0m\n\u001b[0;32m    345\u001b[0m             \u001b[1;32mtry\u001b[0m\u001b[1;33m:\u001b[0m\u001b[1;33m\u001b[0m\u001b[1;33m\u001b[0m\u001b[0m\n\u001b[1;32m--> 346\u001b[1;33m                 \u001b[0mout\u001b[0m\u001b[1;33m[\u001b[0m\u001b[0mi\u001b[0m\u001b[1;33m]\u001b[0m \u001b[1;33m=\u001b[0m \u001b[0mlevel_to_int\u001b[0m\u001b[1;33m[\u001b[0m\u001b[0mvalue\u001b[0m\u001b[1;33m]\u001b[0m\u001b[1;33m\u001b[0m\u001b[1;33m\u001b[0m\u001b[0m\n\u001b[0m\u001b[0;32m    347\u001b[0m             \u001b[1;32mexcept\u001b[0m \u001b[0mKeyError\u001b[0m\u001b[1;33m:\u001b[0m\u001b[1;33m\u001b[0m\u001b[1;33m\u001b[0m\u001b[0m\n",
      "\u001b[1;31mKeyError\u001b[0m: 'Minimal / Deep Tech'",
      "\nDuring handling of the above exception, another exception occurred:\n",
      "\u001b[1;31mPatsyError\u001b[0m                                Traceback (most recent call last)",
      "\u001b[1;32m~\\miniconda3\\lib\\site-packages\\statsmodels\\base\\model.py\u001b[0m in \u001b[0;36mpredict\u001b[1;34m(self, exog, transform, *args, **kwargs)\u001b[0m\n\u001b[0;32m   1076\u001b[0m             \u001b[1;32mtry\u001b[0m\u001b[1;33m:\u001b[0m\u001b[1;33m\u001b[0m\u001b[1;33m\u001b[0m\u001b[0m\n\u001b[1;32m-> 1077\u001b[1;33m                 \u001b[0mexog\u001b[0m \u001b[1;33m=\u001b[0m \u001b[0mdmatrix\u001b[0m\u001b[1;33m(\u001b[0m\u001b[0mdesign_info\u001b[0m\u001b[1;33m,\u001b[0m \u001b[0mexog\u001b[0m\u001b[1;33m,\u001b[0m \u001b[0mreturn_type\u001b[0m\u001b[1;33m=\u001b[0m\u001b[1;34m\"dataframe\"\u001b[0m\u001b[1;33m)\u001b[0m\u001b[1;33m\u001b[0m\u001b[1;33m\u001b[0m\u001b[0m\n\u001b[0m\u001b[0;32m   1078\u001b[0m             \u001b[1;32mexcept\u001b[0m \u001b[0mException\u001b[0m \u001b[1;32mas\u001b[0m \u001b[0mexc\u001b[0m\u001b[1;33m:\u001b[0m\u001b[1;33m\u001b[0m\u001b[1;33m\u001b[0m\u001b[0m\n",
      "\u001b[1;32m~\\miniconda3\\lib\\site-packages\\patsy\\highlevel.py\u001b[0m in \u001b[0;36mdmatrix\u001b[1;34m(formula_like, data, eval_env, NA_action, return_type)\u001b[0m\n\u001b[0;32m    289\u001b[0m     \u001b[0meval_env\u001b[0m \u001b[1;33m=\u001b[0m \u001b[0mEvalEnvironment\u001b[0m\u001b[1;33m.\u001b[0m\u001b[0mcapture\u001b[0m\u001b[1;33m(\u001b[0m\u001b[0meval_env\u001b[0m\u001b[1;33m,\u001b[0m \u001b[0mreference\u001b[0m\u001b[1;33m=\u001b[0m\u001b[1;36m1\u001b[0m\u001b[1;33m)\u001b[0m\u001b[1;33m\u001b[0m\u001b[1;33m\u001b[0m\u001b[0m\n\u001b[1;32m--> 290\u001b[1;33m     (lhs, rhs) = _do_highlevel_design(formula_like, data, eval_env,\n\u001b[0m\u001b[0;32m    291\u001b[0m                                       NA_action, return_type)\n",
      "\u001b[1;32m~\\miniconda3\\lib\\site-packages\\patsy\\highlevel.py\u001b[0m in \u001b[0;36m_do_highlevel_design\u001b[1;34m(formula_like, data, eval_env, NA_action, return_type)\u001b[0m\n\u001b[0;32m    166\u001b[0m     \u001b[1;32mif\u001b[0m \u001b[0mdesign_infos\u001b[0m \u001b[1;32mis\u001b[0m \u001b[1;32mnot\u001b[0m \u001b[1;32mNone\u001b[0m\u001b[1;33m:\u001b[0m\u001b[1;33m\u001b[0m\u001b[1;33m\u001b[0m\u001b[0m\n\u001b[1;32m--> 167\u001b[1;33m         return build_design_matrices(design_infos, data,\n\u001b[0m\u001b[0;32m    168\u001b[0m                                      \u001b[0mNA_action\u001b[0m\u001b[1;33m=\u001b[0m\u001b[0mNA_action\u001b[0m\u001b[1;33m,\u001b[0m\u001b[1;33m\u001b[0m\u001b[1;33m\u001b[0m\u001b[0m\n",
      "\u001b[1;32m~\\miniconda3\\lib\\site-packages\\patsy\\build.py\u001b[0m in \u001b[0;36mbuild_design_matrices\u001b[1;34m(design_infos, data, NA_action, return_type, dtype)\u001b[0m\n\u001b[0;32m    887\u001b[0m             \u001b[1;32mif\u001b[0m \u001b[0mfactor_info\u001b[0m \u001b[1;32mnot\u001b[0m \u001b[1;32min\u001b[0m \u001b[0mfactor_info_to_values\u001b[0m\u001b[1;33m:\u001b[0m\u001b[1;33m\u001b[0m\u001b[1;33m\u001b[0m\u001b[0m\n\u001b[1;32m--> 888\u001b[1;33m                 \u001b[0mvalue\u001b[0m\u001b[1;33m,\u001b[0m \u001b[0mis_NA\u001b[0m \u001b[1;33m=\u001b[0m \u001b[0m_eval_factor\u001b[0m\u001b[1;33m(\u001b[0m\u001b[0mfactor_info\u001b[0m\u001b[1;33m,\u001b[0m \u001b[0mdata\u001b[0m\u001b[1;33m,\u001b[0m \u001b[0mNA_action\u001b[0m\u001b[1;33m)\u001b[0m\u001b[1;33m\u001b[0m\u001b[1;33m\u001b[0m\u001b[0m\n\u001b[0m\u001b[0;32m    889\u001b[0m                 \u001b[0mfactor_info_to_isNAs\u001b[0m\u001b[1;33m[\u001b[0m\u001b[0mfactor_info\u001b[0m\u001b[1;33m]\u001b[0m \u001b[1;33m=\u001b[0m \u001b[0mis_NA\u001b[0m\u001b[1;33m\u001b[0m\u001b[1;33m\u001b[0m\u001b[0m\n",
      "\u001b[1;32m~\\miniconda3\\lib\\site-packages\\patsy\\build.py\u001b[0m in \u001b[0;36m_eval_factor\u001b[1;34m(factor_info, data, NA_action)\u001b[0m\n\u001b[0;32m     83\u001b[0m         \u001b[1;32massert\u001b[0m \u001b[0mfactor_info\u001b[0m\u001b[1;33m.\u001b[0m\u001b[0mtype\u001b[0m \u001b[1;33m==\u001b[0m \u001b[1;34m\"categorical\"\u001b[0m\u001b[1;33m\u001b[0m\u001b[1;33m\u001b[0m\u001b[0m\n\u001b[1;32m---> 84\u001b[1;33m         result = categorical_to_int(result, factor_info.categories, NA_action,\n\u001b[0m\u001b[0;32m     85\u001b[0m                                     origin=factor_info.factor)\n",
      "\u001b[1;32m~\\miniconda3\\lib\\site-packages\\patsy\\categorical.py\u001b[0m in \u001b[0;36mcategorical_to_int\u001b[1;34m(data, levels, NA_action, origin)\u001b[0m\n\u001b[0;32m    358\u001b[0m                 \u001b[0mlevel_str\u001b[0m \u001b[1;33m=\u001b[0m \u001b[1;34m\"[%s]\"\u001b[0m \u001b[1;33m%\u001b[0m \u001b[1;33m(\u001b[0m\u001b[1;34m\", \"\u001b[0m\u001b[1;33m.\u001b[0m\u001b[0mjoin\u001b[0m\u001b[1;33m(\u001b[0m\u001b[0mlevel_strs\u001b[0m\u001b[1;33m)\u001b[0m\u001b[1;33m)\u001b[0m\u001b[1;33m\u001b[0m\u001b[1;33m\u001b[0m\u001b[0m\n\u001b[1;32m--> 359\u001b[1;33m                 raise PatsyError(\"Error converting data to categorical: \"\n\u001b[0m\u001b[0;32m    360\u001b[0m                                  \u001b[1;34m\"observation with value %r does not match \"\u001b[0m\u001b[1;33m\u001b[0m\u001b[1;33m\u001b[0m\u001b[0m\n",
      "\u001b[1;31mPatsyError\u001b[0m: Error converting data to categorical: observation with value 'Minimal / Deep Tech' does not match any of the expected levels (expected: ['Breaks / Breakbeat / UK Bass', 'Dance / Electro Pop', ..., 'Techno (Raw / Deep / Hypnotic)', 'UK Garage / Bassline'])\n    ActiveEng ~ Genre + Length\n                ^^^^^",
      "\nDuring handling of the above exception, another exception occurred:\n",
      "\u001b[1;31mPatsyError\u001b[0m                                Traceback (most recent call last)",
      "\u001b[1;32m<ipython-input-277-180fad54e3d7>\u001b[0m in \u001b[0;36m<module>\u001b[1;34m\u001b[0m\n\u001b[1;32m----> 1\u001b[1;33m \u001b[0mpredictions\u001b[0m \u001b[1;33m=\u001b[0m \u001b[0mmodel_fin2\u001b[0m\u001b[1;33m.\u001b[0m\u001b[0mpredict\u001b[0m\u001b[1;33m(\u001b[0m\u001b[0mX_test\u001b[0m\u001b[1;33m)\u001b[0m\u001b[1;33m\u001b[0m\u001b[1;33m\u001b[0m\u001b[0m\n\u001b[0m\u001b[0;32m      2\u001b[0m \u001b[0mprint\u001b[0m\u001b[1;33m(\u001b[0m\u001b[0mpredictions\u001b[0m\u001b[1;33m)\u001b[0m\u001b[1;33m\u001b[0m\u001b[1;33m\u001b[0m\u001b[0m\n",
      "\u001b[1;32m~\\miniconda3\\lib\\site-packages\\statsmodels\\base\\model.py\u001b[0m in \u001b[0;36mpredict\u001b[1;34m(self, exog, transform, *args, **kwargs)\u001b[0m\n\u001b[0;32m   1082\u001b[0m                        \u001b[1;34m'\\n\\nThe original error message returned by patsy is:\\n'\u001b[0m\u001b[1;33m\u001b[0m\u001b[1;33m\u001b[0m\u001b[0m\n\u001b[0;32m   1083\u001b[0m                        '{0}'.format(str(str(exc))))\n\u001b[1;32m-> 1084\u001b[1;33m                 \u001b[1;32mraise\u001b[0m \u001b[0mexc\u001b[0m\u001b[1;33m.\u001b[0m\u001b[0m__class__\u001b[0m\u001b[1;33m(\u001b[0m\u001b[0mmsg\u001b[0m\u001b[1;33m)\u001b[0m\u001b[1;33m\u001b[0m\u001b[1;33m\u001b[0m\u001b[0m\n\u001b[0m\u001b[0;32m   1085\u001b[0m             \u001b[1;32mif\u001b[0m \u001b[0morig_exog_len\u001b[0m \u001b[1;33m>\u001b[0m \u001b[0mlen\u001b[0m\u001b[1;33m(\u001b[0m\u001b[0mexog\u001b[0m\u001b[1;33m)\u001b[0m \u001b[1;32mand\u001b[0m \u001b[1;32mnot\u001b[0m \u001b[0mis_dict\u001b[0m\u001b[1;33m:\u001b[0m\u001b[1;33m\u001b[0m\u001b[1;33m\u001b[0m\u001b[0m\n\u001b[0;32m   1086\u001b[0m                 \u001b[1;32mif\u001b[0m \u001b[0mexog_index\u001b[0m \u001b[1;32mis\u001b[0m \u001b[1;32mNone\u001b[0m\u001b[1;33m:\u001b[0m\u001b[1;33m\u001b[0m\u001b[1;33m\u001b[0m\u001b[0m\n",
      "\u001b[1;31mPatsyError\u001b[0m: predict requires that you use a DataFrame when predicting from a model\nthat was created using the formula api.\n\nThe original error message returned by patsy is:\nError converting data to categorical: observation with value 'Minimal / Deep Tech' does not match any of the expected levels (expected: ['Breaks / Breakbeat / UK Bass', 'Dance / Electro Pop', ..., 'Techno (Raw / Deep / Hypnotic)', 'UK Garage / Bassline'])\n    ActiveEng ~ Genre + Length\n                ^^^^^"
     ]
    }
   ],
   "source": [
    "predictions = model_fin2.predict(X_test)\n",
    "print(predictions)"
   ]
  },
  {
   "cell_type": "code",
   "execution_count": null,
   "metadata": {},
   "outputs": [],
   "source": []
  }
 ]
}